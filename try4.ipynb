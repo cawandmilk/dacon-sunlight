{
 "cells": [
  {
   "cell_type": "markdown",
   "metadata": {},
   "source": [
    "# **Default Setting**\n",
    "\n",
    "* Python: 3.6.9\n",
    "* ML Framework: tf-nightly-gpu 2.5.0-dev20201208\n",
    "* CPU: AMD Ryzen 5 5600X 6-Core Processor\n",
    "* GPU: GeForce RTX 3070 (8G) (CUDA 11.1)\n",
    "* RAM: 32G\n",
    "* Platform: linux 20.04 LTS"
   ]
  },
  {
   "cell_type": "code",
   "execution_count": 1,
   "metadata": {},
   "outputs": [
    {
     "name": "stdout",
     "output_type": "stream",
     "text": [
      "env: NOTEBOOKNAME=try4\n",
      "env: LOCAL_DATA_PATH=data\n",
      "env: SUBMISSION_PATH=submission\n"
     ]
    }
   ],
   "source": [
    "%env NOTEBOOKNAME try4\n",
    "%env LOCAL_DATA_PATH data\n",
    "%env SUBMISSION_PATH submission"
   ]
  },
  {
   "cell_type": "code",
   "execution_count": 2,
   "metadata": {},
   "outputs": [
    {
     "name": "stderr",
     "output_type": "stream",
     "text": [
      "/home/myunggyo/anaconda3/envs/py36/lib/python3.6/site-packages/tensorflow_addons/utils/ensure_tf_install.py:44: UserWarning: You are currently using a nightly version of TensorFlow (2.5.0-dev20201208). \n",
      "TensorFlow Addons offers no support for the nightly versions of TensorFlow. Some things might work, some other might not. \n",
      "If you encounter a bug, do not file an issue on GitHub.\n",
      "  UserWarning,\n"
     ]
    },
    {
     "name": "stdout",
     "output_type": "stream",
     "text": [
      "tf.__version__: 2.5.0-dev20201208\n",
      "tfa.__version__: 0.11.2\n"
     ]
    }
   ],
   "source": [
    "import tensorflow as tf\n",
    "import tensorflow_addons as tfa\n",
    "\n",
    "import datetime\n",
    "import glob\n",
    "import os\n",
    "import platform\n",
    "\n",
    "import numpy as np\n",
    "import pandas as pd\n",
    "\n",
    "from collections import OrderedDict\n",
    "from sklearn.model_selection import train_test_split\n",
    "\n",
    "print(f\"tf.__version__: {tf.__version__}\")\n",
    "print(f\"tfa.__version__: {tfa.__version__}\")"
   ]
  },
  {
   "cell_type": "code",
   "execution_count": 3,
   "metadata": {},
   "outputs": [
    {
     "data": {
      "text/plain": [
       "[PhysicalDevice(name='/physical_device:CPU:0', device_type='CPU'),\n",
       " PhysicalDevice(name='/physical_device:GPU:0', device_type='GPU')]"
      ]
     },
     "execution_count": 3,
     "metadata": {},
     "output_type": "execute_result"
    }
   ],
   "source": [
    "tf.config.list_physical_devices()"
   ]
  },
  {
   "cell_type": "code",
   "execution_count": 4,
   "metadata": {},
   "outputs": [
    {
     "name": "stdout",
     "output_type": "stream",
     "text": [
      "Python 3.6.9 :: Anaconda, Inc.\n"
     ]
    }
   ],
   "source": [
    "!python -V"
   ]
  },
  {
   "cell_type": "code",
   "execution_count": 5,
   "metadata": {},
   "outputs": [],
   "source": [
    "# !cat /proc/cpuinfo"
   ]
  },
  {
   "cell_type": "code",
   "execution_count": 6,
   "metadata": {},
   "outputs": [
    {
     "name": "stdout",
     "output_type": "stream",
     "text": [
      "Fri Dec 11 19:03:27 2020       \n",
      "+-----------------------------------------------------------------------------+\n",
      "| NVIDIA-SMI 455.32.00    Driver Version: 455.32.00    CUDA Version: 11.1     |\n",
      "|-------------------------------+----------------------+----------------------+\n",
      "| GPU  Name        Persistence-M| Bus-Id        Disp.A | Volatile Uncorr. ECC |\n",
      "| Fan  Temp  Perf  Pwr:Usage/Cap|         Memory-Usage | GPU-Util  Compute M. |\n",
      "|                               |                      |               MIG M. |\n",
      "|===============================+======================+======================|\n",
      "|   0  Graphics Device     On   | 00000000:0A:00.0  On |                  N/A |\n",
      "|  0%   35C    P8    19W / 220W |    412MiB /  7979MiB |      1%      Default |\n",
      "|                               |                      |                  N/A |\n",
      "+-------------------------------+----------------------+----------------------+\n",
      "                                                                               \n",
      "+-----------------------------------------------------------------------------+\n",
      "| Processes:                                                                  |\n",
      "|  GPU   GI   CI        PID   Type   Process name                  GPU Memory |\n",
      "|        ID   ID                                                   Usage      |\n",
      "|=============================================================================|\n",
      "|    0   N/A  N/A       916      G   /usr/lib/xorg/Xorg                 35MiB |\n",
      "|    0   N/A  N/A      1437      G   /usr/lib/xorg/Xorg                 83MiB |\n",
      "|    0   N/A  N/A      1563      G   /usr/bin/gnome-shell               89MiB |\n",
      "|    0   N/A  N/A      1843      G   ...AAAAAAAA== --shared-files      188MiB |\n",
      "+-----------------------------------------------------------------------------+\n"
     ]
    }
   ],
   "source": [
    "!nvidia-smi"
   ]
  },
  {
   "cell_type": "code",
   "execution_count": 7,
   "metadata": {},
   "outputs": [],
   "source": [
    "# !df -h"
   ]
  },
  {
   "cell_type": "code",
   "execution_count": 8,
   "metadata": {},
   "outputs": [
    {
     "name": "stdout",
     "output_type": "stream",
     "text": [
      "              total        used        free      shared  buff/cache   available\n",
      "Mem:           31Gi       2.6Gi        26Gi       512Mi       2.4Gi        27Gi\n",
      "Swap:         2.0Gi          0B       2.0Gi\n"
     ]
    }
   ],
   "source": [
    "!free -h"
   ]
  },
  {
   "cell_type": "code",
   "execution_count": 9,
   "metadata": {},
   "outputs": [
    {
     "data": {
      "text/plain": [
       "'Linux-5.4.0-56-generic-x86_64-with-debian-bullseye-sid'"
      ]
     },
     "execution_count": 9,
     "metadata": {},
     "output_type": "execute_result"
    }
   ],
   "source": [
    "platform.platform()"
   ]
  },
  {
   "cell_type": "code",
   "execution_count": 10,
   "metadata": {},
   "outputs": [],
   "source": [
    "# Load the TensorBoard notebook extension.\n",
    "%load_ext tensorboard"
   ]
  },
  {
   "cell_type": "markdown",
   "metadata": {},
   "source": [
    "# **Define Arguments**"
   ]
  },
  {
   "cell_type": "code",
   "execution_count": 11,
   "metadata": {},
   "outputs": [
    {
     "data": {
      "text/plain": [
       "OrderedDict([('SEED', 42),\n",
       "             ('TEST_SIZE', 0.2),\n",
       "             ('EPOCH', 10),\n",
       "             ('INIT_LR', 0.001),\n",
       "             ('NUM_TEST_CSV', 81),\n",
       "             ('WINDOW_INP', 336),\n",
       "             ('WINDOW_TAR', 96),\n",
       "             ('WINDOW_SHIFT', 48),\n",
       "             ('WINDOW_STRIDE', 1),\n",
       "             ('WINDOW_DR', True),\n",
       "             ('AUTO', -1),\n",
       "             ('GLOBAL_BATCH_SIZE', 128),\n",
       "             ('NUM_UNITS', 128),\n",
       "             ('NUM_FEATURES', 6),\n",
       "             ('NUM_QUANTILE', 9)])"
      ]
     },
     "execution_count": 11,
     "metadata": {},
     "output_type": "execute_result"
    }
   ],
   "source": [
    "args = OrderedDict({\n",
    "    # Basic\n",
    "    \"SEED\": 42,\n",
    "    \"TEST_SIZE\": 0.2,\n",
    "    \"EPOCH\": 10,\n",
    "    \"INIT_LR\": 1e-3,\n",
    "    \n",
    "    # Dataframe\n",
    "    \"NUM_TEST_CSV\": 81,\n",
    "    \n",
    "    # Dataset Pipeline\n",
    "    \"WINDOW_INP\": 7 * 24 * 2, # 336, 7 days\n",
    "    \"WINDOW_TAR\": 2 * 24 * 2, # 96, 2 days\n",
    "    \"WINDOW_SHIFT\": 1 * 24 * 2, # 1 day\n",
    "    \"WINDOW_STRIDE\": 1,\n",
    "    \"WINDOW_DR\": True, # Drop remainders\n",
    "    \"AUTO\": tf.data.experimental.AUTOTUNE,\n",
    "    \n",
    "    \"GLOBAL_BATCH_SIZE\": 128,\n",
    "    \n",
    "    # Model\n",
    "    \"NUM_UNITS\": 128, # lstm units\n",
    "    \"NUM_FEATURES\": 6, # dense featues\n",
    "    \"NUM_QUANTILE\": 9,\n",
    "    \n",
    "})\n",
    "\n",
    "args"
   ]
  },
  {
   "cell_type": "markdown",
   "metadata": {},
   "source": [
    "# **Load Datasets**"
   ]
  },
  {
   "cell_type": "markdown",
   "metadata": {},
   "source": [
    "## **Train / Validation**"
   ]
  },
  {
   "cell_type": "code",
   "execution_count": 12,
   "metadata": {},
   "outputs": [
    {
     "data": {
      "text/html": [
       "<div>\n",
       "<style scoped>\n",
       "    .dataframe tbody tr th:only-of-type {\n",
       "        vertical-align: middle;\n",
       "    }\n",
       "\n",
       "    .dataframe tbody tr th {\n",
       "        vertical-align: top;\n",
       "    }\n",
       "\n",
       "    .dataframe thead th {\n",
       "        text-align: right;\n",
       "    }\n",
       "</style>\n",
       "<table border=\"1\" class=\"dataframe\">\n",
       "  <thead>\n",
       "    <tr style=\"text-align: right;\">\n",
       "      <th></th>\n",
       "      <th>Day</th>\n",
       "      <th>Hour</th>\n",
       "      <th>Minute</th>\n",
       "      <th>DHI</th>\n",
       "      <th>DNI</th>\n",
       "      <th>WS</th>\n",
       "      <th>RH</th>\n",
       "      <th>T</th>\n",
       "      <th>TARGET</th>\n",
       "    </tr>\n",
       "  </thead>\n",
       "  <tbody>\n",
       "    <tr>\n",
       "      <th>0</th>\n",
       "      <td>0</td>\n",
       "      <td>0</td>\n",
       "      <td>0</td>\n",
       "      <td>0</td>\n",
       "      <td>0</td>\n",
       "      <td>1.5</td>\n",
       "      <td>69.08</td>\n",
       "      <td>-12</td>\n",
       "      <td>0.0</td>\n",
       "    </tr>\n",
       "    <tr>\n",
       "      <th>1</th>\n",
       "      <td>0</td>\n",
       "      <td>0</td>\n",
       "      <td>30</td>\n",
       "      <td>0</td>\n",
       "      <td>0</td>\n",
       "      <td>1.5</td>\n",
       "      <td>69.06</td>\n",
       "      <td>-12</td>\n",
       "      <td>0.0</td>\n",
       "    </tr>\n",
       "    <tr>\n",
       "      <th>2</th>\n",
       "      <td>0</td>\n",
       "      <td>1</td>\n",
       "      <td>0</td>\n",
       "      <td>0</td>\n",
       "      <td>0</td>\n",
       "      <td>1.6</td>\n",
       "      <td>71.78</td>\n",
       "      <td>-12</td>\n",
       "      <td>0.0</td>\n",
       "    </tr>\n",
       "    <tr>\n",
       "      <th>3</th>\n",
       "      <td>0</td>\n",
       "      <td>1</td>\n",
       "      <td>30</td>\n",
       "      <td>0</td>\n",
       "      <td>0</td>\n",
       "      <td>1.6</td>\n",
       "      <td>71.75</td>\n",
       "      <td>-12</td>\n",
       "      <td>0.0</td>\n",
       "    </tr>\n",
       "    <tr>\n",
       "      <th>4</th>\n",
       "      <td>0</td>\n",
       "      <td>2</td>\n",
       "      <td>0</td>\n",
       "      <td>0</td>\n",
       "      <td>0</td>\n",
       "      <td>1.6</td>\n",
       "      <td>75.20</td>\n",
       "      <td>-12</td>\n",
       "      <td>0.0</td>\n",
       "    </tr>\n",
       "  </tbody>\n",
       "</table>\n",
       "</div>"
      ],
      "text/plain": [
       "   Day  Hour  Minute  DHI  DNI   WS     RH   T  TARGET\n",
       "0    0     0       0    0    0  1.5  69.08 -12     0.0\n",
       "1    0     0      30    0    0  1.5  69.06 -12     0.0\n",
       "2    0     1       0    0    0  1.6  71.78 -12     0.0\n",
       "3    0     1      30    0    0  1.6  71.75 -12     0.0\n",
       "4    0     2       0    0    0  1.6  75.20 -12     0.0"
      ]
     },
     "execution_count": 12,
     "metadata": {},
     "output_type": "execute_result"
    }
   ],
   "source": [
    "df = pd.read_csv(os.path.join(os.environ[\"LOCAL_DATA_PATH\"], \"train\", \"train.csv\"))\n",
    "df.head()"
   ]
  },
  {
   "cell_type": "code",
   "execution_count": 13,
   "metadata": {},
   "outputs": [
    {
     "data": {
      "text/html": [
       "<div>\n",
       "<style scoped>\n",
       "    .dataframe tbody tr th:only-of-type {\n",
       "        vertical-align: middle;\n",
       "    }\n",
       "\n",
       "    .dataframe tbody tr th {\n",
       "        vertical-align: top;\n",
       "    }\n",
       "\n",
       "    .dataframe thead th {\n",
       "        text-align: right;\n",
       "    }\n",
       "</style>\n",
       "<table border=\"1\" class=\"dataframe\">\n",
       "  <thead>\n",
       "    <tr style=\"text-align: right;\">\n",
       "      <th></th>\n",
       "      <th>Day</th>\n",
       "      <th>Hour</th>\n",
       "      <th>Minute</th>\n",
       "      <th>DHI</th>\n",
       "      <th>DNI</th>\n",
       "      <th>WS</th>\n",
       "      <th>RH</th>\n",
       "      <th>T</th>\n",
       "      <th>TARGET</th>\n",
       "    </tr>\n",
       "  </thead>\n",
       "  <tbody>\n",
       "    <tr>\n",
       "      <th>count</th>\n",
       "      <td>52560.000000</td>\n",
       "      <td>52560.000000</td>\n",
       "      <td>52560.000000</td>\n",
       "      <td>52560.000000</td>\n",
       "      <td>52560.000000</td>\n",
       "      <td>52560.000000</td>\n",
       "      <td>52560.000000</td>\n",
       "      <td>52560.000000</td>\n",
       "      <td>52560.000000</td>\n",
       "    </tr>\n",
       "    <tr>\n",
       "      <th>mean</th>\n",
       "      <td>547.000000</td>\n",
       "      <td>11.500000</td>\n",
       "      <td>15.000000</td>\n",
       "      <td>64.344121</td>\n",
       "      <td>234.792371</td>\n",
       "      <td>2.456033</td>\n",
       "      <td>56.793102</td>\n",
       "      <td>9.279928</td>\n",
       "      <td>17.790630</td>\n",
       "    </tr>\n",
       "    <tr>\n",
       "      <th>std</th>\n",
       "      <td>316.102148</td>\n",
       "      <td>6.922252</td>\n",
       "      <td>15.000143</td>\n",
       "      <td>103.897125</td>\n",
       "      <td>349.684583</td>\n",
       "      <td>1.426874</td>\n",
       "      <td>22.052875</td>\n",
       "      <td>10.179741</td>\n",
       "      <td>25.759955</td>\n",
       "    </tr>\n",
       "    <tr>\n",
       "      <th>min</th>\n",
       "      <td>0.000000</td>\n",
       "      <td>0.000000</td>\n",
       "      <td>0.000000</td>\n",
       "      <td>0.000000</td>\n",
       "      <td>0.000000</td>\n",
       "      <td>0.000000</td>\n",
       "      <td>7.590000</td>\n",
       "      <td>-19.000000</td>\n",
       "      <td>0.000000</td>\n",
       "    </tr>\n",
       "    <tr>\n",
       "      <th>25%</th>\n",
       "      <td>273.000000</td>\n",
       "      <td>5.750000</td>\n",
       "      <td>0.000000</td>\n",
       "      <td>0.000000</td>\n",
       "      <td>0.000000</td>\n",
       "      <td>1.400000</td>\n",
       "      <td>39.697500</td>\n",
       "      <td>1.000000</td>\n",
       "      <td>0.000000</td>\n",
       "    </tr>\n",
       "    <tr>\n",
       "      <th>50%</th>\n",
       "      <td>547.000000</td>\n",
       "      <td>11.500000</td>\n",
       "      <td>15.000000</td>\n",
       "      <td>0.000000</td>\n",
       "      <td>0.000000</td>\n",
       "      <td>2.200000</td>\n",
       "      <td>57.600000</td>\n",
       "      <td>9.000000</td>\n",
       "      <td>0.000000</td>\n",
       "    </tr>\n",
       "    <tr>\n",
       "      <th>75%</th>\n",
       "      <td>821.000000</td>\n",
       "      <td>17.250000</td>\n",
       "      <td>30.000000</td>\n",
       "      <td>87.000000</td>\n",
       "      <td>469.000000</td>\n",
       "      <td>3.200000</td>\n",
       "      <td>72.770000</td>\n",
       "      <td>17.000000</td>\n",
       "      <td>32.089890</td>\n",
       "    </tr>\n",
       "    <tr>\n",
       "      <th>max</th>\n",
       "      <td>1094.000000</td>\n",
       "      <td>23.000000</td>\n",
       "      <td>30.000000</td>\n",
       "      <td>528.000000</td>\n",
       "      <td>1059.000000</td>\n",
       "      <td>12.000000</td>\n",
       "      <td>100.000000</td>\n",
       "      <td>35.000000</td>\n",
       "      <td>99.913939</td>\n",
       "    </tr>\n",
       "  </tbody>\n",
       "</table>\n",
       "</div>"
      ],
      "text/plain": [
       "                Day          Hour        Minute           DHI           DNI  \\\n",
       "count  52560.000000  52560.000000  52560.000000  52560.000000  52560.000000   \n",
       "mean     547.000000     11.500000     15.000000     64.344121    234.792371   \n",
       "std      316.102148      6.922252     15.000143    103.897125    349.684583   \n",
       "min        0.000000      0.000000      0.000000      0.000000      0.000000   \n",
       "25%      273.000000      5.750000      0.000000      0.000000      0.000000   \n",
       "50%      547.000000     11.500000     15.000000      0.000000      0.000000   \n",
       "75%      821.000000     17.250000     30.000000     87.000000    469.000000   \n",
       "max     1094.000000     23.000000     30.000000    528.000000   1059.000000   \n",
       "\n",
       "                 WS            RH             T        TARGET  \n",
       "count  52560.000000  52560.000000  52560.000000  52560.000000  \n",
       "mean       2.456033     56.793102      9.279928     17.790630  \n",
       "std        1.426874     22.052875     10.179741     25.759955  \n",
       "min        0.000000      7.590000    -19.000000      0.000000  \n",
       "25%        1.400000     39.697500      1.000000      0.000000  \n",
       "50%        2.200000     57.600000      9.000000      0.000000  \n",
       "75%        3.200000     72.770000     17.000000     32.089890  \n",
       "max       12.000000    100.000000     35.000000     99.913939  "
      ]
     },
     "execution_count": 13,
     "metadata": {},
     "output_type": "execute_result"
    }
   ],
   "source": [
    "df.describe()"
   ]
  },
  {
   "cell_type": "code",
   "execution_count": 14,
   "metadata": {},
   "outputs": [
    {
     "data": {
      "text/plain": [
       "((42048, 9), (10512, 9))"
      ]
     },
     "execution_count": 14,
     "metadata": {},
     "output_type": "execute_result"
    }
   ],
   "source": [
    "tr_df, vl_df = train_test_split(\n",
    "    df, \n",
    "    test_size = args[\"TEST_SIZE\"], \n",
    "    random_state = args[\"SEED\"])\n",
    "\n",
    "tr_df.shape, vl_df.shape"
   ]
  },
  {
   "cell_type": "code",
   "execution_count": 15,
   "metadata": {},
   "outputs": [],
   "source": [
    "def preprocessing(df, is_training = True):\n",
    "    # Drop timestampes.\n",
    "    try:\n",
    "        df = df.drop([\"Day\", \"Hour\", \"Minute\"], axis = 1)\n",
    "    except:\n",
    "        pass\n",
    "    \n",
    "    # Normalize.\n",
    "    for column in df.columns:\n",
    "        if is_training:\n",
    "            args[f\"{column}_MAX\"] = df[column].max()\n",
    "            args[f\"{column}_MIN\"] = df[column].min()\n",
    "        \n",
    "        df[column] = (df[column] - args[f\"{column}_MIN\"]) / (args[f\"{column}_MAX\"] - args[f\"{column}_MIN\"])\n",
    "        \n",
    "    return df"
   ]
  },
  {
   "cell_type": "code",
   "execution_count": 16,
   "metadata": {},
   "outputs": [],
   "source": [
    "tr_df = preprocessing(tr_df)\n",
    "vl_df = preprocessing(vl_df, is_training = False)"
   ]
  },
  {
   "cell_type": "code",
   "execution_count": 17,
   "metadata": {},
   "outputs": [
    {
     "data": {
      "text/html": [
       "<div>\n",
       "<style scoped>\n",
       "    .dataframe tbody tr th:only-of-type {\n",
       "        vertical-align: middle;\n",
       "    }\n",
       "\n",
       "    .dataframe tbody tr th {\n",
       "        vertical-align: top;\n",
       "    }\n",
       "\n",
       "    .dataframe thead th {\n",
       "        text-align: right;\n",
       "    }\n",
       "</style>\n",
       "<table border=\"1\" class=\"dataframe\">\n",
       "  <thead>\n",
       "    <tr style=\"text-align: right;\">\n",
       "      <th></th>\n",
       "      <th>DHI</th>\n",
       "      <th>DNI</th>\n",
       "      <th>WS</th>\n",
       "      <th>RH</th>\n",
       "      <th>T</th>\n",
       "      <th>TARGET</th>\n",
       "    </tr>\n",
       "  </thead>\n",
       "  <tbody>\n",
       "    <tr>\n",
       "      <th>count</th>\n",
       "      <td>42048.000000</td>\n",
       "      <td>42048.000000</td>\n",
       "      <td>42048.000000</td>\n",
       "      <td>42048.000000</td>\n",
       "      <td>42048.000000</td>\n",
       "      <td>42048.000000</td>\n",
       "    </tr>\n",
       "    <tr>\n",
       "      <th>mean</th>\n",
       "      <td>0.121155</td>\n",
       "      <td>0.221624</td>\n",
       "      <td>0.204474</td>\n",
       "      <td>0.532615</td>\n",
       "      <td>0.523211</td>\n",
       "      <td>0.177645</td>\n",
       "    </tr>\n",
       "    <tr>\n",
       "      <th>std</th>\n",
       "      <td>0.195675</td>\n",
       "      <td>0.330325</td>\n",
       "      <td>0.118662</td>\n",
       "      <td>0.238854</td>\n",
       "      <td>0.188508</td>\n",
       "      <td>0.257436</td>\n",
       "    </tr>\n",
       "    <tr>\n",
       "      <th>min</th>\n",
       "      <td>0.000000</td>\n",
       "      <td>0.000000</td>\n",
       "      <td>0.000000</td>\n",
       "      <td>0.000000</td>\n",
       "      <td>0.000000</td>\n",
       "      <td>0.000000</td>\n",
       "    </tr>\n",
       "    <tr>\n",
       "      <th>25%</th>\n",
       "      <td>0.000000</td>\n",
       "      <td>0.000000</td>\n",
       "      <td>0.116667</td>\n",
       "      <td>0.347040</td>\n",
       "      <td>0.370370</td>\n",
       "      <td>0.000000</td>\n",
       "    </tr>\n",
       "    <tr>\n",
       "      <th>50%</th>\n",
       "      <td>0.000000</td>\n",
       "      <td>0.000000</td>\n",
       "      <td>0.183333</td>\n",
       "      <td>0.541392</td>\n",
       "      <td>0.518519</td>\n",
       "      <td>0.000000</td>\n",
       "    </tr>\n",
       "    <tr>\n",
       "      <th>75%</th>\n",
       "      <td>0.164773</td>\n",
       "      <td>0.443815</td>\n",
       "      <td>0.266667</td>\n",
       "      <td>0.706309</td>\n",
       "      <td>0.666667</td>\n",
       "      <td>0.320789</td>\n",
       "    </tr>\n",
       "    <tr>\n",
       "      <th>max</th>\n",
       "      <td>1.000000</td>\n",
       "      <td>1.000000</td>\n",
       "      <td>1.000000</td>\n",
       "      <td>1.000000</td>\n",
       "      <td>1.000000</td>\n",
       "      <td>1.000000</td>\n",
       "    </tr>\n",
       "  </tbody>\n",
       "</table>\n",
       "</div>"
      ],
      "text/plain": [
       "                DHI           DNI            WS            RH             T  \\\n",
       "count  42048.000000  42048.000000  42048.000000  42048.000000  42048.000000   \n",
       "mean       0.121155      0.221624      0.204474      0.532615      0.523211   \n",
       "std        0.195675      0.330325      0.118662      0.238854      0.188508   \n",
       "min        0.000000      0.000000      0.000000      0.000000      0.000000   \n",
       "25%        0.000000      0.000000      0.116667      0.347040      0.370370   \n",
       "50%        0.000000      0.000000      0.183333      0.541392      0.518519   \n",
       "75%        0.164773      0.443815      0.266667      0.706309      0.666667   \n",
       "max        1.000000      1.000000      1.000000      1.000000      1.000000   \n",
       "\n",
       "             TARGET  \n",
       "count  42048.000000  \n",
       "mean       0.177645  \n",
       "std        0.257436  \n",
       "min        0.000000  \n",
       "25%        0.000000  \n",
       "50%        0.000000  \n",
       "75%        0.320789  \n",
       "max        1.000000  "
      ]
     },
     "execution_count": 17,
     "metadata": {},
     "output_type": "execute_result"
    }
   ],
   "source": [
    "tr_df.describe()"
   ]
  },
  {
   "cell_type": "code",
   "execution_count": 18,
   "metadata": {},
   "outputs": [
    {
     "data": {
      "text/html": [
       "<div>\n",
       "<style scoped>\n",
       "    .dataframe tbody tr th:only-of-type {\n",
       "        vertical-align: middle;\n",
       "    }\n",
       "\n",
       "    .dataframe tbody tr th {\n",
       "        vertical-align: top;\n",
       "    }\n",
       "\n",
       "    .dataframe thead th {\n",
       "        text-align: right;\n",
       "    }\n",
       "</style>\n",
       "<table border=\"1\" class=\"dataframe\">\n",
       "  <thead>\n",
       "    <tr style=\"text-align: right;\">\n",
       "      <th></th>\n",
       "      <th>DHI</th>\n",
       "      <th>DNI</th>\n",
       "      <th>WS</th>\n",
       "      <th>RH</th>\n",
       "      <th>T</th>\n",
       "      <th>TARGET</th>\n",
       "    </tr>\n",
       "  </thead>\n",
       "  <tbody>\n",
       "    <tr>\n",
       "      <th>count</th>\n",
       "      <td>10512.000000</td>\n",
       "      <td>10512.000000</td>\n",
       "      <td>10512.000000</td>\n",
       "      <td>10512.000000</td>\n",
       "      <td>10512.000000</td>\n",
       "      <td>10512.000000</td>\n",
       "    </tr>\n",
       "    <tr>\n",
       "      <th>mean</th>\n",
       "      <td>0.124701</td>\n",
       "      <td>0.222062</td>\n",
       "      <td>0.205452</td>\n",
       "      <td>0.531757</td>\n",
       "      <td>0.525669</td>\n",
       "      <td>0.181208</td>\n",
       "    </tr>\n",
       "    <tr>\n",
       "      <th>std</th>\n",
       "      <td>0.201099</td>\n",
       "      <td>0.329730</td>\n",
       "      <td>0.119881</td>\n",
       "      <td>0.237798</td>\n",
       "      <td>0.188532</td>\n",
       "      <td>0.261486</td>\n",
       "    </tr>\n",
       "    <tr>\n",
       "      <th>min</th>\n",
       "      <td>0.000000</td>\n",
       "      <td>0.000000</td>\n",
       "      <td>0.008333</td>\n",
       "      <td>0.004437</td>\n",
       "      <td>0.037037</td>\n",
       "      <td>0.000000</td>\n",
       "    </tr>\n",
       "    <tr>\n",
       "      <th>25%</th>\n",
       "      <td>0.000000</td>\n",
       "      <td>0.000000</td>\n",
       "      <td>0.116667</td>\n",
       "      <td>0.348231</td>\n",
       "      <td>0.370370</td>\n",
       "      <td>0.000000</td>\n",
       "    </tr>\n",
       "    <tr>\n",
       "      <th>50%</th>\n",
       "      <td>0.000000</td>\n",
       "      <td>0.000000</td>\n",
       "      <td>0.183333</td>\n",
       "      <td>0.540634</td>\n",
       "      <td>0.518519</td>\n",
       "      <td>0.000000</td>\n",
       "    </tr>\n",
       "    <tr>\n",
       "      <th>75%</th>\n",
       "      <td>0.168561</td>\n",
       "      <td>0.438149</td>\n",
       "      <td>0.266667</td>\n",
       "      <td>0.700249</td>\n",
       "      <td>0.666667</td>\n",
       "      <td>0.324526</td>\n",
       "    </tr>\n",
       "    <tr>\n",
       "      <th>max</th>\n",
       "      <td>0.990530</td>\n",
       "      <td>0.998111</td>\n",
       "      <td>0.983333</td>\n",
       "      <td>1.000000</td>\n",
       "      <td>1.000000</td>\n",
       "      <td>1.001672</td>\n",
       "    </tr>\n",
       "  </tbody>\n",
       "</table>\n",
       "</div>"
      ],
      "text/plain": [
       "                DHI           DNI            WS            RH             T  \\\n",
       "count  10512.000000  10512.000000  10512.000000  10512.000000  10512.000000   \n",
       "mean       0.124701      0.222062      0.205452      0.531757      0.525669   \n",
       "std        0.201099      0.329730      0.119881      0.237798      0.188532   \n",
       "min        0.000000      0.000000      0.008333      0.004437      0.037037   \n",
       "25%        0.000000      0.000000      0.116667      0.348231      0.370370   \n",
       "50%        0.000000      0.000000      0.183333      0.540634      0.518519   \n",
       "75%        0.168561      0.438149      0.266667      0.700249      0.666667   \n",
       "max        0.990530      0.998111      0.983333      1.000000      1.000000   \n",
       "\n",
       "             TARGET  \n",
       "count  10512.000000  \n",
       "mean       0.181208  \n",
       "std        0.261486  \n",
       "min        0.000000  \n",
       "25%        0.000000  \n",
       "50%        0.000000  \n",
       "75%        0.324526  \n",
       "max        1.001672  "
      ]
     },
     "execution_count": 18,
     "metadata": {},
     "output_type": "execute_result"
    }
   ],
   "source": [
    "vl_df.describe()"
   ]
  },
  {
   "cell_type": "markdown",
   "metadata": {},
   "source": [
    "## **Test**"
   ]
  },
  {
   "cell_type": "code",
   "execution_count": 19,
   "metadata": {},
   "outputs": [],
   "source": [
    "ts_filenames = [os.path.join(os.environ[\"LOCAL_DATA_PATH\"], \"test\", f\"{i}.csv\") for i in range(args[\"NUM_TEST_CSV\"])]\n",
    "ts_dfs = [preprocessing(pd.read_csv(ts_filename), is_training = False) for ts_filename in ts_filenames]\n",
    "ts_df = pd.concat(ts_dfs)"
   ]
  },
  {
   "cell_type": "code",
   "execution_count": 22,
   "metadata": {},
   "outputs": [],
   "source": [
    "# ts_df.head()"
   ]
  },
  {
   "cell_type": "code",
   "execution_count": 23,
   "metadata": {},
   "outputs": [],
   "source": [
    "# ts_df.describe()"
   ]
  },
  {
   "cell_type": "markdown",
   "metadata": {},
   "source": [
    "# **Make Dataset Pipelines**"
   ]
  },
  {
   "cell_type": "code",
   "execution_count": 24,
   "metadata": {},
   "outputs": [],
   "source": [
    "@tf.function\n",
    "def _flat_fn_tr(x):\n",
    "    return x.batch(args[\"WINDOW_INP\"] + args[\"WINDOW_TAR\"])\n",
    "\n",
    "\n",
    "@tf.function\n",
    "def _flat_fn_ts(x):\n",
    "    return x.batch(args[\"WINDOW_INP\"])\n",
    "\n",
    "\n",
    "@tf.function\n",
    "def _split_window(features):\n",
    "    return tf.split(features, [args[\"WINDOW_INP\"], args[\"WINDOW_TAR\"]], axis = 0)"
   ]
  },
  {
   "cell_type": "code",
   "execution_count": 25,
   "metadata": {},
   "outputs": [
    {
     "name": "stdout",
     "output_type": "stream",
     "text": [
      "tr_dataset: (TensorSpec(shape=(None, 336, 6), dtype=tf.float32, name=None), TensorSpec(shape=(None, 96, 6), dtype=tf.float32, name=None))\n",
      "vl_dataset: (TensorSpec(shape=(None, 336, 6), dtype=tf.float32, name=None), TensorSpec(shape=(None, 96, 6), dtype=tf.float32, name=None))\n",
      "ts_dataset: TensorSpec(shape=(None, None, 6), dtype=tf.float32, name=None)\n"
     ]
    }
   ],
   "source": [
    "tr_tensor = tf.constant(tr_df, dtype = tf.float32)\n",
    "vl_tensor = tf.constant(vl_df, dtype = tf.float32)\n",
    "ts_tensor = tf.constant(ts_df, dtype = tf.float32)\n",
    "\n",
    "tr_dataset = tf.data.Dataset.from_tensor_slices(tr_tensor\n",
    "                    ).window(args[\"WINDOW_INP\"] + args[\"WINDOW_TAR\"], args[\"WINDOW_SHIFT\"], args[\"WINDOW_STRIDE\"], args[\"WINDOW_DR\"]).flat_map(_flat_fn_tr\n",
    "                    ).map(_split_window, num_parallel_calls = args[\"AUTO\"]\n",
    "                    ).batch(args[\"GLOBAL_BATCH_SIZE\"]\n",
    "                    ).cache(\n",
    "                    ).prefetch(args[\"AUTO\"])\n",
    "\n",
    "vl_dataset = tf.data.Dataset.from_tensor_slices(vl_tensor\n",
    "                    ).window(args[\"WINDOW_INP\"] + args[\"WINDOW_TAR\"], args[\"WINDOW_SHIFT\"], args[\"WINDOW_STRIDE\"], args[\"WINDOW_DR\"]).flat_map(_flat_fn_tr\n",
    "                    ).map(_split_window, num_parallel_calls = args[\"AUTO\"]\n",
    "                    ).batch(args[\"GLOBAL_BATCH_SIZE\"]\n",
    "                    ).cache(\n",
    "                    ).prefetch(args[\"AUTO\"])\n",
    "\n",
    "ts_dataset = tf.data.Dataset.from_tensor_slices(ts_tensor\n",
    "                    ).window(args[\"WINDOW_INP\"], args[\"WINDOW_INP\"], args[\"WINDOW_STRIDE\"], args[\"WINDOW_DR\"]).flat_map(_flat_fn_ts\n",
    "#                     ).map(_split_window, num_parallel_calls = args[\"AUTO\"]\n",
    "                    ).batch(args[\"NUM_TEST_CSV\"] # Not args[\"GLOBAL_BATCH_SIZE\"]\n",
    "#                     ).cache(\n",
    "                    ).prefetch(args[\"AUTO\"])\n",
    "\n",
    "# Print the shapes\n",
    "print(f\"tr_dataset: {tr_dataset.element_spec}\")\n",
    "print(f\"vl_dataset: {vl_dataset.element_spec}\")\n",
    "print(f\"ts_dataset: {ts_dataset.element_spec}\")"
   ]
  },
  {
   "cell_type": "markdown",
   "metadata": {},
   "source": [
    "## **Take Samples**"
   ]
  },
  {
   "cell_type": "code",
   "execution_count": null,
   "metadata": {},
   "outputs": [],
   "source": [
    "for element in tr_dataset.take(1):\n",
    "    foo, bar = element\n",
    "    print(foo.shape, bar.shape)"
   ]
  },
  {
   "cell_type": "code",
   "execution_count": null,
   "metadata": {},
   "outputs": [],
   "source": [
    "for element in vl_dataset.take(1):\n",
    "    foo, bar = element\n",
    "    print(foo.shape, bar.shape)"
   ]
  },
  {
   "cell_type": "code",
   "execution_count": null,
   "metadata": {},
   "outputs": [],
   "source": [
    "for element in ts_dataset.take(1):\n",
    "    foo = element\n",
    "    print(foo.shape)"
   ]
  },
  {
   "cell_type": "markdown",
   "metadata": {},
   "source": [
    "# **Create Network**"
   ]
  },
  {
   "cell_type": "code",
   "execution_count": 26,
   "metadata": {},
   "outputs": [],
   "source": [
    "class AR_LSTM(tf.keras.Model):\n",
    "    def __init__(self, units, out_steps, name):\n",
    "        super(AR_LSTM, self).__init__(name = name)\n",
    "        self.units = units\n",
    "        self.out_steps = out_steps\n",
    "        self.num_features = args[\"NUM_FEATURES\"]\n",
    "        \n",
    "        self.lstm_cell = tf.keras.layers.LSTMCell(self.units)\n",
    "        self.lstm_rnn = tf.keras.layers.RNN(self.lstm_cell, return_state = True)\n",
    "        self.dense = tf.keras.layers.Dense(self.num_features)\n",
    "        \n",
    "    \n",
    "    def warmup(self, inputs):\n",
    "        x, *state = self.lstm_rnn(inputs)\n",
    "        prediction = self.dense(x)\n",
    "        return prediction, state\n",
    "        \n",
    "        \n",
    "    def call(self, inputs, training = None):\n",
    "        predictions = []\n",
    "        \n",
    "        prediction, state = self.warmup(inputs)\n",
    "        predictions.append(prediction)\n",
    "        \n",
    "        for n in range(1, self.out_steps):\n",
    "            x = prediction\n",
    "            x, state = self.lstm_cell(x, states = state, training = training)\n",
    "            prediction = self.dense(x)\n",
    "            predictions.append(prediction)\n",
    "            \n",
    "        predictions = tf.stack(predictions, axis = 1)\n",
    "        return predictions"
   ]
  },
  {
   "cell_type": "markdown",
   "metadata": {},
   "source": [
    "# **Compile and Fit**\n",
    "\n",
    "   * Repeat the last 24 hours."
   ]
  },
  {
   "cell_type": "code",
   "execution_count": 27,
   "metadata": {},
   "outputs": [],
   "source": [
    "models = []\n",
    "\n",
    "for tau in np.arange(0.1, 1, 0.1):\n",
    "    model = AR_LSTM(\n",
    "        units = args[\"NUM_UNITS\"], \n",
    "        out_steps = args[\"WINDOW_TAR\"],\n",
    "        name = f\"P{tau:.1f}\")\n",
    "\n",
    "    model.compile(\n",
    "        loss = tfa.losses.PinballLoss(tau = tau),\n",
    "        optimizer = tf.keras.optimizers.Adam(args[\"INIT_LR\"]))\n",
    "    \n",
    "    models.append(model)"
   ]
  },
  {
   "cell_type": "code",
   "execution_count": 28,
   "metadata": {},
   "outputs": [
    {
     "name": "stdout",
     "output_type": "stream",
     "text": [
      "\n",
      "Model P0.1...\n",
      "\n",
      "Epoch 1/10\n",
      "7/7 - 12s - loss: 0.0285 - val_loss: 0.0250\n",
      "Epoch 2/10\n",
      "7/7 - 1s - loss: 0.0248 - val_loss: 0.0242\n",
      "Epoch 3/10\n",
      "7/7 - 2s - loss: 0.0237 - val_loss: 0.0236\n",
      "Epoch 4/10\n",
      "7/7 - 1s - loss: 0.0235 - val_loss: 0.0236\n",
      "Epoch 5/10\n",
      "7/7 - 1s - loss: 0.0234 - val_loss: 0.0234\n",
      "Epoch 6/10\n",
      "7/7 - 1s - loss: 0.0232 - val_loss: 0.0234\n",
      "Epoch 7/10\n",
      "7/7 - 1s - loss: 0.0233 - val_loss: 0.0235\n",
      "Epoch 8/10\n",
      "7/7 - 1s - loss: 0.0234 - val_loss: 0.0236\n",
      "Epoch 9/10\n",
      "7/7 - 1s - loss: 0.0233 - val_loss: 0.0236\n",
      "Epoch 10/10\n",
      "7/7 - 1s - loss: 0.0234 - val_loss: 0.0234\n",
      "\n",
      "Model P0.2...\n",
      "\n",
      "Epoch 1/10\n",
      "7/7 - 11s - loss: 0.0576 - val_loss: 0.0524\n",
      "Epoch 2/10\n",
      "7/7 - 1s - loss: 0.0478 - val_loss: 0.0464\n",
      "Epoch 3/10\n",
      "7/7 - 1s - loss: 0.0451 - val_loss: 0.0432\n",
      "Epoch 4/10\n",
      "7/7 - 1s - loss: 0.0430 - val_loss: 0.0433\n",
      "Epoch 5/10\n",
      "7/7 - 1s - loss: 0.0430 - val_loss: 0.0429\n",
      "Epoch 6/10\n",
      "7/7 - 1s - loss: 0.0424 - val_loss: 0.0427\n",
      "Epoch 7/10\n",
      "7/7 - 1s - loss: 0.0422 - val_loss: 0.0419\n",
      "Epoch 8/10\n",
      "7/7 - 1s - loss: 0.0419 - val_loss: 0.0419\n",
      "Epoch 9/10\n",
      "7/7 - 2s - loss: 0.0416 - val_loss: 0.0417\n",
      "Epoch 10/10\n",
      "7/7 - 1s - loss: 0.0416 - val_loss: 0.0417\n",
      "\n",
      "Model P0.3...\n",
      "\n",
      "Epoch 1/10\n",
      "7/7 - 11s - loss: 0.0785 - val_loss: 0.0659\n",
      "Epoch 2/10\n",
      "7/7 - 1s - loss: 0.0650 - val_loss: 0.0595\n",
      "Epoch 3/10\n",
      "7/7 - 1s - loss: 0.0598 - val_loss: 0.0593\n",
      "Epoch 4/10\n",
      "7/7 - 1s - loss: 0.0587 - val_loss: 0.0581\n",
      "Epoch 5/10\n",
      "7/7 - 1s - loss: 0.0578 - val_loss: 0.0584\n",
      "Epoch 6/10\n",
      "7/7 - 1s - loss: 0.0579 - val_loss: 0.0583\n",
      "Epoch 7/10\n",
      "7/7 - 1s - loss: 0.0576 - val_loss: 0.0579\n",
      "Epoch 8/10\n",
      "7/7 - 1s - loss: 0.0576 - val_loss: 0.0577\n",
      "Epoch 9/10\n",
      "7/7 - 1s - loss: 0.0575 - val_loss: 0.0578\n",
      "Epoch 10/10\n",
      "7/7 - 1s - loss: 0.0575 - val_loss: 0.0581\n",
      "\n",
      "Model P0.4...\n",
      "\n",
      "Epoch 1/10\n",
      "7/7 - 11s - loss: 0.1039 - val_loss: 0.0851\n",
      "Epoch 2/10\n",
      "7/7 - 1s - loss: 0.0808 - val_loss: 0.0771\n",
      "Epoch 3/10\n",
      "7/7 - 1s - loss: 0.0736 - val_loss: 0.0732\n",
      "Epoch 4/10\n",
      "7/7 - 2s - loss: 0.0717 - val_loss: 0.0714\n",
      "Epoch 5/10\n",
      "7/7 - 1s - loss: 0.0709 - val_loss: 0.0712\n",
      "Epoch 6/10\n",
      "7/7 - 1s - loss: 0.0709 - val_loss: 0.0714\n",
      "Epoch 7/10\n",
      "7/7 - 1s - loss: 0.0710 - val_loss: 0.0719\n",
      "Epoch 8/10\n",
      "7/7 - 1s - loss: 0.0710 - val_loss: 0.0715\n",
      "Epoch 9/10\n",
      "7/7 - 1s - loss: 0.0709 - val_loss: 0.0714\n",
      "Epoch 10/10\n",
      "7/7 - 1s - loss: 0.0709 - val_loss: 0.0717\n",
      "\n",
      "Model P0.5...\n",
      "\n",
      "Epoch 1/10\n",
      "7/7 - 11s - loss: 0.1268 - val_loss: 0.0927\n",
      "Epoch 2/10\n",
      "7/7 - 1s - loss: 0.0866 - val_loss: 0.0852\n",
      "Epoch 3/10\n",
      "7/7 - 1s - loss: 0.0835 - val_loss: 0.0823\n",
      "Epoch 4/10\n",
      "7/7 - 1s - loss: 0.0818 - val_loss: 0.0818\n",
      "Epoch 5/10\n",
      "7/7 - 1s - loss: 0.0813 - val_loss: 0.0818\n",
      "Epoch 6/10\n",
      "7/7 - 1s - loss: 0.0811 - val_loss: 0.0814\n",
      "Epoch 7/10\n",
      "7/7 - 1s - loss: 0.0810 - val_loss: 0.0816\n",
      "Epoch 8/10\n",
      "7/7 - 1s - loss: 0.0810 - val_loss: 0.0815\n",
      "Epoch 9/10\n",
      "7/7 - 1s - loss: 0.0809 - val_loss: 0.0816\n",
      "Epoch 10/10\n",
      "7/7 - 1s - loss: 0.0810 - val_loss: 0.0813\n",
      "\n",
      "Model P0.6...\n",
      "\n",
      "Epoch 1/10\n",
      "7/7 - 11s - loss: 0.1529 - val_loss: 0.0924\n",
      "Epoch 2/10\n",
      "7/7 - 1s - loss: 0.1078 - val_loss: 0.0929\n",
      "Epoch 3/10\n",
      "7/7 - 1s - loss: 0.0922 - val_loss: 0.0911\n",
      "Epoch 4/10\n",
      "7/7 - 1s - loss: 0.0903 - val_loss: 0.0883\n",
      "Epoch 5/10\n",
      "7/7 - 1s - loss: 0.0882 - val_loss: 0.0878\n",
      "Epoch 6/10\n",
      "7/7 - 1s - loss: 0.0873 - val_loss: 0.0876\n",
      "Epoch 7/10\n",
      "7/7 - 1s - loss: 0.0872 - val_loss: 0.0877\n",
      "Epoch 8/10\n",
      "7/7 - 1s - loss: 0.0871 - val_loss: 0.0876\n",
      "Epoch 9/10\n",
      "7/7 - 1s - loss: 0.0870 - val_loss: 0.0875\n",
      "Epoch 10/10\n",
      "7/7 - 1s - loss: 0.0870 - val_loss: 0.0875\n",
      "\n",
      "Model P0.7...\n",
      "\n",
      "Epoch 1/10\n",
      "7/7 - 11s - loss: 0.1735 - val_loss: 0.1358\n",
      "Epoch 2/10\n",
      "7/7 - 1s - loss: 0.1085 - val_loss: 0.0874\n",
      "Epoch 3/10\n",
      "7/7 - 1s - loss: 0.0908 - val_loss: 0.0884\n",
      "Epoch 4/10\n",
      "7/7 - 1s - loss: 0.0883 - val_loss: 0.0865\n",
      "Epoch 5/10\n",
      "7/7 - 1s - loss: 0.0865 - val_loss: 0.0861\n",
      "Epoch 6/10\n",
      "7/7 - 1s - loss: 0.0859 - val_loss: 0.0861\n",
      "Epoch 7/10\n",
      "7/7 - 1s - loss: 0.0857 - val_loss: 0.0860\n",
      "Epoch 8/10\n",
      "7/7 - 1s - loss: 0.0855 - val_loss: 0.0860\n",
      "Epoch 9/10\n",
      "7/7 - 1s - loss: 0.0855 - val_loss: 0.0859\n",
      "Epoch 10/10\n",
      "7/7 - 1s - loss: 0.0854 - val_loss: 0.0859\n",
      "\n",
      "Model P0.8...\n",
      "\n",
      "Epoch 1/10\n",
      "7/7 - 11s - loss: 0.1883 - val_loss: 0.1121\n",
      "Epoch 2/10\n",
      "7/7 - 1s - loss: 0.0911 - val_loss: 0.0786\n",
      "Epoch 3/10\n",
      "7/7 - 1s - loss: 0.0765 - val_loss: 0.0759\n",
      "Epoch 4/10\n",
      "7/7 - 1s - loss: 0.0738 - val_loss: 0.0748\n",
      "Epoch 5/10\n",
      "7/7 - 1s - loss: 0.0731 - val_loss: 0.0738\n",
      "Epoch 6/10\n",
      "7/7 - 1s - loss: 0.0728 - val_loss: 0.0732\n",
      "Epoch 7/10\n",
      "7/7 - 1s - loss: 0.0726 - val_loss: 0.0730\n",
      "Epoch 8/10\n",
      "7/7 - 1s - loss: 0.0725 - val_loss: 0.0731\n",
      "Epoch 9/10\n",
      "7/7 - 1s - loss: 0.0724 - val_loss: 0.0730\n",
      "Epoch 10/10\n",
      "7/7 - 1s - loss: 0.0724 - val_loss: 0.0730\n",
      "\n",
      "Model P0.9...\n",
      "\n",
      "Epoch 1/10\n",
      "7/7 - 12s - loss: 0.2296 - val_loss: 0.1067\n",
      "Epoch 2/10\n",
      "7/7 - 1s - loss: 0.0869 - val_loss: 0.0631\n",
      "Epoch 3/10\n",
      "7/7 - 1s - loss: 0.0578 - val_loss: 0.0546\n",
      "Epoch 4/10\n",
      "7/7 - 1s - loss: 0.0513 - val_loss: 0.0491\n",
      "Epoch 5/10\n",
      "7/7 - 1s - loss: 0.0476 - val_loss: 0.0479\n",
      "Epoch 6/10\n",
      "7/7 - 1s - loss: 0.0470 - val_loss: 0.0469\n",
      "Epoch 7/10\n",
      "7/7 - 1s - loss: 0.0465 - val_loss: 0.0466\n",
      "Epoch 8/10\n",
      "7/7 - 1s - loss: 0.0462 - val_loss: 0.0468\n",
      "Epoch 9/10\n",
      "7/7 - 1s - loss: 0.0462 - val_loss: 0.0465\n",
      "Epoch 10/10\n",
      "7/7 - 1s - loss: 0.0461 - val_loss: 0.0465\n"
     ]
    }
   ],
   "source": [
    "for model in models:\n",
    "    # TensorBoard callback.\n",
    "    log_dir = os.path.join(\n",
    "        \"logs\", \"fit\", os.environ[\"NOTEBOOKNAME\"], \n",
    "        datetime.datetime.now().strftime(f\"{model.name}-%Y%m%d-%H%M%S\"))\n",
    "    tb_callback = tf.keras.callbacks.TensorBoard(log_dir = log_dir, histogram_freq = 1)\n",
    "\n",
    "    print(f\"\\nModel {model.name}...\\n\")\n",
    "    \n",
    "    _ = model.fit(\n",
    "        tr_dataset,\n",
    "        validation_data = vl_dataset,\n",
    "        epochs = args[\"EPOCH\"],\n",
    "        verbose = 2,\n",
    "        callbacks = [tb_callback])"
   ]
  },
  {
   "cell_type": "code",
   "execution_count": 29,
   "metadata": {},
   "outputs": [
    {
     "data": {
      "text/html": [
       "\n",
       "      <iframe id=\"tensorboard-frame-52966886ce87da6\" width=\"100%\" height=\"800\" frameborder=\"0\">\n",
       "      </iframe>\n",
       "      <script>\n",
       "        (function() {\n",
       "          const frame = document.getElementById(\"tensorboard-frame-52966886ce87da6\");\n",
       "          const url = new URL(\"/\", window.location);\n",
       "          const port = 6006;\n",
       "          if (port) {\n",
       "            url.port = port;\n",
       "          }\n",
       "          frame.src = url;\n",
       "        })();\n",
       "      </script>\n",
       "    "
      ],
      "text/plain": [
       "<IPython.core.display.HTML object>"
      ]
     },
     "metadata": {},
     "output_type": "display_data"
    }
   ],
   "source": [
    "%tensorboard --logdir logs/fit --host jupyter-server"
   ]
  },
  {
   "cell_type": "markdown",
   "metadata": {},
   "source": [
    "# **Predict**"
   ]
  },
  {
   "cell_type": "code",
   "execution_count": null,
   "metadata": {},
   "outputs": [],
   "source": [
    "preds = [np.array(model.predict(ts_dataset))[..., -1] for model in models]\n",
    "preds[0].shape"
   ]
  },
  {
   "cell_type": "code",
   "execution_count": null,
   "metadata": {},
   "outputs": [],
   "source": [
    "submission = pd.read_csv(os.path.join(os.environ[\"LOCAL_DATA_PATH\"], \"sample_submission.csv\"), index_col = \"id\")\n",
    "submission.head()"
   ]
  },
  {
   "cell_type": "code",
   "execution_count": null,
   "metadata": {},
   "outputs": [],
   "source": [
    "for i, column in enumerate(submission.columns):\n",
    "    submission[column] = np.reshape(preds[i], (-1,))"
   ]
  },
  {
   "cell_type": "code",
   "execution_count": null,
   "metadata": {},
   "outputs": [],
   "source": [
    "submission.head()"
   ]
  },
  {
   "cell_type": "code",
   "execution_count": null,
   "metadata": {},
   "outputs": [],
   "source": [
    "submission.to_csv(\n",
    "    os.path.join(os.environ[\"SUBMISSION_PATH\"], f\"{os.environ['NOTEBOOKNAME']}_submission.csv\"))"
   ]
  },
  {
   "cell_type": "code",
   "execution_count": null,
   "metadata": {},
   "outputs": [],
   "source": []
  }
 ],
 "metadata": {
  "kernelspec": {
   "display_name": "Python 3",
   "language": "python",
   "name": "python3"
  },
  "language_info": {
   "codemirror_mode": {
    "name": "ipython",
    "version": 3
   },
   "file_extension": ".py",
   "mimetype": "text/x-python",
   "name": "python",
   "nbconvert_exporter": "python",
   "pygments_lexer": "ipython3",
   "version": "3.6.9"
  }
 },
 "nbformat": 4,
 "nbformat_minor": 4
}
