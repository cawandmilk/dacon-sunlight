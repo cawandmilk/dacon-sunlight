{
 "cells": [
  {
   "cell_type": "markdown",
   "metadata": {},
   "source": [
    "# **Default Setting**\n",
    "\n",
    "* Python: 3.6.9\n",
    "* ML Framework: tf-nightly-gpu 2.5.0-dev20201208\n",
    "* CPU: AMD Ryzen 5 5600X 6-Core Processor\n",
    "* GPU: GeForce RTX 3070 (8G) (CUDA 11.1)\n",
    "* RAM: 32G\n",
    "* Platform: linux 20.04 LTS"
   ]
  },
  {
   "cell_type": "code",
   "execution_count": 1,
   "metadata": {},
   "outputs": [
    {
     "name": "stdout",
     "output_type": "stream",
     "text": [
      "env: NOTEBOOKNAME=try15\n",
      "env: LOCAL_DATA_PATH=data\n",
      "env: SUBMISSION_PATH=submission\n"
     ]
    }
   ],
   "source": [
    "%env NOTEBOOKNAME try15\n",
    "%env LOCAL_DATA_PATH data\n",
    "%env SUBMISSION_PATH submission"
   ]
  },
  {
   "cell_type": "code",
   "execution_count": 2,
   "metadata": {},
   "outputs": [
    {
     "name": "stdout",
     "output_type": "stream",
     "text": [
      "tf.__version__: 2.5.0-dev20201208\n",
      "tfa.__version__: 0.11.2\n"
     ]
    },
    {
     "name": "stderr",
     "output_type": "stream",
     "text": [
      "/home/myunggyo/anaconda3/envs/py36/lib/python3.6/site-packages/tensorflow_addons/utils/ensure_tf_install.py:44: UserWarning: You are currently using a nightly version of TensorFlow (2.5.0-dev20201208). \n",
      "TensorFlow Addons offers no support for the nightly versions of TensorFlow. Some things might work, some other might not. \n",
      "If you encounter a bug, do not file an issue on GitHub.\n",
      "  UserWarning,\n"
     ]
    }
   ],
   "source": [
    "import tensorflow as tf\n",
    "import tensorflow_addons as tfa\n",
    "\n",
    "import datetime\n",
    "import glob\n",
    "import os\n",
    "import platform\n",
    "\n",
    "import numpy as np\n",
    "import pandas as pd\n",
    "\n",
    "from collections import OrderedDict\n",
    "from matplotlib import pyplot as plt\n",
    "# from sklearn.model_selection import train_test_split\n",
    "\n",
    "print(f\"tf.__version__: {tf.__version__}\")\n",
    "print(f\"tfa.__version__: {tfa.__version__}\")"
   ]
  },
  {
   "cell_type": "code",
   "execution_count": 3,
   "metadata": {},
   "outputs": [
    {
     "data": {
      "text/plain": [
       "[PhysicalDevice(name='/physical_device:CPU:0', device_type='CPU'),\n",
       " PhysicalDevice(name='/physical_device:GPU:0', device_type='GPU')]"
      ]
     },
     "execution_count": 3,
     "metadata": {},
     "output_type": "execute_result"
    }
   ],
   "source": [
    "tf.config.list_physical_devices()"
   ]
  },
  {
   "cell_type": "code",
   "execution_count": 4,
   "metadata": {},
   "outputs": [],
   "source": [
    "# !python -V"
   ]
  },
  {
   "cell_type": "code",
   "execution_count": 5,
   "metadata": {},
   "outputs": [],
   "source": [
    "# !cat /proc/cpuinfo"
   ]
  },
  {
   "cell_type": "code",
   "execution_count": 6,
   "metadata": {},
   "outputs": [
    {
     "name": "stdout",
     "output_type": "stream",
     "text": [
      "Thu Dec 17 16:15:58 2020       \n",
      "+-----------------------------------------------------------------------------+\n",
      "| NVIDIA-SMI 455.32.00    Driver Version: 455.32.00    CUDA Version: 11.1     |\n",
      "|-------------------------------+----------------------+----------------------+\n",
      "| GPU  Name        Persistence-M| Bus-Id        Disp.A | Volatile Uncorr. ECC |\n",
      "| Fan  Temp  Perf  Pwr:Usage/Cap|         Memory-Usage | GPU-Util  Compute M. |\n",
      "|                               |                      |               MIG M. |\n",
      "|===============================+======================+======================|\n",
      "|   0  Graphics Device     On   | 00000000:0A:00.0  On |                  N/A |\n",
      "|  0%   31C    P8    18W / 220W |    345MiB /  7979MiB |      9%      Default |\n",
      "|                               |                      |                  N/A |\n",
      "+-------------------------------+----------------------+----------------------+\n",
      "                                                                               \n",
      "+-----------------------------------------------------------------------------+\n",
      "| Processes:                                                                  |\n",
      "|  GPU   GI   CI        PID   Type   Process name                  GPU Memory |\n",
      "|        ID   ID                                                   Usage      |\n",
      "|=============================================================================|\n",
      "|    0   N/A  N/A       926      G   /usr/lib/xorg/Xorg                 35MiB |\n",
      "|    0   N/A  N/A      1663      G   /usr/lib/xorg/Xorg                 91MiB |\n",
      "|    0   N/A  N/A      1788      G   /usr/bin/gnome-shell               48MiB |\n",
      "|    0   N/A  N/A      2618      G   ...AAAAAAAA== --shared-files      154MiB |\n",
      "+-----------------------------------------------------------------------------+\n"
     ]
    }
   ],
   "source": [
    "!nvidia-smi"
   ]
  },
  {
   "cell_type": "code",
   "execution_count": 7,
   "metadata": {},
   "outputs": [],
   "source": [
    "# !df -h"
   ]
  },
  {
   "cell_type": "code",
   "execution_count": 8,
   "metadata": {},
   "outputs": [
    {
     "name": "stdout",
     "output_type": "stream",
     "text": [
      "              total        used        free      shared  buff/cache   available\n",
      "Mem:           31Gi       2.9Gi        24Gi       698Mi       4.0Gi        27Gi\n",
      "Swap:         2.0Gi          0B       2.0Gi\n"
     ]
    }
   ],
   "source": [
    "!free -h"
   ]
  },
  {
   "cell_type": "code",
   "execution_count": 9,
   "metadata": {},
   "outputs": [],
   "source": [
    "# platform.platform()"
   ]
  },
  {
   "cell_type": "code",
   "execution_count": 10,
   "metadata": {},
   "outputs": [],
   "source": [
    "# Load the TensorBoard notebook extension.\n",
    "%load_ext tensorboard"
   ]
  },
  {
   "cell_type": "markdown",
   "metadata": {},
   "source": [
    "# **Define Arguments**"
   ]
  },
  {
   "cell_type": "code",
   "execution_count": 11,
   "metadata": {},
   "outputs": [
    {
     "data": {
      "text/plain": [
       "OrderedDict([('SEED', 42),\n",
       "             ('TEST_SIZE', 0.2),\n",
       "             ('EPOCH', 10),\n",
       "             ('INIT_LR', 0.001),\n",
       "             ('NUM_TEST_CSV', 81),\n",
       "             ('WINDOW_INP', 336),\n",
       "             ('WINDOW_TAR', 96),\n",
       "             ('WINDOW_SHIFT', 48),\n",
       "             ('WINDOW_STRIDE', 1),\n",
       "             ('WINDOW_DR', True),\n",
       "             ('AUTO', -1),\n",
       "             ('GLOBAL_BATCH_SIZE', 128),\n",
       "             ('NUM_UNITS', 64),\n",
       "             ('NUM_FEATURES', 7),\n",
       "             ('NUM_QUANTILE', 9)])"
      ]
     },
     "execution_count": 11,
     "metadata": {},
     "output_type": "execute_result"
    }
   ],
   "source": [
    "args = OrderedDict({\n",
    "    # Basic\n",
    "    \"SEED\": 42,\n",
    "    \"TEST_SIZE\": 0.2,\n",
    "    \"EPOCH\": 10,\n",
    "    \"INIT_LR\": 1e-3,\n",
    "    \n",
    "    # Dataframe\n",
    "    \"NUM_TEST_CSV\": 81,\n",
    "    \n",
    "    # Dataset Pipeline\n",
    "    \"WINDOW_INP\": 7 * 24 * 2, # 336, 7 days\n",
    "    \"WINDOW_TAR\": 2 * 24 * 2, # 96, 2 days\n",
    "    \"WINDOW_SHIFT\": 1 * 24 * 2, # 1 day\n",
    "    \"WINDOW_STRIDE\": 1,\n",
    "    \"WINDOW_DR\": True, # Drop remainders\n",
    "    \"AUTO\": tf.data.experimental.AUTOTUNE,\n",
    "    \n",
    "    \"GLOBAL_BATCH_SIZE\": 128,\n",
    "    \n",
    "    # Model\n",
    "    \"NUM_UNITS\": 64, # lstm units\n",
    "    \"NUM_FEATURES\": 7, # Day_sin, Day_cos, DHI, DNI, WS, RH, T\n",
    "    \"NUM_QUANTILE\": 9, # tau = 0.1 to 0.9\n",
    "    \n",
    "})\n",
    "\n",
    "args"
   ]
  },
  {
   "cell_type": "markdown",
   "metadata": {},
   "source": [
    "# **Load Datasets**"
   ]
  },
  {
   "cell_type": "markdown",
   "metadata": {},
   "source": [
    "## **Train / Validation**\n",
    "\n",
    "```\n",
    "\"\"\"Using sklearn.model_selection.train_test_split()\"\"\"\n",
    "\n",
    "tr_df, vl_df = train_test_split(\n",
    "    df, \n",
    "    test_size = args[\"TEST_SIZE\"]\n",
    "    random_state = args[\"SEED\"])\n",
    "    \n",
    "```"
   ]
  },
  {
   "cell_type": "code",
   "execution_count": 12,
   "metadata": {},
   "outputs": [],
   "source": [
    "df = pd.read_csv(os.path.join(os.environ[\"LOCAL_DATA_PATH\"], \"train\", \"train.csv\"))"
   ]
  },
  {
   "cell_type": "code",
   "execution_count": 13,
   "metadata": {},
   "outputs": [],
   "source": [
    "# df.head()"
   ]
  },
  {
   "cell_type": "code",
   "execution_count": 14,
   "metadata": {},
   "outputs": [],
   "source": [
    "# df.describe()"
   ]
  },
  {
   "cell_type": "code",
   "execution_count": 15,
   "metadata": {},
   "outputs": [
    {
     "data": {
      "text/plain": [
       "((42048, 9), (10512, 9))"
      ]
     },
     "execution_count": 15,
     "metadata": {},
     "output_type": "execute_result"
    }
   ],
   "source": [
    "args[\"SPLIT_LEN\"] = int(df.shape[0] * (1. - args[\"TEST_SIZE\"]))\n",
    "\n",
    "tr_df = df[:args[\"SPLIT_LEN\"]]\n",
    "vl_df = df[args[\"SPLIT_LEN\"]:]\n",
    "\n",
    "tr_df.shape, vl_df.shape"
   ]
  },
  {
   "cell_type": "code",
   "execution_count": 16,
   "metadata": {},
   "outputs": [],
   "source": [
    "def preprocessing(df, is_training = True, day = 24 * 60 * 60): # day must be represented by sec\n",
    "    # Drop timestampes.\n",
    "    try:\n",
    "        df = df.drop([\"Day\"], axis = 1) # cannot use day features\n",
    "    except:\n",
    "        pass\n",
    "    \n",
    "    \n",
    "    # Timestamp to sin/cos.\n",
    "    for column in [\"Hour\", \"Minute\"]:\n",
    "        df[f\"_{column}\"] = df[column].apply(lambda x: f\"{x:0>2d}\")\n",
    "    \n",
    "    df[\"Time\"] = df[[\"_Hour\", \"_Minute\"]].apply(lambda x: \":\".join(x), axis = 1)\n",
    "    \n",
    "    timestamp = pd.to_datetime(df[\"Time\"], format = \"%H:%M\").map(datetime.datetime.timestamp)\n",
    "        \n",
    "    day_sin = np.sin(timestamp * (2 * np.pi / day))\n",
    "    day_cos = np.cos(timestamp * (2 * np.pi / day))\n",
    "        \n",
    "    df.insert(loc = 0, column = \"DAY_SIN\", value = day_sin)\n",
    "    df.insert(loc = 1, column = \"DAY_COS\", value = day_cos)\n",
    "    \n",
    "    df = df.drop([\"Hour\", \"Minute\", \"_Hour\", \"_Minute\", \"Time\"], axis = 1)\n",
    "    \n",
    "    \n",
    "    # Standarize.\n",
    "    for column in [\"DHI\", \"DNI\", \"WS\", \"RH\", \"T\"]: # without DAY_SIN, DAY_COS, TARGET\n",
    "        if is_training:\n",
    "            args[f\"{column}_MEAN\"] = df[column].mean()\n",
    "            args[f\"{column}_STD\"] = df[column].std()\n",
    "        \n",
    "        df[column] = (df[column] - args[f\"{column}_MEAN\"]) / args[f\"{column}_STD\"]\n",
    "        \n",
    "    return df"
   ]
  },
  {
   "cell_type": "code",
   "execution_count": 17,
   "metadata": {},
   "outputs": [],
   "source": [
    "tr_df = preprocessing(tr_df)\n",
    "vl_df = preprocessing(vl_df, is_training = False)"
   ]
  },
  {
   "cell_type": "code",
   "execution_count": 18,
   "metadata": {},
   "outputs": [
    {
     "data": {
      "text/html": [
       "<div>\n",
       "<style scoped>\n",
       "    .dataframe tbody tr th:only-of-type {\n",
       "        vertical-align: middle;\n",
       "    }\n",
       "\n",
       "    .dataframe tbody tr th {\n",
       "        vertical-align: top;\n",
       "    }\n",
       "\n",
       "    .dataframe thead th {\n",
       "        text-align: right;\n",
       "    }\n",
       "</style>\n",
       "<table border=\"1\" class=\"dataframe\">\n",
       "  <thead>\n",
       "    <tr style=\"text-align: right;\">\n",
       "      <th></th>\n",
       "      <th>DAY_SIN</th>\n",
       "      <th>DAY_COS</th>\n",
       "      <th>DHI</th>\n",
       "      <th>DNI</th>\n",
       "      <th>WS</th>\n",
       "      <th>RH</th>\n",
       "      <th>T</th>\n",
       "      <th>TARGET</th>\n",
       "    </tr>\n",
       "  </thead>\n",
       "  <tbody>\n",
       "    <tr>\n",
       "      <th>0</th>\n",
       "      <td>-0.798985</td>\n",
       "      <td>-0.601350</td>\n",
       "      <td>-0.620599</td>\n",
       "      <td>-0.668244</td>\n",
       "      <td>-0.677079</td>\n",
       "      <td>0.527259</td>\n",
       "      <td>-2.018496</td>\n",
       "      <td>0.0</td>\n",
       "    </tr>\n",
       "    <tr>\n",
       "      <th>1</th>\n",
       "      <td>-0.870642</td>\n",
       "      <td>-0.491917</td>\n",
       "      <td>-0.620599</td>\n",
       "      <td>-0.668244</td>\n",
       "      <td>-0.677079</td>\n",
       "      <td>0.526338</td>\n",
       "      <td>-2.018496</td>\n",
       "      <td>0.0</td>\n",
       "    </tr>\n",
       "    <tr>\n",
       "      <th>2</th>\n",
       "      <td>-0.927402</td>\n",
       "      <td>-0.374067</td>\n",
       "      <td>-0.620599</td>\n",
       "      <td>-0.668244</td>\n",
       "      <td>-0.608733</td>\n",
       "      <td>0.651615</td>\n",
       "      <td>-2.018496</td>\n",
       "      <td>0.0</td>\n",
       "    </tr>\n",
       "    <tr>\n",
       "      <th>3</th>\n",
       "      <td>-0.968293</td>\n",
       "      <td>-0.249817</td>\n",
       "      <td>-0.620599</td>\n",
       "      <td>-0.668244</td>\n",
       "      <td>-0.608733</td>\n",
       "      <td>0.650234</td>\n",
       "      <td>-2.018496</td>\n",
       "      <td>0.0</td>\n",
       "    </tr>\n",
       "    <tr>\n",
       "      <th>4</th>\n",
       "      <td>-0.992617</td>\n",
       "      <td>-0.121292</td>\n",
       "      <td>-0.620599</td>\n",
       "      <td>-0.668244</td>\n",
       "      <td>-0.608733</td>\n",
       "      <td>0.809133</td>\n",
       "      <td>-2.018496</td>\n",
       "      <td>0.0</td>\n",
       "    </tr>\n",
       "    <tr>\n",
       "      <th>...</th>\n",
       "      <td>...</td>\n",
       "      <td>...</td>\n",
       "      <td>...</td>\n",
       "      <td>...</td>\n",
       "      <td>...</td>\n",
       "      <td>...</td>\n",
       "      <td>...</td>\n",
       "      <td>...</td>\n",
       "    </tr>\n",
       "    <tr>\n",
       "      <th>42043</th>\n",
       "      <td>-0.267799</td>\n",
       "      <td>-0.963475</td>\n",
       "      <td>-0.620599</td>\n",
       "      <td>-0.668244</td>\n",
       "      <td>-0.403696</td>\n",
       "      <td>1.003958</td>\n",
       "      <td>-0.138217</td>\n",
       "      <td>0.0</td>\n",
       "    </tr>\n",
       "    <tr>\n",
       "      <th>42044</th>\n",
       "      <td>-0.391267</td>\n",
       "      <td>-0.920277</td>\n",
       "      <td>-0.620599</td>\n",
       "      <td>-0.668244</td>\n",
       "      <td>0.074724</td>\n",
       "      <td>1.351695</td>\n",
       "      <td>-0.138217</td>\n",
       "      <td>0.0</td>\n",
       "    </tr>\n",
       "    <tr>\n",
       "      <th>42045</th>\n",
       "      <td>-0.508040</td>\n",
       "      <td>-0.861334</td>\n",
       "      <td>-0.620599</td>\n",
       "      <td>-0.668244</td>\n",
       "      <td>0.348107</td>\n",
       "      <td>1.644624</td>\n",
       "      <td>-0.237179</td>\n",
       "      <td>0.0</td>\n",
       "    </tr>\n",
       "    <tr>\n",
       "      <th>42046</th>\n",
       "      <td>-0.616120</td>\n",
       "      <td>-0.787652</td>\n",
       "      <td>-0.620599</td>\n",
       "      <td>-0.668244</td>\n",
       "      <td>0.621489</td>\n",
       "      <td>1.719237</td>\n",
       "      <td>-0.237179</td>\n",
       "      <td>0.0</td>\n",
       "    </tr>\n",
       "    <tr>\n",
       "      <th>42047</th>\n",
       "      <td>-0.713658</td>\n",
       "      <td>-0.700494</td>\n",
       "      <td>-0.620599</td>\n",
       "      <td>-0.668244</td>\n",
       "      <td>1.168255</td>\n",
       "      <td>1.951369</td>\n",
       "      <td>-0.336141</td>\n",
       "      <td>0.0</td>\n",
       "    </tr>\n",
       "  </tbody>\n",
       "</table>\n",
       "<p>42048 rows × 8 columns</p>\n",
       "</div>"
      ],
      "text/plain": [
       "        DAY_SIN   DAY_COS       DHI       DNI        WS        RH         T  \\\n",
       "0     -0.798985 -0.601350 -0.620599 -0.668244 -0.677079  0.527259 -2.018496   \n",
       "1     -0.870642 -0.491917 -0.620599 -0.668244 -0.677079  0.526338 -2.018496   \n",
       "2     -0.927402 -0.374067 -0.620599 -0.668244 -0.608733  0.651615 -2.018496   \n",
       "3     -0.968293 -0.249817 -0.620599 -0.668244 -0.608733  0.650234 -2.018496   \n",
       "4     -0.992617 -0.121292 -0.620599 -0.668244 -0.608733  0.809133 -2.018496   \n",
       "...         ...       ...       ...       ...       ...       ...       ...   \n",
       "42043 -0.267799 -0.963475 -0.620599 -0.668244 -0.403696  1.003958 -0.138217   \n",
       "42044 -0.391267 -0.920277 -0.620599 -0.668244  0.074724  1.351695 -0.138217   \n",
       "42045 -0.508040 -0.861334 -0.620599 -0.668244  0.348107  1.644624 -0.237179   \n",
       "42046 -0.616120 -0.787652 -0.620599 -0.668244  0.621489  1.719237 -0.237179   \n",
       "42047 -0.713658 -0.700494 -0.620599 -0.668244  1.168255  1.951369 -0.336141   \n",
       "\n",
       "       TARGET  \n",
       "0         0.0  \n",
       "1         0.0  \n",
       "2         0.0  \n",
       "3         0.0  \n",
       "4         0.0  \n",
       "...       ...  \n",
       "42043     0.0  \n",
       "42044     0.0  \n",
       "42045     0.0  \n",
       "42046     0.0  \n",
       "42047     0.0  \n",
       "\n",
       "[42048 rows x 8 columns]"
      ]
     },
     "execution_count": 18,
     "metadata": {},
     "output_type": "execute_result"
    }
   ],
   "source": [
    "tr_df"
   ]
  },
  {
   "cell_type": "code",
   "execution_count": 19,
   "metadata": {},
   "outputs": [
    {
     "data": {
      "text/plain": [
       "Text(0.5, 1.0, 'Time of day signal')"
      ]
     },
     "execution_count": 19,
     "metadata": {},
     "output_type": "execute_result"
    },
    {
     "data": {
      "image/png": "[encoded data removed]",
      "text/plain": [
       "<Figure size 432x288 with 1 Axes>"
      ]
     },
     "metadata": {
      "needs_background": "light"
     },
     "output_type": "display_data"
    }
   ],
   "source": [
    "plt.plot(np.array(tr_df[\"DAY_SIN\"])[:48], label = \"day_sin\")\n",
    "plt.plot(np.array(tr_df[\"DAY_COS\"])[:48], label = \"day_cos\")\n",
    "plt.legend()\n",
    "plt.xlabel('Time [.5Min]')\n",
    "plt.title('Time of day signal')"
   ]
  },
  {
   "cell_type": "code",
   "execution_count": 20,
   "metadata": {},
   "outputs": [
    {
     "data": {
      "text/html": [
       "<div>\n",
       "<style scoped>\n",
       "    .dataframe tbody tr th:only-of-type {\n",
       "        vertical-align: middle;\n",
       "    }\n",
       "\n",
       "    .dataframe tbody tr th {\n",
       "        vertical-align: top;\n",
       "    }\n",
       "\n",
       "    .dataframe thead th {\n",
       "        text-align: right;\n",
       "    }\n",
       "</style>\n",
       "<table border=\"1\" class=\"dataframe\">\n",
       "  <thead>\n",
       "    <tr style=\"text-align: right;\">\n",
       "      <th></th>\n",
       "      <th>DAY_SIN</th>\n",
       "      <th>DAY_COS</th>\n",
       "      <th>DHI</th>\n",
       "      <th>DNI</th>\n",
       "      <th>WS</th>\n",
       "      <th>RH</th>\n",
       "      <th>T</th>\n",
       "      <th>TARGET</th>\n",
       "    </tr>\n",
       "  </thead>\n",
       "  <tbody>\n",
       "    <tr>\n",
       "      <th>count</th>\n",
       "      <td>4.204800e+04</td>\n",
       "      <td>4.204800e+04</td>\n",
       "      <td>4.204800e+04</td>\n",
       "      <td>4.204800e+04</td>\n",
       "      <td>4.204800e+04</td>\n",
       "      <td>4.204800e+04</td>\n",
       "      <td>4.204800e+04</td>\n",
       "      <td>42048.000000</td>\n",
       "    </tr>\n",
       "    <tr>\n",
       "      <th>mean</th>\n",
       "      <td>3.279092e-13</td>\n",
       "      <td>-1.392590e-13</td>\n",
       "      <td>4.461170e-17</td>\n",
       "      <td>-5.542666e-17</td>\n",
       "      <td>-2.500959e-16</td>\n",
       "      <td>2.893001e-16</td>\n",
       "      <td>7.976031e-17</td>\n",
       "      <td>17.757092</td>\n",
       "    </tr>\n",
       "    <tr>\n",
       "      <th>std</th>\n",
       "      <td>7.071152e-01</td>\n",
       "      <td>7.071152e-01</td>\n",
       "      <td>1.000000e+00</td>\n",
       "      <td>1.000000e+00</td>\n",
       "      <td>1.000000e+00</td>\n",
       "      <td>1.000000e+00</td>\n",
       "      <td>1.000000e+00</td>\n",
       "      <td>25.726194</td>\n",
       "    </tr>\n",
       "    <tr>\n",
       "      <th>min</th>\n",
       "      <td>-9.999567e-01</td>\n",
       "      <td>-9.999567e-01</td>\n",
       "      <td>-6.205988e-01</td>\n",
       "      <td>-6.682443e-01</td>\n",
       "      <td>-1.702264e+00</td>\n",
       "      <td>-2.304841e+00</td>\n",
       "      <td>-2.711231e+00</td>\n",
       "      <td>0.000000</td>\n",
       "    </tr>\n",
       "    <tr>\n",
       "      <th>25%</th>\n",
       "      <td>-7.037852e-01</td>\n",
       "      <td>-7.037852e-01</td>\n",
       "      <td>-6.205988e-01</td>\n",
       "      <td>-6.682443e-01</td>\n",
       "      <td>-7.454246e-01</td>\n",
       "      <td>-7.605199e-01</td>\n",
       "      <td>-8.309515e-01</td>\n",
       "      <td>0.000000</td>\n",
       "    </tr>\n",
       "    <tr>\n",
       "      <th>50%</th>\n",
       "      <td>2.563233e-12</td>\n",
       "      <td>2.563233e-12</td>\n",
       "      <td>-6.205988e-01</td>\n",
       "      <td>-6.682443e-01</td>\n",
       "      <td>-1.986590e-01</td>\n",
       "      <td>4.871736e-02</td>\n",
       "      <td>-1.382169e-01</td>\n",
       "      <td>0.000000</td>\n",
       "    </tr>\n",
       "    <tr>\n",
       "      <th>75%</th>\n",
       "      <td>7.037852e-01</td>\n",
       "      <td>7.037852e-01</td>\n",
       "      <td>2.179613e-01</td>\n",
       "      <td>6.501994e-01</td>\n",
       "      <td>4.847981e-01</td>\n",
       "      <td>7.211627e-01</td>\n",
       "      <td>7.524418e-01</td>\n",
       "      <td>31.907314</td>\n",
       "    </tr>\n",
       "    <tr>\n",
       "      <th>max</th>\n",
       "      <td>9.999567e-01</td>\n",
       "      <td>9.999567e-01</td>\n",
       "      <td>4.468593e+00</td>\n",
       "      <td>2.353903e+00</td>\n",
       "      <td>6.499220e+00</td>\n",
       "      <td>1.951369e+00</td>\n",
       "      <td>2.632721e+00</td>\n",
       "      <td>99.913939</td>\n",
       "    </tr>\n",
       "  </tbody>\n",
       "</table>\n",
       "</div>"
      ],
      "text/plain": [
       "            DAY_SIN       DAY_COS           DHI           DNI            WS  \\\n",
       "count  4.204800e+04  4.204800e+04  4.204800e+04  4.204800e+04  4.204800e+04   \n",
       "mean   3.279092e-13 -1.392590e-13  4.461170e-17 -5.542666e-17 -2.500959e-16   \n",
       "std    7.071152e-01  7.071152e-01  1.000000e+00  1.000000e+00  1.000000e+00   \n",
       "min   -9.999567e-01 -9.999567e-01 -6.205988e-01 -6.682443e-01 -1.702264e+00   \n",
       "25%   -7.037852e-01 -7.037852e-01 -6.205988e-01 -6.682443e-01 -7.454246e-01   \n",
       "50%    2.563233e-12  2.563233e-12 -6.205988e-01 -6.682443e-01 -1.986590e-01   \n",
       "75%    7.037852e-01  7.037852e-01  2.179613e-01  6.501994e-01  4.847981e-01   \n",
       "max    9.999567e-01  9.999567e-01  4.468593e+00  2.353903e+00  6.499220e+00   \n",
       "\n",
       "                 RH             T        TARGET  \n",
       "count  4.204800e+04  4.204800e+04  42048.000000  \n",
       "mean   2.893001e-16  7.976031e-17     17.757092  \n",
       "std    1.000000e+00  1.000000e+00     25.726194  \n",
       "min   -2.304841e+00 -2.711231e+00      0.000000  \n",
       "25%   -7.605199e-01 -8.309515e-01      0.000000  \n",
       "50%    4.871736e-02 -1.382169e-01      0.000000  \n",
       "75%    7.211627e-01  7.524418e-01     31.907314  \n",
       "max    1.951369e+00  2.632721e+00     99.913939  "
      ]
     },
     "execution_count": 20,
     "metadata": {},
     "output_type": "execute_result"
    }
   ],
   "source": [
    "tr_df.describe()"
   ]
  },
  {
   "cell_type": "code",
   "execution_count": 21,
   "metadata": {},
   "outputs": [
    {
     "data": {
      "text/html": [
       "<div>\n",
       "<style scoped>\n",
       "    .dataframe tbody tr th:only-of-type {\n",
       "        vertical-align: middle;\n",
       "    }\n",
       "\n",
       "    .dataframe tbody tr th {\n",
       "        vertical-align: top;\n",
       "    }\n",
       "\n",
       "    .dataframe thead th {\n",
       "        text-align: right;\n",
       "    }\n",
       "</style>\n",
       "<table border=\"1\" class=\"dataframe\">\n",
       "  <thead>\n",
       "    <tr style=\"text-align: right;\">\n",
       "      <th></th>\n",
       "      <th>DAY_SIN</th>\n",
       "      <th>DAY_COS</th>\n",
       "      <th>DHI</th>\n",
       "      <th>DNI</th>\n",
       "      <th>WS</th>\n",
       "      <th>RH</th>\n",
       "      <th>T</th>\n",
       "      <th>TARGET</th>\n",
       "    </tr>\n",
       "  </thead>\n",
       "  <tbody>\n",
       "    <tr>\n",
       "      <th>count</th>\n",
       "      <td>1.051200e+04</td>\n",
       "      <td>1.051200e+04</td>\n",
       "      <td>10512.000000</td>\n",
       "      <td>10512.000000</td>\n",
       "      <td>10512.000000</td>\n",
       "      <td>10512.000000</td>\n",
       "      <td>10512.000000</td>\n",
       "      <td>10512.000000</td>\n",
       "    </tr>\n",
       "    <tr>\n",
       "      <th>mean</th>\n",
       "      <td>3.279124e-13</td>\n",
       "      <td>-1.392591e-13</td>\n",
       "      <td>-0.002051</td>\n",
       "      <td>0.009001</td>\n",
       "      <td>-0.118357</td>\n",
       "      <td>-0.193249</td>\n",
       "      <td>0.437047</td>\n",
       "      <td>17.924783</td>\n",
       "    </tr>\n",
       "    <tr>\n",
       "      <th>std</th>\n",
       "      <td>7.071404e-01</td>\n",
       "      <td>7.071404e-01</td>\n",
       "      <td>1.007151</td>\n",
       "      <td>0.989575</td>\n",
       "      <td>0.862562</td>\n",
       "      <td>1.062334</td>\n",
       "      <td>0.960019</td>\n",
       "      <td>25.895349</td>\n",
       "    </tr>\n",
       "    <tr>\n",
       "      <th>min</th>\n",
       "      <td>-9.999567e-01</td>\n",
       "      <td>-9.999567e-01</td>\n",
       "      <td>-0.620599</td>\n",
       "      <td>-0.668244</td>\n",
       "      <td>-1.702264</td>\n",
       "      <td>-2.254638</td>\n",
       "      <td>-1.919534</td>\n",
       "      <td>0.000000</td>\n",
       "    </tr>\n",
       "    <tr>\n",
       "      <th>25%</th>\n",
       "      <td>-7.037852e-01</td>\n",
       "      <td>-7.037852e-01</td>\n",
       "      <td>-0.620599</td>\n",
       "      <td>-0.668244</td>\n",
       "      <td>-0.745425</td>\n",
       "      <td>-1.066805</td>\n",
       "      <td>-0.336141</td>\n",
       "      <td>0.000000</td>\n",
       "    </tr>\n",
       "    <tr>\n",
       "      <th>50%</th>\n",
       "      <td>2.563233e-12</td>\n",
       "      <td>2.563233e-12</td>\n",
       "      <td>-0.620599</td>\n",
       "      <td>-0.668244</td>\n",
       "      <td>-0.267005</td>\n",
       "      <td>-0.238223</td>\n",
       "      <td>0.455556</td>\n",
       "      <td>0.000000</td>\n",
       "    </tr>\n",
       "    <tr>\n",
       "      <th>75%</th>\n",
       "      <td>7.037852e-01</td>\n",
       "      <td>7.037852e-01</td>\n",
       "      <td>0.227600</td>\n",
       "      <td>0.744374</td>\n",
       "      <td>0.416452</td>\n",
       "      <td>0.568941</td>\n",
       "      <td>1.148290</td>\n",
       "      <td>32.659510</td>\n",
       "    </tr>\n",
       "    <tr>\n",
       "      <th>max</th>\n",
       "      <td>9.999567e-01</td>\n",
       "      <td>9.999567e-01</td>\n",
       "      <td>4.420400</td>\n",
       "      <td>2.251167</td>\n",
       "      <td>3.902083</td>\n",
       "      <td>1.951369</td>\n",
       "      <td>2.632721</td>\n",
       "      <td>99.453605</td>\n",
       "    </tr>\n",
       "  </tbody>\n",
       "</table>\n",
       "</div>"
      ],
      "text/plain": [
       "            DAY_SIN       DAY_COS           DHI           DNI            WS  \\\n",
       "count  1.051200e+04  1.051200e+04  10512.000000  10512.000000  10512.000000   \n",
       "mean   3.279124e-13 -1.392591e-13     -0.002051      0.009001     -0.118357   \n",
       "std    7.071404e-01  7.071404e-01      1.007151      0.989575      0.862562   \n",
       "min   -9.999567e-01 -9.999567e-01     -0.620599     -0.668244     -1.702264   \n",
       "25%   -7.037852e-01 -7.037852e-01     -0.620599     -0.668244     -0.745425   \n",
       "50%    2.563233e-12  2.563233e-12     -0.620599     -0.668244     -0.267005   \n",
       "75%    7.037852e-01  7.037852e-01      0.227600      0.744374      0.416452   \n",
       "max    9.999567e-01  9.999567e-01      4.420400      2.251167      3.902083   \n",
       "\n",
       "                 RH             T        TARGET  \n",
       "count  10512.000000  10512.000000  10512.000000  \n",
       "mean      -0.193249      0.437047     17.924783  \n",
       "std        1.062334      0.960019     25.895349  \n",
       "min       -2.254638     -1.919534      0.000000  \n",
       "25%       -1.066805     -0.336141      0.000000  \n",
       "50%       -0.238223      0.455556      0.000000  \n",
       "75%        0.568941      1.148290     32.659510  \n",
       "max        1.951369      2.632721     99.453605  "
      ]
     },
     "execution_count": 21,
     "metadata": {},
     "output_type": "execute_result"
    }
   ],
   "source": [
    "vl_df.describe()"
   ]
  },
  {
   "cell_type": "markdown",
   "metadata": {},
   "source": [
    "## **Test**"
   ]
  },
  {
   "cell_type": "code",
   "execution_count": 22,
   "metadata": {},
   "outputs": [],
   "source": [
    "ts_filenames = [os.path.join(os.environ[\"LOCAL_DATA_PATH\"], \"test\", f\"{i}.csv\") for i in range(args[\"NUM_TEST_CSV\"])]\n",
    "ts_dfs = [preprocessing(pd.read_csv(ts_filename), is_training = False) for ts_filename in ts_filenames]\n",
    "ts_df = pd.concat(ts_dfs)"
   ]
  },
  {
   "cell_type": "code",
   "execution_count": 23,
   "metadata": {},
   "outputs": [
    {
     "data": {
      "text/html": [
       "<div>\n",
       "<style scoped>\n",
       "    .dataframe tbody tr th:only-of-type {\n",
       "        vertical-align: middle;\n",
       "    }\n",
       "\n",
       "    .dataframe tbody tr th {\n",
       "        vertical-align: top;\n",
       "    }\n",
       "\n",
       "    .dataframe thead th {\n",
       "        text-align: right;\n",
       "    }\n",
       "</style>\n",
       "<table border=\"1\" class=\"dataframe\">\n",
       "  <thead>\n",
       "    <tr style=\"text-align: right;\">\n",
       "      <th></th>\n",
       "      <th>DAY_SIN</th>\n",
       "      <th>DAY_COS</th>\n",
       "      <th>DHI</th>\n",
       "      <th>DNI</th>\n",
       "      <th>WS</th>\n",
       "      <th>RH</th>\n",
       "      <th>T</th>\n",
       "      <th>TARGET</th>\n",
       "    </tr>\n",
       "  </thead>\n",
       "  <tbody>\n",
       "    <tr>\n",
       "      <th>0</th>\n",
       "      <td>-0.798985</td>\n",
       "      <td>-0.601350</td>\n",
       "      <td>-0.620599</td>\n",
       "      <td>-0.668244</td>\n",
       "      <td>0.143070</td>\n",
       "      <td>-1.069108</td>\n",
       "      <td>-0.830951</td>\n",
       "      <td>0.0</td>\n",
       "    </tr>\n",
       "    <tr>\n",
       "      <th>1</th>\n",
       "      <td>-0.870642</td>\n",
       "      <td>-0.491917</td>\n",
       "      <td>-0.620599</td>\n",
       "      <td>-0.668244</td>\n",
       "      <td>0.143070</td>\n",
       "      <td>-1.080622</td>\n",
       "      <td>-0.821055</td>\n",
       "      <td>0.0</td>\n",
       "    </tr>\n",
       "    <tr>\n",
       "      <th>2</th>\n",
       "      <td>-0.927402</td>\n",
       "      <td>-0.374067</td>\n",
       "      <td>-0.620599</td>\n",
       "      <td>-0.668244</td>\n",
       "      <td>0.143070</td>\n",
       "      <td>-1.077859</td>\n",
       "      <td>-0.811159</td>\n",
       "      <td>0.0</td>\n",
       "    </tr>\n",
       "    <tr>\n",
       "      <th>3</th>\n",
       "      <td>-0.968293</td>\n",
       "      <td>-0.249817</td>\n",
       "      <td>-0.620599</td>\n",
       "      <td>-0.668244</td>\n",
       "      <td>0.143070</td>\n",
       "      <td>-1.088913</td>\n",
       "      <td>-0.801263</td>\n",
       "      <td>0.0</td>\n",
       "    </tr>\n",
       "    <tr>\n",
       "      <th>4</th>\n",
       "      <td>-0.992617</td>\n",
       "      <td>-0.121292</td>\n",
       "      <td>-0.620599</td>\n",
       "      <td>-0.668244</td>\n",
       "      <td>0.211415</td>\n",
       "      <td>-1.089834</td>\n",
       "      <td>-0.791367</td>\n",
       "      <td>0.0</td>\n",
       "    </tr>\n",
       "  </tbody>\n",
       "</table>\n",
       "</div>"
      ],
      "text/plain": [
       "    DAY_SIN   DAY_COS       DHI       DNI        WS        RH         T  \\\n",
       "0 -0.798985 -0.601350 -0.620599 -0.668244  0.143070 -1.069108 -0.830951   \n",
       "1 -0.870642 -0.491917 -0.620599 -0.668244  0.143070 -1.080622 -0.821055   \n",
       "2 -0.927402 -0.374067 -0.620599 -0.668244  0.143070 -1.077859 -0.811159   \n",
       "3 -0.968293 -0.249817 -0.620599 -0.668244  0.143070 -1.088913 -0.801263   \n",
       "4 -0.992617 -0.121292 -0.620599 -0.668244  0.211415 -1.089834 -0.791367   \n",
       "\n",
       "   TARGET  \n",
       "0     0.0  \n",
       "1     0.0  \n",
       "2     0.0  \n",
       "3     0.0  \n",
       "4     0.0  "
      ]
     },
     "execution_count": 23,
     "metadata": {},
     "output_type": "execute_result"
    }
   ],
   "source": [
    "ts_df.head()"
   ]
  },
  {
   "cell_type": "code",
   "execution_count": 24,
   "metadata": {},
   "outputs": [
    {
     "data": {
      "text/html": [
       "<div>\n",
       "<style scoped>\n",
       "    .dataframe tbody tr th:only-of-type {\n",
       "        vertical-align: middle;\n",
       "    }\n",
       "\n",
       "    .dataframe tbody tr th {\n",
       "        vertical-align: top;\n",
       "    }\n",
       "\n",
       "    .dataframe thead th {\n",
       "        text-align: right;\n",
       "    }\n",
       "</style>\n",
       "<table border=\"1\" class=\"dataframe\">\n",
       "  <thead>\n",
       "    <tr style=\"text-align: right;\">\n",
       "      <th></th>\n",
       "      <th>DAY_SIN</th>\n",
       "      <th>DAY_COS</th>\n",
       "      <th>DHI</th>\n",
       "      <th>DNI</th>\n",
       "      <th>WS</th>\n",
       "      <th>RH</th>\n",
       "      <th>T</th>\n",
       "      <th>TARGET</th>\n",
       "    </tr>\n",
       "  </thead>\n",
       "  <tbody>\n",
       "    <tr>\n",
       "      <th>count</th>\n",
       "      <td>2.721600e+04</td>\n",
       "      <td>2.721600e+04</td>\n",
       "      <td>27216.000000</td>\n",
       "      <td>27216.000000</td>\n",
       "      <td>27216.000000</td>\n",
       "      <td>27216.000000</td>\n",
       "      <td>27216.000000</td>\n",
       "      <td>27216.000000</td>\n",
       "    </tr>\n",
       "    <tr>\n",
       "      <th>mean</th>\n",
       "      <td>3.279091e-13</td>\n",
       "      <td>-1.392587e-13</td>\n",
       "      <td>-0.051219</td>\n",
       "      <td>0.048407</td>\n",
       "      <td>-0.149449</td>\n",
       "      <td>-0.517592</td>\n",
       "      <td>0.133563</td>\n",
       "      <td>18.235096</td>\n",
       "    </tr>\n",
       "    <tr>\n",
       "      <th>std</th>\n",
       "      <td>7.071198e-01</td>\n",
       "      <td>7.071198e-01</td>\n",
       "      <td>0.882946</td>\n",
       "      <td>1.022026</td>\n",
       "      <td>0.869087</td>\n",
       "      <td>0.883242</td>\n",
       "      <td>1.116901</td>\n",
       "      <td>26.115609</td>\n",
       "    </tr>\n",
       "    <tr>\n",
       "      <th>min</th>\n",
       "      <td>-9.999567e-01</td>\n",
       "      <td>-9.999567e-01</td>\n",
       "      <td>-0.620599</td>\n",
       "      <td>-0.668244</td>\n",
       "      <td>-1.633919</td>\n",
       "      <td>-2.428276</td>\n",
       "      <td>-2.384656</td>\n",
       "      <td>0.000000</td>\n",
       "    </tr>\n",
       "    <tr>\n",
       "      <th>25%</th>\n",
       "      <td>-7.037852e-01</td>\n",
       "      <td>-7.037852e-01</td>\n",
       "      <td>-0.620599</td>\n",
       "      <td>-0.668244</td>\n",
       "      <td>-0.813770</td>\n",
       "      <td>-1.223056</td>\n",
       "      <td>-0.791367</td>\n",
       "      <td>0.000000</td>\n",
       "    </tr>\n",
       "    <tr>\n",
       "      <th>50%</th>\n",
       "      <td>2.563233e-12</td>\n",
       "      <td>2.563233e-12</td>\n",
       "      <td>-0.562767</td>\n",
       "      <td>-0.668244</td>\n",
       "      <td>-0.335350</td>\n",
       "      <td>-0.497529</td>\n",
       "      <td>0.030019</td>\n",
       "      <td>0.563069</td>\n",
       "    </tr>\n",
       "    <tr>\n",
       "      <th>75%</th>\n",
       "      <td>7.037852e-01</td>\n",
       "      <td>7.037852e-01</td>\n",
       "      <td>0.179407</td>\n",
       "      <td>0.775765</td>\n",
       "      <td>0.279761</td>\n",
       "      <td>0.149584</td>\n",
       "      <td>0.980055</td>\n",
       "      <td>32.557286</td>\n",
       "    </tr>\n",
       "    <tr>\n",
       "      <th>max</th>\n",
       "      <td>9.999567e-01</td>\n",
       "      <td>9.999567e-01</td>\n",
       "      <td>4.266182</td>\n",
       "      <td>2.410978</td>\n",
       "      <td>5.815763</td>\n",
       "      <td>1.609159</td>\n",
       "      <td>2.800957</td>\n",
       "      <td>99.450872</td>\n",
       "    </tr>\n",
       "  </tbody>\n",
       "</table>\n",
       "</div>"
      ],
      "text/plain": [
       "            DAY_SIN       DAY_COS           DHI           DNI            WS  \\\n",
       "count  2.721600e+04  2.721600e+04  27216.000000  27216.000000  27216.000000   \n",
       "mean   3.279091e-13 -1.392587e-13     -0.051219      0.048407     -0.149449   \n",
       "std    7.071198e-01  7.071198e-01      0.882946      1.022026      0.869087   \n",
       "min   -9.999567e-01 -9.999567e-01     -0.620599     -0.668244     -1.633919   \n",
       "25%   -7.037852e-01 -7.037852e-01     -0.620599     -0.668244     -0.813770   \n",
       "50%    2.563233e-12  2.563233e-12     -0.562767     -0.668244     -0.335350   \n",
       "75%    7.037852e-01  7.037852e-01      0.179407      0.775765      0.279761   \n",
       "max    9.999567e-01  9.999567e-01      4.266182      2.410978      5.815763   \n",
       "\n",
       "                 RH             T        TARGET  \n",
       "count  27216.000000  27216.000000  27216.000000  \n",
       "mean      -0.517592      0.133563     18.235096  \n",
       "std        0.883242      1.116901     26.115609  \n",
       "min       -2.428276     -2.384656      0.000000  \n",
       "25%       -1.223056     -0.791367      0.000000  \n",
       "50%       -0.497529      0.030019      0.563069  \n",
       "75%        0.149584      0.980055     32.557286  \n",
       "max        1.609159      2.800957     99.450872  "
      ]
     },
     "execution_count": 24,
     "metadata": {},
     "output_type": "execute_result"
    }
   ],
   "source": [
    "ts_df.describe()"
   ]
  },
  {
   "cell_type": "markdown",
   "metadata": {},
   "source": [
    "# **Phase \\#1: Target Predict Model**"
   ]
  },
  {
   "cell_type": "markdown",
   "metadata": {},
   "source": [
    "## **Make Dataset Pipelines**"
   ]
  },
  {
   "cell_type": "code",
   "execution_count": 25,
   "metadata": {},
   "outputs": [],
   "source": [
    "@tf.function\n",
    "def _split_window(features):\n",
    "    return tf.split(features, [-1, 1], axis = 0)"
   ]
  },
  {
   "cell_type": "code",
   "execution_count": 26,
   "metadata": {},
   "outputs": [
    {
     "name": "stdout",
     "output_type": "stream",
     "text": [
      "tr_dataset: (TensorSpec(shape=(None, 7), dtype=tf.float32, name=None), TensorSpec(shape=(None, 1), dtype=tf.float32, name=None))\n",
      "vl_dataset: (TensorSpec(shape=(None, 7), dtype=tf.float32, name=None), TensorSpec(shape=(None, 1), dtype=tf.float32, name=None))\n",
      "ts_dataset: (TensorSpec(shape=(None, 7), dtype=tf.float32, name=None), TensorSpec(shape=(None, 1), dtype=tf.float32, name=None))\n"
     ]
    }
   ],
   "source": [
    "tr_tensor = tf.constant(tr_df, dtype = tf.float32)\n",
    "vl_tensor = tf.constant(vl_df, dtype = tf.float32)\n",
    "ts_tensor = tf.constant(ts_df, dtype = tf.float32)\n",
    "\n",
    "tr_dataset = tf.data.Dataset.from_tensor_slices(tr_tensor\n",
    "                    ).map(_split_window, num_parallel_calls = args[\"AUTO\"]\n",
    "                    ).batch(args[\"GLOBAL_BATCH_SIZE\"]\n",
    "                    ).cache(\n",
    "                    ).prefetch(args[\"AUTO\"])\n",
    "\n",
    "vl_dataset = tf.data.Dataset.from_tensor_slices(vl_tensor\n",
    "                    ).map(_split_window, num_parallel_calls = args[\"AUTO\"]\n",
    "                    ).batch(args[\"GLOBAL_BATCH_SIZE\"]\n",
    "                    ).cache(\n",
    "                    ).prefetch(args[\"AUTO\"])\n",
    "\n",
    "ts_dataset = tf.data.Dataset.from_tensor_slices(ts_tensor\n",
    "                    ).map(_split_window, num_parallel_calls = args[\"AUTO\"]\n",
    "                    ).batch(args[\"GLOBAL_BATCH_SIZE\"]\n",
    "#                     ).cache(\n",
    "                    ).prefetch(args[\"AUTO\"])\n",
    "\n",
    "# Print the shapes\n",
    "print(f\"tr_dataset: {tr_dataset.element_spec}\")\n",
    "print(f\"vl_dataset: {vl_dataset.element_spec}\")\n",
    "print(f\"ts_dataset: {ts_dataset.element_spec}\")"
   ]
  },
  {
   "cell_type": "markdown",
   "metadata": {},
   "source": [
    "### **Take Samples**"
   ]
  },
  {
   "cell_type": "code",
   "execution_count": 27,
   "metadata": {},
   "outputs": [
    {
     "name": "stdout",
     "output_type": "stream",
     "text": [
      "(128, 7) (128, 1)\n"
     ]
    }
   ],
   "source": [
    "for element in tr_dataset.take(1):\n",
    "    foo, bar = element\n",
    "    print(foo.shape, bar.shape)"
   ]
  },
  {
   "cell_type": "code",
   "execution_count": 28,
   "metadata": {},
   "outputs": [
    {
     "name": "stdout",
     "output_type": "stream",
     "text": [
      "(128, 7) (128, 1)\n"
     ]
    }
   ],
   "source": [
    "for element in vl_dataset.take(1):\n",
    "    foo, bar = element\n",
    "    print(foo.shape, bar.shape)"
   ]
  },
  {
   "cell_type": "code",
   "execution_count": 29,
   "metadata": {},
   "outputs": [
    {
     "name": "stdout",
     "output_type": "stream",
     "text": [
      "(128, 7) (128, 1)\n"
     ]
    }
   ],
   "source": [
    "for element in ts_dataset.take(1):\n",
    "    foo, bar = element\n",
    "    print(foo.shape, bar.shape)"
   ]
  },
  {
   "cell_type": "markdown",
   "metadata": {},
   "source": [
    "## **Create Network**\n",
    "\n",
    "```\n",
    "\"\"\"Pytorch Style\"\"\"\n",
    "class TARGET_MODEL(tf.keras.Model):\n",
    "    def __init__(self, units, name):\n",
    "        super(TARGET_MODEL, self).__init__(name = name)\n",
    "        self.units = units\n",
    "        \n",
    "        self.dense1 = tf.keras.layers.Dense(units = self.units, activation = \"relu\")\n",
    "        self.dense2 = tf.keras.layers.Dense(units = self.units, activation = \"relu\")\n",
    "        self.dense3 = tf.keras.layers.Dense(units = 1)\n",
    "        \n",
    "    def call(self, inputs):\n",
    "        x = self.dense1(inputs)\n",
    "        x = self.dense2(x)\n",
    "        x = self.dense3(x)\n",
    "        \n",
    "        return x            \n",
    "```"
   ]
  },
  {
   "cell_type": "code",
   "execution_count": 30,
   "metadata": {},
   "outputs": [],
   "source": [
    "def TARGET_MODEL(model_name, units = 64):\n",
    "    model_input = tf.keras.layers.Input(shape = [7, ], dtype = tf.float32)\n",
    "    \n",
    "    x = tf.keras.layers.Dense(units = units, activation = \"relu\")(model_input)\n",
    "    x = tf.keras.layers.Dense(units = units, activation = \"relu\")(x)    \n",
    "    model_output = tf.keras.layers.Dense(1)(x)\n",
    "    \n",
    "    return tf.keras.Model(\n",
    "        inputs = model_input,\n",
    "        outputs = model_output,\n",
    "        name = model_name)"
   ]
  },
  {
   "cell_type": "code",
   "execution_count": 31,
   "metadata": {},
   "outputs": [
    {
     "name": "stdout",
     "output_type": "stream",
     "text": [
      "Model: \"tmp\"\n",
      "_________________________________________________________________\n",
      "Layer (type)                 Output Shape              Param #   \n",
      "=================================================================\n",
      "input_1 (InputLayer)         [(None, 7)]               0         \n",
      "_________________________________________________________________\n",
      "dense (Dense)                (None, 64)                512       \n",
      "_________________________________________________________________\n",
      "dense_1 (Dense)              (None, 64)                4160      \n",
      "_________________________________________________________________\n",
      "dense_2 (Dense)              (None, 1)                 65        \n",
      "=================================================================\n",
      "Total params: 4,737\n",
      "Trainable params: 4,737\n",
      "Non-trainable params: 0\n",
      "_________________________________________________________________\n"
     ]
    }
   ],
   "source": [
    "tmp = TARGET_MODEL(\"tmp\")\n",
    "tmp.summary()"
   ]
  },
  {
   "cell_type": "code",
   "execution_count": 104,
   "metadata": {},
   "outputs": [],
   "source": [
    "# tf.keras.utils.plot_model(tmp)"
   ]
  },
  {
   "cell_type": "code",
   "execution_count": 32,
   "metadata": {},
   "outputs": [],
   "source": [
    "del tmp"
   ]
  },
  {
   "cell_type": "markdown",
   "metadata": {},
   "source": [
    "## **Compile and Fit**"
   ]
  },
  {
   "cell_type": "code",
   "execution_count": 33,
   "metadata": {},
   "outputs": [],
   "source": [
    "target_model = TARGET_MODEL(\n",
    "    model_name = \"target_model\",\n",
    "    units = 64)\n",
    "\n",
    "target_model.compile(\n",
    "    loss = tf.keras.losses.MAE,\n",
    "    optimizer = tf.keras.optimizers.Adam())"
   ]
  },
  {
   "cell_type": "code",
   "execution_count": 34,
   "metadata": {},
   "outputs": [],
   "source": [
    "# TensorBoard callback.\n",
    "log_dir = os.path.join(\n",
    "    \"logs\", \"fit\", os.environ[\"NOTEBOOKNAME\"], \n",
    "    datetime.datetime.now().strftime(f\"{target_model.name}-%Y%m%d-%H%M%S\"))\n",
    "tb_callback = tf.keras.callbacks.TensorBoard(log_dir = log_dir, histogram_freq = 1)\n",
    "\n",
    "history = target_model.fit(\n",
    "    tr_dataset,\n",
    "    validation_data = vl_dataset,\n",
    "    epochs = 500,\n",
    "    verbose = 0,\n",
    "    callbacks = [tb_callback])"
   ]
  },
  {
   "cell_type": "code",
   "execution_count": 35,
   "metadata": {},
   "outputs": [],
   "source": [
    "def draw_history(history):\n",
    "    \n",
    "    plt.figure(figsize = (7, 5), facecolor = \"white\", dpi = 80)\n",
    "    \n",
    "    plt.plot(history.epoch, history.history[\"loss\"], color = \"tomato\", label = \"loss\", alpha = .8)\n",
    "    plt.plot(history.epoch, history.history[\"val_loss\"], color = \"navy\", label = \"val_loss\", alpha = .8)\n",
    "    \n",
    "#     plt.ylim(ylim)\n",
    "    plt.xlabel(\"epoch\")\n",
    "    plt.ylabel(\"loss (MAE)\")\n",
    "    \n",
    "    plt.grid(True)\n",
    "    plt.tight_layout()\n",
    "    plt.show()"
   ]
  },
  {
   "cell_type": "code",
   "execution_count": 36,
   "metadata": {},
   "outputs": [
    {
     "data": {
      "image/png": "[encoded data removed]",
      "text/plain": [
       "<Figure size 560x400 with 1 Axes>"
      ]
     },
     "metadata": {},
     "output_type": "display_data"
    }
   ],
   "source": [
    "draw_history(history)"
   ]
  },
  {
   "cell_type": "code",
   "execution_count": 36,
   "metadata": {},
   "outputs": [],
   "source": [
    "# %tensorboard --logdir logs/fit --host jupyter-server"
   ]
  },
  {
   "cell_type": "markdown",
   "metadata": {},
   "source": [
    "## **Predict**"
   ]
  },
  {
   "cell_type": "code",
   "execution_count": 37,
   "metadata": {},
   "outputs": [
    {
     "name": "stdout",
     "output_type": "stream",
     "text": [
      "213/213 [==============================] - 0s 825us/step - loss: 1.0400\n"
     ]
    },
    {
     "data": {
      "text/plain": [
       "1.039954662322998"
      ]
     },
     "execution_count": 37,
     "metadata": {},
     "output_type": "execute_result"
    }
   ],
   "source": [
    "target_model.evaluate(ts_dataset, verbose = 1)"
   ]
  },
  {
   "cell_type": "markdown",
   "metadata": {},
   "source": [
    "# **Phase \\#2: AT Model**"
   ]
  },
  {
   "cell_type": "markdown",
   "metadata": {},
   "source": [
    "## **Make Dataset Pipelines**"
   ]
  },
  {
   "cell_type": "code",
   "execution_count": 38,
   "metadata": {},
   "outputs": [],
   "source": [
    "@tf.function\n",
    "def _flat_fn_tr(x):\n",
    "    return x.batch(args[\"WINDOW_INP\"] + args[\"WINDOW_TAR\"])\n",
    "\n",
    "\n",
    "@tf.function\n",
    "def _flat_fn_ts(x):\n",
    "    return x.batch(args[\"WINDOW_INP\"])\n",
    "\n",
    "\n",
    "@tf.function\n",
    "def _split_window_tr(features):\n",
    "    inp, tar = tf.split(features, [args[\"WINDOW_INP\"], args[\"WINDOW_TAR\"]], axis = 0)\n",
    "    return inp[..., :-1], tar[..., -1:] # inp: (batch, 336, 7), tar: (batch, 96, 1)\n",
    "\n",
    "\n",
    "@tf.function\n",
    "def _split_window_ts(features):\n",
    "    return features[..., :-1] # (batch, 336, 7)"
   ]
  },
  {
   "cell_type": "code",
   "execution_count": 39,
   "metadata": {},
   "outputs": [
    {
     "name": "stdout",
     "output_type": "stream",
     "text": [
      "tr_dataset: (TensorSpec(shape=(None, 336, 7), dtype=tf.float32, name=None), TensorSpec(shape=(None, 96, 1), dtype=tf.float32, name=None))\n",
      "vl_dataset: (TensorSpec(shape=(None, 336, 7), dtype=tf.float32, name=None), TensorSpec(shape=(None, 96, 1), dtype=tf.float32, name=None))\n",
      "ts_dataset: TensorSpec(shape=(None, None, 7), dtype=tf.float32, name=None)\n"
     ]
    }
   ],
   "source": [
    "tr_tensor = tf.constant(tr_df, dtype = tf.float32)\n",
    "vl_tensor = tf.constant(vl_df, dtype = tf.float32)\n",
    "ts_tensor = tf.constant(ts_df, dtype = tf.float32)\n",
    "\n",
    "tr_dataset = tf.data.Dataset.from_tensor_slices(tr_tensor\n",
    "                    ).window(args[\"WINDOW_INP\"] + args[\"WINDOW_TAR\"], args[\"WINDOW_SHIFT\"], args[\"WINDOW_STRIDE\"], args[\"WINDOW_DR\"]).flat_map(_flat_fn_tr\n",
    "                    ).map(_split_window_tr, num_parallel_calls = args[\"AUTO\"]\n",
    "                    ).batch(args[\"GLOBAL_BATCH_SIZE\"]\n",
    "                    ).cache(\n",
    "                    ).prefetch(args[\"AUTO\"])\n",
    "\n",
    "vl_dataset = tf.data.Dataset.from_tensor_slices(vl_tensor\n",
    "                    ).window(args[\"WINDOW_INP\"] + args[\"WINDOW_TAR\"], args[\"WINDOW_SHIFT\"], args[\"WINDOW_STRIDE\"], args[\"WINDOW_DR\"]).flat_map(_flat_fn_tr\n",
    "                    ).map(_split_window_tr, num_parallel_calls = args[\"AUTO\"]\n",
    "                    ).batch(args[\"GLOBAL_BATCH_SIZE\"]\n",
    "                    ).cache(\n",
    "                    ).prefetch(args[\"AUTO\"])\n",
    "\n",
    "ts_dataset = tf.data.Dataset.from_tensor_slices(ts_tensor\n",
    "                    ).window(args[\"WINDOW_INP\"], args[\"WINDOW_INP\"], args[\"WINDOW_STRIDE\"], args[\"WINDOW_DR\"]).flat_map(_flat_fn_ts\n",
    "                    ).map(_split_window_ts, num_parallel_calls = args[\"AUTO\"]\n",
    "                    ).batch(args[\"NUM_TEST_CSV\"] # Not args[\"GLOBAL_BATCH_SIZE\"]\n",
    "#                     ).cache(\n",
    "                    ).prefetch(args[\"AUTO\"])\n",
    "\n",
    "# Print the shapes\n",
    "print(f\"tr_dataset: {tr_dataset.element_spec}\")\n",
    "print(f\"vl_dataset: {vl_dataset.element_spec}\")\n",
    "print(f\"ts_dataset: {ts_dataset.element_spec}\")"
   ]
  },
  {
   "cell_type": "markdown",
   "metadata": {},
   "source": [
    "### **Take Samples**"
   ]
  },
  {
   "cell_type": "code",
   "execution_count": 117,
   "metadata": {},
   "outputs": [
    {
     "name": "stdout",
     "output_type": "stream",
     "text": [
      "(128, 336, 7) (128, 96, 1)\n"
     ]
    }
   ],
   "source": [
    "for element in tr_dataset.take(1):\n",
    "    foo, bar = element\n",
    "    print(foo.shape, bar.shape)"
   ]
  },
  {
   "cell_type": "code",
   "execution_count": 118,
   "metadata": {},
   "outputs": [
    {
     "name": "stdout",
     "output_type": "stream",
     "text": [
      "(128, 336, 7) (128, 96, 1)\n"
     ]
    }
   ],
   "source": [
    "for element in vl_dataset.take(1):\n",
    "    foo, bar = element\n",
    "    print(foo.shape, bar.shape)"
   ]
  },
  {
   "cell_type": "code",
   "execution_count": 119,
   "metadata": {},
   "outputs": [
    {
     "name": "stdout",
     "output_type": "stream",
     "text": [
      "(81, 336, 7)\n"
     ]
    }
   ],
   "source": [
    "for element in ts_dataset.take(1):\n",
    "    foo = element\n",
    "    print(foo.shape)"
   ]
  },
  {
   "cell_type": "markdown",
   "metadata": {},
   "source": [
    "## **Create Network**"
   ]
  },
  {
   "cell_type": "code",
   "execution_count": 92,
   "metadata": {},
   "outputs": [],
   "source": [
    "class AR_LSTM(tf.keras.Model):\n",
    "    def __init__(self, target_model, units, out_steps, name):\n",
    "        super(AR_LSTM, self).__init__(name = name)\n",
    "        self.target_model = target_model # [batch, 7] -> [batch, 1]\n",
    "        self.units = units\n",
    "        self.out_steps = out_steps\n",
    "        self.num_features = args[\"NUM_FEATURES\"]\n",
    "        \n",
    "        self.lstm_cell1 = tf.keras.layers.LSTMCell(self.units)\n",
    "        self.lstm_cell2 = tf.keras.layers.LSTMCell(self.units)\n",
    "        \n",
    "        self.lstm_rnn = tf.keras.layers.RNN(\n",
    "            [self.lstm_cell1, self.lstm_cell2], return_state = True)\n",
    "        self.dense = tf.keras.layers.Dense(self.num_features)\n",
    "        \n",
    "    \n",
    "    def warmup(self, inputs):\n",
    "        # [batch, time, features] => [batch, units]\n",
    "        x, *state = self.lstm_rnn(inputs)\n",
    "        # [batch, units] => [batch, num_features]\n",
    "        prediction = self.dense(x)\n",
    "        return prediction, state\n",
    "        \n",
    "        \n",
    "    def call(self, inputs, training = None):\n",
    "        predictions = []\n",
    "        \n",
    "        prediction, state = self.warmup(inputs)\n",
    "        predictions.append(self.target_model(prediction))\n",
    "        \n",
    "        for n in range(1, self.out_steps):\n",
    "            x = tf.expand_dims(prediction, axis = 1)\n",
    "            # [batch, num_features] => [batch, units]\n",
    "            x, *state = self.lstm_rnn(x, initial_state = state, training = training)\n",
    "            # [batch, units] => [batch, num_features]\n",
    "            prediction = self.dense(x)\n",
    "            predictions.append(self.target_model(prediction))\n",
    "            \n",
    "        predictions = tf.stack(predictions, axis = 1)\n",
    "        return predictions"
   ]
  },
  {
   "cell_type": "markdown",
   "metadata": {},
   "source": [
    "## **Compile and Fit**"
   ]
  },
  {
   "cell_type": "code",
   "execution_count": 96,
   "metadata": {},
   "outputs": [],
   "source": [
    "target_model.trainable = False # fix the weights\n",
    "models = []\n",
    "\n",
    "for tau in np.arange(0.1, 1, 0.1):   \n",
    "    model = AR_LSTM(\n",
    "        target_model = target_model,\n",
    "        units = args[\"NUM_UNITS\"],\n",
    "        out_steps = args[\"WINDOW_TAR\"],\n",
    "        name = f\"P{tau:.1f}\")\n",
    "\n",
    "    model.compile(\n",
    "        loss = tfa.losses.PinballLoss(tau = tau),\n",
    "        optimizer = tf.keras.optimizers.Adam(args[\"INIT_LR\"]))\n",
    "    \n",
    "    models.append(model)"
   ]
  },
  {
   "cell_type": "code",
   "execution_count": 97,
   "metadata": {},
   "outputs": [
    {
     "name": "stdout",
     "output_type": "stream",
     "text": [
      "\n",
      "Model P0.1...\n",
      "\n",
      "Epoch 1/10\n",
      "7/7 - 131s - loss: 3.0813 - val_loss: 2.2619\n",
      "Epoch 2/10\n",
      "7/7 - 4s - loss: 2.0740 - val_loss: 1.7888\n",
      "Epoch 3/10\n",
      "7/7 - 4s - loss: 1.8603 - val_loss: 1.7925\n",
      "Epoch 4/10\n",
      "7/7 - 4s - loss: 1.8169 - val_loss: 1.8064\n",
      "Epoch 5/10\n",
      "7/7 - 4s - loss: 1.8171 - val_loss: 1.7714\n",
      "Epoch 6/10\n",
      "7/7 - 4s - loss: 1.8008 - val_loss: 1.7771\n",
      "Epoch 7/10\n",
      "7/7 - 4s - loss: 1.7975 - val_loss: 1.7748\n",
      "Epoch 8/10\n",
      "7/7 - 4s - loss: 1.7950 - val_loss: 1.7740\n",
      "Epoch 9/10\n",
      "7/7 - 4s - loss: 1.7917 - val_loss: 1.7677\n",
      "Epoch 10/10\n",
      "7/7 - 4s - loss: 1.7893 - val_loss: 1.7674\n",
      "\n",
      "Model P0.2...\n",
      "\n",
      "Epoch 1/10\n",
      "7/7 - 125s - loss: 4.6728 - val_loss: 3.7540\n",
      "Epoch 2/10\n",
      "7/7 - 4s - loss: 3.7273 - val_loss: 3.5808\n",
      "Epoch 3/10\n",
      "7/7 - 4s - loss: 3.6299 - val_loss: 3.5538\n",
      "Epoch 4/10\n",
      "7/7 - 4s - loss: 3.6062 - val_loss: 3.5433\n",
      "Epoch 5/10\n",
      "7/7 - 4s - loss: 3.5919 - val_loss: 3.5515\n",
      "Epoch 6/10\n",
      "7/7 - 4s - loss: 3.5880 - val_loss: 3.5413\n",
      "Epoch 7/10\n",
      "7/7 - 4s - loss: 3.5790 - val_loss: 3.5352\n",
      "Epoch 8/10\n",
      "7/7 - 4s - loss: 3.5750 - val_loss: 3.5319\n",
      "Epoch 9/10\n",
      "7/7 - 4s - loss: 3.5748 - val_loss: 3.5428\n",
      "Epoch 10/10\n",
      "7/7 - 4s - loss: 3.5779 - val_loss: 3.5331\n",
      "\n",
      "Model P0.3...\n",
      "\n",
      "Epoch 1/10\n",
      "7/7 - 116s - loss: 6.3017 - val_loss: 5.5794\n",
      "Epoch 2/10\n",
      "7/7 - 4s - loss: 5.5117 - val_loss: 5.3917\n",
      "Epoch 3/10\n",
      "7/7 - 4s - loss: 5.4238 - val_loss: 5.3519\n",
      "Epoch 4/10\n",
      "7/7 - 4s - loss: 5.3953 - val_loss: 5.3235\n",
      "Epoch 5/10\n",
      "7/7 - 4s - loss: 5.3729 - val_loss: 5.3031\n",
      "Epoch 6/10\n",
      "7/7 - 4s - loss: 5.3643 - val_loss: 5.2993\n",
      "Epoch 7/10\n",
      "7/7 - 4s - loss: 5.3615 - val_loss: 5.3008\n",
      "Epoch 8/10\n",
      "7/7 - 4s - loss: 5.3597 - val_loss: 5.2977\n",
      "Epoch 9/10\n",
      "7/7 - 4s - loss: 5.3612 - val_loss: 5.2948\n",
      "Epoch 10/10\n",
      "7/7 - 4s - loss: 5.3643 - val_loss: 5.3022\n",
      "\n",
      "Model P0.4...\n",
      "\n",
      "Epoch 1/10\n",
      "7/7 - 114s - loss: 7.7410 - val_loss: 7.3720\n",
      "Epoch 2/10\n",
      "7/7 - 4s - loss: 7.3476 - val_loss: 7.0621\n",
      "Epoch 3/10\n",
      "7/7 - 4s - loss: 7.1611 - val_loss: 7.0429\n",
      "Epoch 4/10\n",
      "7/7 - 4s - loss: 7.0891 - val_loss: 6.8409\n",
      "Epoch 5/10\n",
      "7/7 - 4s - loss: 6.5188 - val_loss: 5.0447\n",
      "Epoch 6/10\n",
      "7/7 - 4s - loss: 4.8300 - val_loss: 4.5355\n",
      "Epoch 7/10\n",
      "7/7 - 4s - loss: 4.6821 - val_loss: 4.3842\n",
      "Epoch 8/10\n",
      "7/7 - 4s - loss: 4.2854 - val_loss: 4.5542\n",
      "Epoch 9/10\n",
      "7/7 - 4s - loss: 4.1271 - val_loss: 4.0559\n",
      "Epoch 10/10\n",
      "7/7 - 4s - loss: 3.9464 - val_loss: 3.9116\n",
      "\n",
      "Model P0.5...\n",
      "\n",
      "Epoch 1/10\n",
      "7/7 - 116s - loss: 8.9951 - val_loss: 8.7244\n",
      "Epoch 2/10\n",
      "7/7 - 4s - loss: 8.5852 - val_loss: 7.4496\n",
      "Epoch 3/10\n",
      "7/7 - 4s - loss: 6.2568 - val_loss: 5.2928\n",
      "Epoch 4/10\n",
      "7/7 - 4s - loss: 5.1746 - val_loss: 4.5438\n",
      "Epoch 5/10\n",
      "7/7 - 4s - loss: 4.6908 - val_loss: 4.4144\n",
      "Epoch 6/10\n",
      "7/7 - 4s - loss: 4.3849 - val_loss: 4.3774\n",
      "Epoch 7/10\n",
      "7/7 - 4s - loss: 4.2274 - val_loss: 4.1329\n",
      "Epoch 8/10\n",
      "7/7 - 4s - loss: 4.1188 - val_loss: 4.0696\n",
      "Epoch 9/10\n",
      "7/7 - 3s - loss: 4.0643 - val_loss: 4.0276\n",
      "Epoch 10/10\n",
      "7/7 - 4s - loss: 4.0244 - val_loss: 4.1931\n",
      "\n",
      "Model P0.6...\n",
      "\n",
      "Epoch 1/10\n",
      "7/7 - 116s - loss: 10.2530 - val_loss: 9.7899\n",
      "Epoch 2/10\n",
      "7/7 - 4s - loss: 8.9610 - val_loss: 6.5136\n",
      "Epoch 3/10\n",
      "7/7 - 4s - loss: 5.7215 - val_loss: 5.3064\n",
      "Epoch 4/10\n",
      "7/7 - 4s - loss: 4.9554 - val_loss: 4.6591\n",
      "Epoch 5/10\n",
      "7/7 - 4s - loss: 4.6762 - val_loss: 4.6063\n",
      "Epoch 6/10\n",
      "7/7 - 4s - loss: 4.5100 - val_loss: 4.5220\n",
      "Epoch 7/10\n",
      "7/7 - 4s - loss: 4.4142 - val_loss: 4.4545\n",
      "Epoch 8/10\n",
      "7/7 - 4s - loss: 4.2934 - val_loss: 4.3308\n",
      "Epoch 9/10\n",
      "7/7 - 4s - loss: 4.2130 - val_loss: 4.2363\n",
      "Epoch 10/10\n",
      "7/7 - 4s - loss: 4.1307 - val_loss: 4.1196\n",
      "\n",
      "Model P0.7...\n",
      "\n",
      "Epoch 1/10\n",
      "7/7 - 112s - loss: 11.3409 - val_loss: 10.3629\n",
      "Epoch 2/10\n",
      "7/7 - 4s - loss: 8.0937 - val_loss: 5.0942\n",
      "Epoch 3/10\n",
      "7/7 - 4s - loss: 5.3905 - val_loss: 4.7039\n",
      "Epoch 4/10\n",
      "7/7 - 4s - loss: 4.4903 - val_loss: 4.4036\n",
      "Epoch 5/10\n",
      "7/7 - 4s - loss: 4.2730 - val_loss: 4.1815\n",
      "Epoch 6/10\n",
      "7/7 - 4s - loss: 4.1216 - val_loss: 4.1196\n",
      "Epoch 7/10\n",
      "7/7 - 4s - loss: 3.9939 - val_loss: 4.0489\n",
      "Epoch 8/10\n",
      "7/7 - 4s - loss: 3.9068 - val_loss: 4.0139\n",
      "Epoch 9/10\n",
      "7/7 - 4s - loss: 3.8821 - val_loss: 3.9418\n",
      "Epoch 10/10\n",
      "7/7 - 4s - loss: 3.8206 - val_loss: 3.8920\n",
      "\n",
      "Model P0.8...\n",
      "\n",
      "Epoch 1/10\n",
      "7/7 - 117s - loss: 12.5585 - val_loss: 11.6455\n",
      "Epoch 2/10\n",
      "7/7 - 4s - loss: 10.0790 - val_loss: 5.7003\n",
      "Epoch 3/10\n",
      "7/7 - 4s - loss: 4.9516 - val_loss: 5.5370\n",
      "Epoch 4/10\n",
      "7/7 - 4s - loss: 5.1154 - val_loss: 4.2289\n",
      "Epoch 5/10\n",
      "7/7 - 4s - loss: 4.1021 - val_loss: 3.9386\n",
      "Epoch 6/10\n",
      "7/7 - 4s - loss: 4.0417 - val_loss: 3.7964\n",
      "Epoch 7/10\n",
      "7/7 - 4s - loss: 3.7120 - val_loss: 3.6931\n",
      "Epoch 8/10\n",
      "7/7 - 4s - loss: 3.4154 - val_loss: 3.3594\n",
      "Epoch 9/10\n",
      "7/7 - 4s - loss: 3.1403 - val_loss: 3.2106\n",
      "Epoch 10/10\n",
      "7/7 - 4s - loss: 3.0387 - val_loss: 3.1371\n",
      "\n",
      "Model P0.9...\n",
      "\n",
      "Epoch 1/10\n",
      "7/7 - 119s - loss: 13.7081 - val_loss: 12.2364\n",
      "Epoch 2/10\n",
      "7/7 - 4s - loss: 9.7153 - val_loss: 5.8832\n",
      "Epoch 3/10\n",
      "7/7 - 4s - loss: 5.6860 - val_loss: 5.8765\n",
      "Epoch 4/10\n",
      "7/7 - 4s - loss: 5.6436 - val_loss: 5.5722\n",
      "Epoch 5/10\n",
      "7/7 - 4s - loss: 5.5392 - val_loss: 5.5103\n",
      "Epoch 6/10\n",
      "7/7 - 4s - loss: 5.4019 - val_loss: 5.3437\n",
      "Epoch 7/10\n",
      "7/7 - 4s - loss: 5.2720 - val_loss: 5.2526\n",
      "Epoch 8/10\n",
      "7/7 - 4s - loss: 5.1606 - val_loss: 5.1258\n",
      "Epoch 9/10\n",
      "7/7 - 4s - loss: 5.0613 - val_loss: 5.0427\n",
      "Epoch 10/10\n",
      "7/7 - 4s - loss: 4.9812 - val_loss: 4.9761\n"
     ]
    }
   ],
   "source": [
    "for model in models:\n",
    "    # TensorBoard callback.\n",
    "    log_dir = os.path.join(\n",
    "        \"logs\", \"fit\", os.environ[\"NOTEBOOKNAME\"], \n",
    "        datetime.datetime.now().strftime(f\"{model.name}-%Y%m%d-%H%M%S\"))\n",
    "    tb_callback = tf.keras.callbacks.TensorBoard(log_dir = log_dir, histogram_freq = 1)\n",
    "\n",
    "    print(f\"\\nModel {model.name}...\\n\")\n",
    "    \n",
    "    _ = model.fit(\n",
    "        tr_dataset,\n",
    "        validation_data = vl_dataset,\n",
    "        epochs = args[\"EPOCH\"],\n",
    "        verbose = 2,\n",
    "        callbacks = [tb_callback])"
   ]
  },
  {
   "cell_type": "code",
   "execution_count": 98,
   "metadata": {},
   "outputs": [
    {
     "name": "stdout",
     "output_type": "stream",
     "text": [
      "Model: \"P0.1\"\n",
      "_________________________________________________________________\n",
      "Layer (type)                 Output Shape              Param #   \n",
      "=================================================================\n",
      "target_model (Functional)    (None, 1)                 4737      \n",
      "_________________________________________________________________\n",
      "lstm_cell_224 (LSTMCell)     multiple                  18432     \n",
      "_________________________________________________________________\n",
      "lstm_cell_225 (LSTMCell)     multiple                  33024     \n",
      "_________________________________________________________________\n",
      "rnn_85 (RNN)                 multiple                  51456     \n",
      "_________________________________________________________________\n",
      "dense_222 (Dense)            multiple                  455       \n",
      "=================================================================\n",
      "Total params: 56,648\n",
      "Trainable params: 51,911\n",
      "Non-trainable params: 4,737\n",
      "_________________________________________________________________\n"
     ]
    }
   ],
   "source": [
    "models[0].summary()"
   ]
  },
  {
   "cell_type": "code",
   "execution_count": null,
   "metadata": {},
   "outputs": [],
   "source": [
    "%tensorboard --logdir logs/fit --host jupyter-server"
   ]
  },
  {
   "cell_type": "markdown",
   "metadata": {},
   "source": [
    "## **Predict**"
   ]
  },
  {
   "cell_type": "code",
   "execution_count": 99,
   "metadata": {},
   "outputs": [
    {
     "name": "stdout",
     "output_type": "stream",
     "text": [
      "WARNING:tensorflow:5 out of the last 5 calls to <function Model.make_predict_function.<locals>.predict_function at 0x7fb41051f840> triggered tf.function retracing. Tracing is expensive and the excessive number of tracings could be due to (1) creating @tf.function repeatedly in a loop, (2) passing tensors with different shapes, (3) passing Python objects instead of tensors. For (1), please define your @tf.function outside of the loop. For (2), @tf.function has experimental_relax_shapes=True option that relaxes argument shapes that can avoid unnecessary retracing. For (3), please refer to https://www.tensorflow.org/guide/function#controlling_retracing and https://www.tensorflow.org/api_docs/python/tf/function for  more details.\n",
      "WARNING:tensorflow:6 out of the last 6 calls to <function Model.make_predict_function.<locals>.predict_function at 0x7fb405b29a60> triggered tf.function retracing. Tracing is expensive and the excessive number of tracings could be due to (1) creating @tf.function repeatedly in a loop, (2) passing tensors with different shapes, (3) passing Python objects instead of tensors. For (1), please define your @tf.function outside of the loop. For (2), @tf.function has experimental_relax_shapes=True option that relaxes argument shapes that can avoid unnecessary retracing. For (3), please refer to https://www.tensorflow.org/guide/function#controlling_retracing and https://www.tensorflow.org/api_docs/python/tf/function for  more details.\n",
      "WARNING:tensorflow:7 out of the last 7 calls to <function Model.make_predict_function.<locals>.predict_function at 0x7fb41309b950> triggered tf.function retracing. Tracing is expensive and the excessive number of tracings could be due to (1) creating @tf.function repeatedly in a loop, (2) passing tensors with different shapes, (3) passing Python objects instead of tensors. For (1), please define your @tf.function outside of the loop. For (2), @tf.function has experimental_relax_shapes=True option that relaxes argument shapes that can avoid unnecessary retracing. For (3), please refer to https://www.tensorflow.org/guide/function#controlling_retracing and https://www.tensorflow.org/api_docs/python/tf/function for  more details.\n",
      "WARNING:tensorflow:8 out of the last 8 calls to <function Model.make_predict_function.<locals>.predict_function at 0x7fb4844efd90> triggered tf.function retracing. Tracing is expensive and the excessive number of tracings could be due to (1) creating @tf.function repeatedly in a loop, (2) passing tensors with different shapes, (3) passing Python objects instead of tensors. For (1), please define your @tf.function outside of the loop. For (2), @tf.function has experimental_relax_shapes=True option that relaxes argument shapes that can avoid unnecessary retracing. For (3), please refer to https://www.tensorflow.org/guide/function#controlling_retracing and https://www.tensorflow.org/api_docs/python/tf/function for  more details.\n",
      "WARNING:tensorflow:9 out of the last 9 calls to <function Model.make_predict_function.<locals>.predict_function at 0x7fb3f09b09d8> triggered tf.function retracing. Tracing is expensive and the excessive number of tracings could be due to (1) creating @tf.function repeatedly in a loop, (2) passing tensors with different shapes, (3) passing Python objects instead of tensors. For (1), please define your @tf.function outside of the loop. For (2), @tf.function has experimental_relax_shapes=True option that relaxes argument shapes that can avoid unnecessary retracing. For (3), please refer to https://www.tensorflow.org/guide/function#controlling_retracing and https://www.tensorflow.org/api_docs/python/tf/function for  more details.\n"
     ]
    },
    {
     "data": {
      "text/plain": [
       "(81, 96)"
      ]
     },
     "execution_count": 99,
     "metadata": {},
     "output_type": "execute_result"
    }
   ],
   "source": [
    "preds = [np.array(model.predict(ts_dataset))[..., 0] for model in models]\n",
    "preds[0].shape"
   ]
  },
  {
   "cell_type": "code",
   "execution_count": 100,
   "metadata": {},
   "outputs": [
    {
     "data": {
      "text/html": [
       "<div>\n",
       "<style scoped>\n",
       "    .dataframe tbody tr th:only-of-type {\n",
       "        vertical-align: middle;\n",
       "    }\n",
       "\n",
       "    .dataframe tbody tr th {\n",
       "        vertical-align: top;\n",
       "    }\n",
       "\n",
       "    .dataframe thead th {\n",
       "        text-align: right;\n",
       "    }\n",
       "</style>\n",
       "<table border=\"1\" class=\"dataframe\">\n",
       "  <thead>\n",
       "    <tr style=\"text-align: right;\">\n",
       "      <th></th>\n",
       "      <th>q_0.1</th>\n",
       "      <th>q_0.2</th>\n",
       "      <th>q_0.3</th>\n",
       "      <th>q_0.4</th>\n",
       "      <th>q_0.5</th>\n",
       "      <th>q_0.6</th>\n",
       "      <th>q_0.7</th>\n",
       "      <th>q_0.8</th>\n",
       "      <th>q_0.9</th>\n",
       "    </tr>\n",
       "    <tr>\n",
       "      <th>id</th>\n",
       "      <th></th>\n",
       "      <th></th>\n",
       "      <th></th>\n",
       "      <th></th>\n",
       "      <th></th>\n",
       "      <th></th>\n",
       "      <th></th>\n",
       "      <th></th>\n",
       "      <th></th>\n",
       "    </tr>\n",
       "  </thead>\n",
       "  <tbody>\n",
       "    <tr>\n",
       "      <th>0.csv_Day7_0h00m</th>\n",
       "      <td>0.0</td>\n",
       "      <td>0.0</td>\n",
       "      <td>0.0</td>\n",
       "      <td>0.0</td>\n",
       "      <td>0.0</td>\n",
       "      <td>0.0</td>\n",
       "      <td>0.0</td>\n",
       "      <td>0.0</td>\n",
       "      <td>0.0</td>\n",
       "    </tr>\n",
       "    <tr>\n",
       "      <th>0.csv_Day7_0h30m</th>\n",
       "      <td>0.0</td>\n",
       "      <td>0.0</td>\n",
       "      <td>0.0</td>\n",
       "      <td>0.0</td>\n",
       "      <td>0.0</td>\n",
       "      <td>0.0</td>\n",
       "      <td>0.0</td>\n",
       "      <td>0.0</td>\n",
       "      <td>0.0</td>\n",
       "    </tr>\n",
       "    <tr>\n",
       "      <th>0.csv_Day7_1h00m</th>\n",
       "      <td>0.0</td>\n",
       "      <td>0.0</td>\n",
       "      <td>0.0</td>\n",
       "      <td>0.0</td>\n",
       "      <td>0.0</td>\n",
       "      <td>0.0</td>\n",
       "      <td>0.0</td>\n",
       "      <td>0.0</td>\n",
       "      <td>0.0</td>\n",
       "    </tr>\n",
       "    <tr>\n",
       "      <th>0.csv_Day7_1h30m</th>\n",
       "      <td>0.0</td>\n",
       "      <td>0.0</td>\n",
       "      <td>0.0</td>\n",
       "      <td>0.0</td>\n",
       "      <td>0.0</td>\n",
       "      <td>0.0</td>\n",
       "      <td>0.0</td>\n",
       "      <td>0.0</td>\n",
       "      <td>0.0</td>\n",
       "    </tr>\n",
       "    <tr>\n",
       "      <th>0.csv_Day7_2h00m</th>\n",
       "      <td>0.0</td>\n",
       "      <td>0.0</td>\n",
       "      <td>0.0</td>\n",
       "      <td>0.0</td>\n",
       "      <td>0.0</td>\n",
       "      <td>0.0</td>\n",
       "      <td>0.0</td>\n",
       "      <td>0.0</td>\n",
       "      <td>0.0</td>\n",
       "    </tr>\n",
       "  </tbody>\n",
       "</table>\n",
       "</div>"
      ],
      "text/plain": [
       "                  q_0.1  q_0.2  q_0.3  q_0.4  q_0.5  q_0.6  q_0.7  q_0.8  \\\n",
       "id                                                                         \n",
       "0.csv_Day7_0h00m    0.0    0.0    0.0    0.0    0.0    0.0    0.0    0.0   \n",
       "0.csv_Day7_0h30m    0.0    0.0    0.0    0.0    0.0    0.0    0.0    0.0   \n",
       "0.csv_Day7_1h00m    0.0    0.0    0.0    0.0    0.0    0.0    0.0    0.0   \n",
       "0.csv_Day7_1h30m    0.0    0.0    0.0    0.0    0.0    0.0    0.0    0.0   \n",
       "0.csv_Day7_2h00m    0.0    0.0    0.0    0.0    0.0    0.0    0.0    0.0   \n",
       "\n",
       "                  q_0.9  \n",
       "id                       \n",
       "0.csv_Day7_0h00m    0.0  \n",
       "0.csv_Day7_0h30m    0.0  \n",
       "0.csv_Day7_1h00m    0.0  \n",
       "0.csv_Day7_1h30m    0.0  \n",
       "0.csv_Day7_2h00m    0.0  "
      ]
     },
     "execution_count": 100,
     "metadata": {},
     "output_type": "execute_result"
    }
   ],
   "source": [
    "submission = pd.read_csv(os.path.join(os.environ[\"LOCAL_DATA_PATH\"], \"sample_submission.csv\"), index_col = \"id\")\n",
    "submission.head()"
   ]
  },
  {
   "cell_type": "code",
   "execution_count": 101,
   "metadata": {},
   "outputs": [],
   "source": [
    "for column, pred in zip(submission.columns, preds):\n",
    "    foo = np.reshape(pred, (-1,))\n",
    "#     foo = (foo * args[\"TARGET_STD\"]) + args[\"TARGET_STD\"]\n",
    "#     foo = np.where(foo < 0, 0, foo) # clip by value\n",
    "    \n",
    "    submission[column] = foo"
   ]
  },
  {
   "cell_type": "code",
   "execution_count": 102,
   "metadata": {},
   "outputs": [
    {
     "data": {
      "text/html": [
       "<div>\n",
       "<style scoped>\n",
       "    .dataframe tbody tr th:only-of-type {\n",
       "        vertical-align: middle;\n",
       "    }\n",
       "\n",
       "    .dataframe tbody tr th {\n",
       "        vertical-align: top;\n",
       "    }\n",
       "\n",
       "    .dataframe thead th {\n",
       "        text-align: right;\n",
       "    }\n",
       "</style>\n",
       "<table border=\"1\" class=\"dataframe\">\n",
       "  <thead>\n",
       "    <tr style=\"text-align: right;\">\n",
       "      <th></th>\n",
       "      <th>q_0.1</th>\n",
       "      <th>q_0.2</th>\n",
       "      <th>q_0.3</th>\n",
       "      <th>q_0.4</th>\n",
       "      <th>q_0.5</th>\n",
       "      <th>q_0.6</th>\n",
       "      <th>q_0.7</th>\n",
       "      <th>q_0.8</th>\n",
       "      <th>q_0.9</th>\n",
       "    </tr>\n",
       "    <tr>\n",
       "      <th>id</th>\n",
       "      <th></th>\n",
       "      <th></th>\n",
       "      <th></th>\n",
       "      <th></th>\n",
       "      <th></th>\n",
       "      <th></th>\n",
       "      <th></th>\n",
       "      <th></th>\n",
       "      <th></th>\n",
       "    </tr>\n",
       "  </thead>\n",
       "  <tbody>\n",
       "    <tr>\n",
       "      <th>0.csv_Day7_0h00m</th>\n",
       "      <td>-0.348919</td>\n",
       "      <td>0.018412</td>\n",
       "      <td>-0.084171</td>\n",
       "      <td>-0.602522</td>\n",
       "      <td>-0.048268</td>\n",
       "      <td>0.066752</td>\n",
       "      <td>0.135941</td>\n",
       "      <td>0.143757</td>\n",
       "      <td>-0.642786</td>\n",
       "    </tr>\n",
       "    <tr>\n",
       "      <th>0.csv_Day7_0h30m</th>\n",
       "      <td>-0.369164</td>\n",
       "      <td>-0.004599</td>\n",
       "      <td>-0.097885</td>\n",
       "      <td>-0.658689</td>\n",
       "      <td>0.006410</td>\n",
       "      <td>0.018795</td>\n",
       "      <td>-0.010066</td>\n",
       "      <td>-0.035108</td>\n",
       "      <td>-0.676669</td>\n",
       "    </tr>\n",
       "    <tr>\n",
       "      <th>0.csv_Day7_1h00m</th>\n",
       "      <td>-0.370163</td>\n",
       "      <td>-0.027058</td>\n",
       "      <td>-0.086585</td>\n",
       "      <td>-0.714118</td>\n",
       "      <td>0.060982</td>\n",
       "      <td>0.008176</td>\n",
       "      <td>-0.099959</td>\n",
       "      <td>-0.165672</td>\n",
       "      <td>-0.647284</td>\n",
       "    </tr>\n",
       "    <tr>\n",
       "      <th>0.csv_Day7_1h30m</th>\n",
       "      <td>-0.359446</td>\n",
       "      <td>-0.042529</td>\n",
       "      <td>-0.060712</td>\n",
       "      <td>-0.757660</td>\n",
       "      <td>0.110069</td>\n",
       "      <td>0.025001</td>\n",
       "      <td>-0.137612</td>\n",
       "      <td>-0.248239</td>\n",
       "      <td>-0.567264</td>\n",
       "    </tr>\n",
       "    <tr>\n",
       "      <th>0.csv_Day7_2h00m</th>\n",
       "      <td>-0.344425</td>\n",
       "      <td>-0.051488</td>\n",
       "      <td>-0.026872</td>\n",
       "      <td>-0.783200</td>\n",
       "      <td>0.156427</td>\n",
       "      <td>0.062003</td>\n",
       "      <td>-0.125976</td>\n",
       "      <td>-0.223991</td>\n",
       "      <td>-0.438783</td>\n",
       "    </tr>\n",
       "  </tbody>\n",
       "</table>\n",
       "</div>"
      ],
      "text/plain": [
       "                     q_0.1     q_0.2     q_0.3     q_0.4     q_0.5     q_0.6  \\\n",
       "id                                                                             \n",
       "0.csv_Day7_0h00m -0.348919  0.018412 -0.084171 -0.602522 -0.048268  0.066752   \n",
       "0.csv_Day7_0h30m -0.369164 -0.004599 -0.097885 -0.658689  0.006410  0.018795   \n",
       "0.csv_Day7_1h00m -0.370163 -0.027058 -0.086585 -0.714118  0.060982  0.008176   \n",
       "0.csv_Day7_1h30m -0.359446 -0.042529 -0.060712 -0.757660  0.110069  0.025001   \n",
       "0.csv_Day7_2h00m -0.344425 -0.051488 -0.026872 -0.783200  0.156427  0.062003   \n",
       "\n",
       "                     q_0.7     q_0.8     q_0.9  \n",
       "id                                              \n",
       "0.csv_Day7_0h00m  0.135941  0.143757 -0.642786  \n",
       "0.csv_Day7_0h30m -0.010066 -0.035108 -0.676669  \n",
       "0.csv_Day7_1h00m -0.099959 -0.165672 -0.647284  \n",
       "0.csv_Day7_1h30m -0.137612 -0.248239 -0.567264  \n",
       "0.csv_Day7_2h00m -0.125976 -0.223991 -0.438783  "
      ]
     },
     "execution_count": 102,
     "metadata": {},
     "output_type": "execute_result"
    }
   ],
   "source": [
    "submission.head()"
   ]
  },
  {
   "cell_type": "code",
   "execution_count": 103,
   "metadata": {},
   "outputs": [],
   "source": [
    "submission.to_csv(\n",
    "    os.path.join(os.environ[\"SUBMISSION_PATH\"], f\"{os.environ['NOTEBOOKNAME']}_submission.csv\"))"
   ]
  },
  {
   "cell_type": "code",
   "execution_count": null,
   "metadata": {},
   "outputs": [],
   "source": []
  }
 ],
 "metadata": {
  "kernelspec": {
   "display_name": "Python 3",
   "language": "python",
   "name": "python3"
  },
  "language_info": {
   "codemirror_mode": {
    "name": "ipython",
    "version": 3
   },
   "file_extension": ".py",
   "mimetype": "text/x-python",
   "name": "python",
   "nbconvert_exporter": "python",
   "pygments_lexer": "ipython3",
   "version": "3.6.9"
  }
 },
 "nbformat": 4,
 "nbformat_minor": 4
}
