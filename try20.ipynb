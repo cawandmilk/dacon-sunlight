{
 "cells": [
  {
   "cell_type": "markdown",
   "metadata": {},
   "source": [
    "# **Default Setting**\n",
    "\n",
    "* Python: 3.6.9\n",
    "* ML Framework: tf-nightly-gpu 2.5.0-dev20201208\n",
    "* CPU: AMD Ryzen 5 5600X 6-Core Processor\n",
    "* GPU: GeForce RTX 3070 (8G) (CUDA 11.1)\n",
    "* RAM: 32G\n",
    "* Platform: linux 20.04 LTS\n",
    "\n",
    "Install below APIs using anaconda.\n",
    "\n",
    "* conda create -n py36 python=3.6.9\n",
    "* conda acitvate py36\n",
    "* pip3 install tf-nightly-gpu\n",
    "* pip3 install tensorflow-addons\n",
    "* conda install pandas, matplotlib\n",
    "\n",
    "And now, you can run jupyter lab (or jupyter notebook)."
   ]
  },
  {
   "cell_type": "code",
   "execution_count": 1,
   "metadata": {},
   "outputs": [
    {
     "name": "stdout",
     "output_type": "stream",
     "text": [
      "env: NOTEBOOKNAME=try20\n",
      "env: LOCAL_DATA_PATH=data\n",
      "env: SUBMISSION_PATH=submission\n"
     ]
    }
   ],
   "source": [
    "%env NOTEBOOKNAME try20\n",
    "%env LOCAL_DATA_PATH data\n",
    "%env SUBMISSION_PATH submission"
   ]
  },
  {
   "cell_type": "code",
   "execution_count": 2,
   "metadata": {},
   "outputs": [
    {
     "name": "stdout",
     "output_type": "stream",
     "text": [
      "tf.__version__: 2.5.0-dev20201208\n",
      "tfa.__version__: 0.11.2\n"
     ]
    },
    {
     "name": "stderr",
     "output_type": "stream",
     "text": [
      "/home/myunggyo/anaconda3/envs/py36/lib/python3.6/site-packages/tensorflow_addons/utils/ensure_tf_install.py:44: UserWarning: You are currently using a nightly version of TensorFlow (2.5.0-dev20201208). \n",
      "TensorFlow Addons offers no support for the nightly versions of TensorFlow. Some things might work, some other might not. \n",
      "If you encounter a bug, do not file an issue on GitHub.\n",
      "  UserWarning,\n"
     ]
    }
   ],
   "source": [
    "import tensorflow as tf\n",
    "import tensorflow_addons as tfa\n",
    "\n",
    "import datetime\n",
    "import glob\n",
    "import os\n",
    "import platform\n",
    "\n",
    "import numpy as np\n",
    "import pandas as pd\n",
    "\n",
    "from collections import OrderedDict\n",
    "from matplotlib import pyplot as plt\n",
    "# from sklearn.model_selection import train_test_split\n",
    "\n",
    "print(f\"tf.__version__: {tf.__version__}\")\n",
    "print(f\"tfa.__version__: {tfa.__version__}\")"
   ]
  },
  {
   "cell_type": "code",
   "execution_count": 3,
   "metadata": {},
   "outputs": [
    {
     "data": {
      "text/plain": [
       "[PhysicalDevice(name='/physical_device:CPU:0', device_type='CPU'),\n",
       " PhysicalDevice(name='/physical_device:GPU:0', device_type='GPU')]"
      ]
     },
     "execution_count": 3,
     "metadata": {},
     "output_type": "execute_result"
    }
   ],
   "source": [
    "tf.config.list_physical_devices()"
   ]
  },
  {
   "cell_type": "code",
   "execution_count": 4,
   "metadata": {},
   "outputs": [],
   "source": [
    "# !python -V"
   ]
  },
  {
   "cell_type": "code",
   "execution_count": 5,
   "metadata": {},
   "outputs": [],
   "source": [
    "# !cat /proc/cpuinfo"
   ]
  },
  {
   "cell_type": "code",
   "execution_count": 6,
   "metadata": {},
   "outputs": [
    {
     "name": "stdout",
     "output_type": "stream",
     "text": [
      "Fri Dec 18 10:50:15 2020       \n",
      "+-----------------------------------------------------------------------------+\n",
      "| NVIDIA-SMI 455.32.00    Driver Version: 455.32.00    CUDA Version: 11.1     |\n",
      "|-------------------------------+----------------------+----------------------+\n",
      "| GPU  Name        Persistence-M| Bus-Id        Disp.A | Volatile Uncorr. ECC |\n",
      "| Fan  Temp  Perf  Pwr:Usage/Cap|         Memory-Usage | GPU-Util  Compute M. |\n",
      "|                               |                      |               MIG M. |\n",
      "|===============================+======================+======================|\n",
      "|   0  Graphics Device     On   | 00000000:0A:00.0  On |                  N/A |\n",
      "|  0%   39C    P8    24W / 220W |    318MiB /  7979MiB |      4%      Default |\n",
      "|                               |                      |                  N/A |\n",
      "+-------------------------------+----------------------+----------------------+\n",
      "                                                                               \n",
      "+-----------------------------------------------------------------------------+\n",
      "| Processes:                                                                  |\n",
      "|  GPU   GI   CI        PID   Type   Process name                  GPU Memory |\n",
      "|        ID   ID                                                   Usage      |\n",
      "|=============================================================================|\n",
      "|    0   N/A  N/A       910      G   /usr/lib/xorg/Xorg                 35MiB |\n",
      "|    0   N/A  N/A      1451      G   /usr/lib/xorg/Xorg                115MiB |\n",
      "|    0   N/A  N/A      1576      G   /usr/bin/gnome-shell               30MiB |\n",
      "|    0   N/A  N/A      1867      G   ...AAAAAAAA== --shared-files      122MiB |\n",
      "+-----------------------------------------------------------------------------+\n"
     ]
    }
   ],
   "source": [
    "!nvidia-smi"
   ]
  },
  {
   "cell_type": "code",
   "execution_count": 7,
   "metadata": {},
   "outputs": [],
   "source": [
    "# !df -h"
   ]
  },
  {
   "cell_type": "code",
   "execution_count": 8,
   "metadata": {},
   "outputs": [
    {
     "name": "stdout",
     "output_type": "stream",
     "text": [
      "              total        used        free      shared  buff/cache   available\n",
      "Mem:           31Gi       2.9Gi        22Gi       629Mi       6.1Gi        27Gi\n",
      "Swap:         2.0Gi        20Mi       2.0Gi\n"
     ]
    }
   ],
   "source": [
    "!free -h"
   ]
  },
  {
   "cell_type": "code",
   "execution_count": 9,
   "metadata": {},
   "outputs": [],
   "source": [
    "# platform.platform()"
   ]
  },
  {
   "cell_type": "code",
   "execution_count": 10,
   "metadata": {},
   "outputs": [],
   "source": [
    "# Load the TensorBoard notebook extension.\n",
    "%load_ext tensorboard"
   ]
  },
  {
   "cell_type": "markdown",
   "metadata": {},
   "source": [
    "# **Define Arguments**"
   ]
  },
  {
   "cell_type": "code",
   "execution_count": 11,
   "metadata": {},
   "outputs": [
    {
     "data": {
      "text/plain": [
       "OrderedDict([('SEED', 42),\n",
       "             ('TEST_SIZE', 0.2),\n",
       "             ('EPOCH', 10),\n",
       "             ('INIT_LR', 0.001),\n",
       "             ('NUM_TEST_CSV', 81),\n",
       "             ('WINDOW_INP', 336),\n",
       "             ('WINDOW_TAR', 96),\n",
       "             ('WINDOW_SHIFT', 48),\n",
       "             ('WINDOW_STRIDE', 1),\n",
       "             ('WINDOW_DR', True),\n",
       "             ('AUTO', -1),\n",
       "             ('GLOBAL_BATCH_SIZE', 128),\n",
       "             ('NUM_UNITS', 64),\n",
       "             ('NUM_FEATURES', 7),\n",
       "             ('NUM_QUANTILE', 9)])"
      ]
     },
     "execution_count": 11,
     "metadata": {},
     "output_type": "execute_result"
    }
   ],
   "source": [
    "args = OrderedDict({\n",
    "    # Basic\n",
    "    \"SEED\": 42,\n",
    "    \"TEST_SIZE\": 0.2,\n",
    "    \"EPOCH\": 10,\n",
    "    \"INIT_LR\": 1e-3,\n",
    "    \n",
    "    # Dataframe\n",
    "    \"NUM_TEST_CSV\": 81,\n",
    "    \n",
    "    # Dataset Pipeline\n",
    "    \"WINDOW_INP\": 7 * 24 * 2, # 336, 7 days\n",
    "    \"WINDOW_TAR\": 2 * 24 * 2, # 96, 2 days\n",
    "    \"WINDOW_SHIFT\": 1 * 24 * 2, # 1 day\n",
    "    \"WINDOW_STRIDE\": 1,\n",
    "    \"WINDOW_DR\": True, # Drop remainders\n",
    "    \"AUTO\": tf.data.experimental.AUTOTUNE,\n",
    "    \n",
    "    \"GLOBAL_BATCH_SIZE\": 128,\n",
    "    \n",
    "    # Model\n",
    "    \"NUM_UNITS\": 64, # lstm units\n",
    "    \"NUM_FEATURES\": 7, # Day_sin, Day_cos, DHI, DNI, WS, RH, T\n",
    "    \"NUM_QUANTILE\": 9, # tau = 0.1 to 0.9\n",
    "    \n",
    "})\n",
    "\n",
    "args"
   ]
  },
  {
   "cell_type": "markdown",
   "metadata": {},
   "source": [
    "# **Load Datasets**"
   ]
  },
  {
   "cell_type": "markdown",
   "metadata": {},
   "source": [
    "## **Train / Validation**\n",
    "\n",
    "```\n",
    "\"\"\"Using sklearn.model_selection.train_test_split()\"\"\"\n",
    "\n",
    "tr_df, vl_df = train_test_split(\n",
    "    df, \n",
    "    test_size = args[\"TEST_SIZE\"]\n",
    "    random_state = args[\"SEED\"])\n",
    "    \n",
    "```"
   ]
  },
  {
   "cell_type": "code",
   "execution_count": 12,
   "metadata": {},
   "outputs": [],
   "source": [
    "df = pd.read_csv(os.path.join(os.environ[\"LOCAL_DATA_PATH\"], \"train\", \"train.csv\"))"
   ]
  },
  {
   "cell_type": "code",
   "execution_count": 13,
   "metadata": {},
   "outputs": [],
   "source": [
    "# df.head()"
   ]
  },
  {
   "cell_type": "code",
   "execution_count": 14,
   "metadata": {},
   "outputs": [],
   "source": [
    "# df.describe()"
   ]
  },
  {
   "cell_type": "code",
   "execution_count": 15,
   "metadata": {},
   "outputs": [
    {
     "data": {
      "text/plain": [
       "((42048, 9), (10512, 9))"
      ]
     },
     "execution_count": 15,
     "metadata": {},
     "output_type": "execute_result"
    }
   ],
   "source": [
    "args[\"SPLIT_LEN\"] = int(df.shape[0] * (1. - args[\"TEST_SIZE\"]))\n",
    "\n",
    "tr_df = df[:args[\"SPLIT_LEN\"]]\n",
    "vl_df = df[args[\"SPLIT_LEN\"]:]\n",
    "\n",
    "tr_df.shape, vl_df.shape"
   ]
  },
  {
   "cell_type": "code",
   "execution_count": 16,
   "metadata": {},
   "outputs": [],
   "source": [
    "def preprocessing(df, is_training = True, day = 24 * 60 * 60): # day must be represented by sec\n",
    "    # Drop timestampes.\n",
    "    try:\n",
    "        # We cannot use day features, thus there is no day-position in test dataset.\n",
    "        df = df.drop([\"Day\"], axis = 1) \n",
    "    except:\n",
    "        pass\n",
    "    \n",
    "    \n",
    "    # Timestamp to sin/cos.\n",
    "    for column in [\"Hour\", \"Minute\"]:\n",
    "        df[f\"_{column}\"] = df[column].apply(lambda x: f\"{x:0>2d}\")\n",
    "    \n",
    "    df[\"Time\"] = df[[\"_Hour\", \"_Minute\"]].apply(lambda x: \":\".join(x), axis = 1)\n",
    "    \n",
    "    timestamp = pd.to_datetime(df[\"Time\"], format = \"%H:%M\").map(datetime.datetime.timestamp)\n",
    "        \n",
    "    day_sin = np.sin(timestamp * (2 * np.pi / day))\n",
    "    day_cos = np.cos(timestamp * (2 * np.pi / day))\n",
    "        \n",
    "    df.insert(loc = 0, column = \"DAY_SIN\", value = day_sin)\n",
    "    df.insert(loc = 1, column = \"DAY_COS\", value = day_cos)\n",
    "    \n",
    "    df = df.drop([\"Hour\", \"Minute\", \"_Hour\", \"_Minute\", \"Time\"], axis = 1)\n",
    "    \n",
    "    \n",
    "    # Standarize.\n",
    "    for column in [\"DHI\", \"DNI\", \"WS\", \"RH\", \"T\"]: # without DAY_SIN, DAY_COS, TARGET\n",
    "        if is_training:\n",
    "            args[f\"{column}_MEAN\"] = df[column].mean()\n",
    "            args[f\"{column}_STD\"] = df[column].std()\n",
    "        \n",
    "        df[column] = (df[column] - args[f\"{column}_MEAN\"]) / args[f\"{column}_STD\"]\n",
    "        \n",
    "    return df"
   ]
  },
  {
   "cell_type": "code",
   "execution_count": 17,
   "metadata": {},
   "outputs": [],
   "source": [
    "tr_df = preprocessing(tr_df)\n",
    "vl_df = preprocessing(vl_df, is_training = False)"
   ]
  },
  {
   "cell_type": "code",
   "execution_count": 18,
   "metadata": {},
   "outputs": [
    {
     "data": {
      "text/html": [
       "<div>\n",
       "<style scoped>\n",
       "    .dataframe tbody tr th:only-of-type {\n",
       "        vertical-align: middle;\n",
       "    }\n",
       "\n",
       "    .dataframe tbody tr th {\n",
       "        vertical-align: top;\n",
       "    }\n",
       "\n",
       "    .dataframe thead th {\n",
       "        text-align: right;\n",
       "    }\n",
       "</style>\n",
       "<table border=\"1\" class=\"dataframe\">\n",
       "  <thead>\n",
       "    <tr style=\"text-align: right;\">\n",
       "      <th></th>\n",
       "      <th>DAY_SIN</th>\n",
       "      <th>DAY_COS</th>\n",
       "      <th>DHI</th>\n",
       "      <th>DNI</th>\n",
       "      <th>WS</th>\n",
       "      <th>RH</th>\n",
       "      <th>T</th>\n",
       "      <th>TARGET</th>\n",
       "    </tr>\n",
       "  </thead>\n",
       "  <tbody>\n",
       "    <tr>\n",
       "      <th>0</th>\n",
       "      <td>-0.798985</td>\n",
       "      <td>-0.601350</td>\n",
       "      <td>-0.620599</td>\n",
       "      <td>-0.668244</td>\n",
       "      <td>-0.677079</td>\n",
       "      <td>0.527259</td>\n",
       "      <td>-2.018496</td>\n",
       "      <td>0.0</td>\n",
       "    </tr>\n",
       "    <tr>\n",
       "      <th>1</th>\n",
       "      <td>-0.870642</td>\n",
       "      <td>-0.491917</td>\n",
       "      <td>-0.620599</td>\n",
       "      <td>-0.668244</td>\n",
       "      <td>-0.677079</td>\n",
       "      <td>0.526338</td>\n",
       "      <td>-2.018496</td>\n",
       "      <td>0.0</td>\n",
       "    </tr>\n",
       "    <tr>\n",
       "      <th>2</th>\n",
       "      <td>-0.927402</td>\n",
       "      <td>-0.374067</td>\n",
       "      <td>-0.620599</td>\n",
       "      <td>-0.668244</td>\n",
       "      <td>-0.608733</td>\n",
       "      <td>0.651615</td>\n",
       "      <td>-2.018496</td>\n",
       "      <td>0.0</td>\n",
       "    </tr>\n",
       "    <tr>\n",
       "      <th>3</th>\n",
       "      <td>-0.968293</td>\n",
       "      <td>-0.249817</td>\n",
       "      <td>-0.620599</td>\n",
       "      <td>-0.668244</td>\n",
       "      <td>-0.608733</td>\n",
       "      <td>0.650234</td>\n",
       "      <td>-2.018496</td>\n",
       "      <td>0.0</td>\n",
       "    </tr>\n",
       "    <tr>\n",
       "      <th>4</th>\n",
       "      <td>-0.992617</td>\n",
       "      <td>-0.121292</td>\n",
       "      <td>-0.620599</td>\n",
       "      <td>-0.668244</td>\n",
       "      <td>-0.608733</td>\n",
       "      <td>0.809133</td>\n",
       "      <td>-2.018496</td>\n",
       "      <td>0.0</td>\n",
       "    </tr>\n",
       "    <tr>\n",
       "      <th>...</th>\n",
       "      <td>...</td>\n",
       "      <td>...</td>\n",
       "      <td>...</td>\n",
       "      <td>...</td>\n",
       "      <td>...</td>\n",
       "      <td>...</td>\n",
       "      <td>...</td>\n",
       "      <td>...</td>\n",
       "    </tr>\n",
       "    <tr>\n",
       "      <th>42043</th>\n",
       "      <td>-0.267799</td>\n",
       "      <td>-0.963475</td>\n",
       "      <td>-0.620599</td>\n",
       "      <td>-0.668244</td>\n",
       "      <td>-0.403696</td>\n",
       "      <td>1.003958</td>\n",
       "      <td>-0.138217</td>\n",
       "      <td>0.0</td>\n",
       "    </tr>\n",
       "    <tr>\n",
       "      <th>42044</th>\n",
       "      <td>-0.391267</td>\n",
       "      <td>-0.920277</td>\n",
       "      <td>-0.620599</td>\n",
       "      <td>-0.668244</td>\n",
       "      <td>0.074724</td>\n",
       "      <td>1.351695</td>\n",
       "      <td>-0.138217</td>\n",
       "      <td>0.0</td>\n",
       "    </tr>\n",
       "    <tr>\n",
       "      <th>42045</th>\n",
       "      <td>-0.508040</td>\n",
       "      <td>-0.861334</td>\n",
       "      <td>-0.620599</td>\n",
       "      <td>-0.668244</td>\n",
       "      <td>0.348107</td>\n",
       "      <td>1.644624</td>\n",
       "      <td>-0.237179</td>\n",
       "      <td>0.0</td>\n",
       "    </tr>\n",
       "    <tr>\n",
       "      <th>42046</th>\n",
       "      <td>-0.616120</td>\n",
       "      <td>-0.787652</td>\n",
       "      <td>-0.620599</td>\n",
       "      <td>-0.668244</td>\n",
       "      <td>0.621489</td>\n",
       "      <td>1.719237</td>\n",
       "      <td>-0.237179</td>\n",
       "      <td>0.0</td>\n",
       "    </tr>\n",
       "    <tr>\n",
       "      <th>42047</th>\n",
       "      <td>-0.713658</td>\n",
       "      <td>-0.700494</td>\n",
       "      <td>-0.620599</td>\n",
       "      <td>-0.668244</td>\n",
       "      <td>1.168255</td>\n",
       "      <td>1.951369</td>\n",
       "      <td>-0.336141</td>\n",
       "      <td>0.0</td>\n",
       "    </tr>\n",
       "  </tbody>\n",
       "</table>\n",
       "<p>42048 rows × 8 columns</p>\n",
       "</div>"
      ],
      "text/plain": [
       "        DAY_SIN   DAY_COS       DHI       DNI        WS        RH         T  \\\n",
       "0     -0.798985 -0.601350 -0.620599 -0.668244 -0.677079  0.527259 -2.018496   \n",
       "1     -0.870642 -0.491917 -0.620599 -0.668244 -0.677079  0.526338 -2.018496   \n",
       "2     -0.927402 -0.374067 -0.620599 -0.668244 -0.608733  0.651615 -2.018496   \n",
       "3     -0.968293 -0.249817 -0.620599 -0.668244 -0.608733  0.650234 -2.018496   \n",
       "4     -0.992617 -0.121292 -0.620599 -0.668244 -0.608733  0.809133 -2.018496   \n",
       "...         ...       ...       ...       ...       ...       ...       ...   \n",
       "42043 -0.267799 -0.963475 -0.620599 -0.668244 -0.403696  1.003958 -0.138217   \n",
       "42044 -0.391267 -0.920277 -0.620599 -0.668244  0.074724  1.351695 -0.138217   \n",
       "42045 -0.508040 -0.861334 -0.620599 -0.668244  0.348107  1.644624 -0.237179   \n",
       "42046 -0.616120 -0.787652 -0.620599 -0.668244  0.621489  1.719237 -0.237179   \n",
       "42047 -0.713658 -0.700494 -0.620599 -0.668244  1.168255  1.951369 -0.336141   \n",
       "\n",
       "       TARGET  \n",
       "0         0.0  \n",
       "1         0.0  \n",
       "2         0.0  \n",
       "3         0.0  \n",
       "4         0.0  \n",
       "...       ...  \n",
       "42043     0.0  \n",
       "42044     0.0  \n",
       "42045     0.0  \n",
       "42046     0.0  \n",
       "42047     0.0  \n",
       "\n",
       "[42048 rows x 8 columns]"
      ]
     },
     "execution_count": 18,
     "metadata": {},
     "output_type": "execute_result"
    }
   ],
   "source": [
    "tr_df"
   ]
  },
  {
   "cell_type": "code",
   "execution_count": 19,
   "metadata": {},
   "outputs": [
    {
     "data": {
      "image/png": "[encoded data removed]",
      "text/plain": [
       "<Figure size 432x288 with 1 Axes>"
      ]
     },
     "metadata": {
      "needs_background": "light"
     },
     "output_type": "display_data"
    }
   ],
   "source": [
    "plt.plot(np.array(tr_df[\"DAY_SIN\"])[:48], label = \"day_sin\")\n",
    "plt.plot(np.array(tr_df[\"DAY_COS\"])[:48], label = \"day_cos\")\n",
    "plt.legend()\n",
    "plt.xticks(np.arange(0, 48, 12), np.arange(0, 24, 6))\n",
    "plt.xlabel('Time [h]')\n",
    "plt.title('Time of day signal')\n",
    "plt.show()"
   ]
  },
  {
   "cell_type": "code",
   "execution_count": 20,
   "metadata": {},
   "outputs": [
    {
     "data": {
      "text/html": [
       "<div>\n",
       "<style scoped>\n",
       "    .dataframe tbody tr th:only-of-type {\n",
       "        vertical-align: middle;\n",
       "    }\n",
       "\n",
       "    .dataframe tbody tr th {\n",
       "        vertical-align: top;\n",
       "    }\n",
       "\n",
       "    .dataframe thead th {\n",
       "        text-align: right;\n",
       "    }\n",
       "</style>\n",
       "<table border=\"1\" class=\"dataframe\">\n",
       "  <thead>\n",
       "    <tr style=\"text-align: right;\">\n",
       "      <th></th>\n",
       "      <th>DAY_SIN</th>\n",
       "      <th>DAY_COS</th>\n",
       "      <th>DHI</th>\n",
       "      <th>DNI</th>\n",
       "      <th>WS</th>\n",
       "      <th>RH</th>\n",
       "      <th>T</th>\n",
       "      <th>TARGET</th>\n",
       "    </tr>\n",
       "  </thead>\n",
       "  <tbody>\n",
       "    <tr>\n",
       "      <th>count</th>\n",
       "      <td>4.204800e+04</td>\n",
       "      <td>4.204800e+04</td>\n",
       "      <td>4.204800e+04</td>\n",
       "      <td>4.204800e+04</td>\n",
       "      <td>4.204800e+04</td>\n",
       "      <td>4.204800e+04</td>\n",
       "      <td>4.204800e+04</td>\n",
       "      <td>42048.000000</td>\n",
       "    </tr>\n",
       "    <tr>\n",
       "      <th>mean</th>\n",
       "      <td>3.279092e-13</td>\n",
       "      <td>-1.392590e-13</td>\n",
       "      <td>4.461170e-17</td>\n",
       "      <td>-5.542666e-17</td>\n",
       "      <td>-2.500959e-16</td>\n",
       "      <td>2.893001e-16</td>\n",
       "      <td>7.976031e-17</td>\n",
       "      <td>17.757092</td>\n",
       "    </tr>\n",
       "    <tr>\n",
       "      <th>std</th>\n",
       "      <td>7.071152e-01</td>\n",
       "      <td>7.071152e-01</td>\n",
       "      <td>1.000000e+00</td>\n",
       "      <td>1.000000e+00</td>\n",
       "      <td>1.000000e+00</td>\n",
       "      <td>1.000000e+00</td>\n",
       "      <td>1.000000e+00</td>\n",
       "      <td>25.726194</td>\n",
       "    </tr>\n",
       "    <tr>\n",
       "      <th>min</th>\n",
       "      <td>-9.999567e-01</td>\n",
       "      <td>-9.999567e-01</td>\n",
       "      <td>-6.205988e-01</td>\n",
       "      <td>-6.682443e-01</td>\n",
       "      <td>-1.702264e+00</td>\n",
       "      <td>-2.304841e+00</td>\n",
       "      <td>-2.711231e+00</td>\n",
       "      <td>0.000000</td>\n",
       "    </tr>\n",
       "    <tr>\n",
       "      <th>25%</th>\n",
       "      <td>-7.037852e-01</td>\n",
       "      <td>-7.037852e-01</td>\n",
       "      <td>-6.205988e-01</td>\n",
       "      <td>-6.682443e-01</td>\n",
       "      <td>-7.454246e-01</td>\n",
       "      <td>-7.605199e-01</td>\n",
       "      <td>-8.309515e-01</td>\n",
       "      <td>0.000000</td>\n",
       "    </tr>\n",
       "    <tr>\n",
       "      <th>50%</th>\n",
       "      <td>2.563233e-12</td>\n",
       "      <td>2.563233e-12</td>\n",
       "      <td>-6.205988e-01</td>\n",
       "      <td>-6.682443e-01</td>\n",
       "      <td>-1.986590e-01</td>\n",
       "      <td>4.871736e-02</td>\n",
       "      <td>-1.382169e-01</td>\n",
       "      <td>0.000000</td>\n",
       "    </tr>\n",
       "    <tr>\n",
       "      <th>75%</th>\n",
       "      <td>7.037852e-01</td>\n",
       "      <td>7.037852e-01</td>\n",
       "      <td>2.179613e-01</td>\n",
       "      <td>6.501994e-01</td>\n",
       "      <td>4.847981e-01</td>\n",
       "      <td>7.211627e-01</td>\n",
       "      <td>7.524418e-01</td>\n",
       "      <td>31.907314</td>\n",
       "    </tr>\n",
       "    <tr>\n",
       "      <th>max</th>\n",
       "      <td>9.999567e-01</td>\n",
       "      <td>9.999567e-01</td>\n",
       "      <td>4.468593e+00</td>\n",
       "      <td>2.353903e+00</td>\n",
       "      <td>6.499220e+00</td>\n",
       "      <td>1.951369e+00</td>\n",
       "      <td>2.632721e+00</td>\n",
       "      <td>99.913939</td>\n",
       "    </tr>\n",
       "  </tbody>\n",
       "</table>\n",
       "</div>"
      ],
      "text/plain": [
       "            DAY_SIN       DAY_COS           DHI           DNI            WS  \\\n",
       "count  4.204800e+04  4.204800e+04  4.204800e+04  4.204800e+04  4.204800e+04   \n",
       "mean   3.279092e-13 -1.392590e-13  4.461170e-17 -5.542666e-17 -2.500959e-16   \n",
       "std    7.071152e-01  7.071152e-01  1.000000e+00  1.000000e+00  1.000000e+00   \n",
       "min   -9.999567e-01 -9.999567e-01 -6.205988e-01 -6.682443e-01 -1.702264e+00   \n",
       "25%   -7.037852e-01 -7.037852e-01 -6.205988e-01 -6.682443e-01 -7.454246e-01   \n",
       "50%    2.563233e-12  2.563233e-12 -6.205988e-01 -6.682443e-01 -1.986590e-01   \n",
       "75%    7.037852e-01  7.037852e-01  2.179613e-01  6.501994e-01  4.847981e-01   \n",
       "max    9.999567e-01  9.999567e-01  4.468593e+00  2.353903e+00  6.499220e+00   \n",
       "\n",
       "                 RH             T        TARGET  \n",
       "count  4.204800e+04  4.204800e+04  42048.000000  \n",
       "mean   2.893001e-16  7.976031e-17     17.757092  \n",
       "std    1.000000e+00  1.000000e+00     25.726194  \n",
       "min   -2.304841e+00 -2.711231e+00      0.000000  \n",
       "25%   -7.605199e-01 -8.309515e-01      0.000000  \n",
       "50%    4.871736e-02 -1.382169e-01      0.000000  \n",
       "75%    7.211627e-01  7.524418e-01     31.907314  \n",
       "max    1.951369e+00  2.632721e+00     99.913939  "
      ]
     },
     "execution_count": 20,
     "metadata": {},
     "output_type": "execute_result"
    }
   ],
   "source": [
    "tr_df.describe()"
   ]
  },
  {
   "cell_type": "code",
   "execution_count": 21,
   "metadata": {},
   "outputs": [
    {
     "data": {
      "text/html": [
       "<div>\n",
       "<style scoped>\n",
       "    .dataframe tbody tr th:only-of-type {\n",
       "        vertical-align: middle;\n",
       "    }\n",
       "\n",
       "    .dataframe tbody tr th {\n",
       "        vertical-align: top;\n",
       "    }\n",
       "\n",
       "    .dataframe thead th {\n",
       "        text-align: right;\n",
       "    }\n",
       "</style>\n",
       "<table border=\"1\" class=\"dataframe\">\n",
       "  <thead>\n",
       "    <tr style=\"text-align: right;\">\n",
       "      <th></th>\n",
       "      <th>DAY_SIN</th>\n",
       "      <th>DAY_COS</th>\n",
       "      <th>DHI</th>\n",
       "      <th>DNI</th>\n",
       "      <th>WS</th>\n",
       "      <th>RH</th>\n",
       "      <th>T</th>\n",
       "      <th>TARGET</th>\n",
       "    </tr>\n",
       "  </thead>\n",
       "  <tbody>\n",
       "    <tr>\n",
       "      <th>count</th>\n",
       "      <td>1.051200e+04</td>\n",
       "      <td>1.051200e+04</td>\n",
       "      <td>10512.000000</td>\n",
       "      <td>10512.000000</td>\n",
       "      <td>10512.000000</td>\n",
       "      <td>10512.000000</td>\n",
       "      <td>10512.000000</td>\n",
       "      <td>10512.000000</td>\n",
       "    </tr>\n",
       "    <tr>\n",
       "      <th>mean</th>\n",
       "      <td>3.279124e-13</td>\n",
       "      <td>-1.392591e-13</td>\n",
       "      <td>-0.002051</td>\n",
       "      <td>0.009001</td>\n",
       "      <td>-0.118357</td>\n",
       "      <td>-0.193249</td>\n",
       "      <td>0.437047</td>\n",
       "      <td>17.924783</td>\n",
       "    </tr>\n",
       "    <tr>\n",
       "      <th>std</th>\n",
       "      <td>7.071404e-01</td>\n",
       "      <td>7.071404e-01</td>\n",
       "      <td>1.007151</td>\n",
       "      <td>0.989575</td>\n",
       "      <td>0.862562</td>\n",
       "      <td>1.062334</td>\n",
       "      <td>0.960019</td>\n",
       "      <td>25.895349</td>\n",
       "    </tr>\n",
       "    <tr>\n",
       "      <th>min</th>\n",
       "      <td>-9.999567e-01</td>\n",
       "      <td>-9.999567e-01</td>\n",
       "      <td>-0.620599</td>\n",
       "      <td>-0.668244</td>\n",
       "      <td>-1.702264</td>\n",
       "      <td>-2.254638</td>\n",
       "      <td>-1.919534</td>\n",
       "      <td>0.000000</td>\n",
       "    </tr>\n",
       "    <tr>\n",
       "      <th>25%</th>\n",
       "      <td>-7.037852e-01</td>\n",
       "      <td>-7.037852e-01</td>\n",
       "      <td>-0.620599</td>\n",
       "      <td>-0.668244</td>\n",
       "      <td>-0.745425</td>\n",
       "      <td>-1.066805</td>\n",
       "      <td>-0.336141</td>\n",
       "      <td>0.000000</td>\n",
       "    </tr>\n",
       "    <tr>\n",
       "      <th>50%</th>\n",
       "      <td>2.563233e-12</td>\n",
       "      <td>2.563233e-12</td>\n",
       "      <td>-0.620599</td>\n",
       "      <td>-0.668244</td>\n",
       "      <td>-0.267005</td>\n",
       "      <td>-0.238223</td>\n",
       "      <td>0.455556</td>\n",
       "      <td>0.000000</td>\n",
       "    </tr>\n",
       "    <tr>\n",
       "      <th>75%</th>\n",
       "      <td>7.037852e-01</td>\n",
       "      <td>7.037852e-01</td>\n",
       "      <td>0.227600</td>\n",
       "      <td>0.744374</td>\n",
       "      <td>0.416452</td>\n",
       "      <td>0.568941</td>\n",
       "      <td>1.148290</td>\n",
       "      <td>32.659510</td>\n",
       "    </tr>\n",
       "    <tr>\n",
       "      <th>max</th>\n",
       "      <td>9.999567e-01</td>\n",
       "      <td>9.999567e-01</td>\n",
       "      <td>4.420400</td>\n",
       "      <td>2.251167</td>\n",
       "      <td>3.902083</td>\n",
       "      <td>1.951369</td>\n",
       "      <td>2.632721</td>\n",
       "      <td>99.453605</td>\n",
       "    </tr>\n",
       "  </tbody>\n",
       "</table>\n",
       "</div>"
      ],
      "text/plain": [
       "            DAY_SIN       DAY_COS           DHI           DNI            WS  \\\n",
       "count  1.051200e+04  1.051200e+04  10512.000000  10512.000000  10512.000000   \n",
       "mean   3.279124e-13 -1.392591e-13     -0.002051      0.009001     -0.118357   \n",
       "std    7.071404e-01  7.071404e-01      1.007151      0.989575      0.862562   \n",
       "min   -9.999567e-01 -9.999567e-01     -0.620599     -0.668244     -1.702264   \n",
       "25%   -7.037852e-01 -7.037852e-01     -0.620599     -0.668244     -0.745425   \n",
       "50%    2.563233e-12  2.563233e-12     -0.620599     -0.668244     -0.267005   \n",
       "75%    7.037852e-01  7.037852e-01      0.227600      0.744374      0.416452   \n",
       "max    9.999567e-01  9.999567e-01      4.420400      2.251167      3.902083   \n",
       "\n",
       "                 RH             T        TARGET  \n",
       "count  10512.000000  10512.000000  10512.000000  \n",
       "mean      -0.193249      0.437047     17.924783  \n",
       "std        1.062334      0.960019     25.895349  \n",
       "min       -2.254638     -1.919534      0.000000  \n",
       "25%       -1.066805     -0.336141      0.000000  \n",
       "50%       -0.238223      0.455556      0.000000  \n",
       "75%        0.568941      1.148290     32.659510  \n",
       "max        1.951369      2.632721     99.453605  "
      ]
     },
     "execution_count": 21,
     "metadata": {},
     "output_type": "execute_result"
    }
   ],
   "source": [
    "vl_df.describe()"
   ]
  },
  {
   "cell_type": "markdown",
   "metadata": {},
   "source": [
    "## **Test**"
   ]
  },
  {
   "cell_type": "code",
   "execution_count": 22,
   "metadata": {},
   "outputs": [],
   "source": [
    "ts_filenames = [os.path.join(os.environ[\"LOCAL_DATA_PATH\"], \"test\", f\"{i}.csv\") for i in range(args[\"NUM_TEST_CSV\"])]\n",
    "ts_dfs = [preprocessing(pd.read_csv(ts_filename), is_training = False) for ts_filename in ts_filenames]\n",
    "ts_df = pd.concat(ts_dfs)"
   ]
  },
  {
   "cell_type": "code",
   "execution_count": 23,
   "metadata": {},
   "outputs": [
    {
     "data": {
      "text/html": [
       "<div>\n",
       "<style scoped>\n",
       "    .dataframe tbody tr th:only-of-type {\n",
       "        vertical-align: middle;\n",
       "    }\n",
       "\n",
       "    .dataframe tbody tr th {\n",
       "        vertical-align: top;\n",
       "    }\n",
       "\n",
       "    .dataframe thead th {\n",
       "        text-align: right;\n",
       "    }\n",
       "</style>\n",
       "<table border=\"1\" class=\"dataframe\">\n",
       "  <thead>\n",
       "    <tr style=\"text-align: right;\">\n",
       "      <th></th>\n",
       "      <th>DAY_SIN</th>\n",
       "      <th>DAY_COS</th>\n",
       "      <th>DHI</th>\n",
       "      <th>DNI</th>\n",
       "      <th>WS</th>\n",
       "      <th>RH</th>\n",
       "      <th>T</th>\n",
       "      <th>TARGET</th>\n",
       "    </tr>\n",
       "  </thead>\n",
       "  <tbody>\n",
       "    <tr>\n",
       "      <th>0</th>\n",
       "      <td>-0.798985</td>\n",
       "      <td>-0.601350</td>\n",
       "      <td>-0.620599</td>\n",
       "      <td>-0.668244</td>\n",
       "      <td>0.143070</td>\n",
       "      <td>-1.069108</td>\n",
       "      <td>-0.830951</td>\n",
       "      <td>0.0</td>\n",
       "    </tr>\n",
       "    <tr>\n",
       "      <th>1</th>\n",
       "      <td>-0.870642</td>\n",
       "      <td>-0.491917</td>\n",
       "      <td>-0.620599</td>\n",
       "      <td>-0.668244</td>\n",
       "      <td>0.143070</td>\n",
       "      <td>-1.080622</td>\n",
       "      <td>-0.821055</td>\n",
       "      <td>0.0</td>\n",
       "    </tr>\n",
       "    <tr>\n",
       "      <th>2</th>\n",
       "      <td>-0.927402</td>\n",
       "      <td>-0.374067</td>\n",
       "      <td>-0.620599</td>\n",
       "      <td>-0.668244</td>\n",
       "      <td>0.143070</td>\n",
       "      <td>-1.077859</td>\n",
       "      <td>-0.811159</td>\n",
       "      <td>0.0</td>\n",
       "    </tr>\n",
       "    <tr>\n",
       "      <th>3</th>\n",
       "      <td>-0.968293</td>\n",
       "      <td>-0.249817</td>\n",
       "      <td>-0.620599</td>\n",
       "      <td>-0.668244</td>\n",
       "      <td>0.143070</td>\n",
       "      <td>-1.088913</td>\n",
       "      <td>-0.801263</td>\n",
       "      <td>0.0</td>\n",
       "    </tr>\n",
       "    <tr>\n",
       "      <th>4</th>\n",
       "      <td>-0.992617</td>\n",
       "      <td>-0.121292</td>\n",
       "      <td>-0.620599</td>\n",
       "      <td>-0.668244</td>\n",
       "      <td>0.211415</td>\n",
       "      <td>-1.089834</td>\n",
       "      <td>-0.791367</td>\n",
       "      <td>0.0</td>\n",
       "    </tr>\n",
       "  </tbody>\n",
       "</table>\n",
       "</div>"
      ],
      "text/plain": [
       "    DAY_SIN   DAY_COS       DHI       DNI        WS        RH         T  \\\n",
       "0 -0.798985 -0.601350 -0.620599 -0.668244  0.143070 -1.069108 -0.830951   \n",
       "1 -0.870642 -0.491917 -0.620599 -0.668244  0.143070 -1.080622 -0.821055   \n",
       "2 -0.927402 -0.374067 -0.620599 -0.668244  0.143070 -1.077859 -0.811159   \n",
       "3 -0.968293 -0.249817 -0.620599 -0.668244  0.143070 -1.088913 -0.801263   \n",
       "4 -0.992617 -0.121292 -0.620599 -0.668244  0.211415 -1.089834 -0.791367   \n",
       "\n",
       "   TARGET  \n",
       "0     0.0  \n",
       "1     0.0  \n",
       "2     0.0  \n",
       "3     0.0  \n",
       "4     0.0  "
      ]
     },
     "execution_count": 23,
     "metadata": {},
     "output_type": "execute_result"
    }
   ],
   "source": [
    "ts_df.head()"
   ]
  },
  {
   "cell_type": "code",
   "execution_count": 24,
   "metadata": {},
   "outputs": [
    {
     "data": {
      "text/html": [
       "<div>\n",
       "<style scoped>\n",
       "    .dataframe tbody tr th:only-of-type {\n",
       "        vertical-align: middle;\n",
       "    }\n",
       "\n",
       "    .dataframe tbody tr th {\n",
       "        vertical-align: top;\n",
       "    }\n",
       "\n",
       "    .dataframe thead th {\n",
       "        text-align: right;\n",
       "    }\n",
       "</style>\n",
       "<table border=\"1\" class=\"dataframe\">\n",
       "  <thead>\n",
       "    <tr style=\"text-align: right;\">\n",
       "      <th></th>\n",
       "      <th>DAY_SIN</th>\n",
       "      <th>DAY_COS</th>\n",
       "      <th>DHI</th>\n",
       "      <th>DNI</th>\n",
       "      <th>WS</th>\n",
       "      <th>RH</th>\n",
       "      <th>T</th>\n",
       "      <th>TARGET</th>\n",
       "    </tr>\n",
       "  </thead>\n",
       "  <tbody>\n",
       "    <tr>\n",
       "      <th>count</th>\n",
       "      <td>2.721600e+04</td>\n",
       "      <td>2.721600e+04</td>\n",
       "      <td>27216.000000</td>\n",
       "      <td>27216.000000</td>\n",
       "      <td>27216.000000</td>\n",
       "      <td>27216.000000</td>\n",
       "      <td>27216.000000</td>\n",
       "      <td>27216.000000</td>\n",
       "    </tr>\n",
       "    <tr>\n",
       "      <th>mean</th>\n",
       "      <td>3.279091e-13</td>\n",
       "      <td>-1.392587e-13</td>\n",
       "      <td>-0.051219</td>\n",
       "      <td>0.048407</td>\n",
       "      <td>-0.149449</td>\n",
       "      <td>-0.517592</td>\n",
       "      <td>0.133563</td>\n",
       "      <td>18.235096</td>\n",
       "    </tr>\n",
       "    <tr>\n",
       "      <th>std</th>\n",
       "      <td>7.071198e-01</td>\n",
       "      <td>7.071198e-01</td>\n",
       "      <td>0.882946</td>\n",
       "      <td>1.022026</td>\n",
       "      <td>0.869087</td>\n",
       "      <td>0.883242</td>\n",
       "      <td>1.116901</td>\n",
       "      <td>26.115609</td>\n",
       "    </tr>\n",
       "    <tr>\n",
       "      <th>min</th>\n",
       "      <td>-9.999567e-01</td>\n",
       "      <td>-9.999567e-01</td>\n",
       "      <td>-0.620599</td>\n",
       "      <td>-0.668244</td>\n",
       "      <td>-1.633919</td>\n",
       "      <td>-2.428276</td>\n",
       "      <td>-2.384656</td>\n",
       "      <td>0.000000</td>\n",
       "    </tr>\n",
       "    <tr>\n",
       "      <th>25%</th>\n",
       "      <td>-7.037852e-01</td>\n",
       "      <td>-7.037852e-01</td>\n",
       "      <td>-0.620599</td>\n",
       "      <td>-0.668244</td>\n",
       "      <td>-0.813770</td>\n",
       "      <td>-1.223056</td>\n",
       "      <td>-0.791367</td>\n",
       "      <td>0.000000</td>\n",
       "    </tr>\n",
       "    <tr>\n",
       "      <th>50%</th>\n",
       "      <td>2.563233e-12</td>\n",
       "      <td>2.563233e-12</td>\n",
       "      <td>-0.562767</td>\n",
       "      <td>-0.668244</td>\n",
       "      <td>-0.335350</td>\n",
       "      <td>-0.497529</td>\n",
       "      <td>0.030019</td>\n",
       "      <td>0.563069</td>\n",
       "    </tr>\n",
       "    <tr>\n",
       "      <th>75%</th>\n",
       "      <td>7.037852e-01</td>\n",
       "      <td>7.037852e-01</td>\n",
       "      <td>0.179407</td>\n",
       "      <td>0.775765</td>\n",
       "      <td>0.279761</td>\n",
       "      <td>0.149584</td>\n",
       "      <td>0.980055</td>\n",
       "      <td>32.557286</td>\n",
       "    </tr>\n",
       "    <tr>\n",
       "      <th>max</th>\n",
       "      <td>9.999567e-01</td>\n",
       "      <td>9.999567e-01</td>\n",
       "      <td>4.266182</td>\n",
       "      <td>2.410978</td>\n",
       "      <td>5.815763</td>\n",
       "      <td>1.609159</td>\n",
       "      <td>2.800957</td>\n",
       "      <td>99.450872</td>\n",
       "    </tr>\n",
       "  </tbody>\n",
       "</table>\n",
       "</div>"
      ],
      "text/plain": [
       "            DAY_SIN       DAY_COS           DHI           DNI            WS  \\\n",
       "count  2.721600e+04  2.721600e+04  27216.000000  27216.000000  27216.000000   \n",
       "mean   3.279091e-13 -1.392587e-13     -0.051219      0.048407     -0.149449   \n",
       "std    7.071198e-01  7.071198e-01      0.882946      1.022026      0.869087   \n",
       "min   -9.999567e-01 -9.999567e-01     -0.620599     -0.668244     -1.633919   \n",
       "25%   -7.037852e-01 -7.037852e-01     -0.620599     -0.668244     -0.813770   \n",
       "50%    2.563233e-12  2.563233e-12     -0.562767     -0.668244     -0.335350   \n",
       "75%    7.037852e-01  7.037852e-01      0.179407      0.775765      0.279761   \n",
       "max    9.999567e-01  9.999567e-01      4.266182      2.410978      5.815763   \n",
       "\n",
       "                 RH             T        TARGET  \n",
       "count  27216.000000  27216.000000  27216.000000  \n",
       "mean      -0.517592      0.133563     18.235096  \n",
       "std        0.883242      1.116901     26.115609  \n",
       "min       -2.428276     -2.384656      0.000000  \n",
       "25%       -1.223056     -0.791367      0.000000  \n",
       "50%       -0.497529      0.030019      0.563069  \n",
       "75%        0.149584      0.980055     32.557286  \n",
       "max        1.609159      2.800957     99.450872  "
      ]
     },
     "execution_count": 24,
     "metadata": {},
     "output_type": "execute_result"
    }
   ],
   "source": [
    "ts_df.describe()"
   ]
  },
  {
   "cell_type": "markdown",
   "metadata": {},
   "source": [
    "# **Phase \\#1: Target Predict Model**"
   ]
  },
  {
   "cell_type": "markdown",
   "metadata": {},
   "source": [
    "## **Make Dataset Pipelines**"
   ]
  },
  {
   "cell_type": "code",
   "execution_count": 25,
   "metadata": {},
   "outputs": [],
   "source": [
    "@tf.function\n",
    "def _split_window(features):\n",
    "    return tf.split(features, [-1, 1], axis = 0)"
   ]
  },
  {
   "cell_type": "code",
   "execution_count": 26,
   "metadata": {},
   "outputs": [
    {
     "name": "stdout",
     "output_type": "stream",
     "text": [
      "tr_dataset: (TensorSpec(shape=(None, 7), dtype=tf.float32, name=None), TensorSpec(shape=(None, 1), dtype=tf.float32, name=None))\n",
      "vl_dataset: (TensorSpec(shape=(None, 7), dtype=tf.float32, name=None), TensorSpec(shape=(None, 1), dtype=tf.float32, name=None))\n",
      "ts_dataset: (TensorSpec(shape=(None, 7), dtype=tf.float32, name=None), TensorSpec(shape=(None, 1), dtype=tf.float32, name=None))\n"
     ]
    }
   ],
   "source": [
    "tr_tensor = tf.constant(tr_df, dtype = tf.float32)\n",
    "vl_tensor = tf.constant(vl_df, dtype = tf.float32)\n",
    "ts_tensor = tf.constant(ts_df, dtype = tf.float32)\n",
    "\n",
    "tr_dataset = tf.data.Dataset.from_tensor_slices(tr_tensor\n",
    "                    ).map(_split_window, num_parallel_calls = args[\"AUTO\"]\n",
    "                    ).batch(args[\"GLOBAL_BATCH_SIZE\"]\n",
    "                    ).cache(\n",
    "                    ).prefetch(args[\"AUTO\"])\n",
    "\n",
    "vl_dataset = tf.data.Dataset.from_tensor_slices(vl_tensor\n",
    "                    ).map(_split_window, num_parallel_calls = args[\"AUTO\"]\n",
    "                    ).batch(args[\"GLOBAL_BATCH_SIZE\"]\n",
    "                    ).cache(\n",
    "                    ).prefetch(args[\"AUTO\"])\n",
    "\n",
    "ts_dataset = tf.data.Dataset.from_tensor_slices(ts_tensor\n",
    "                    ).map(_split_window, num_parallel_calls = args[\"AUTO\"]\n",
    "                    ).batch(args[\"GLOBAL_BATCH_SIZE\"]\n",
    "#                     ).cache(\n",
    "                    ).prefetch(args[\"AUTO\"])\n",
    "\n",
    "# Print the shapes\n",
    "print(f\"tr_dataset: {tr_dataset.element_spec}\")\n",
    "print(f\"vl_dataset: {vl_dataset.element_spec}\")\n",
    "print(f\"ts_dataset: {ts_dataset.element_spec}\")"
   ]
  },
  {
   "cell_type": "markdown",
   "metadata": {},
   "source": [
    "### **Take Samples**"
   ]
  },
  {
   "cell_type": "code",
   "execution_count": 27,
   "metadata": {},
   "outputs": [
    {
     "name": "stdout",
     "output_type": "stream",
     "text": [
      "(128, 7) (128, 1)\n"
     ]
    }
   ],
   "source": [
    "for element in tr_dataset.take(1):\n",
    "    foo, bar = element\n",
    "    print(foo.shape, bar.shape)"
   ]
  },
  {
   "cell_type": "code",
   "execution_count": 28,
   "metadata": {},
   "outputs": [
    {
     "name": "stdout",
     "output_type": "stream",
     "text": [
      "(128, 7) (128, 1)\n"
     ]
    }
   ],
   "source": [
    "for element in vl_dataset.take(1):\n",
    "    foo, bar = element\n",
    "    print(foo.shape, bar.shape)"
   ]
  },
  {
   "cell_type": "code",
   "execution_count": 29,
   "metadata": {},
   "outputs": [
    {
     "name": "stdout",
     "output_type": "stream",
     "text": [
      "(128, 7) (128, 1)\n"
     ]
    }
   ],
   "source": [
    "for element in ts_dataset.take(1):\n",
    "    foo, bar = element\n",
    "    print(foo.shape, bar.shape)"
   ]
  },
  {
   "cell_type": "markdown",
   "metadata": {},
   "source": [
    "## **Create Network**\n",
    "\n",
    "```\n",
    "\"\"\"Pytorch Style\"\"\"\n",
    "class TARGET_MODEL(tf.keras.Model):\n",
    "    def __init__(self, units, name):\n",
    "        super(TARGET_MODEL, self).__init__(name = name)\n",
    "        self.units = units\n",
    "        \n",
    "        self.dense1 = tf.keras.layers.Dense(units = self.units, activation = \"relu\")\n",
    "        self.dense2 = tf.keras.layers.Dense(units = self.units, activation = \"relu\")\n",
    "        self.dense3 = tf.keras.layers.Dense(units = 1)\n",
    "        \n",
    "    def call(self, inputs):\n",
    "        x = self.dense1(inputs)\n",
    "        x = self.dense2(x)\n",
    "        x = self.dense3(x)\n",
    "        \n",
    "        return x            \n",
    "```"
   ]
  },
  {
   "cell_type": "code",
   "execution_count": 30,
   "metadata": {},
   "outputs": [],
   "source": [
    "def TARGET_MODEL(model_name, units = 64):\n",
    "    model_input = tf.keras.layers.Input(shape = [7, ], dtype = tf.float32)\n",
    "    \n",
    "    x = tf.keras.layers.Dense(units = units, activation = \"relu\")(model_input)\n",
    "    x = tf.keras.layers.Dense(units = units, activation = \"relu\")(x)    \n",
    "    model_output = tf.keras.layers.Dense(1)(x)\n",
    "    \n",
    "    return tf.keras.Model(\n",
    "        inputs = model_input,\n",
    "        outputs = model_output,\n",
    "        name = model_name)"
   ]
  },
  {
   "cell_type": "code",
   "execution_count": 31,
   "metadata": {},
   "outputs": [
    {
     "name": "stdout",
     "output_type": "stream",
     "text": [
      "Model: \"tmp\"\n",
      "_________________________________________________________________\n",
      "Layer (type)                 Output Shape              Param #   \n",
      "=================================================================\n",
      "input_1 (InputLayer)         [(None, 7)]               0         \n",
      "_________________________________________________________________\n",
      "dense (Dense)                (None, 64)                512       \n",
      "_________________________________________________________________\n",
      "dense_1 (Dense)              (None, 64)                4160      \n",
      "_________________________________________________________________\n",
      "dense_2 (Dense)              (None, 1)                 65        \n",
      "=================================================================\n",
      "Total params: 4,737\n",
      "Trainable params: 4,737\n",
      "Non-trainable params: 0\n",
      "_________________________________________________________________\n"
     ]
    }
   ],
   "source": [
    "tmp = TARGET_MODEL(\"tmp\")\n",
    "tmp.summary()"
   ]
  },
  {
   "cell_type": "code",
   "execution_count": 32,
   "metadata": {},
   "outputs": [],
   "source": [
    "# tf.keras.utils.plot_model(tmp)"
   ]
  },
  {
   "cell_type": "code",
   "execution_count": 33,
   "metadata": {},
   "outputs": [],
   "source": [
    "del tmp"
   ]
  },
  {
   "cell_type": "markdown",
   "metadata": {},
   "source": [
    "## **Compile and Fit**"
   ]
  },
  {
   "cell_type": "code",
   "execution_count": 34,
   "metadata": {},
   "outputs": [],
   "source": [
    "target_model = TARGET_MODEL(\n",
    "    model_name = \"target_model\",\n",
    "    units = 64)\n",
    "\n",
    "target_model.compile(\n",
    "    loss = tf.keras.losses.MAE,\n",
    "    optimizer = tf.keras.optimizers.Adam())"
   ]
  },
  {
   "cell_type": "code",
   "execution_count": 35,
   "metadata": {},
   "outputs": [],
   "source": [
    "# TensorBoard callback.\n",
    "log_dir = os.path.join(\n",
    "    \"logs\", \"fit\", os.environ[\"NOTEBOOKNAME\"], \n",
    "    datetime.datetime.now().strftime(f\"{target_model.name}-%Y%m%d-%H%M%S\"))\n",
    "tb_callback = tf.keras.callbacks.TensorBoard(log_dir = log_dir, histogram_freq = 1)\n",
    "\n",
    "history = target_model.fit(\n",
    "    tr_dataset,\n",
    "    validation_data = vl_dataset,\n",
    "    epochs = 500,\n",
    "    verbose = 0,\n",
    "    callbacks = [tb_callback])"
   ]
  },
  {
   "cell_type": "code",
   "execution_count": 36,
   "metadata": {},
   "outputs": [],
   "source": [
    "def draw_history(history):\n",
    "    \n",
    "    plt.figure(figsize = (7, 4), facecolor = \"white\", dpi = 80)\n",
    "    \n",
    "    plt.plot(history.epoch, history.history[\"loss\"], color = \"tomato\", label = \"loss\", alpha = .8)\n",
    "    plt.plot(history.epoch, history.history[\"val_loss\"], color = \"navy\", label = \"val_loss\", alpha = .8)\n",
    "    \n",
    "    plt.legend()\n",
    "    plt.title(\"Training & Validation Loss\")\n",
    "    plt.xlabel(\"epoch\")\n",
    "    plt.ylabel(\"loss (MAE)\")\n",
    "    \n",
    "    plt.grid(True)\n",
    "    plt.tight_layout()\n",
    "    plt.show()"
   ]
  },
  {
   "cell_type": "code",
   "execution_count": 37,
   "metadata": {},
   "outputs": [
    {
     "data": {
      "image/png": "[encoded data removed]",
      "text/plain": [
       "<Figure size 560x320 with 1 Axes>"
      ]
     },
     "metadata": {},
     "output_type": "display_data"
    }
   ],
   "source": [
    "draw_history(history)"
   ]
  },
  {
   "cell_type": "code",
   "execution_count": 36,
   "metadata": {},
   "outputs": [],
   "source": [
    "# %tensorboard --logdir logs/fit --host jupyter-server"
   ]
  },
  {
   "cell_type": "markdown",
   "metadata": {},
   "source": [
    "## **Predict**"
   ]
  },
  {
   "cell_type": "code",
   "execution_count": 38,
   "metadata": {},
   "outputs": [
    {
     "name": "stdout",
     "output_type": "stream",
     "text": [
      "213/213 [==============================] - 0s 824us/step - loss: 0.9477\n"
     ]
    },
    {
     "data": {
      "text/plain": [
       "0.9477251172065735"
      ]
     },
     "execution_count": 38,
     "metadata": {},
     "output_type": "execute_result"
    }
   ],
   "source": [
    "target_model.evaluate(ts_dataset, verbose = 1)"
   ]
  },
  {
   "cell_type": "markdown",
   "metadata": {},
   "source": [
    "## **Visualize**\n",
    "\n",
    "Visualize between label and predictions."
   ]
  },
  {
   "cell_type": "code",
   "execution_count": 39,
   "metadata": {},
   "outputs": [],
   "source": [
    "def draw_pred(y_pred, y_true, save_fig = True):\n",
    "    plt.figure(figsize = (14, 4), facecolor = \"white\")\n",
    "    plt.plot(y_pred, lw = 1.5, label = \"Predictions\")\n",
    "    plt.plot(y_true, lw = 1.5, label = \"Label\")\n",
    "    \n",
    "    plt.xlabel(\"Time [day]\")\n",
    "    plt.ylabel(\"Target [kW]\")\n",
    "    plt.legend()\n",
    "    \n",
    "    plt.xticks(np.arange(0, args[\"WINDOW_INP\"] + 1, 24 * 2), [f\"D+{i}\" for i in np.arange(8)])\n",
    "    plt.grid(True)\n",
    "    plt.tight_layout()\n",
    "    \n",
    "    if save_fig:\n",
    "        plt.savefig(f\"./pngs/{os.environ['NOTEBOOKNAME']}_target_model.png\", dpi = 300)\n",
    "        \n",
    "    plt.show()"
   ]
  },
  {
   "cell_type": "code",
   "execution_count": 40,
   "metadata": {},
   "outputs": [
    {
     "data": {
      "image/png": "[encoded data removed]",
      "text/plain": [
       "<Figure size 1008x288 with 1 Axes>"
      ]
     },
     "metadata": {},
     "output_type": "display_data"
    }
   ],
   "source": [
    "ts_dataset = ts_dataset.unbatch().batch(args[\"WINDOW_INP\"])\n",
    "\n",
    "for t in ts_dataset.take(1):\n",
    "    x, y = t # inp, tar\n",
    "    \n",
    "    y_pred = target_model.predict(x)\n",
    "    y_true = y\n",
    "    \n",
    "    draw_pred(y_pred, y_true)"
   ]
  },
  {
   "cell_type": "markdown",
   "metadata": {},
   "source": [
    "# **Phase \\#2: Autoregressive Model**"
   ]
  },
  {
   "cell_type": "markdown",
   "metadata": {},
   "source": [
    "## **Make Dataset Pipelines**"
   ]
  },
  {
   "cell_type": "code",
   "execution_count": 41,
   "metadata": {},
   "outputs": [],
   "source": [
    "@tf.function\n",
    "def _flat_fn_tr(x):\n",
    "    return x.batch(args[\"WINDOW_INP\"] + args[\"WINDOW_TAR\"])\n",
    "\n",
    "\n",
    "@tf.function\n",
    "def _flat_fn_ts(x):\n",
    "    return x.batch(args[\"WINDOW_INP\"])\n",
    "\n",
    "\n",
    "@tf.function\n",
    "def _split_window_tr(features):\n",
    "    \"\"\"inp: [batch, 336, 7], tar: ([batch, 96, 7]: aux, [batch, 96, 1]: real)\"\"\"\n",
    "    inp, tar = tf.split(features, [args[\"WINDOW_INP\"], args[\"WINDOW_TAR\"]], axis = 0)\n",
    "    return inp[..., :-1], (tar[..., :-1], tar[..., -1:])\n",
    "\n",
    "\n",
    "@tf.function\n",
    "def _split_window_ts(features):\n",
    "    \"\"\"inp: [batch, 336, 7]\"\"\"\n",
    "    return features[..., :-1] # (batch, 336, 7)"
   ]
  },
  {
   "cell_type": "code",
   "execution_count": 42,
   "metadata": {},
   "outputs": [
    {
     "name": "stdout",
     "output_type": "stream",
     "text": [
      "tr_dataset: (TensorSpec(shape=(None, 336, 7), dtype=tf.float32, name=None), (TensorSpec(shape=(None, 96, 7), dtype=tf.float32, name=None), TensorSpec(shape=(None, 96, 1), dtype=tf.float32, name=None)))\n",
      "vl_dataset: (TensorSpec(shape=(None, 336, 7), dtype=tf.float32, name=None), (TensorSpec(shape=(None, 96, 7), dtype=tf.float32, name=None), TensorSpec(shape=(None, 96, 1), dtype=tf.float32, name=None)))\n",
      "ts_dataset: TensorSpec(shape=(None, None, 7), dtype=tf.float32, name=None)\n"
     ]
    }
   ],
   "source": [
    "tr_tensor = tf.constant(tr_df, dtype = tf.float32)\n",
    "vl_tensor = tf.constant(vl_df, dtype = tf.float32)\n",
    "ts_tensor = tf.constant(ts_df, dtype = tf.float32)\n",
    "\n",
    "tr_dataset = tf.data.Dataset.from_tensor_slices(tr_tensor\n",
    "                    ).window(args[\"WINDOW_INP\"] + args[\"WINDOW_TAR\"], args[\"WINDOW_SHIFT\"], args[\"WINDOW_STRIDE\"], args[\"WINDOW_DR\"]).flat_map(_flat_fn_tr\n",
    "                    ).map(_split_window_tr, num_parallel_calls = args[\"AUTO\"]\n",
    "                    ).batch(args[\"GLOBAL_BATCH_SIZE\"]\n",
    "#                     ).cache(\n",
    "                    ).prefetch(args[\"AUTO\"])\n",
    "\n",
    "vl_dataset = tf.data.Dataset.from_tensor_slices(vl_tensor\n",
    "                    ).window(args[\"WINDOW_INP\"] + args[\"WINDOW_TAR\"], args[\"WINDOW_SHIFT\"], args[\"WINDOW_STRIDE\"], args[\"WINDOW_DR\"]).flat_map(_flat_fn_tr\n",
    "                    ).map(_split_window_tr, num_parallel_calls = args[\"AUTO\"]\n",
    "                    ).batch(args[\"GLOBAL_BATCH_SIZE\"]\n",
    "#                     ).cache(\n",
    "                    ).prefetch(args[\"AUTO\"])\n",
    "\n",
    "ts_dataset = tf.data.Dataset.from_tensor_slices(ts_tensor\n",
    "                    ).window(args[\"WINDOW_INP\"], args[\"WINDOW_INP\"], args[\"WINDOW_STRIDE\"], args[\"WINDOW_DR\"]).flat_map(_flat_fn_ts\n",
    "                    ).map(_split_window_ts, num_parallel_calls = args[\"AUTO\"]\n",
    "                    ).batch(args[\"NUM_TEST_CSV\"] # not args[\"GLOBAL_BATCH_SIZE\"]\n",
    "#                     ).cache(\n",
    "                    ).prefetch(args[\"AUTO\"])\n",
    "\n",
    "# Print the shapes\n",
    "print(f\"tr_dataset: {tr_dataset.element_spec}\")\n",
    "print(f\"vl_dataset: {vl_dataset.element_spec}\")\n",
    "print(f\"ts_dataset: {ts_dataset.element_spec}\")"
   ]
  },
  {
   "cell_type": "markdown",
   "metadata": {},
   "source": [
    "### **Take Samples**"
   ]
  },
  {
   "cell_type": "code",
   "execution_count": 43,
   "metadata": {},
   "outputs": [
    {
     "name": "stdout",
     "output_type": "stream",
     "text": [
      "(128, 336, 7) (128, 96, 7) (128, 96, 1)\n"
     ]
    }
   ],
   "source": [
    "for element in tr_dataset.take(1):\n",
    "    foo, (bar, qux) = element\n",
    "    print(foo.shape, bar.shape, qux.shape)"
   ]
  },
  {
   "cell_type": "code",
   "execution_count": 44,
   "metadata": {},
   "outputs": [
    {
     "name": "stdout",
     "output_type": "stream",
     "text": [
      "(128, 336, 7) (128, 96, 7) (128, 96, 1)\n"
     ]
    }
   ],
   "source": [
    "for element in vl_dataset.take(1):\n",
    "    foo, (bar, qux) = element\n",
    "    print(foo.shape, bar.shape, qux.shape)"
   ]
  },
  {
   "cell_type": "code",
   "execution_count": 45,
   "metadata": {},
   "outputs": [
    {
     "name": "stdout",
     "output_type": "stream",
     "text": [
      "(81, 336, 7)\n"
     ]
    }
   ],
   "source": [
    "for element in ts_dataset.take(1):\n",
    "    foo = element\n",
    "    print(foo.shape)"
   ]
  },
  {
   "cell_type": "markdown",
   "metadata": {},
   "source": [
    "## **Create Network**"
   ]
  },
  {
   "cell_type": "code",
   "execution_count": 46,
   "metadata": {},
   "outputs": [],
   "source": [
    "class AR_LSTM(tf.keras.Model):\n",
    "    def __init__(self, target_model, units, out_steps, name):\n",
    "        super(AR_LSTM, self).__init__(name = name)\n",
    "        self.target_model = target_model # [batch, 7] -> [batch, 1]\n",
    "        self.units = units\n",
    "        self.out_steps = out_steps\n",
    "        self.num_features = args[\"NUM_FEATURES\"]\n",
    "        \n",
    "        self.lstm_rnn = tf.keras.layers.RNN([\n",
    "            tf.keras.layers.LSTMCell(self.units),\n",
    "            tf.keras.layers.LSTMCell(self.units),\n",
    "            tf.keras.layers.LSTMCell(self.units)], return_state = True)\n",
    "        self.dense = tf.keras.layers.Dense(self.num_features)\n",
    "        \n",
    "    \n",
    "    def warmup(self, inputs):\n",
    "        # [batch, time, features] => [batch, units]\n",
    "        x, *state = self.lstm_rnn(inputs)\n",
    "        # [batch, units] => [batch, num_features]\n",
    "        prediction = self.dense(x)\n",
    "        return prediction, state\n",
    "        \n",
    "        \n",
    "    def call(self, inputs, training = None):\n",
    "        aux_outputs, real_outputs = [], []\n",
    "        \n",
    "        prediction, state = self.warmup(inputs)\n",
    "        \n",
    "        aux_outputs.append(prediction)\n",
    "        real_outputs.append(self.target_model(prediction))\n",
    "        \n",
    "        for n in range(1, self.out_steps):\n",
    "            x = tf.expand_dims(prediction, axis = 1)\n",
    "            # [batch, num_features] => [batch, units]\n",
    "            x, *state = self.lstm_rnn(x, initial_state = state, training = training)\n",
    "            # [batch, units] => [batch, num_features]\n",
    "            prediction = self.dense(x)\n",
    "            \n",
    "            aux_outputs.append(prediction)\n",
    "            real_outputs.append(self.target_model(prediction))\n",
    "            \n",
    "        aux_outputs = tf.stack(aux_outputs, axis = 1)\n",
    "        real_outputs = tf.stack(real_outputs, axis = 1)\n",
    "        return (aux_outputs, real_outputs)"
   ]
  },
  {
   "cell_type": "markdown",
   "metadata": {},
   "source": [
    "## **Compile and Fit**"
   ]
  },
  {
   "cell_type": "code",
   "execution_count": 48,
   "metadata": {},
   "outputs": [
    {
     "name": "stdout",
     "output_type": "stream",
     "text": [
      "\n",
      "Model P0.1...\n",
      "\n",
      "Epoch 1/10\n",
      "7/7 - 166s - loss: 2.1245 - output_1_loss: 0.3370 - output_2_loss: 1.7874 - val_loss: 1.9798 - val_output_1_loss: 0.2126 - val_output_2_loss: 1.7672\n",
      "Epoch 2/10\n",
      "7/7 - 6s - loss: 1.9522 - output_1_loss: 0.1651 - output_2_loss: 1.7871 - val_loss: 1.9132 - val_output_1_loss: 0.1461 - val_output_2_loss: 1.7671\n",
      "Epoch 3/10\n",
      "7/7 - 6s - loss: 1.9162 - output_1_loss: 0.1282 - output_2_loss: 1.7880 - val_loss: 1.8875 - val_output_1_loss: 0.1219 - val_output_2_loss: 1.7656\n",
      "Epoch 4/10\n",
      "7/7 - 6s - loss: 1.9042 - output_1_loss: 0.1182 - output_2_loss: 1.7859 - val_loss: 1.8756 - val_output_1_loss: 0.1108 - val_output_2_loss: 1.7648\n",
      "Epoch 5/10\n",
      "7/7 - 6s - loss: 1.9019 - output_1_loss: 0.1155 - output_2_loss: 1.7863 - val_loss: 1.8787 - val_output_1_loss: 0.1117 - val_output_2_loss: 1.7670\n",
      "Epoch 6/10\n",
      "7/7 - 6s - loss: 1.9003 - output_1_loss: 0.1130 - output_2_loss: 1.7874 - val_loss: 1.8802 - val_output_1_loss: 0.1127 - val_output_2_loss: 1.7675\n",
      "Epoch 7/10\n",
      "7/7 - 6s - loss: 1.8982 - output_1_loss: 0.1121 - output_2_loss: 1.7861 - val_loss: 1.8790 - val_output_1_loss: 0.1126 - val_output_2_loss: 1.7664\n",
      "Epoch 8/10\n",
      "7/7 - 6s - loss: 1.8985 - output_1_loss: 0.1124 - output_2_loss: 1.7862 - val_loss: 1.8780 - val_output_1_loss: 0.1139 - val_output_2_loss: 1.7640\n",
      "Epoch 9/10\n",
      "7/7 - 6s - loss: 1.8980 - output_1_loss: 0.1129 - output_2_loss: 1.7851 - val_loss: 1.8765 - val_output_1_loss: 0.1117 - val_output_2_loss: 1.7648\n",
      "Epoch 10/10\n",
      "7/7 - 6s - loss: 1.8968 - output_1_loss: 0.1115 - output_2_loss: 1.7852 - val_loss: 1.8772 - val_output_1_loss: 0.1116 - val_output_2_loss: 1.7656\n",
      "\n",
      "Model P0.2...\n",
      "\n",
      "Epoch 1/10\n",
      "7/7 - 171s - loss: 3.9326 - output_1_loss: 0.3609 - output_2_loss: 3.5718 - val_loss: 3.8453 - val_output_1_loss: 0.3163 - val_output_2_loss: 3.5289\n",
      "Epoch 2/10\n",
      "7/7 - 6s - loss: 3.8400 - output_1_loss: 0.2670 - output_2_loss: 3.5730 - val_loss: 3.7632 - val_output_1_loss: 0.2318 - val_output_2_loss: 3.5314\n",
      "Epoch 3/10\n",
      "7/7 - 6s - loss: 3.7900 - output_1_loss: 0.2121 - output_2_loss: 3.5779 - val_loss: 3.7422 - val_output_1_loss: 0.2065 - val_output_2_loss: 3.5357\n",
      "Epoch 4/10\n",
      "7/7 - 6s - loss: 3.7743 - output_1_loss: 0.2008 - output_2_loss: 3.5734 - val_loss: 3.7312 - val_output_1_loss: 0.1998 - val_output_2_loss: 3.5314\n",
      "Epoch 5/10\n",
      "7/7 - 6s - loss: 3.7697 - output_1_loss: 0.1975 - output_2_loss: 3.5722 - val_loss: 3.7310 - val_output_1_loss: 0.1978 - val_output_2_loss: 3.5332\n",
      "Epoch 6/10\n",
      "7/7 - 6s - loss: 3.7673 - output_1_loss: 0.1944 - output_2_loss: 3.5730 - val_loss: 3.7280 - val_output_1_loss: 0.1954 - val_output_2_loss: 3.5326\n",
      "Epoch 7/10\n",
      "7/7 - 6s - loss: 3.7624 - output_1_loss: 0.1908 - output_2_loss: 3.5716 - val_loss: 3.7194 - val_output_1_loss: 0.1898 - val_output_2_loss: 3.5296\n",
      "Epoch 8/10\n",
      "7/7 - 6s - loss: 3.7442 - output_1_loss: 0.1759 - output_2_loss: 3.5684 - val_loss: 3.6722 - val_output_1_loss: 0.1535 - val_output_2_loss: 3.5187\n",
      "Epoch 9/10\n",
      "7/7 - 6s - loss: 3.7071 - output_1_loss: 0.1532 - output_2_loss: 3.5539 - val_loss: 3.6469 - val_output_1_loss: 0.1530 - val_output_2_loss: 3.4939\n",
      "Epoch 10/10\n",
      "7/7 - 6s - loss: 3.6748 - output_1_loss: 0.1501 - output_2_loss: 3.5248 - val_loss: 3.6144 - val_output_1_loss: 0.1545 - val_output_2_loss: 3.4599\n",
      "\n",
      "Model P0.3...\n",
      "\n",
      "Epoch 1/10\n",
      "7/7 - 174s - loss: 5.7174 - output_1_loss: 0.3620 - output_2_loss: 5.3554 - val_loss: 5.6122 - val_output_1_loss: 0.3194 - val_output_2_loss: 5.2928\n",
      "Epoch 2/10\n",
      "7/7 - 6s - loss: 5.6485 - output_1_loss: 0.2918 - output_2_loss: 5.3567 - val_loss: 5.5743 - val_output_1_loss: 0.2803 - val_output_2_loss: 5.2940\n",
      "Epoch 3/10\n",
      "7/7 - 6s - loss: 5.6299 - output_1_loss: 0.2728 - output_2_loss: 5.3571 - val_loss: 5.5655 - val_output_1_loss: 0.2705 - val_output_2_loss: 5.2950\n",
      "Epoch 4/10\n",
      "7/7 - 6s - loss: 5.6163 - output_1_loss: 0.2603 - output_2_loss: 5.3560 - val_loss: 5.5459 - val_output_1_loss: 0.2534 - val_output_2_loss: 5.2925\n",
      "Epoch 5/10\n",
      "7/7 - 6s - loss: 5.5701 - output_1_loss: 0.2271 - output_2_loss: 5.3430 - val_loss: 5.4742 - val_output_1_loss: 0.2138 - val_output_2_loss: 5.2603\n",
      "Epoch 6/10\n",
      "7/7 - 6s - loss: 5.5070 - output_1_loss: 0.2062 - output_2_loss: 5.3008 - val_loss: 5.4089 - val_output_1_loss: 0.2031 - val_output_2_loss: 5.2057\n",
      "Epoch 7/10\n",
      "7/7 - 5s - loss: 5.4536 - output_1_loss: 0.2105 - output_2_loss: 5.2431 - val_loss: 5.3175 - val_output_1_loss: 0.2126 - val_output_2_loss: 5.1049\n",
      "Epoch 8/10\n",
      "7/7 - 6s - loss: 5.3218 - output_1_loss: 0.2357 - output_2_loss: 5.0862 - val_loss: 5.1855 - val_output_1_loss: 0.2718 - val_output_2_loss: 4.9137\n",
      "Epoch 9/10\n",
      "7/7 - 6s - loss: 5.1069 - output_1_loss: 0.3159 - output_2_loss: 4.7909 - val_loss: 4.9305 - val_output_1_loss: 0.3842 - val_output_2_loss: 4.5462\n",
      "Epoch 10/10\n",
      "7/7 - 6s - loss: 4.9532 - output_1_loss: 0.3904 - output_2_loss: 4.5628 - val_loss: 4.8864 - val_output_1_loss: 0.4139 - val_output_2_loss: 4.4725\n",
      "WARNING:tensorflow:5 out of the last 15 calls to <function Model.make_predict_function.<locals>.predict_function at 0x7f5546b2c7b8> triggered tf.function retracing. Tracing is expensive and the excessive number of tracings could be due to (1) creating @tf.function repeatedly in a loop, (2) passing tensors with different shapes, (3) passing Python objects instead of tensors. For (1), please define your @tf.function outside of the loop. For (2), @tf.function has experimental_relax_shapes=True option that relaxes argument shapes that can avoid unnecessary retracing. For (3), please refer to https://www.tensorflow.org/guide/function#controlling_retracing and https://www.tensorflow.org/api_docs/python/tf/function for  more details.\n",
      "\n",
      "Model P0.4...\n",
      "\n",
      "Epoch 1/10\n",
      "7/7 - 175s - loss: 7.4996 - output_1_loss: 0.3595 - output_2_loss: 7.1401 - val_loss: 7.4178 - val_output_1_loss: 0.3580 - val_output_2_loss: 7.0598\n",
      "Epoch 2/10\n",
      "7/7 - 6s - loss: 7.4729 - output_1_loss: 0.3316 - output_2_loss: 7.1413 - val_loss: 7.3901 - val_output_1_loss: 0.3337 - val_output_2_loss: 7.0564\n",
      "Epoch 3/10\n",
      "7/7 - 6s - loss: 7.4568 - output_1_loss: 0.3154 - output_2_loss: 7.1414 - val_loss: 7.3717 - val_output_1_loss: 0.3160 - val_output_2_loss: 7.0557\n",
      "Epoch 4/10\n",
      "7/7 - 6s - loss: 7.4168 - output_1_loss: 0.2814 - output_2_loss: 7.1355 - val_loss: 7.2814 - val_output_1_loss: 0.2477 - val_output_2_loss: 7.0337\n",
      "Epoch 5/10\n",
      "7/7 - 6s - loss: 7.3279 - output_1_loss: 0.2322 - output_2_loss: 7.0957 - val_loss: 7.2092 - val_output_1_loss: 0.2314 - val_output_2_loss: 6.9778\n",
      "Epoch 6/10\n",
      "7/7 - 5s - loss: 7.2571 - output_1_loss: 0.2285 - output_2_loss: 7.0286 - val_loss: 7.1375 - val_output_1_loss: 0.2451 - val_output_2_loss: 6.8924\n",
      "Epoch 7/10\n",
      "7/7 - 5s - loss: 7.1560 - output_1_loss: 0.2400 - output_2_loss: 6.9160 - val_loss: 6.9403 - val_output_1_loss: 0.2449 - val_output_2_loss: 6.6953\n",
      "Epoch 8/10\n",
      "7/7 - 6s - loss: 6.9461 - output_1_loss: 0.2881 - output_2_loss: 6.6580 - val_loss: 6.6191 - val_output_1_loss: 0.2947 - val_output_2_loss: 6.3244\n",
      "Epoch 9/10\n",
      "7/7 - 5s - loss: 6.5575 - output_1_loss: 0.3453 - output_2_loss: 6.2121 - val_loss: 6.0970 - val_output_1_loss: 0.3638 - val_output_2_loss: 5.7332\n",
      "Epoch 10/10\n",
      "7/7 - 5s - loss: 5.8672 - output_1_loss: 0.4359 - output_2_loss: 5.4314 - val_loss: 5.3399 - val_output_1_loss: 0.4915 - val_output_2_loss: 4.8484\n",
      "WARNING:tensorflow:6 out of the last 16 calls to <function Model.make_predict_function.<locals>.predict_function at 0x7f579cbd7048> triggered tf.function retracing. Tracing is expensive and the excessive number of tracings could be due to (1) creating @tf.function repeatedly in a loop, (2) passing tensors with different shapes, (3) passing Python objects instead of tensors. For (1), please define your @tf.function outside of the loop. For (2), @tf.function has experimental_relax_shapes=True option that relaxes argument shapes that can avoid unnecessary retracing. For (3), please refer to https://www.tensorflow.org/guide/function#controlling_retracing and https://www.tensorflow.org/api_docs/python/tf/function for  more details.\n",
      "\n",
      "Model P0.5...\n",
      "\n",
      "Epoch 1/10\n",
      "7/7 - 175s - loss: 9.2923 - output_1_loss: 0.3695 - output_2_loss: 8.9228 - val_loss: 9.1799 - val_output_1_loss: 0.3644 - val_output_2_loss: 8.8155\n",
      "Epoch 2/10\n",
      "7/7 - 6s - loss: 9.2649 - output_1_loss: 0.3495 - output_2_loss: 8.9154 - val_loss: 9.1411 - val_output_1_loss: 0.3410 - val_output_2_loss: 8.8001\n",
      "Epoch 3/10\n",
      "7/7 - 5s - loss: 9.1490 - output_1_loss: 0.3231 - output_2_loss: 8.8259 - val_loss: 8.9540 - val_output_1_loss: 0.3792 - val_output_2_loss: 8.5748\n",
      "Epoch 4/10\n",
      "7/7 - 5s - loss: 8.9288 - output_1_loss: 0.4133 - output_2_loss: 8.5155 - val_loss: 8.6841 - val_output_1_loss: 0.4932 - val_output_2_loss: 8.1909\n",
      "Epoch 5/10\n",
      "7/7 - 6s - loss: 8.5653 - output_1_loss: 0.5327 - output_2_loss: 8.0325 - val_loss: 8.2266 - val_output_1_loss: 0.6519 - val_output_2_loss: 7.5747\n",
      "Epoch 6/10\n",
      "7/7 - 5s - loss: 7.9362 - output_1_loss: 0.6605 - output_2_loss: 7.2757 - val_loss: 7.4830 - val_output_1_loss: 0.7266 - val_output_2_loss: 6.7563\n",
      "Epoch 7/10\n",
      "7/7 - 5s - loss: 7.4163 - output_1_loss: 0.7687 - output_2_loss: 6.6476 - val_loss: 6.8827 - val_output_1_loss: 0.9074 - val_output_2_loss: 5.9753\n",
      "Epoch 8/10\n",
      "7/7 - 5s - loss: 6.4232 - output_1_loss: 0.8489 - output_2_loss: 5.5744 - val_loss: 6.2142 - val_output_1_loss: 0.8771 - val_output_2_loss: 5.3371\n",
      "Epoch 9/10\n",
      "7/7 - 6s - loss: 5.5543 - output_1_loss: 0.8550 - output_2_loss: 4.6994 - val_loss: 5.1847 - val_output_1_loss: 0.9049 - val_output_2_loss: 4.2798\n",
      "Epoch 10/10\n",
      "7/7 - 6s - loss: 5.1023 - output_1_loss: 0.9022 - output_2_loss: 4.2001 - val_loss: 5.0160 - val_output_1_loss: 0.9009 - val_output_2_loss: 4.1151\n",
      "WARNING:tensorflow:7 out of the last 17 calls to <function Model.make_predict_function.<locals>.predict_function at 0x7f5541789d08> triggered tf.function retracing. Tracing is expensive and the excessive number of tracings could be due to (1) creating @tf.function repeatedly in a loop, (2) passing tensors with different shapes, (3) passing Python objects instead of tensors. For (1), please define your @tf.function outside of the loop. For (2), @tf.function has experimental_relax_shapes=True option that relaxes argument shapes that can avoid unnecessary retracing. For (3), please refer to https://www.tensorflow.org/guide/function#controlling_retracing and https://www.tensorflow.org/api_docs/python/tf/function for  more details.\n",
      "\n",
      "Model P0.6...\n",
      "\n",
      "Epoch 1/10\n",
      "7/7 - 174s - loss: 11.0767 - output_1_loss: 0.3709 - output_2_loss: 10.7058 - val_loss: 10.9442 - val_output_1_loss: 0.3705 - val_output_2_loss: 10.5737\n",
      "Epoch 2/10\n",
      "7/7 - 6s - loss: 11.0432 - output_1_loss: 0.3567 - output_2_loss: 10.6865 - val_loss: 10.8855 - val_output_1_loss: 0.3373 - val_output_2_loss: 10.5482\n",
      "Epoch 3/10\n",
      "7/7 - 6s - loss: 10.9661 - output_1_loss: 0.3302 - output_2_loss: 10.6360 - val_loss: 10.7177 - val_output_1_loss: 0.3237 - val_output_2_loss: 10.3940\n",
      "Epoch 4/10\n",
      "7/7 - 6s - loss: 10.6869 - output_1_loss: 0.3523 - output_2_loss: 10.3345 - val_loss: 10.2836 - val_output_1_loss: 0.4216 - val_output_2_loss: 9.8620\n",
      "Epoch 5/10\n",
      "7/7 - 6s - loss: 10.1857 - output_1_loss: 0.4500 - output_2_loss: 9.7357 - val_loss: 9.6888 - val_output_1_loss: 0.4892 - val_output_2_loss: 9.1997\n",
      "Epoch 6/10\n",
      "7/7 - 6s - loss: 9.4388 - output_1_loss: 0.5122 - output_2_loss: 8.9266 - val_loss: 8.8147 - val_output_1_loss: 0.5737 - val_output_2_loss: 8.2410\n",
      "Epoch 7/10\n",
      "7/7 - 6s - loss: 8.3492 - output_1_loss: 0.5945 - output_2_loss: 7.7546 - val_loss: 7.4893 - val_output_1_loss: 0.6408 - val_output_2_loss: 6.8484\n",
      "Epoch 8/10\n",
      "7/7 - 6s - loss: 7.1225 - output_1_loss: 0.6740 - output_2_loss: 6.4486 - val_loss: 6.8796 - val_output_1_loss: 0.6930 - val_output_2_loss: 6.1866\n",
      "Epoch 9/10\n",
      "7/7 - 6s - loss: 6.3134 - output_1_loss: 0.7005 - output_2_loss: 5.6129 - val_loss: 5.4800 - val_output_1_loss: 0.7184 - val_output_2_loss: 4.7616\n",
      "Epoch 10/10\n",
      "7/7 - 6s - loss: 5.5315 - output_1_loss: 0.7146 - output_2_loss: 4.8169 - val_loss: 5.0469 - val_output_1_loss: 0.6996 - val_output_2_loss: 4.3473\n",
      "WARNING:tensorflow:8 out of the last 18 calls to <function Model.make_predict_function.<locals>.predict_function at 0x7f5598212b70> triggered tf.function retracing. Tracing is expensive and the excessive number of tracings could be due to (1) creating @tf.function repeatedly in a loop, (2) passing tensors with different shapes, (3) passing Python objects instead of tensors. For (1), please define your @tf.function outside of the loop. For (2), @tf.function has experimental_relax_shapes=True option that relaxes argument shapes that can avoid unnecessary retracing. For (3), please refer to https://www.tensorflow.org/guide/function#controlling_retracing and https://www.tensorflow.org/api_docs/python/tf/function for  more details.\n",
      "\n",
      "Model P0.7...\n",
      "\n",
      "Epoch 1/10\n",
      "7/7 - 173s - loss: 12.8563 - output_1_loss: 0.3708 - output_2_loss: 12.4855 - val_loss: 12.6826 - val_output_1_loss: 0.3645 - val_output_2_loss: 12.3181\n",
      "Epoch 2/10\n",
      "7/7 - 6s - loss: 12.7662 - output_1_loss: 0.3434 - output_2_loss: 12.4228 - val_loss: 12.4941 - val_output_1_loss: 0.3249 - val_output_2_loss: 12.1692\n",
      "Epoch 3/10\n",
      "7/7 - 6s - loss: 12.4117 - output_1_loss: 0.3001 - output_2_loss: 12.1116 - val_loss: 11.8738 - val_output_1_loss: 0.3300 - val_output_2_loss: 11.5438\n",
      "Epoch 4/10\n",
      "7/7 - 6s - loss: 11.6719 - output_1_loss: 0.3941 - output_2_loss: 11.2778 - val_loss: 10.9176 - val_output_1_loss: 0.4550 - val_output_2_loss: 10.4626\n",
      "Epoch 5/10\n",
      "7/7 - 6s - loss: 10.5451 - output_1_loss: 0.5046 - output_2_loss: 10.0405 - val_loss: 9.7948 - val_output_1_loss: 0.6134 - val_output_2_loss: 9.1814\n",
      "Epoch 6/10\n",
      "7/7 - 6s - loss: 9.1068 - output_1_loss: 0.6217 - output_2_loss: 8.4850 - val_loss: 8.3655 - val_output_1_loss: 0.6586 - val_output_2_loss: 7.7070\n",
      "Epoch 7/10\n",
      "7/7 - 6s - loss: 7.7629 - output_1_loss: 0.6934 - output_2_loss: 7.0695 - val_loss: 6.9668 - val_output_1_loss: 0.7073 - val_output_2_loss: 6.2595\n",
      "Epoch 8/10\n",
      "7/7 - 6s - loss: 6.4365 - output_1_loss: 0.7475 - output_2_loss: 5.6889 - val_loss: 6.2463 - val_output_1_loss: 0.7311 - val_output_2_loss: 5.5152\n",
      "Epoch 9/10\n",
      "7/7 - 6s - loss: 6.1903 - output_1_loss: 0.7673 - output_2_loss: 5.4230 - val_loss: 6.4661 - val_output_1_loss: 0.7322 - val_output_2_loss: 5.7339\n",
      "Epoch 10/10\n",
      "7/7 - 6s - loss: 5.3829 - output_1_loss: 0.7115 - output_2_loss: 4.6714 - val_loss: 4.7804 - val_output_1_loss: 0.6618 - val_output_2_loss: 4.1186\n",
      "WARNING:tensorflow:9 out of the last 19 calls to <function Model.make_predict_function.<locals>.predict_function at 0x7f5585d88bf8> triggered tf.function retracing. Tracing is expensive and the excessive number of tracings could be due to (1) creating @tf.function repeatedly in a loop, (2) passing tensors with different shapes, (3) passing Python objects instead of tensors. For (1), please define your @tf.function outside of the loop. For (2), @tf.function has experimental_relax_shapes=True option that relaxes argument shapes that can avoid unnecessary retracing. For (3), please refer to https://www.tensorflow.org/guide/function#controlling_retracing and https://www.tensorflow.org/api_docs/python/tf/function for  more details.\n",
      "\n",
      "Model P0.8...\n",
      "\n",
      "Epoch 1/10\n",
      "7/7 - 178s - loss: 14.6340 - output_1_loss: 0.3644 - output_2_loss: 14.2696 - val_loss: 14.3996 - val_output_1_loss: 0.3284 - val_output_2_loss: 14.0712\n",
      "Epoch 2/10\n",
      "7/7 - 6s - loss: 14.4308 - output_1_loss: 0.3150 - output_2_loss: 14.1157 - val_loss: 14.0744 - val_output_1_loss: 0.3349 - val_output_2_loss: 13.7395\n",
      "Epoch 3/10\n",
      "7/7 - 6s - loss: 14.0804 - output_1_loss: 0.3795 - output_2_loss: 13.7008 - val_loss: 13.6116 - val_output_1_loss: 0.4353 - val_output_2_loss: 13.1763\n",
      "Epoch 4/10\n",
      "7/7 - 6s - loss: 13.5045 - output_1_loss: 0.4908 - output_2_loss: 13.0137 - val_loss: 12.8469 - val_output_1_loss: 0.5566 - val_output_2_loss: 12.2902\n",
      "Epoch 5/10\n",
      "7/7 - 6s - loss: 12.6062 - output_1_loss: 0.6127 - output_2_loss: 11.9935 - val_loss: 11.7933 - val_output_1_loss: 0.6662 - val_output_2_loss: 11.1271\n",
      "Epoch 6/10\n",
      "7/7 - 6s - loss: 11.4413 - output_1_loss: 0.7113 - output_2_loss: 10.7300 - val_loss: 10.6645 - val_output_1_loss: 0.7925 - val_output_2_loss: 9.8720\n",
      "Epoch 7/10\n",
      "7/7 - 6s - loss: 10.2896 - output_1_loss: 0.8195 - output_2_loss: 9.4701 - val_loss: 9.6069 - val_output_1_loss: 0.8615 - val_output_2_loss: 8.7454\n",
      "Epoch 8/10\n",
      "7/7 - 6s - loss: 9.3904 - output_1_loss: 0.9015 - output_2_loss: 8.4889 - val_loss: 8.9805 - val_output_1_loss: 0.9392 - val_output_2_loss: 8.0412\n",
      "Epoch 9/10\n",
      "7/7 - 6s - loss: 8.9547 - output_1_loss: 0.9553 - output_2_loss: 7.9994 - val_loss: 8.9007 - val_output_1_loss: 0.9773 - val_output_2_loss: 7.9233\n",
      "Epoch 10/10\n",
      "7/7 - 6s - loss: 8.9643 - output_1_loss: 0.9702 - output_2_loss: 7.9942 - val_loss: 9.0962 - val_output_1_loss: 0.9856 - val_output_2_loss: 8.1106\n",
      "WARNING:tensorflow:10 out of the last 20 calls to <function Model.make_predict_function.<locals>.predict_function at 0x7f57f83acd08> triggered tf.function retracing. Tracing is expensive and the excessive number of tracings could be due to (1) creating @tf.function repeatedly in a loop, (2) passing tensors with different shapes, (3) passing Python objects instead of tensors. For (1), please define your @tf.function outside of the loop. For (2), @tf.function has experimental_relax_shapes=True option that relaxes argument shapes that can avoid unnecessary retracing. For (3), please refer to https://www.tensorflow.org/guide/function#controlling_retracing and https://www.tensorflow.org/api_docs/python/tf/function for  more details.\n",
      "\n",
      "Model P0.9...\n",
      "\n",
      "Epoch 1/10\n",
      "7/7 - 179s - loss: 16.4069 - output_1_loss: 0.3681 - output_2_loss: 16.0388 - val_loss: 16.0948 - val_output_1_loss: 0.3399 - val_output_2_loss: 15.7549\n",
      "Epoch 2/10\n",
      "7/7 - 6s - loss: 15.8695 - output_1_loss: 0.3038 - output_2_loss: 15.5657 - val_loss: 15.0394 - val_output_1_loss: 0.3056 - val_output_2_loss: 14.7338\n",
      "Epoch 3/10\n",
      "7/7 - 6s - loss: 14.7528 - output_1_loss: 0.3246 - output_2_loss: 14.4282 - val_loss: 13.7815 - val_output_1_loss: 0.3370 - val_output_2_loss: 13.4445\n",
      "Epoch 4/10\n",
      "7/7 - 6s - loss: 13.3250 - output_1_loss: 0.3739 - output_2_loss: 12.9511 - val_loss: 12.1374 - val_output_1_loss: 0.3936 - val_output_2_loss: 11.7438\n",
      "Epoch 5/10\n",
      "7/7 - 6s - loss: 11.5285 - output_1_loss: 0.4209 - output_2_loss: 11.1076 - val_loss: 10.2577 - val_output_1_loss: 0.4306 - val_output_2_loss: 9.8271\n",
      "Epoch 6/10\n",
      "7/7 - 6s - loss: 9.6138 - output_1_loss: 0.4493 - output_2_loss: 9.1644 - val_loss: 8.4136 - val_output_1_loss: 0.4612 - val_output_2_loss: 7.9523\n",
      "Epoch 7/10\n",
      "7/7 - 5s - loss: 7.8632 - output_1_loss: 0.4746 - output_2_loss: 7.3886 - val_loss: 6.9848 - val_output_1_loss: 0.4919 - val_output_2_loss: 6.4929\n",
      "Epoch 8/10\n",
      "7/7 - 5s - loss: 6.6461 - output_1_loss: 0.5039 - output_2_loss: 6.1422 - val_loss: 6.2600 - val_output_1_loss: 0.5133 - val_output_2_loss: 5.7467\n",
      "Epoch 9/10\n",
      "7/7 - 5s - loss: 6.0666 - output_1_loss: 0.5106 - output_2_loss: 5.5561 - val_loss: 6.1248 - val_output_1_loss: 0.5185 - val_output_2_loss: 5.6063\n",
      "Epoch 10/10\n",
      "7/7 - 5s - loss: 5.9622 - output_1_loss: 0.5048 - output_2_loss: 5.4574 - val_loss: 5.9446 - val_output_1_loss: 0.4903 - val_output_2_loss: 5.4543\n",
      "WARNING:tensorflow:11 out of the last 21 calls to <function Model.make_predict_function.<locals>.predict_function at 0x7f55498ad730> triggered tf.function retracing. Tracing is expensive and the excessive number of tracings could be due to (1) creating @tf.function repeatedly in a loop, (2) passing tensors with different shapes, (3) passing Python objects instead of tensors. For (1), please define your @tf.function outside of the loop. For (2), @tf.function has experimental_relax_shapes=True option that relaxes argument shapes that can avoid unnecessary retracing. For (3), please refer to https://www.tensorflow.org/guide/function#controlling_retracing and https://www.tensorflow.org/api_docs/python/tf/function for  more details.\n"
     ]
    }
   ],
   "source": [
    "models = []\n",
    "preds = []\n",
    "\n",
    "for tau in np.arange(0.1, 1, 0.1):\n",
    "    cloned_target_model = tf.keras.models.clone_model(target_model)\n",
    "#     cloned_target_model.trainable = False # allow fine tuning\n",
    "    \n",
    "    model = AR_LSTM(\n",
    "        target_model = cloned_target_model,\n",
    "        units = args[\"NUM_UNITS\"],\n",
    "        out_steps = args[\"WINDOW_TAR\"],\n",
    "        name = f\"P{tau:.1f}\")\n",
    "\n",
    "    model.compile(\n",
    "        loss = tfa.losses.PinballLoss(tau = tau),\n",
    "        optimizer = tf.keras.optimizers.Adam(args[\"INIT_LR\"]))\n",
    "    \n",
    "    # TensorBoard callback.\n",
    "    log_dir = os.path.join(\n",
    "        \"logs\", \"fit\", os.environ[\"NOTEBOOKNAME\"], \n",
    "        datetime.datetime.now().strftime(f\"{model.name}-%Y%m%d-%H%M%S\"))\n",
    "    tb_callback = tf.keras.callbacks.TensorBoard(log_dir = log_dir, histogram_freq = 1)\n",
    "\n",
    "    print(f\"\\nModel {model.name}...\\n\")\n",
    "    \n",
    "    _ = model.fit(\n",
    "        tr_dataset,\n",
    "        validation_data = vl_dataset,\n",
    "        epochs = args[\"EPOCH\"],\n",
    "        verbose = 2,\n",
    "        callbacks = [tb_callback])\n",
    "    \n",
    "    _, pred = model.predict(ts_dataset)\n",
    "    preds.append(np.array(pred)[..., 0])\n",
    "    \n",
    "    del model # for save memories    "
   ]
  },
  {
   "cell_type": "code",
   "execution_count": null,
   "metadata": {},
   "outputs": [],
   "source": [
    "# models[0].summary()"
   ]
  },
  {
   "cell_type": "code",
   "execution_count": 50,
   "metadata": {},
   "outputs": [],
   "source": [
    "# %tensorboard --logdir logs/fit --host jupyter-server"
   ]
  },
  {
   "cell_type": "markdown",
   "metadata": {},
   "source": [
    "## **Predict**"
   ]
  },
  {
   "cell_type": "code",
   "execution_count": 51,
   "metadata": {},
   "outputs": [
    {
     "data": {
      "text/html": [
       "<div>\n",
       "<style scoped>\n",
       "    .dataframe tbody tr th:only-of-type {\n",
       "        vertical-align: middle;\n",
       "    }\n",
       "\n",
       "    .dataframe tbody tr th {\n",
       "        vertical-align: top;\n",
       "    }\n",
       "\n",
       "    .dataframe thead th {\n",
       "        text-align: right;\n",
       "    }\n",
       "</style>\n",
       "<table border=\"1\" class=\"dataframe\">\n",
       "  <thead>\n",
       "    <tr style=\"text-align: right;\">\n",
       "      <th></th>\n",
       "      <th>q_0.1</th>\n",
       "      <th>q_0.2</th>\n",
       "      <th>q_0.3</th>\n",
       "      <th>q_0.4</th>\n",
       "      <th>q_0.5</th>\n",
       "      <th>q_0.6</th>\n",
       "      <th>q_0.7</th>\n",
       "      <th>q_0.8</th>\n",
       "      <th>q_0.9</th>\n",
       "    </tr>\n",
       "    <tr>\n",
       "      <th>id</th>\n",
       "      <th></th>\n",
       "      <th></th>\n",
       "      <th></th>\n",
       "      <th></th>\n",
       "      <th></th>\n",
       "      <th></th>\n",
       "      <th></th>\n",
       "      <th></th>\n",
       "      <th></th>\n",
       "    </tr>\n",
       "  </thead>\n",
       "  <tbody>\n",
       "    <tr>\n",
       "      <th>0.csv_Day7_0h00m</th>\n",
       "      <td>0.0</td>\n",
       "      <td>0.0</td>\n",
       "      <td>0.0</td>\n",
       "      <td>0.0</td>\n",
       "      <td>0.0</td>\n",
       "      <td>0.0</td>\n",
       "      <td>0.0</td>\n",
       "      <td>0.0</td>\n",
       "      <td>0.0</td>\n",
       "    </tr>\n",
       "    <tr>\n",
       "      <th>0.csv_Day7_0h30m</th>\n",
       "      <td>0.0</td>\n",
       "      <td>0.0</td>\n",
       "      <td>0.0</td>\n",
       "      <td>0.0</td>\n",
       "      <td>0.0</td>\n",
       "      <td>0.0</td>\n",
       "      <td>0.0</td>\n",
       "      <td>0.0</td>\n",
       "      <td>0.0</td>\n",
       "    </tr>\n",
       "    <tr>\n",
       "      <th>0.csv_Day7_1h00m</th>\n",
       "      <td>0.0</td>\n",
       "      <td>0.0</td>\n",
       "      <td>0.0</td>\n",
       "      <td>0.0</td>\n",
       "      <td>0.0</td>\n",
       "      <td>0.0</td>\n",
       "      <td>0.0</td>\n",
       "      <td>0.0</td>\n",
       "      <td>0.0</td>\n",
       "    </tr>\n",
       "    <tr>\n",
       "      <th>0.csv_Day7_1h30m</th>\n",
       "      <td>0.0</td>\n",
       "      <td>0.0</td>\n",
       "      <td>0.0</td>\n",
       "      <td>0.0</td>\n",
       "      <td>0.0</td>\n",
       "      <td>0.0</td>\n",
       "      <td>0.0</td>\n",
       "      <td>0.0</td>\n",
       "      <td>0.0</td>\n",
       "    </tr>\n",
       "    <tr>\n",
       "      <th>0.csv_Day7_2h00m</th>\n",
       "      <td>0.0</td>\n",
       "      <td>0.0</td>\n",
       "      <td>0.0</td>\n",
       "      <td>0.0</td>\n",
       "      <td>0.0</td>\n",
       "      <td>0.0</td>\n",
       "      <td>0.0</td>\n",
       "      <td>0.0</td>\n",
       "      <td>0.0</td>\n",
       "    </tr>\n",
       "  </tbody>\n",
       "</table>\n",
       "</div>"
      ],
      "text/plain": [
       "                  q_0.1  q_0.2  q_0.3  q_0.4  q_0.5  q_0.6  q_0.7  q_0.8  \\\n",
       "id                                                                         \n",
       "0.csv_Day7_0h00m    0.0    0.0    0.0    0.0    0.0    0.0    0.0    0.0   \n",
       "0.csv_Day7_0h30m    0.0    0.0    0.0    0.0    0.0    0.0    0.0    0.0   \n",
       "0.csv_Day7_1h00m    0.0    0.0    0.0    0.0    0.0    0.0    0.0    0.0   \n",
       "0.csv_Day7_1h30m    0.0    0.0    0.0    0.0    0.0    0.0    0.0    0.0   \n",
       "0.csv_Day7_2h00m    0.0    0.0    0.0    0.0    0.0    0.0    0.0    0.0   \n",
       "\n",
       "                  q_0.9  \n",
       "id                       \n",
       "0.csv_Day7_0h00m    0.0  \n",
       "0.csv_Day7_0h30m    0.0  \n",
       "0.csv_Day7_1h00m    0.0  \n",
       "0.csv_Day7_1h30m    0.0  \n",
       "0.csv_Day7_2h00m    0.0  "
      ]
     },
     "execution_count": 51,
     "metadata": {},
     "output_type": "execute_result"
    }
   ],
   "source": [
    "submission = pd.read_csv(os.path.join(os.environ[\"LOCAL_DATA_PATH\"], \"sample_submission.csv\"), index_col = \"id\")\n",
    "submission.head()"
   ]
  },
  {
   "cell_type": "code",
   "execution_count": 52,
   "metadata": {},
   "outputs": [],
   "source": [
    "for column, pred in zip(submission.columns, preds):\n",
    "    foo = np.reshape(pred, (-1,))\n",
    "#     foo = (foo * args[\"TARGET_STD\"]) + args[\"TARGET_STD\"]\n",
    "#     foo = np.where(foo < 0, 0, foo) # clip by value\n",
    "    \n",
    "    submission[column] = foo"
   ]
  },
  {
   "cell_type": "code",
   "execution_count": 53,
   "metadata": {},
   "outputs": [
    {
     "data": {
      "text/html": [
       "<div>\n",
       "<style scoped>\n",
       "    .dataframe tbody tr th:only-of-type {\n",
       "        vertical-align: middle;\n",
       "    }\n",
       "\n",
       "    .dataframe tbody tr th {\n",
       "        vertical-align: top;\n",
       "    }\n",
       "\n",
       "    .dataframe thead th {\n",
       "        text-align: right;\n",
       "    }\n",
       "</style>\n",
       "<table border=\"1\" class=\"dataframe\">\n",
       "  <thead>\n",
       "    <tr style=\"text-align: right;\">\n",
       "      <th></th>\n",
       "      <th>q_0.1</th>\n",
       "      <th>q_0.2</th>\n",
       "      <th>q_0.3</th>\n",
       "      <th>q_0.4</th>\n",
       "      <th>q_0.5</th>\n",
       "      <th>q_0.6</th>\n",
       "      <th>q_0.7</th>\n",
       "      <th>q_0.8</th>\n",
       "      <th>q_0.9</th>\n",
       "    </tr>\n",
       "    <tr>\n",
       "      <th>id</th>\n",
       "      <th></th>\n",
       "      <th></th>\n",
       "      <th></th>\n",
       "      <th></th>\n",
       "      <th></th>\n",
       "      <th></th>\n",
       "      <th></th>\n",
       "      <th></th>\n",
       "      <th></th>\n",
       "    </tr>\n",
       "  </thead>\n",
       "  <tbody>\n",
       "    <tr>\n",
       "      <th>0.csv_Day7_0h00m</th>\n",
       "      <td>-0.004019</td>\n",
       "      <td>0.177231</td>\n",
       "      <td>-0.014476</td>\n",
       "      <td>-0.024416</td>\n",
       "      <td>-0.018588</td>\n",
       "      <td>0.012451</td>\n",
       "      <td>0.004465</td>\n",
       "      <td>0.877329</td>\n",
       "      <td>68.854424</td>\n",
       "    </tr>\n",
       "    <tr>\n",
       "      <th>0.csv_Day7_0h30m</th>\n",
       "      <td>-0.005065</td>\n",
       "      <td>0.046418</td>\n",
       "      <td>-0.020659</td>\n",
       "      <td>-0.024424</td>\n",
       "      <td>-0.023509</td>\n",
       "      <td>0.011663</td>\n",
       "      <td>-0.003644</td>\n",
       "      <td>0.828816</td>\n",
       "      <td>68.891350</td>\n",
       "    </tr>\n",
       "    <tr>\n",
       "      <th>0.csv_Day7_1h00m</th>\n",
       "      <td>-0.006106</td>\n",
       "      <td>0.014293</td>\n",
       "      <td>-0.027513</td>\n",
       "      <td>-0.024047</td>\n",
       "      <td>-0.025475</td>\n",
       "      <td>0.011747</td>\n",
       "      <td>-0.006681</td>\n",
       "      <td>0.773268</td>\n",
       "      <td>68.896866</td>\n",
       "    </tr>\n",
       "    <tr>\n",
       "      <th>0.csv_Day7_1h30m</th>\n",
       "      <td>-0.007080</td>\n",
       "      <td>-0.000441</td>\n",
       "      <td>-0.032075</td>\n",
       "      <td>-0.021372</td>\n",
       "      <td>-0.028068</td>\n",
       "      <td>0.012477</td>\n",
       "      <td>-0.003693</td>\n",
       "      <td>0.710696</td>\n",
       "      <td>68.900414</td>\n",
       "    </tr>\n",
       "    <tr>\n",
       "      <th>0.csv_Day7_2h00m</th>\n",
       "      <td>-0.008667</td>\n",
       "      <td>-0.010739</td>\n",
       "      <td>-0.028036</td>\n",
       "      <td>-0.020577</td>\n",
       "      <td>-0.029846</td>\n",
       "      <td>0.013533</td>\n",
       "      <td>-0.001161</td>\n",
       "      <td>0.640188</td>\n",
       "      <td>68.905022</td>\n",
       "    </tr>\n",
       "  </tbody>\n",
       "</table>\n",
       "</div>"
      ],
      "text/plain": [
       "                     q_0.1     q_0.2     q_0.3     q_0.4     q_0.5     q_0.6  \\\n",
       "id                                                                             \n",
       "0.csv_Day7_0h00m -0.004019  0.177231 -0.014476 -0.024416 -0.018588  0.012451   \n",
       "0.csv_Day7_0h30m -0.005065  0.046418 -0.020659 -0.024424 -0.023509  0.011663   \n",
       "0.csv_Day7_1h00m -0.006106  0.014293 -0.027513 -0.024047 -0.025475  0.011747   \n",
       "0.csv_Day7_1h30m -0.007080 -0.000441 -0.032075 -0.021372 -0.028068  0.012477   \n",
       "0.csv_Day7_2h00m -0.008667 -0.010739 -0.028036 -0.020577 -0.029846  0.013533   \n",
       "\n",
       "                     q_0.7     q_0.8      q_0.9  \n",
       "id                                               \n",
       "0.csv_Day7_0h00m  0.004465  0.877329  68.854424  \n",
       "0.csv_Day7_0h30m -0.003644  0.828816  68.891350  \n",
       "0.csv_Day7_1h00m -0.006681  0.773268  68.896866  \n",
       "0.csv_Day7_1h30m -0.003693  0.710696  68.900414  \n",
       "0.csv_Day7_2h00m -0.001161  0.640188  68.905022  "
      ]
     },
     "execution_count": 53,
     "metadata": {},
     "output_type": "execute_result"
    }
   ],
   "source": [
    "submission.head()"
   ]
  },
  {
   "cell_type": "code",
   "execution_count": 54,
   "metadata": {},
   "outputs": [],
   "source": [
    "submission.to_csv(\n",
    "    os.path.join(os.environ[\"SUBMISSION_PATH\"], f\"{os.environ['NOTEBOOKNAME']}_submission.csv\"))"
   ]
  },
  {
   "cell_type": "code",
   "execution_count": null,
   "metadata": {},
   "outputs": [],
   "source": []
  }
 ],
 "metadata": {
  "kernelspec": {
   "display_name": "Python 3",
   "language": "python",
   "name": "python3"
  },
  "language_info": {
   "codemirror_mode": {
    "name": "ipython",
    "version": 3
   },
   "file_extension": ".py",
   "mimetype": "text/x-python",
   "name": "python",
   "nbconvert_exporter": "python",
   "pygments_lexer": "ipython3",
   "version": "3.6.9"
  }
 },
 "nbformat": 4,
 "nbformat_minor": 4
}
