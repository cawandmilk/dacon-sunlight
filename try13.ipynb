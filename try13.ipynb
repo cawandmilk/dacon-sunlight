{
 "cells": [
  {
   "cell_type": "markdown",
   "metadata": {},
   "source": [
    "# **Default Setting**\n",
    "\n",
    "* Python: 3.6.9\n",
    "* ML Framework: tf-nightly-gpu 2.5.0-dev20201208\n",
    "* CPU: AMD Ryzen 5 5600X 6-Core Processor\n",
    "* GPU: GeForce RTX 3070 (8G) (CUDA 11.1)\n",
    "* RAM: 32G\n",
    "* Platform: linux 20.04 LTS"
   ]
  },
  {
   "cell_type": "code",
   "execution_count": 1,
   "metadata": {},
   "outputs": [
    {
     "name": "stdout",
     "output_type": "stream",
     "text": [
      "env: NOTEBOOKNAME=try13\n",
      "env: LOCAL_DATA_PATH=data\n",
      "env: SUBMISSION_PATH=submission\n"
     ]
    }
   ],
   "source": [
    "%env NOTEBOOKNAME try13\n",
    "%env LOCAL_DATA_PATH data\n",
    "%env SUBMISSION_PATH submission"
   ]
  },
  {
   "cell_type": "code",
   "execution_count": 71,
   "metadata": {},
   "outputs": [
    {
     "name": "stdout",
     "output_type": "stream",
     "text": [
      "tf.__version__: 2.5.0-dev20201208\n",
      "tfa.__version__: 0.11.2\n"
     ]
    },
    {
     "name": "stderr",
     "output_type": "stream",
     "text": [
      "/home/myunggyo/anaconda3/envs/py36/lib/python3.6/site-packages/tensorflow_addons/utils/ensure_tf_install.py:44: UserWarning: You are currently using a nightly version of TensorFlow (2.5.0-dev20201208). \n",
      "TensorFlow Addons offers no support for the nightly versions of TensorFlow. Some things might work, some other might not. \n",
      "If you encounter a bug, do not file an issue on GitHub.\n",
      "  UserWarning,\n"
     ]
    }
   ],
   "source": [
    "import tensorflow as tf\n",
    "import tensorflow_addons as tfa\n",
    "\n",
    "import datetime\n",
    "import glob\n",
    "import os\n",
    "import platform\n",
    "\n",
    "import numpy as np\n",
    "import pandas as pd\n",
    "\n",
    "from collections import OrderedDict\n",
    "from matplotlib import pyplot as plt\n",
    "# from sklearn.model_selection import train_test_split\n",
    "\n",
    "print(f\"tf.__version__: {tf.__version__}\")\n",
    "print(f\"tfa.__version__: {tfa.__version__}\")"
   ]
  },
  {
   "cell_type": "code",
   "execution_count": 3,
   "metadata": {},
   "outputs": [
    {
     "data": {
      "text/plain": [
       "[PhysicalDevice(name='/physical_device:CPU:0', device_type='CPU'),\n",
       " PhysicalDevice(name='/physical_device:GPU:0', device_type='GPU')]"
      ]
     },
     "execution_count": 3,
     "metadata": {},
     "output_type": "execute_result"
    }
   ],
   "source": [
    "tf.config.list_physical_devices()"
   ]
  },
  {
   "cell_type": "code",
   "execution_count": 4,
   "metadata": {},
   "outputs": [],
   "source": [
    "# !python -V"
   ]
  },
  {
   "cell_type": "code",
   "execution_count": 5,
   "metadata": {},
   "outputs": [],
   "source": [
    "# !cat /proc/cpuinfo"
   ]
  },
  {
   "cell_type": "code",
   "execution_count": 6,
   "metadata": {},
   "outputs": [
    {
     "name": "stdout",
     "output_type": "stream",
     "text": [
      "Wed Dec 16 21:13:18 2020       \n",
      "+-----------------------------------------------------------------------------+\n",
      "| NVIDIA-SMI 455.32.00    Driver Version: 455.32.00    CUDA Version: 11.1     |\n",
      "|-------------------------------+----------------------+----------------------+\n",
      "| GPU  Name        Persistence-M| Bus-Id        Disp.A | Volatile Uncorr. ECC |\n",
      "| Fan  Temp  Perf  Pwr:Usage/Cap|         Memory-Usage | GPU-Util  Compute M. |\n",
      "|                               |                      |               MIG M. |\n",
      "|===============================+======================+======================|\n",
      "|   0  Graphics Device     On   | 00000000:0A:00.0  On |                  N/A |\n",
      "|  0%   37C    P8    19W / 220W |    302MiB /  7979MiB |     21%      Default |\n",
      "|                               |                      |                  N/A |\n",
      "+-------------------------------+----------------------+----------------------+\n",
      "                                                                               \n",
      "+-----------------------------------------------------------------------------+\n",
      "| Processes:                                                                  |\n",
      "|  GPU   GI   CI        PID   Type   Process name                  GPU Memory |\n",
      "|        ID   ID                                                   Usage      |\n",
      "|=============================================================================|\n",
      "|    0   N/A  N/A       926      G   /usr/lib/xorg/Xorg                 35MiB |\n",
      "|    0   N/A  N/A      1743      G   /usr/lib/xorg/Xorg                 92MiB |\n",
      "|    0   N/A  N/A      1869      G   /usr/bin/gnome-shell               25MiB |\n",
      "|    0   N/A  N/A      2165      G   ...AAAAAAAA== --shared-files      133MiB |\n",
      "+-----------------------------------------------------------------------------+\n"
     ]
    }
   ],
   "source": [
    "!nvidia-smi"
   ]
  },
  {
   "cell_type": "code",
   "execution_count": 7,
   "metadata": {},
   "outputs": [],
   "source": [
    "# !df -h"
   ]
  },
  {
   "cell_type": "code",
   "execution_count": 8,
   "metadata": {},
   "outputs": [
    {
     "name": "stdout",
     "output_type": "stream",
     "text": [
      "              total        used        free      shared  buff/cache   available\n",
      "Mem:           31Gi       2.4Gi        26Gi       489Mi       2.6Gi        28Gi\n",
      "Swap:         2.0Gi          0B       2.0Gi\n"
     ]
    }
   ],
   "source": [
    "!free -h"
   ]
  },
  {
   "cell_type": "code",
   "execution_count": 9,
   "metadata": {},
   "outputs": [],
   "source": [
    "# platform.platform()"
   ]
  },
  {
   "cell_type": "code",
   "execution_count": 10,
   "metadata": {},
   "outputs": [],
   "source": [
    "# Load the TensorBoard notebook extension.\n",
    "%load_ext tensorboard"
   ]
  },
  {
   "cell_type": "markdown",
   "metadata": {},
   "source": [
    "# **Define Arguments**"
   ]
  },
  {
   "cell_type": "code",
   "execution_count": 41,
   "metadata": {},
   "outputs": [
    {
     "data": {
      "text/plain": [
       "OrderedDict([('SEED', 42),\n",
       "             ('TEST_SIZE', 0.2),\n",
       "             ('EPOCH', 10),\n",
       "             ('INIT_LR', 0.001),\n",
       "             ('NUM_TEST_CSV', 81),\n",
       "             ('WINDOW_INP', 336),\n",
       "             ('WINDOW_TAR', 96),\n",
       "             ('WINDOW_SHIFT', 48),\n",
       "             ('WINDOW_STRIDE', 1),\n",
       "             ('WINDOW_DR', True),\n",
       "             ('AUTO', -1),\n",
       "             ('GLOBAL_BATCH_SIZE', 128),\n",
       "             ('NUM_UNITS', 64),\n",
       "             ('NUM_FEATURES', 7),\n",
       "             ('NUM_QUANTILE', 9)])"
      ]
     },
     "execution_count": 41,
     "metadata": {},
     "output_type": "execute_result"
    }
   ],
   "source": [
    "args = OrderedDict({\n",
    "    # Basic\n",
    "    \"SEED\": 42,\n",
    "    \"TEST_SIZE\": 0.2,\n",
    "    \"EPOCH\": 10,\n",
    "    \"INIT_LR\": 1e-3,\n",
    "    \n",
    "    # Dataframe\n",
    "    \"NUM_TEST_CSV\": 81,\n",
    "    \n",
    "    # Dataset Pipeline\n",
    "    \"WINDOW_INP\": 7 * 24 * 2, # 336, 7 days\n",
    "    \"WINDOW_TAR\": 2 * 24 * 2, # 96, 2 days\n",
    "    \"WINDOW_SHIFT\": 1 * 24 * 2, # 1 day\n",
    "    \"WINDOW_STRIDE\": 1,\n",
    "    \"WINDOW_DR\": True, # Drop remainders\n",
    "    \"AUTO\": tf.data.experimental.AUTOTUNE,\n",
    "    \n",
    "    \"GLOBAL_BATCH_SIZE\": 128,\n",
    "    \n",
    "    # Model\n",
    "    \"NUM_UNITS\": 64, # lstm units\n",
    "    \"NUM_FEATURES\": 7, # Day_sin, Day_cos, DHI, DNI, WS, RH, T\n",
    "    \"NUM_QUANTILE\": 9, # tau = 0.1 to 0.9\n",
    "    \n",
    "})\n",
    "\n",
    "args"
   ]
  },
  {
   "cell_type": "markdown",
   "metadata": {},
   "source": [
    "# **Load Datasets**"
   ]
  },
  {
   "cell_type": "markdown",
   "metadata": {},
   "source": [
    "## **Train / Validation**\n",
    "\n",
    "```\n",
    "\"\"\"Using sklearn.model_selection.train_test_split()\"\"\"\n",
    "\n",
    "tr_df, vl_df = train_test_split(\n",
    "    df, \n",
    "    test_size = args[\"TEST_SIZE\"]\n",
    "    random_state = args[\"SEED\"])\n",
    "    \n",
    "```"
   ]
  },
  {
   "cell_type": "code",
   "execution_count": 42,
   "metadata": {},
   "outputs": [],
   "source": [
    "df = pd.read_csv(os.path.join(os.environ[\"LOCAL_DATA_PATH\"], \"train\", \"train.csv\"))"
   ]
  },
  {
   "cell_type": "code",
   "execution_count": 43,
   "metadata": {},
   "outputs": [],
   "source": [
    "# df.head()"
   ]
  },
  {
   "cell_type": "code",
   "execution_count": 44,
   "metadata": {},
   "outputs": [],
   "source": [
    "# df.describe()"
   ]
  },
  {
   "cell_type": "code",
   "execution_count": 45,
   "metadata": {},
   "outputs": [
    {
     "data": {
      "text/plain": [
       "((42048, 9), (10512, 9))"
      ]
     },
     "execution_count": 45,
     "metadata": {},
     "output_type": "execute_result"
    }
   ],
   "source": [
    "args[\"SPLIT_LEN\"] = int(df.shape[0] * (1. - args[\"TEST_SIZE\"]))\n",
    "\n",
    "tr_df = df[:args[\"SPLIT_LEN\"]]\n",
    "vl_df = df[args[\"SPLIT_LEN\"]:]\n",
    "\n",
    "tr_df.shape, vl_df.shape"
   ]
  },
  {
   "cell_type": "code",
   "execution_count": 46,
   "metadata": {},
   "outputs": [],
   "source": [
    "def preprocessing(df, is_training = True, day = 24 * 60 * 60): # day must be represented by sec\n",
    "    # Drop timestampes.\n",
    "    try:\n",
    "        df = df.drop([\"Day\"], axis = 1) # cannot use day features\n",
    "    except:\n",
    "        pass\n",
    "    \n",
    "    \n",
    "    # Timestamp to sin/cos.\n",
    "    for column in [\"Hour\", \"Minute\"]:\n",
    "        df[f\"_{column}\"] = df[column].apply(lambda x: f\"{x:0>2d}\")\n",
    "    \n",
    "    df[\"Time\"] = df[[\"_Hour\", \"_Minute\"]].apply(lambda x: \":\".join(x), axis = 1)\n",
    "    \n",
    "    timestamp = pd.to_datetime(df[\"Time\"], format = \"%H:%M\").map(datetime.datetime.timestamp)\n",
    "        \n",
    "    day_sin = np.sin(timestamp * (2 * np.pi / day))\n",
    "    day_cos = np.cos(timestamp * (2 * np.pi / day))\n",
    "        \n",
    "    df.insert(loc = 0, column = \"DAY_SIN\", value = day_sin)\n",
    "    df.insert(loc = 1, column = \"DAY_COS\", value = day_cos)\n",
    "    \n",
    "    df = df.drop([\"Hour\", \"Minute\", \"_Hour\", \"_Minute\", \"Time\"], axis = 1)\n",
    "    \n",
    "    \n",
    "    # Standarize.\n",
    "    for column in [\"DHI\", \"DNI\", \"WS\", \"RH\", \"T\"]: # without DAY_SIN, DAY_COS, TARGET\n",
    "        if is_training:\n",
    "            args[f\"{column}_MEAN\"] = df[column].mean()\n",
    "            args[f\"{column}_STD\"] = df[column].std()\n",
    "        \n",
    "        df[column] = (df[column] - args[f\"{column}_MEAN\"]) / args[f\"{column}_STD\"]\n",
    "        \n",
    "    return df"
   ]
  },
  {
   "cell_type": "code",
   "execution_count": 47,
   "metadata": {},
   "outputs": [],
   "source": [
    "tr_df = preprocessing(tr_df)\n",
    "vl_df = preprocessing(vl_df, is_training = False)"
   ]
  },
  {
   "cell_type": "code",
   "execution_count": 48,
   "metadata": {},
   "outputs": [
    {
     "data": {
      "text/html": [
       "<div>\n",
       "<style scoped>\n",
       "    .dataframe tbody tr th:only-of-type {\n",
       "        vertical-align: middle;\n",
       "    }\n",
       "\n",
       "    .dataframe tbody tr th {\n",
       "        vertical-align: top;\n",
       "    }\n",
       "\n",
       "    .dataframe thead th {\n",
       "        text-align: right;\n",
       "    }\n",
       "</style>\n",
       "<table border=\"1\" class=\"dataframe\">\n",
       "  <thead>\n",
       "    <tr style=\"text-align: right;\">\n",
       "      <th></th>\n",
       "      <th>DAY_SIN</th>\n",
       "      <th>DAY_COS</th>\n",
       "      <th>DHI</th>\n",
       "      <th>DNI</th>\n",
       "      <th>WS</th>\n",
       "      <th>RH</th>\n",
       "      <th>T</th>\n",
       "      <th>TARGET</th>\n",
       "    </tr>\n",
       "  </thead>\n",
       "  <tbody>\n",
       "    <tr>\n",
       "      <th>0</th>\n",
       "      <td>-0.798985</td>\n",
       "      <td>-0.601350</td>\n",
       "      <td>-0.620599</td>\n",
       "      <td>-0.668244</td>\n",
       "      <td>-0.677079</td>\n",
       "      <td>0.527259</td>\n",
       "      <td>-2.018496</td>\n",
       "      <td>0.0</td>\n",
       "    </tr>\n",
       "    <tr>\n",
       "      <th>1</th>\n",
       "      <td>-0.870642</td>\n",
       "      <td>-0.491917</td>\n",
       "      <td>-0.620599</td>\n",
       "      <td>-0.668244</td>\n",
       "      <td>-0.677079</td>\n",
       "      <td>0.526338</td>\n",
       "      <td>-2.018496</td>\n",
       "      <td>0.0</td>\n",
       "    </tr>\n",
       "    <tr>\n",
       "      <th>2</th>\n",
       "      <td>-0.927402</td>\n",
       "      <td>-0.374067</td>\n",
       "      <td>-0.620599</td>\n",
       "      <td>-0.668244</td>\n",
       "      <td>-0.608733</td>\n",
       "      <td>0.651615</td>\n",
       "      <td>-2.018496</td>\n",
       "      <td>0.0</td>\n",
       "    </tr>\n",
       "    <tr>\n",
       "      <th>3</th>\n",
       "      <td>-0.968293</td>\n",
       "      <td>-0.249817</td>\n",
       "      <td>-0.620599</td>\n",
       "      <td>-0.668244</td>\n",
       "      <td>-0.608733</td>\n",
       "      <td>0.650234</td>\n",
       "      <td>-2.018496</td>\n",
       "      <td>0.0</td>\n",
       "    </tr>\n",
       "    <tr>\n",
       "      <th>4</th>\n",
       "      <td>-0.992617</td>\n",
       "      <td>-0.121292</td>\n",
       "      <td>-0.620599</td>\n",
       "      <td>-0.668244</td>\n",
       "      <td>-0.608733</td>\n",
       "      <td>0.809133</td>\n",
       "      <td>-2.018496</td>\n",
       "      <td>0.0</td>\n",
       "    </tr>\n",
       "    <tr>\n",
       "      <th>...</th>\n",
       "      <td>...</td>\n",
       "      <td>...</td>\n",
       "      <td>...</td>\n",
       "      <td>...</td>\n",
       "      <td>...</td>\n",
       "      <td>...</td>\n",
       "      <td>...</td>\n",
       "      <td>...</td>\n",
       "    </tr>\n",
       "    <tr>\n",
       "      <th>42043</th>\n",
       "      <td>-0.267799</td>\n",
       "      <td>-0.963475</td>\n",
       "      <td>-0.620599</td>\n",
       "      <td>-0.668244</td>\n",
       "      <td>-0.403696</td>\n",
       "      <td>1.003958</td>\n",
       "      <td>-0.138217</td>\n",
       "      <td>0.0</td>\n",
       "    </tr>\n",
       "    <tr>\n",
       "      <th>42044</th>\n",
       "      <td>-0.391267</td>\n",
       "      <td>-0.920277</td>\n",
       "      <td>-0.620599</td>\n",
       "      <td>-0.668244</td>\n",
       "      <td>0.074724</td>\n",
       "      <td>1.351695</td>\n",
       "      <td>-0.138217</td>\n",
       "      <td>0.0</td>\n",
       "    </tr>\n",
       "    <tr>\n",
       "      <th>42045</th>\n",
       "      <td>-0.508040</td>\n",
       "      <td>-0.861334</td>\n",
       "      <td>-0.620599</td>\n",
       "      <td>-0.668244</td>\n",
       "      <td>0.348107</td>\n",
       "      <td>1.644624</td>\n",
       "      <td>-0.237179</td>\n",
       "      <td>0.0</td>\n",
       "    </tr>\n",
       "    <tr>\n",
       "      <th>42046</th>\n",
       "      <td>-0.616120</td>\n",
       "      <td>-0.787652</td>\n",
       "      <td>-0.620599</td>\n",
       "      <td>-0.668244</td>\n",
       "      <td>0.621489</td>\n",
       "      <td>1.719237</td>\n",
       "      <td>-0.237179</td>\n",
       "      <td>0.0</td>\n",
       "    </tr>\n",
       "    <tr>\n",
       "      <th>42047</th>\n",
       "      <td>-0.713658</td>\n",
       "      <td>-0.700494</td>\n",
       "      <td>-0.620599</td>\n",
       "      <td>-0.668244</td>\n",
       "      <td>1.168255</td>\n",
       "      <td>1.951369</td>\n",
       "      <td>-0.336141</td>\n",
       "      <td>0.0</td>\n",
       "    </tr>\n",
       "  </tbody>\n",
       "</table>\n",
       "<p>42048 rows × 8 columns</p>\n",
       "</div>"
      ],
      "text/plain": [
       "        DAY_SIN   DAY_COS       DHI       DNI        WS        RH         T  \\\n",
       "0     -0.798985 -0.601350 -0.620599 -0.668244 -0.677079  0.527259 -2.018496   \n",
       "1     -0.870642 -0.491917 -0.620599 -0.668244 -0.677079  0.526338 -2.018496   \n",
       "2     -0.927402 -0.374067 -0.620599 -0.668244 -0.608733  0.651615 -2.018496   \n",
       "3     -0.968293 -0.249817 -0.620599 -0.668244 -0.608733  0.650234 -2.018496   \n",
       "4     -0.992617 -0.121292 -0.620599 -0.668244 -0.608733  0.809133 -2.018496   \n",
       "...         ...       ...       ...       ...       ...       ...       ...   \n",
       "42043 -0.267799 -0.963475 -0.620599 -0.668244 -0.403696  1.003958 -0.138217   \n",
       "42044 -0.391267 -0.920277 -0.620599 -0.668244  0.074724  1.351695 -0.138217   \n",
       "42045 -0.508040 -0.861334 -0.620599 -0.668244  0.348107  1.644624 -0.237179   \n",
       "42046 -0.616120 -0.787652 -0.620599 -0.668244  0.621489  1.719237 -0.237179   \n",
       "42047 -0.713658 -0.700494 -0.620599 -0.668244  1.168255  1.951369 -0.336141   \n",
       "\n",
       "       TARGET  \n",
       "0         0.0  \n",
       "1         0.0  \n",
       "2         0.0  \n",
       "3         0.0  \n",
       "4         0.0  \n",
       "...       ...  \n",
       "42043     0.0  \n",
       "42044     0.0  \n",
       "42045     0.0  \n",
       "42046     0.0  \n",
       "42047     0.0  \n",
       "\n",
       "[42048 rows x 8 columns]"
      ]
     },
     "execution_count": 48,
     "metadata": {},
     "output_type": "execute_result"
    }
   ],
   "source": [
    "tr_df"
   ]
  },
  {
   "cell_type": "code",
   "execution_count": 91,
   "metadata": {},
   "outputs": [
    {
     "data": {
      "text/plain": [
       "Text(0.5, 1.0, 'Time of day signal')"
      ]
     },
     "execution_count": 91,
     "metadata": {},
     "output_type": "execute_result"
    },
    {
     "data": {
      "image/png": "[encoded data removed]",
      "text/plain": [
       "<Figure size 432x288 with 1 Axes>"
      ]
     },
     "metadata": {
      "needs_background": "light"
     },
     "output_type": "display_data"
    }
   ],
   "source": [
    "plt.plot(np.array(tr_df[\"Day_sin\"])[:48], label = \"day_sin\")\n",
    "plt.plot(np.array(tr_df[\"Day_cos\"])[:48], label = \"day_cos\")\n",
    "plt.legend()\n",
    "plt.xlabel('Time [.5Min]')\n",
    "plt.title('Time of day signal')"
   ]
  },
  {
   "cell_type": "code",
   "execution_count": 92,
   "metadata": {},
   "outputs": [
    {
     "data": {
      "text/html": [
       "<div>\n",
       "<style scoped>\n",
       "    .dataframe tbody tr th:only-of-type {\n",
       "        vertical-align: middle;\n",
       "    }\n",
       "\n",
       "    .dataframe tbody tr th {\n",
       "        vertical-align: top;\n",
       "    }\n",
       "\n",
       "    .dataframe thead th {\n",
       "        text-align: right;\n",
       "    }\n",
       "</style>\n",
       "<table border=\"1\" class=\"dataframe\">\n",
       "  <thead>\n",
       "    <tr style=\"text-align: right;\">\n",
       "      <th></th>\n",
       "      <th>Day_sin</th>\n",
       "      <th>Day_cos</th>\n",
       "      <th>DHI</th>\n",
       "      <th>DNI</th>\n",
       "      <th>WS</th>\n",
       "      <th>RH</th>\n",
       "      <th>T</th>\n",
       "      <th>TARGET</th>\n",
       "    </tr>\n",
       "  </thead>\n",
       "  <tbody>\n",
       "    <tr>\n",
       "      <th>count</th>\n",
       "      <td>4.204800e+04</td>\n",
       "      <td>4.204800e+04</td>\n",
       "      <td>4.204800e+04</td>\n",
       "      <td>4.204800e+04</td>\n",
       "      <td>4.204800e+04</td>\n",
       "      <td>4.204800e+04</td>\n",
       "      <td>4.204800e+04</td>\n",
       "      <td>42048.000000</td>\n",
       "    </tr>\n",
       "    <tr>\n",
       "      <th>mean</th>\n",
       "      <td>3.279092e-13</td>\n",
       "      <td>-1.392590e-13</td>\n",
       "      <td>4.461170e-17</td>\n",
       "      <td>-5.542666e-17</td>\n",
       "      <td>-2.500959e-16</td>\n",
       "      <td>2.893001e-16</td>\n",
       "      <td>7.976031e-17</td>\n",
       "      <td>17.757092</td>\n",
       "    </tr>\n",
       "    <tr>\n",
       "      <th>std</th>\n",
       "      <td>7.071152e-01</td>\n",
       "      <td>7.071152e-01</td>\n",
       "      <td>1.000000e+00</td>\n",
       "      <td>1.000000e+00</td>\n",
       "      <td>1.000000e+00</td>\n",
       "      <td>1.000000e+00</td>\n",
       "      <td>1.000000e+00</td>\n",
       "      <td>25.726194</td>\n",
       "    </tr>\n",
       "    <tr>\n",
       "      <th>min</th>\n",
       "      <td>-9.999567e-01</td>\n",
       "      <td>-9.999567e-01</td>\n",
       "      <td>-6.205988e-01</td>\n",
       "      <td>-6.682443e-01</td>\n",
       "      <td>-1.702264e+00</td>\n",
       "      <td>-2.304841e+00</td>\n",
       "      <td>-2.711231e+00</td>\n",
       "      <td>0.000000</td>\n",
       "    </tr>\n",
       "    <tr>\n",
       "      <th>25%</th>\n",
       "      <td>-7.037852e-01</td>\n",
       "      <td>-7.037852e-01</td>\n",
       "      <td>-6.205988e-01</td>\n",
       "      <td>-6.682443e-01</td>\n",
       "      <td>-7.454246e-01</td>\n",
       "      <td>-7.605199e-01</td>\n",
       "      <td>-8.309515e-01</td>\n",
       "      <td>0.000000</td>\n",
       "    </tr>\n",
       "    <tr>\n",
       "      <th>50%</th>\n",
       "      <td>2.563233e-12</td>\n",
       "      <td>2.563233e-12</td>\n",
       "      <td>-6.205988e-01</td>\n",
       "      <td>-6.682443e-01</td>\n",
       "      <td>-1.986590e-01</td>\n",
       "      <td>4.871736e-02</td>\n",
       "      <td>-1.382169e-01</td>\n",
       "      <td>0.000000</td>\n",
       "    </tr>\n",
       "    <tr>\n",
       "      <th>75%</th>\n",
       "      <td>7.037852e-01</td>\n",
       "      <td>7.037852e-01</td>\n",
       "      <td>2.179613e-01</td>\n",
       "      <td>6.501994e-01</td>\n",
       "      <td>4.847981e-01</td>\n",
       "      <td>7.211627e-01</td>\n",
       "      <td>7.524418e-01</td>\n",
       "      <td>31.907314</td>\n",
       "    </tr>\n",
       "    <tr>\n",
       "      <th>max</th>\n",
       "      <td>9.999567e-01</td>\n",
       "      <td>9.999567e-01</td>\n",
       "      <td>4.468593e+00</td>\n",
       "      <td>2.353903e+00</td>\n",
       "      <td>6.499220e+00</td>\n",
       "      <td>1.951369e+00</td>\n",
       "      <td>2.632721e+00</td>\n",
       "      <td>99.913939</td>\n",
       "    </tr>\n",
       "  </tbody>\n",
       "</table>\n",
       "</div>"
      ],
      "text/plain": [
       "            Day_sin       Day_cos           DHI           DNI            WS  \\\n",
       "count  4.204800e+04  4.204800e+04  4.204800e+04  4.204800e+04  4.204800e+04   \n",
       "mean   3.279092e-13 -1.392590e-13  4.461170e-17 -5.542666e-17 -2.500959e-16   \n",
       "std    7.071152e-01  7.071152e-01  1.000000e+00  1.000000e+00  1.000000e+00   \n",
       "min   -9.999567e-01 -9.999567e-01 -6.205988e-01 -6.682443e-01 -1.702264e+00   \n",
       "25%   -7.037852e-01 -7.037852e-01 -6.205988e-01 -6.682443e-01 -7.454246e-01   \n",
       "50%    2.563233e-12  2.563233e-12 -6.205988e-01 -6.682443e-01 -1.986590e-01   \n",
       "75%    7.037852e-01  7.037852e-01  2.179613e-01  6.501994e-01  4.847981e-01   \n",
       "max    9.999567e-01  9.999567e-01  4.468593e+00  2.353903e+00  6.499220e+00   \n",
       "\n",
       "                 RH             T        TARGET  \n",
       "count  4.204800e+04  4.204800e+04  42048.000000  \n",
       "mean   2.893001e-16  7.976031e-17     17.757092  \n",
       "std    1.000000e+00  1.000000e+00     25.726194  \n",
       "min   -2.304841e+00 -2.711231e+00      0.000000  \n",
       "25%   -7.605199e-01 -8.309515e-01      0.000000  \n",
       "50%    4.871736e-02 -1.382169e-01      0.000000  \n",
       "75%    7.211627e-01  7.524418e-01     31.907314  \n",
       "max    1.951369e+00  2.632721e+00     99.913939  "
      ]
     },
     "execution_count": 92,
     "metadata": {},
     "output_type": "execute_result"
    }
   ],
   "source": [
    "tr_df.describe()"
   ]
  },
  {
   "cell_type": "code",
   "execution_count": 93,
   "metadata": {},
   "outputs": [
    {
     "data": {
      "text/html": [
       "<div>\n",
       "<style scoped>\n",
       "    .dataframe tbody tr th:only-of-type {\n",
       "        vertical-align: middle;\n",
       "    }\n",
       "\n",
       "    .dataframe tbody tr th {\n",
       "        vertical-align: top;\n",
       "    }\n",
       "\n",
       "    .dataframe thead th {\n",
       "        text-align: right;\n",
       "    }\n",
       "</style>\n",
       "<table border=\"1\" class=\"dataframe\">\n",
       "  <thead>\n",
       "    <tr style=\"text-align: right;\">\n",
       "      <th></th>\n",
       "      <th>Day_sin</th>\n",
       "      <th>Day_cos</th>\n",
       "      <th>DHI</th>\n",
       "      <th>DNI</th>\n",
       "      <th>WS</th>\n",
       "      <th>RH</th>\n",
       "      <th>T</th>\n",
       "      <th>TARGET</th>\n",
       "    </tr>\n",
       "  </thead>\n",
       "  <tbody>\n",
       "    <tr>\n",
       "      <th>count</th>\n",
       "      <td>1.051200e+04</td>\n",
       "      <td>1.051200e+04</td>\n",
       "      <td>10512.000000</td>\n",
       "      <td>10512.000000</td>\n",
       "      <td>10512.000000</td>\n",
       "      <td>10512.000000</td>\n",
       "      <td>10512.000000</td>\n",
       "      <td>10512.000000</td>\n",
       "    </tr>\n",
       "    <tr>\n",
       "      <th>mean</th>\n",
       "      <td>3.279124e-13</td>\n",
       "      <td>-1.392591e-13</td>\n",
       "      <td>-0.002051</td>\n",
       "      <td>0.009001</td>\n",
       "      <td>-0.118357</td>\n",
       "      <td>-0.193249</td>\n",
       "      <td>0.437047</td>\n",
       "      <td>17.924783</td>\n",
       "    </tr>\n",
       "    <tr>\n",
       "      <th>std</th>\n",
       "      <td>7.071404e-01</td>\n",
       "      <td>7.071404e-01</td>\n",
       "      <td>1.007151</td>\n",
       "      <td>0.989575</td>\n",
       "      <td>0.862562</td>\n",
       "      <td>1.062334</td>\n",
       "      <td>0.960019</td>\n",
       "      <td>25.895349</td>\n",
       "    </tr>\n",
       "    <tr>\n",
       "      <th>min</th>\n",
       "      <td>-9.999567e-01</td>\n",
       "      <td>-9.999567e-01</td>\n",
       "      <td>-0.620599</td>\n",
       "      <td>-0.668244</td>\n",
       "      <td>-1.702264</td>\n",
       "      <td>-2.254638</td>\n",
       "      <td>-1.919534</td>\n",
       "      <td>0.000000</td>\n",
       "    </tr>\n",
       "    <tr>\n",
       "      <th>25%</th>\n",
       "      <td>-7.037852e-01</td>\n",
       "      <td>-7.037852e-01</td>\n",
       "      <td>-0.620599</td>\n",
       "      <td>-0.668244</td>\n",
       "      <td>-0.745425</td>\n",
       "      <td>-1.066805</td>\n",
       "      <td>-0.336141</td>\n",
       "      <td>0.000000</td>\n",
       "    </tr>\n",
       "    <tr>\n",
       "      <th>50%</th>\n",
       "      <td>2.563233e-12</td>\n",
       "      <td>2.563233e-12</td>\n",
       "      <td>-0.620599</td>\n",
       "      <td>-0.668244</td>\n",
       "      <td>-0.267005</td>\n",
       "      <td>-0.238223</td>\n",
       "      <td>0.455556</td>\n",
       "      <td>0.000000</td>\n",
       "    </tr>\n",
       "    <tr>\n",
       "      <th>75%</th>\n",
       "      <td>7.037852e-01</td>\n",
       "      <td>7.037852e-01</td>\n",
       "      <td>0.227600</td>\n",
       "      <td>0.744374</td>\n",
       "      <td>0.416452</td>\n",
       "      <td>0.568941</td>\n",
       "      <td>1.148290</td>\n",
       "      <td>32.659510</td>\n",
       "    </tr>\n",
       "    <tr>\n",
       "      <th>max</th>\n",
       "      <td>9.999567e-01</td>\n",
       "      <td>9.999567e-01</td>\n",
       "      <td>4.420400</td>\n",
       "      <td>2.251167</td>\n",
       "      <td>3.902083</td>\n",
       "      <td>1.951369</td>\n",
       "      <td>2.632721</td>\n",
       "      <td>99.453605</td>\n",
       "    </tr>\n",
       "  </tbody>\n",
       "</table>\n",
       "</div>"
      ],
      "text/plain": [
       "            Day_sin       Day_cos           DHI           DNI            WS  \\\n",
       "count  1.051200e+04  1.051200e+04  10512.000000  10512.000000  10512.000000   \n",
       "mean   3.279124e-13 -1.392591e-13     -0.002051      0.009001     -0.118357   \n",
       "std    7.071404e-01  7.071404e-01      1.007151      0.989575      0.862562   \n",
       "min   -9.999567e-01 -9.999567e-01     -0.620599     -0.668244     -1.702264   \n",
       "25%   -7.037852e-01 -7.037852e-01     -0.620599     -0.668244     -0.745425   \n",
       "50%    2.563233e-12  2.563233e-12     -0.620599     -0.668244     -0.267005   \n",
       "75%    7.037852e-01  7.037852e-01      0.227600      0.744374      0.416452   \n",
       "max    9.999567e-01  9.999567e-01      4.420400      2.251167      3.902083   \n",
       "\n",
       "                 RH             T        TARGET  \n",
       "count  10512.000000  10512.000000  10512.000000  \n",
       "mean      -0.193249      0.437047     17.924783  \n",
       "std        1.062334      0.960019     25.895349  \n",
       "min       -2.254638     -1.919534      0.000000  \n",
       "25%       -1.066805     -0.336141      0.000000  \n",
       "50%       -0.238223      0.455556      0.000000  \n",
       "75%        0.568941      1.148290     32.659510  \n",
       "max        1.951369      2.632721     99.453605  "
      ]
     },
     "execution_count": 93,
     "metadata": {},
     "output_type": "execute_result"
    }
   ],
   "source": [
    "vl_df.describe()"
   ]
  },
  {
   "cell_type": "markdown",
   "metadata": {},
   "source": [
    "## **Test**"
   ]
  },
  {
   "cell_type": "code",
   "execution_count": 49,
   "metadata": {},
   "outputs": [],
   "source": [
    "ts_filenames = [os.path.join(os.environ[\"LOCAL_DATA_PATH\"], \"test\", f\"{i}.csv\") for i in range(args[\"NUM_TEST_CSV\"])]\n",
    "ts_dfs = [preprocessing(pd.read_csv(ts_filename), is_training = False) for ts_filename in ts_filenames]\n",
    "ts_df = pd.concat(ts_dfs)"
   ]
  },
  {
   "cell_type": "code",
   "execution_count": 95,
   "metadata": {},
   "outputs": [
    {
     "data": {
      "text/html": [
       "<div>\n",
       "<style scoped>\n",
       "    .dataframe tbody tr th:only-of-type {\n",
       "        vertical-align: middle;\n",
       "    }\n",
       "\n",
       "    .dataframe tbody tr th {\n",
       "        vertical-align: top;\n",
       "    }\n",
       "\n",
       "    .dataframe thead th {\n",
       "        text-align: right;\n",
       "    }\n",
       "</style>\n",
       "<table border=\"1\" class=\"dataframe\">\n",
       "  <thead>\n",
       "    <tr style=\"text-align: right;\">\n",
       "      <th></th>\n",
       "      <th>Day_sin</th>\n",
       "      <th>Day_cos</th>\n",
       "      <th>DHI</th>\n",
       "      <th>DNI</th>\n",
       "      <th>WS</th>\n",
       "      <th>RH</th>\n",
       "      <th>T</th>\n",
       "      <th>TARGET</th>\n",
       "    </tr>\n",
       "  </thead>\n",
       "  <tbody>\n",
       "    <tr>\n",
       "      <th>0</th>\n",
       "      <td>-0.798985</td>\n",
       "      <td>-0.601350</td>\n",
       "      <td>-0.620599</td>\n",
       "      <td>-0.668244</td>\n",
       "      <td>0.143070</td>\n",
       "      <td>-1.069108</td>\n",
       "      <td>-0.830951</td>\n",
       "      <td>0.0</td>\n",
       "    </tr>\n",
       "    <tr>\n",
       "      <th>1</th>\n",
       "      <td>-0.870642</td>\n",
       "      <td>-0.491917</td>\n",
       "      <td>-0.620599</td>\n",
       "      <td>-0.668244</td>\n",
       "      <td>0.143070</td>\n",
       "      <td>-1.080622</td>\n",
       "      <td>-0.821055</td>\n",
       "      <td>0.0</td>\n",
       "    </tr>\n",
       "    <tr>\n",
       "      <th>2</th>\n",
       "      <td>-0.927402</td>\n",
       "      <td>-0.374067</td>\n",
       "      <td>-0.620599</td>\n",
       "      <td>-0.668244</td>\n",
       "      <td>0.143070</td>\n",
       "      <td>-1.077859</td>\n",
       "      <td>-0.811159</td>\n",
       "      <td>0.0</td>\n",
       "    </tr>\n",
       "    <tr>\n",
       "      <th>3</th>\n",
       "      <td>-0.968293</td>\n",
       "      <td>-0.249817</td>\n",
       "      <td>-0.620599</td>\n",
       "      <td>-0.668244</td>\n",
       "      <td>0.143070</td>\n",
       "      <td>-1.088913</td>\n",
       "      <td>-0.801263</td>\n",
       "      <td>0.0</td>\n",
       "    </tr>\n",
       "    <tr>\n",
       "      <th>4</th>\n",
       "      <td>-0.992617</td>\n",
       "      <td>-0.121292</td>\n",
       "      <td>-0.620599</td>\n",
       "      <td>-0.668244</td>\n",
       "      <td>0.211415</td>\n",
       "      <td>-1.089834</td>\n",
       "      <td>-0.791367</td>\n",
       "      <td>0.0</td>\n",
       "    </tr>\n",
       "  </tbody>\n",
       "</table>\n",
       "</div>"
      ],
      "text/plain": [
       "    Day_sin   Day_cos       DHI       DNI        WS        RH         T  \\\n",
       "0 -0.798985 -0.601350 -0.620599 -0.668244  0.143070 -1.069108 -0.830951   \n",
       "1 -0.870642 -0.491917 -0.620599 -0.668244  0.143070 -1.080622 -0.821055   \n",
       "2 -0.927402 -0.374067 -0.620599 -0.668244  0.143070 -1.077859 -0.811159   \n",
       "3 -0.968293 -0.249817 -0.620599 -0.668244  0.143070 -1.088913 -0.801263   \n",
       "4 -0.992617 -0.121292 -0.620599 -0.668244  0.211415 -1.089834 -0.791367   \n",
       "\n",
       "   TARGET  \n",
       "0     0.0  \n",
       "1     0.0  \n",
       "2     0.0  \n",
       "3     0.0  \n",
       "4     0.0  "
      ]
     },
     "execution_count": 95,
     "metadata": {},
     "output_type": "execute_result"
    }
   ],
   "source": [
    "ts_df.head()"
   ]
  },
  {
   "cell_type": "code",
   "execution_count": 96,
   "metadata": {},
   "outputs": [
    {
     "data": {
      "text/html": [
       "<div>\n",
       "<style scoped>\n",
       "    .dataframe tbody tr th:only-of-type {\n",
       "        vertical-align: middle;\n",
       "    }\n",
       "\n",
       "    .dataframe tbody tr th {\n",
       "        vertical-align: top;\n",
       "    }\n",
       "\n",
       "    .dataframe thead th {\n",
       "        text-align: right;\n",
       "    }\n",
       "</style>\n",
       "<table border=\"1\" class=\"dataframe\">\n",
       "  <thead>\n",
       "    <tr style=\"text-align: right;\">\n",
       "      <th></th>\n",
       "      <th>Day_sin</th>\n",
       "      <th>Day_cos</th>\n",
       "      <th>DHI</th>\n",
       "      <th>DNI</th>\n",
       "      <th>WS</th>\n",
       "      <th>RH</th>\n",
       "      <th>T</th>\n",
       "      <th>TARGET</th>\n",
       "    </tr>\n",
       "  </thead>\n",
       "  <tbody>\n",
       "    <tr>\n",
       "      <th>count</th>\n",
       "      <td>2.721600e+04</td>\n",
       "      <td>2.721600e+04</td>\n",
       "      <td>27216.000000</td>\n",
       "      <td>27216.000000</td>\n",
       "      <td>27216.000000</td>\n",
       "      <td>27216.000000</td>\n",
       "      <td>27216.000000</td>\n",
       "      <td>27216.000000</td>\n",
       "    </tr>\n",
       "    <tr>\n",
       "      <th>mean</th>\n",
       "      <td>3.279091e-13</td>\n",
       "      <td>-1.392587e-13</td>\n",
       "      <td>-0.051219</td>\n",
       "      <td>0.048407</td>\n",
       "      <td>-0.149449</td>\n",
       "      <td>-0.517592</td>\n",
       "      <td>0.133563</td>\n",
       "      <td>18.235096</td>\n",
       "    </tr>\n",
       "    <tr>\n",
       "      <th>std</th>\n",
       "      <td>7.071198e-01</td>\n",
       "      <td>7.071198e-01</td>\n",
       "      <td>0.882946</td>\n",
       "      <td>1.022026</td>\n",
       "      <td>0.869087</td>\n",
       "      <td>0.883242</td>\n",
       "      <td>1.116901</td>\n",
       "      <td>26.115609</td>\n",
       "    </tr>\n",
       "    <tr>\n",
       "      <th>min</th>\n",
       "      <td>-9.999567e-01</td>\n",
       "      <td>-9.999567e-01</td>\n",
       "      <td>-0.620599</td>\n",
       "      <td>-0.668244</td>\n",
       "      <td>-1.633919</td>\n",
       "      <td>-2.428276</td>\n",
       "      <td>-2.384656</td>\n",
       "      <td>0.000000</td>\n",
       "    </tr>\n",
       "    <tr>\n",
       "      <th>25%</th>\n",
       "      <td>-7.037852e-01</td>\n",
       "      <td>-7.037852e-01</td>\n",
       "      <td>-0.620599</td>\n",
       "      <td>-0.668244</td>\n",
       "      <td>-0.813770</td>\n",
       "      <td>-1.223056</td>\n",
       "      <td>-0.791367</td>\n",
       "      <td>0.000000</td>\n",
       "    </tr>\n",
       "    <tr>\n",
       "      <th>50%</th>\n",
       "      <td>2.563233e-12</td>\n",
       "      <td>2.563233e-12</td>\n",
       "      <td>-0.562767</td>\n",
       "      <td>-0.668244</td>\n",
       "      <td>-0.335350</td>\n",
       "      <td>-0.497529</td>\n",
       "      <td>0.030019</td>\n",
       "      <td>0.563069</td>\n",
       "    </tr>\n",
       "    <tr>\n",
       "      <th>75%</th>\n",
       "      <td>7.037852e-01</td>\n",
       "      <td>7.037852e-01</td>\n",
       "      <td>0.179407</td>\n",
       "      <td>0.775765</td>\n",
       "      <td>0.279761</td>\n",
       "      <td>0.149584</td>\n",
       "      <td>0.980055</td>\n",
       "      <td>32.557286</td>\n",
       "    </tr>\n",
       "    <tr>\n",
       "      <th>max</th>\n",
       "      <td>9.999567e-01</td>\n",
       "      <td>9.999567e-01</td>\n",
       "      <td>4.266182</td>\n",
       "      <td>2.410978</td>\n",
       "      <td>5.815763</td>\n",
       "      <td>1.609159</td>\n",
       "      <td>2.800957</td>\n",
       "      <td>99.450872</td>\n",
       "    </tr>\n",
       "  </tbody>\n",
       "</table>\n",
       "</div>"
      ],
      "text/plain": [
       "            Day_sin       Day_cos           DHI           DNI            WS  \\\n",
       "count  2.721600e+04  2.721600e+04  27216.000000  27216.000000  27216.000000   \n",
       "mean   3.279091e-13 -1.392587e-13     -0.051219      0.048407     -0.149449   \n",
       "std    7.071198e-01  7.071198e-01      0.882946      1.022026      0.869087   \n",
       "min   -9.999567e-01 -9.999567e-01     -0.620599     -0.668244     -1.633919   \n",
       "25%   -7.037852e-01 -7.037852e-01     -0.620599     -0.668244     -0.813770   \n",
       "50%    2.563233e-12  2.563233e-12     -0.562767     -0.668244     -0.335350   \n",
       "75%    7.037852e-01  7.037852e-01      0.179407      0.775765      0.279761   \n",
       "max    9.999567e-01  9.999567e-01      4.266182      2.410978      5.815763   \n",
       "\n",
       "                 RH             T        TARGET  \n",
       "count  27216.000000  27216.000000  27216.000000  \n",
       "mean      -0.517592      0.133563     18.235096  \n",
       "std        0.883242      1.116901     26.115609  \n",
       "min       -2.428276     -2.384656      0.000000  \n",
       "25%       -1.223056     -0.791367      0.000000  \n",
       "50%       -0.497529      0.030019      0.563069  \n",
       "75%        0.149584      0.980055     32.557286  \n",
       "max        1.609159      2.800957     99.450872  "
      ]
     },
     "execution_count": 96,
     "metadata": {},
     "output_type": "execute_result"
    }
   ],
   "source": [
    "ts_df.describe()"
   ]
  },
  {
   "cell_type": "markdown",
   "metadata": {},
   "source": [
    "# **Phase \\#1: Target Predict Model**"
   ]
  },
  {
   "cell_type": "markdown",
   "metadata": {},
   "source": [
    "## **Make Dataset Pipelines**"
   ]
  },
  {
   "cell_type": "code",
   "execution_count": 50,
   "metadata": {},
   "outputs": [],
   "source": [
    "@tf.function\n",
    "def _split_window(features):\n",
    "    return tf.split(features, [-1, 1], axis = 0)"
   ]
  },
  {
   "cell_type": "code",
   "execution_count": 51,
   "metadata": {},
   "outputs": [
    {
     "name": "stdout",
     "output_type": "stream",
     "text": [
      "tr_dataset: (TensorSpec(shape=(None, 7), dtype=tf.float32, name=None), TensorSpec(shape=(None, 1), dtype=tf.float32, name=None))\n",
      "vl_dataset: (TensorSpec(shape=(None, 7), dtype=tf.float32, name=None), TensorSpec(shape=(None, 1), dtype=tf.float32, name=None))\n",
      "ts_dataset: (TensorSpec(shape=(None, 7), dtype=tf.float32, name=None), TensorSpec(shape=(None, 1), dtype=tf.float32, name=None))\n"
     ]
    }
   ],
   "source": [
    "tr_tensor = tf.constant(tr_df, dtype = tf.float32)\n",
    "vl_tensor = tf.constant(vl_df, dtype = tf.float32)\n",
    "ts_tensor = tf.constant(ts_df, dtype = tf.float32)\n",
    "\n",
    "tr_dataset = tf.data.Dataset.from_tensor_slices(tr_tensor\n",
    "                    ).map(_split_window, num_parallel_calls = args[\"AUTO\"]\n",
    "                    ).batch(args[\"GLOBAL_BATCH_SIZE\"]\n",
    "                    ).cache(\n",
    "                    ).prefetch(args[\"AUTO\"])\n",
    "\n",
    "vl_dataset = tf.data.Dataset.from_tensor_slices(vl_tensor\n",
    "                    ).map(_split_window, num_parallel_calls = args[\"AUTO\"]\n",
    "                    ).batch(args[\"GLOBAL_BATCH_SIZE\"]\n",
    "                    ).cache(\n",
    "                    ).prefetch(args[\"AUTO\"])\n",
    "\n",
    "ts_dataset = tf.data.Dataset.from_tensor_slices(ts_tensor\n",
    "                    ).map(_split_window, num_parallel_calls = args[\"AUTO\"]\n",
    "                    ).batch(args[\"GLOBAL_BATCH_SIZE\"]\n",
    "#                     ).cache(\n",
    "                    ).prefetch(args[\"AUTO\"])\n",
    "\n",
    "# Print the shapes\n",
    "print(f\"tr_dataset: {tr_dataset.element_spec}\")\n",
    "print(f\"vl_dataset: {vl_dataset.element_spec}\")\n",
    "print(f\"ts_dataset: {ts_dataset.element_spec}\")"
   ]
  },
  {
   "cell_type": "markdown",
   "metadata": {},
   "source": [
    "### **Take Samples**"
   ]
  },
  {
   "cell_type": "code",
   "execution_count": 52,
   "metadata": {},
   "outputs": [
    {
     "name": "stdout",
     "output_type": "stream",
     "text": [
      "(128, 7) (128, 1)\n"
     ]
    }
   ],
   "source": [
    "for element in tr_dataset.take(1):\n",
    "    foo, bar = element\n",
    "    print(foo.shape, bar.shape)"
   ]
  },
  {
   "cell_type": "code",
   "execution_count": 53,
   "metadata": {},
   "outputs": [
    {
     "name": "stdout",
     "output_type": "stream",
     "text": [
      "(128, 7) (128, 1)\n"
     ]
    }
   ],
   "source": [
    "for element in vl_dataset.take(1):\n",
    "    foo, bar = element\n",
    "    print(foo.shape, bar.shape)"
   ]
  },
  {
   "cell_type": "code",
   "execution_count": 54,
   "metadata": {},
   "outputs": [
    {
     "name": "stdout",
     "output_type": "stream",
     "text": [
      "(128, 7) (128, 1)\n"
     ]
    }
   ],
   "source": [
    "for element in ts_dataset.take(1):\n",
    "    foo, bar = element\n",
    "    print(foo.shape, bar.shape)"
   ]
  },
  {
   "cell_type": "markdown",
   "metadata": {},
   "source": [
    "## **Create Network**\n",
    "\n",
    "```\n",
    "\"\"\"Pytorch Style\"\"\"\n",
    "class TARGET_MODEL(tf.keras.Model):\n",
    "    def __init__(self, units, name):\n",
    "        super(TARGET_MODEL, self).__init__(name = name)\n",
    "        self.units = units\n",
    "        \n",
    "        self.dense1 = tf.keras.layers.Dense(units = self.units, activation = \"relu\")\n",
    "        self.dense2 = tf.keras.layers.Dense(units = self.units, activation = \"relu\")\n",
    "        self.dense3 = tf.keras.layers.Dense(units = 1)\n",
    "        \n",
    "    def call(self, inputs):\n",
    "        x = self.dense1(inputs)\n",
    "        x = self.dense2(x)\n",
    "        x = self.dense3(x)\n",
    "        \n",
    "        return x            \n",
    "```"
   ]
  },
  {
   "cell_type": "code",
   "execution_count": 55,
   "metadata": {},
   "outputs": [],
   "source": [
    "def TARGET_MODEL(model_name, units = 64):\n",
    "    model_input = tf.keras.layers.Input(shape = [7, ], dtype = tf.float32)\n",
    "    \n",
    "    x = tf.keras.layers.Dense(units = units, activation = \"relu\")(model_input)\n",
    "    x = tf.keras.layers.Dense(units = units, activation = \"relu\")(x)    \n",
    "    model_output = tf.keras.layers.Dense(1)(x)\n",
    "    \n",
    "    return tf.keras.Model(\n",
    "        inputs = model_input,\n",
    "        outputs = model_output,\n",
    "        name = model_name)"
   ]
  },
  {
   "cell_type": "code",
   "execution_count": 56,
   "metadata": {},
   "outputs": [
    {
     "name": "stdout",
     "output_type": "stream",
     "text": [
      "Model: \"tmp\"\n",
      "_________________________________________________________________\n",
      "Layer (type)                 Output Shape              Param #   \n",
      "=================================================================\n",
      "input_27 (InputLayer)        [(None, 7)]               0         \n",
      "_________________________________________________________________\n",
      "dense_48 (Dense)             (None, 64)                512       \n",
      "_________________________________________________________________\n",
      "dense_49 (Dense)             (None, 64)                4160      \n",
      "_________________________________________________________________\n",
      "dense_50 (Dense)             (None, 1)                 65        \n",
      "=================================================================\n",
      "Total params: 4,737\n",
      "Trainable params: 4,737\n",
      "Non-trainable params: 0\n",
      "_________________________________________________________________\n"
     ]
    }
   ],
   "source": [
    "tmp = TARGET_MODEL(\"tmp\")\n",
    "tmp.summary()"
   ]
  },
  {
   "cell_type": "code",
   "execution_count": 104,
   "metadata": {},
   "outputs": [],
   "source": [
    "# tf.keras.utils.plot_model(tmp)"
   ]
  },
  {
   "cell_type": "code",
   "execution_count": 105,
   "metadata": {},
   "outputs": [],
   "source": [
    "del tmp"
   ]
  },
  {
   "cell_type": "markdown",
   "metadata": {},
   "source": [
    "## **Compile and Fit**"
   ]
  },
  {
   "cell_type": "code",
   "execution_count": 57,
   "metadata": {},
   "outputs": [],
   "source": [
    "target_model = TARGET_MODEL(\n",
    "    model_name = \"target_model\",\n",
    "    units = 64)\n",
    "\n",
    "target_model.compile(\n",
    "    loss = tf.keras.losses.MAE,\n",
    "    optimizer = tf.keras.optimizers.Adam())"
   ]
  },
  {
   "cell_type": "code",
   "execution_count": 58,
   "metadata": {},
   "outputs": [],
   "source": [
    "# TensorBoard callback.\n",
    "log_dir = os.path.join(\n",
    "    \"logs\", \"fit\", os.environ[\"NOTEBOOKNAME\"], \n",
    "    datetime.datetime.now().strftime(f\"{target_model.name}-%Y%m%d-%H%M%S\"))\n",
    "tb_callback = tf.keras.callbacks.TensorBoard(log_dir = log_dir, histogram_freq = 1)\n",
    "\n",
    "history = target_model.fit(\n",
    "    tr_dataset,\n",
    "    validation_data = vl_dataset,\n",
    "    epochs = 500,\n",
    "    verbose = 0,\n",
    "    callbacks = [tb_callback])"
   ]
  },
  {
   "cell_type": "code",
   "execution_count": 61,
   "metadata": {},
   "outputs": [],
   "source": [
    "def draw_history(history):\n",
    "    \n",
    "    plt.figure(figsize = (7, 5), facecolor = \"white\", dpi = 80)\n",
    "    \n",
    "    plt.plot(history.epoch, history.history[\"loss\"], color = \"tomato\", label = \"loss\", alpha = .8)\n",
    "    plt.plot(history.epoch, history.history[\"val_loss\"], color = \"navy\", label = \"val_loss\", alpha = .8)\n",
    "    \n",
    "#     plt.ylim(ylim)\n",
    "    plt.legend()\n",
    "    plt.xlabel(\"epoch\")\n",
    "    plt.ylabel(\"loss (MAE)\")\n",
    "    \n",
    "    plt.grid(True)\n",
    "    plt.tight_layout()\n",
    "    plt.show()"
   ]
  },
  {
   "cell_type": "code",
   "execution_count": 62,
   "metadata": {},
   "outputs": [
    {
     "data": {
      "image/png": "[encoded data removed]",
      "text/plain": [
       "<Figure size 560x400 with 1 Axes>"
      ]
     },
     "metadata": {},
     "output_type": "display_data"
    }
   ],
   "source": [
    "draw_history(history)"
   ]
  },
  {
   "cell_type": "code",
   "execution_count": 36,
   "metadata": {},
   "outputs": [],
   "source": [
    "# %tensorboard --logdir logs/fit --host jupyter-server"
   ]
  },
  {
   "cell_type": "markdown",
   "metadata": {},
   "source": [
    "## **Predict**"
   ]
  },
  {
   "cell_type": "code",
   "execution_count": 63,
   "metadata": {},
   "outputs": [
    {
     "name": "stdout",
     "output_type": "stream",
     "text": [
      "213/213 [==============================] - 0s 766us/step - loss: 0.9429\n"
     ]
    },
    {
     "data": {
      "text/plain": [
       "0.9428833723068237"
      ]
     },
     "execution_count": 63,
     "metadata": {},
     "output_type": "execute_result"
    }
   ],
   "source": [
    "target_model.evaluate(ts_dataset, verbose = 1)"
   ]
  },
  {
   "cell_type": "markdown",
   "metadata": {},
   "source": [
    "# **Phase \\#2: AT Model**"
   ]
  },
  {
   "cell_type": "markdown",
   "metadata": {},
   "source": [
    "## **Make Dataset Pipelines**"
   ]
  },
  {
   "cell_type": "code",
   "execution_count": 64,
   "metadata": {},
   "outputs": [],
   "source": [
    "@tf.function\n",
    "def _flat_fn_tr(x):\n",
    "    return x.batch(args[\"WINDOW_INP\"] + args[\"WINDOW_TAR\"])\n",
    "\n",
    "\n",
    "@tf.function\n",
    "def _flat_fn_ts(x):\n",
    "    return x.batch(args[\"WINDOW_INP\"])\n",
    "\n",
    "\n",
    "@tf.function\n",
    "def _split_window_tr(features):\n",
    "    inp, tar = tf.split(features, [args[\"WINDOW_INP\"], args[\"WINDOW_TAR\"]], axis = 0)\n",
    "    return inp[..., :-1], tar[..., -1:] # inp: (batch, 336, 7), tar: (batch, 96, 1)\n",
    "\n",
    "\n",
    "@tf.function\n",
    "def _split_window_ts(features):\n",
    "    return features[..., :-1] # (batch, 336, 7)"
   ]
  },
  {
   "cell_type": "code",
   "execution_count": 65,
   "metadata": {},
   "outputs": [
    {
     "name": "stdout",
     "output_type": "stream",
     "text": [
      "tr_dataset: (TensorSpec(shape=(None, 336, 7), dtype=tf.float32, name=None), TensorSpec(shape=(None, 96, 1), dtype=tf.float32, name=None))\n",
      "vl_dataset: (TensorSpec(shape=(None, 336, 7), dtype=tf.float32, name=None), TensorSpec(shape=(None, 96, 1), dtype=tf.float32, name=None))\n",
      "ts_dataset: TensorSpec(shape=(None, None, 7), dtype=tf.float32, name=None)\n"
     ]
    }
   ],
   "source": [
    "tr_tensor = tf.constant(tr_df, dtype = tf.float32)\n",
    "vl_tensor = tf.constant(vl_df, dtype = tf.float32)\n",
    "ts_tensor = tf.constant(ts_df, dtype = tf.float32)\n",
    "\n",
    "tr_dataset = tf.data.Dataset.from_tensor_slices(tr_tensor\n",
    "                    ).window(args[\"WINDOW_INP\"] + args[\"WINDOW_TAR\"], args[\"WINDOW_SHIFT\"], args[\"WINDOW_STRIDE\"], args[\"WINDOW_DR\"]).flat_map(_flat_fn_tr\n",
    "                    ).map(_split_window_tr, num_parallel_calls = args[\"AUTO\"]\n",
    "                    ).batch(args[\"GLOBAL_BATCH_SIZE\"]\n",
    "                    ).cache(\n",
    "                    ).prefetch(args[\"AUTO\"])\n",
    "\n",
    "vl_dataset = tf.data.Dataset.from_tensor_slices(vl_tensor\n",
    "                    ).window(args[\"WINDOW_INP\"] + args[\"WINDOW_TAR\"], args[\"WINDOW_SHIFT\"], args[\"WINDOW_STRIDE\"], args[\"WINDOW_DR\"]).flat_map(_flat_fn_tr\n",
    "                    ).map(_split_window_tr, num_parallel_calls = args[\"AUTO\"]\n",
    "                    ).batch(args[\"GLOBAL_BATCH_SIZE\"]\n",
    "                    ).cache(\n",
    "                    ).prefetch(args[\"AUTO\"])\n",
    "\n",
    "ts_dataset = tf.data.Dataset.from_tensor_slices(ts_tensor\n",
    "                    ).window(args[\"WINDOW_INP\"], args[\"WINDOW_INP\"], args[\"WINDOW_STRIDE\"], args[\"WINDOW_DR\"]).flat_map(_flat_fn_ts\n",
    "                    ).map(_split_window_ts, num_parallel_calls = args[\"AUTO\"]\n",
    "                    ).batch(args[\"NUM_TEST_CSV\"] # Not args[\"GLOBAL_BATCH_SIZE\"]\n",
    "#                     ).cache(\n",
    "                    ).prefetch(args[\"AUTO\"])\n",
    "\n",
    "# Print the shapes\n",
    "print(f\"tr_dataset: {tr_dataset.element_spec}\")\n",
    "print(f\"vl_dataset: {vl_dataset.element_spec}\")\n",
    "print(f\"ts_dataset: {ts_dataset.element_spec}\")"
   ]
  },
  {
   "cell_type": "markdown",
   "metadata": {},
   "source": [
    "### **Take Samples**"
   ]
  },
  {
   "cell_type": "code",
   "execution_count": 66,
   "metadata": {},
   "outputs": [
    {
     "name": "stdout",
     "output_type": "stream",
     "text": [
      "(128, 336, 7) (128, 96, 1)\n"
     ]
    }
   ],
   "source": [
    "for element in tr_dataset.take(1):\n",
    "    foo, bar = element\n",
    "    print(foo.shape, bar.shape)"
   ]
  },
  {
   "cell_type": "code",
   "execution_count": 67,
   "metadata": {},
   "outputs": [
    {
     "name": "stdout",
     "output_type": "stream",
     "text": [
      "(128, 336, 7) (128, 96, 1)\n"
     ]
    }
   ],
   "source": [
    "for element in vl_dataset.take(1):\n",
    "    foo, bar = element\n",
    "    print(foo.shape, bar.shape)"
   ]
  },
  {
   "cell_type": "code",
   "execution_count": 68,
   "metadata": {},
   "outputs": [
    {
     "name": "stdout",
     "output_type": "stream",
     "text": [
      "(81, 336, 7)\n"
     ]
    }
   ],
   "source": [
    "for element in ts_dataset.take(1):\n",
    "    foo = element\n",
    "    print(foo.shape)"
   ]
  },
  {
   "cell_type": "markdown",
   "metadata": {},
   "source": [
    "## **Create Network**"
   ]
  },
  {
   "cell_type": "code",
   "execution_count": 79,
   "metadata": {},
   "outputs": [],
   "source": [
    "class TARGET_MODEL(tf.keras.Model):\n",
    "    def __init__(self, units, name):\n",
    "        super(TARGET_MODEL, self).__init__(name = name)\n",
    "        self.units = units\n",
    "        \n",
    "        self.dense1 = tf.keras.layers.Dense(units = self.units, activation = \"relu\")\n",
    "        self.dense2 = tf.keras.layers.Dense(units = self.units, activation = \"relu\")\n",
    "        self.dense3 = tf.keras.layers.Dense(units = 1)\n",
    "        \n",
    "    def call(self, inputs):\n",
    "        x = self.dense1(inputs)\n",
    "        x = self.dense2(x)\n",
    "        x = self.dense3(x)\n",
    "        \n",
    "        return x           "
   ]
  },
  {
   "cell_type": "code",
   "execution_count": 80,
   "metadata": {},
   "outputs": [],
   "source": [
    "class AR_LSTM(tf.keras.Model):\n",
    "    def __init__(self, target_model, units, out_steps, name):\n",
    "        super(AR_LSTM, self).__init__(name = name)\n",
    "        self.target_model = target_model # [batch, 7] -> [batch, 1]\n",
    "        self.units = units\n",
    "        self.out_steps = out_steps\n",
    "        self.num_features = args[\"NUM_FEATURES\"]\n",
    "        \n",
    "        self.lstm_cell = tf.keras.layers.LSTMCell(self.units)\n",
    "        self.lstm_rnn = tf.keras.layers.RNN(self.lstm_cell, return_state = True)\n",
    "        self.dense = tf.keras.layers.Dense(self.num_features)\n",
    "        \n",
    "    \n",
    "    def warmup(self, inputs):\n",
    "        # [batch, time, features] => [batch, units]\n",
    "        x, *state = self.lstm_rnn(inputs)\n",
    "        # [batch, units] => [batch, num_features]\n",
    "        prediction = self.dense(x)\n",
    "        return prediction, state\n",
    "        \n",
    "        \n",
    "    def call(self, inputs, training = None):\n",
    "        predictions = []\n",
    "        \n",
    "        prediction, state = self.warmup(inputs)\n",
    "        predictions.append(self.target_model(prediction))\n",
    "        \n",
    "        for n in range(1, self.out_steps):\n",
    "            x = prediction\n",
    "            # [batch, num_features] => [batch, units]\n",
    "            x, state = self.lstm_cell(x, states = state, training = training)\n",
    "            # [batch, units] => [batch, num_features]\n",
    "            prediction = self.dense(x)\n",
    "            predictions.append(self.target_model(prediction))\n",
    "            \n",
    "        predictions = tf.stack(predictions, axis = 1)\n",
    "        return predictions"
   ]
  },
  {
   "cell_type": "markdown",
   "metadata": {},
   "source": [
    "## **Compile and Fit**"
   ]
  },
  {
   "cell_type": "code",
   "execution_count": 85,
   "metadata": {},
   "outputs": [],
   "source": [
    "# target_model.trainable = False # fix the weights\n",
    "models = []\n",
    "\n",
    "for tau in np.arange(0.1, 1, 0.1):\n",
    "    model = AR_LSTM(\n",
    "        target_model = TARGET_MODEL(units = 64, name = f\"T{tau:.1f}\"),\n",
    "        units = args[\"NUM_UNITS\"],\n",
    "        out_steps = args[\"WINDOW_TAR\"],\n",
    "        name = f\"P{tau:.1f}\")\n",
    "\n",
    "    model.compile(\n",
    "        loss = tfa.losses.PinballLoss(tau = tau),\n",
    "        optimizer = tf.keras.optimizers.Adam(args[\"INIT_LR\"]))\n",
    "    \n",
    "    models.append(model)"
   ]
  },
  {
   "cell_type": "code",
   "execution_count": 86,
   "metadata": {},
   "outputs": [
    {
     "name": "stdout",
     "output_type": "stream",
     "text": [
      "\n",
      "Model P0.1...\n",
      "\n",
      "Epoch 1/10\n",
      "7/7 - 16s - loss: 1.7854 - val_loss: 1.7643\n",
      "Epoch 2/10\n",
      "7/7 - 2s - loss: 1.7850 - val_loss: 1.7641\n",
      "Epoch 3/10\n",
      "7/7 - 2s - loss: 1.7849 - val_loss: 1.7642\n",
      "Epoch 4/10\n",
      "7/7 - 2s - loss: 1.7849 - val_loss: 1.7640\n",
      "Epoch 5/10\n",
      "7/7 - 2s - loss: 1.7848 - val_loss: 1.7641\n",
      "Epoch 6/10\n",
      "7/7 - 2s - loss: 1.7849 - val_loss: 1.7644\n",
      "Epoch 7/10\n",
      "7/7 - 2s - loss: 1.7852 - val_loss: 1.7640\n",
      "Epoch 8/10\n",
      "7/7 - 2s - loss: 1.7851 - val_loss: 1.7646\n",
      "Epoch 9/10\n",
      "7/7 - 2s - loss: 1.7852 - val_loss: 1.7640\n",
      "Epoch 10/10\n",
      "7/7 - 2s - loss: 1.7851 - val_loss: 1.7645\n",
      "\n",
      "Model P0.2...\n",
      "\n",
      "Epoch 1/10\n",
      "7/7 - 17s - loss: 3.5704 - val_loss: 3.5284\n",
      "Epoch 2/10\n",
      "7/7 - 2s - loss: 3.5699 - val_loss: 3.5280\n",
      "Epoch 3/10\n",
      "7/7 - 2s - loss: 3.5698 - val_loss: 3.5284\n",
      "Epoch 4/10\n",
      "7/7 - 2s - loss: 3.5696 - val_loss: 3.5280\n",
      "Epoch 5/10\n",
      "7/7 - 2s - loss: 3.5695 - val_loss: 3.5279\n",
      "Epoch 6/10\n",
      "7/7 - 2s - loss: 3.5694 - val_loss: 3.5279\n",
      "Epoch 7/10\n",
      "7/7 - 2s - loss: 3.5694 - val_loss: 3.5277\n",
      "Epoch 8/10\n",
      "7/7 - 2s - loss: 3.5692 - val_loss: 3.5274\n",
      "Epoch 9/10\n",
      "7/7 - 2s - loss: 3.5685 - val_loss: 3.5256\n",
      "Epoch 10/10\n",
      "7/7 - 2s - loss: 3.5637 - val_loss: 3.5106\n",
      "\n",
      "Model P0.3...\n",
      "\n",
      "Epoch 1/10\n",
      "7/7 - 17s - loss: 5.3550 - val_loss: 5.2922\n",
      "Epoch 2/10\n",
      "7/7 - 2s - loss: 5.3546 - val_loss: 5.2924\n",
      "Epoch 3/10\n",
      "7/7 - 2s - loss: 5.3546 - val_loss: 5.2918\n",
      "Epoch 4/10\n",
      "7/7 - 2s - loss: 5.3540 - val_loss: 5.2914\n",
      "Epoch 5/10\n",
      "7/7 - 2s - loss: 5.3534 - val_loss: 5.2909\n",
      "Epoch 6/10\n",
      "7/7 - 2s - loss: 5.3528 - val_loss: 5.2901\n",
      "Epoch 7/10\n",
      "7/7 - 2s - loss: 5.3518 - val_loss: 5.2882\n",
      "Epoch 8/10\n",
      "7/7 - 2s - loss: 5.3487 - val_loss: 5.2822\n",
      "Epoch 9/10\n",
      "7/7 - 2s - loss: 5.3348 - val_loss: 5.2521\n",
      "Epoch 10/10\n",
      "7/7 - 2s - loss: 5.3034 - val_loss: 5.2061\n",
      "\n",
      "Model P0.4...\n",
      "\n",
      "Epoch 1/10\n",
      "7/7 - 16s - loss: 7.1398 - val_loss: 7.0561\n",
      "Epoch 2/10\n",
      "7/7 - 2s - loss: 7.1389 - val_loss: 7.0550\n",
      "Epoch 3/10\n",
      "7/7 - 2s - loss: 7.1377 - val_loss: 7.0534\n",
      "Epoch 4/10\n",
      "7/7 - 2s - loss: 7.1333 - val_loss: 7.0373\n",
      "Epoch 5/10\n",
      "7/7 - 2s - loss: 7.0739 - val_loss: 6.9201\n",
      "Epoch 6/10\n",
      "7/7 - 2s - loss: 6.9055 - val_loss: 6.6758\n",
      "Epoch 7/10\n",
      "7/7 - 2s - loss: 6.5984 - val_loss: 6.2551\n",
      "Epoch 8/10\n",
      "7/7 - 2s - loss: 6.0514 - val_loss: 5.5983\n",
      "Epoch 9/10\n",
      "7/7 - 2s - loss: 5.4435 - val_loss: 5.3815\n",
      "Epoch 10/10\n",
      "7/7 - 2s - loss: 4.9530 - val_loss: 4.7036\n",
      "\n",
      "Model P0.5...\n",
      "\n",
      "Epoch 1/10\n",
      "7/7 - 17s - loss: 8.9226 - val_loss: 8.8155\n",
      "Epoch 2/10\n",
      "7/7 - 2s - loss: 8.9118 - val_loss: 8.7819\n",
      "Epoch 3/10\n",
      "7/7 - 2s - loss: 8.7908 - val_loss: 8.4879\n",
      "Epoch 4/10\n",
      "7/7 - 2s - loss: 8.3751 - val_loss: 7.9618\n",
      "Epoch 5/10\n",
      "7/7 - 2s - loss: 7.7222 - val_loss: 7.1257\n",
      "Epoch 6/10\n",
      "7/7 - 2s - loss: 6.8059 - val_loss: 6.1962\n",
      "Epoch 7/10\n",
      "7/7 - 2s - loss: 5.7379 - val_loss: 5.2323\n",
      "Epoch 8/10\n",
      "7/7 - 2s - loss: 4.8906 - val_loss: 4.5748\n",
      "Epoch 9/10\n",
      "7/7 - 2s - loss: 4.5630 - val_loss: 4.6996\n",
      "Epoch 10/10\n",
      "7/7 - 2s - loss: 4.4141 - val_loss: 4.3440\n",
      "\n",
      "Model P0.6...\n",
      "\n",
      "Epoch 1/10\n",
      "7/7 - 17s - loss: 10.7066 - val_loss: 10.5766\n",
      "Epoch 2/10\n",
      "7/7 - 2s - loss: 10.6956 - val_loss: 10.5574\n",
      "Epoch 3/10\n",
      "7/7 - 2s - loss: 10.6441 - val_loss: 10.4216\n",
      "Epoch 4/10\n",
      "7/7 - 2s - loss: 10.4392 - val_loss: 10.1972\n",
      "Epoch 5/10\n",
      "7/7 - 2s - loss: 10.2378 - val_loss: 9.9706\n",
      "Epoch 6/10\n",
      "7/7 - 2s - loss: 9.9694 - val_loss: 9.7544\n",
      "Epoch 7/10\n",
      "7/7 - 2s - loss: 9.7869 - val_loss: 9.6413\n",
      "Epoch 8/10\n",
      "7/7 - 2s - loss: 9.6804 - val_loss: 9.5099\n",
      "Epoch 9/10\n",
      "7/7 - 2s - loss: 9.5302 - val_loss: 9.2825\n",
      "Epoch 10/10\n",
      "7/7 - 2s - loss: 9.2468 - val_loss: 8.9764\n",
      "\n",
      "Model P0.7...\n",
      "\n",
      "Epoch 1/10\n",
      "7/7 - 17s - loss: 12.4866 - val_loss: 12.3275\n",
      "Epoch 2/10\n",
      "7/7 - 2s - loss: 12.4371 - val_loss: 12.2082\n",
      "Epoch 3/10\n",
      "7/7 - 2s - loss: 12.1919 - val_loss: 11.7783\n",
      "Epoch 4/10\n",
      "7/7 - 2s - loss: 11.6963 - val_loss: 11.1970\n",
      "Epoch 5/10\n",
      "7/7 - 2s - loss: 11.1067 - val_loss: 10.5446\n",
      "Epoch 6/10\n",
      "7/7 - 2s - loss: 10.4202 - val_loss: 9.9662\n",
      "Epoch 7/10\n",
      "7/7 - 2s - loss: 9.8973 - val_loss: 9.6112\n",
      "Epoch 8/10\n",
      "7/7 - 2s - loss: 9.6295 - val_loss: 9.4812\n",
      "Epoch 9/10\n",
      "7/7 - 2s - loss: 9.5148 - val_loss: 9.4253\n",
      "Epoch 10/10\n",
      "7/7 - 2s - loss: 9.4706 - val_loss: 9.3796\n",
      "\n",
      "Model P0.8...\n",
      "\n",
      "Epoch 1/10\n",
      "7/7 - 17s - loss: 14.2684 - val_loss: 14.0839\n",
      "Epoch 2/10\n",
      "7/7 - 2s - loss: 14.2244 - val_loss: 13.9794\n",
      "Epoch 3/10\n",
      "7/7 - 2s - loss: 13.9217 - val_loss: 13.3205\n",
      "Epoch 4/10\n",
      "7/7 - 2s - loss: 13.1228 - val_loss: 12.3544\n",
      "Epoch 5/10\n",
      "7/7 - 2s - loss: 12.0237 - val_loss: 11.1163\n",
      "Epoch 6/10\n",
      "7/7 - 2s - loss: 10.6704 - val_loss: 9.7210\n",
      "Epoch 7/10\n",
      "7/7 - 2s - loss: 9.2856 - val_loss: 8.8368\n",
      "Epoch 8/10\n",
      "7/7 - 2s - loss: 8.6109 - val_loss: 8.3615\n",
      "Epoch 9/10\n",
      "7/7 - 2s - loss: 8.3987 - val_loss: 8.3210\n",
      "Epoch 10/10\n",
      "7/7 - 2s - loss: 8.2317 - val_loss: 8.1114\n",
      "\n",
      "Model P0.9...\n",
      "\n",
      "Epoch 1/10\n",
      "7/7 - 16s - loss: 16.0485 - val_loss: 15.8290\n",
      "Epoch 2/10\n",
      "7/7 - 1s - loss: 15.9242 - val_loss: 15.4680\n",
      "Epoch 3/10\n",
      "7/7 - 1s - loss: 15.3174 - val_loss: 14.5350\n",
      "Epoch 4/10\n",
      "7/7 - 1s - loss: 14.1447 - val_loss: 13.0091\n",
      "Epoch 5/10\n",
      "7/7 - 2s - loss: 12.3705 - val_loss: 10.9585\n",
      "Epoch 6/10\n",
      "7/7 - 1s - loss: 10.1062 - val_loss: 8.5652\n",
      "Epoch 7/10\n",
      "7/7 - 2s - loss: 7.7597 - val_loss: 6.5604\n",
      "Epoch 8/10\n",
      "7/7 - 2s - loss: 6.2125 - val_loss: 5.8890\n",
      "Epoch 9/10\n",
      "7/7 - 2s - loss: 6.5724 - val_loss: 6.6381\n",
      "Epoch 10/10\n",
      "7/7 - 2s - loss: 7.0339 - val_loss: 7.1719\n"
     ]
    }
   ],
   "source": [
    "for model in models:\n",
    "    # TensorBoard callback.\n",
    "    log_dir = os.path.join(\n",
    "        \"logs\", \"fit\", os.environ[\"NOTEBOOKNAME\"], \n",
    "        datetime.datetime.now().strftime(f\"{model.name}-%Y%m%d-%H%M%S\"))\n",
    "    tb_callback = tf.keras.callbacks.TensorBoard(log_dir = log_dir, histogram_freq = 1)\n",
    "\n",
    "    print(f\"\\nModel {model.name}...\\n\")\n",
    "    \n",
    "    _ = model.fit(\n",
    "        tr_dataset,\n",
    "        validation_data = vl_dataset,\n",
    "        epochs = args[\"EPOCH\"],\n",
    "        verbose = 2,\n",
    "        callbacks = [tb_callback])"
   ]
  },
  {
   "cell_type": "code",
   "execution_count": 87,
   "metadata": {},
   "outputs": [
    {
     "data": {
      "text/html": [
       "\n",
       "      <iframe id=\"tensorboard-frame-e3bfaf33186626fe\" width=\"100%\" height=\"800\" frameborder=\"0\">\n",
       "      </iframe>\n",
       "      <script>\n",
       "        (function() {\n",
       "          const frame = document.getElementById(\"tensorboard-frame-e3bfaf33186626fe\");\n",
       "          const url = new URL(\"/\", window.location);\n",
       "          const port = 6006;\n",
       "          if (port) {\n",
       "            url.port = port;\n",
       "          }\n",
       "          frame.src = url;\n",
       "        })();\n",
       "      </script>\n",
       "    "
      ],
      "text/plain": [
       "<IPython.core.display.HTML object>"
      ]
     },
     "metadata": {},
     "output_type": "display_data"
    }
   ],
   "source": [
    "%tensorboard --logdir logs/fit --host jupyter-server"
   ]
  },
  {
   "cell_type": "markdown",
   "metadata": {},
   "source": [
    "## **Predict**"
   ]
  },
  {
   "cell_type": "code",
   "execution_count": 88,
   "metadata": {},
   "outputs": [
    {
     "name": "stdout",
     "output_type": "stream",
     "text": [
      "WARNING:tensorflow:5 out of the last 5 calls to <function Model.make_predict_function.<locals>.predict_function at 0x7f4f17bfe840> triggered tf.function retracing. Tracing is expensive and the excessive number of tracings could be due to (1) creating @tf.function repeatedly in a loop, (2) passing tensors with different shapes, (3) passing Python objects instead of tensors. For (1), please define your @tf.function outside of the loop. For (2), @tf.function has experimental_relax_shapes=True option that relaxes argument shapes that can avoid unnecessary retracing. For (3), please refer to https://www.tensorflow.org/guide/function#controlling_retracing and https://www.tensorflow.org/api_docs/python/tf/function for  more details.\n",
      "WARNING:tensorflow:6 out of the last 6 calls to <function Model.make_predict_function.<locals>.predict_function at 0x7f4f16ca57b8> triggered tf.function retracing. Tracing is expensive and the excessive number of tracings could be due to (1) creating @tf.function repeatedly in a loop, (2) passing tensors with different shapes, (3) passing Python objects instead of tensors. For (1), please define your @tf.function outside of the loop. For (2), @tf.function has experimental_relax_shapes=True option that relaxes argument shapes that can avoid unnecessary retracing. For (3), please refer to https://www.tensorflow.org/guide/function#controlling_retracing and https://www.tensorflow.org/api_docs/python/tf/function for  more details.\n",
      "WARNING:tensorflow:7 out of the last 7 calls to <function Model.make_predict_function.<locals>.predict_function at 0x7f4f15d60048> triggered tf.function retracing. Tracing is expensive and the excessive number of tracings could be due to (1) creating @tf.function repeatedly in a loop, (2) passing tensors with different shapes, (3) passing Python objects instead of tensors. For (1), please define your @tf.function outside of the loop. For (2), @tf.function has experimental_relax_shapes=True option that relaxes argument shapes that can avoid unnecessary retracing. For (3), please refer to https://www.tensorflow.org/guide/function#controlling_retracing and https://www.tensorflow.org/api_docs/python/tf/function for  more details.\n",
      "WARNING:tensorflow:8 out of the last 8 calls to <function Model.make_predict_function.<locals>.predict_function at 0x7f4f14e7b8c8> triggered tf.function retracing. Tracing is expensive and the excessive number of tracings could be due to (1) creating @tf.function repeatedly in a loop, (2) passing tensors with different shapes, (3) passing Python objects instead of tensors. For (1), please define your @tf.function outside of the loop. For (2), @tf.function has experimental_relax_shapes=True option that relaxes argument shapes that can avoid unnecessary retracing. For (3), please refer to https://www.tensorflow.org/guide/function#controlling_retracing and https://www.tensorflow.org/api_docs/python/tf/function for  more details.\n",
      "WARNING:tensorflow:9 out of the last 9 calls to <function Model.make_predict_function.<locals>.predict_function at 0x7f4f3554cea0> triggered tf.function retracing. Tracing is expensive and the excessive number of tracings could be due to (1) creating @tf.function repeatedly in a loop, (2) passing tensors with different shapes, (3) passing Python objects instead of tensors. For (1), please define your @tf.function outside of the loop. For (2), @tf.function has experimental_relax_shapes=True option that relaxes argument shapes that can avoid unnecessary retracing. For (3), please refer to https://www.tensorflow.org/guide/function#controlling_retracing and https://www.tensorflow.org/api_docs/python/tf/function for  more details.\n"
     ]
    },
    {
     "data": {
      "text/plain": [
       "(81, 96)"
      ]
     },
     "execution_count": 88,
     "metadata": {},
     "output_type": "execute_result"
    }
   ],
   "source": [
    "preds = [np.array(model.predict(ts_dataset))[..., 0] for model in models]\n",
    "preds[0].shape"
   ]
  },
  {
   "cell_type": "code",
   "execution_count": 89,
   "metadata": {},
   "outputs": [
    {
     "data": {
      "text/html": [
       "<div>\n",
       "<style scoped>\n",
       "    .dataframe tbody tr th:only-of-type {\n",
       "        vertical-align: middle;\n",
       "    }\n",
       "\n",
       "    .dataframe tbody tr th {\n",
       "        vertical-align: top;\n",
       "    }\n",
       "\n",
       "    .dataframe thead th {\n",
       "        text-align: right;\n",
       "    }\n",
       "</style>\n",
       "<table border=\"1\" class=\"dataframe\">\n",
       "  <thead>\n",
       "    <tr style=\"text-align: right;\">\n",
       "      <th></th>\n",
       "      <th>q_0.1</th>\n",
       "      <th>q_0.2</th>\n",
       "      <th>q_0.3</th>\n",
       "      <th>q_0.4</th>\n",
       "      <th>q_0.5</th>\n",
       "      <th>q_0.6</th>\n",
       "      <th>q_0.7</th>\n",
       "      <th>q_0.8</th>\n",
       "      <th>q_0.9</th>\n",
       "    </tr>\n",
       "    <tr>\n",
       "      <th>id</th>\n",
       "      <th></th>\n",
       "      <th></th>\n",
       "      <th></th>\n",
       "      <th></th>\n",
       "      <th></th>\n",
       "      <th></th>\n",
       "      <th></th>\n",
       "      <th></th>\n",
       "      <th></th>\n",
       "    </tr>\n",
       "  </thead>\n",
       "  <tbody>\n",
       "    <tr>\n",
       "      <th>0.csv_Day7_0h00m</th>\n",
       "      <td>0.0</td>\n",
       "      <td>0.0</td>\n",
       "      <td>0.0</td>\n",
       "      <td>0.0</td>\n",
       "      <td>0.0</td>\n",
       "      <td>0.0</td>\n",
       "      <td>0.0</td>\n",
       "      <td>0.0</td>\n",
       "      <td>0.0</td>\n",
       "    </tr>\n",
       "    <tr>\n",
       "      <th>0.csv_Day7_0h30m</th>\n",
       "      <td>0.0</td>\n",
       "      <td>0.0</td>\n",
       "      <td>0.0</td>\n",
       "      <td>0.0</td>\n",
       "      <td>0.0</td>\n",
       "      <td>0.0</td>\n",
       "      <td>0.0</td>\n",
       "      <td>0.0</td>\n",
       "      <td>0.0</td>\n",
       "    </tr>\n",
       "    <tr>\n",
       "      <th>0.csv_Day7_1h00m</th>\n",
       "      <td>0.0</td>\n",
       "      <td>0.0</td>\n",
       "      <td>0.0</td>\n",
       "      <td>0.0</td>\n",
       "      <td>0.0</td>\n",
       "      <td>0.0</td>\n",
       "      <td>0.0</td>\n",
       "      <td>0.0</td>\n",
       "      <td>0.0</td>\n",
       "    </tr>\n",
       "    <tr>\n",
       "      <th>0.csv_Day7_1h30m</th>\n",
       "      <td>0.0</td>\n",
       "      <td>0.0</td>\n",
       "      <td>0.0</td>\n",
       "      <td>0.0</td>\n",
       "      <td>0.0</td>\n",
       "      <td>0.0</td>\n",
       "      <td>0.0</td>\n",
       "      <td>0.0</td>\n",
       "      <td>0.0</td>\n",
       "    </tr>\n",
       "    <tr>\n",
       "      <th>0.csv_Day7_2h00m</th>\n",
       "      <td>0.0</td>\n",
       "      <td>0.0</td>\n",
       "      <td>0.0</td>\n",
       "      <td>0.0</td>\n",
       "      <td>0.0</td>\n",
       "      <td>0.0</td>\n",
       "      <td>0.0</td>\n",
       "      <td>0.0</td>\n",
       "      <td>0.0</td>\n",
       "    </tr>\n",
       "  </tbody>\n",
       "</table>\n",
       "</div>"
      ],
      "text/plain": [
       "                  q_0.1  q_0.2  q_0.3  q_0.4  q_0.5  q_0.6  q_0.7  q_0.8  \\\n",
       "id                                                                         \n",
       "0.csv_Day7_0h00m    0.0    0.0    0.0    0.0    0.0    0.0    0.0    0.0   \n",
       "0.csv_Day7_0h30m    0.0    0.0    0.0    0.0    0.0    0.0    0.0    0.0   \n",
       "0.csv_Day7_1h00m    0.0    0.0    0.0    0.0    0.0    0.0    0.0    0.0   \n",
       "0.csv_Day7_1h30m    0.0    0.0    0.0    0.0    0.0    0.0    0.0    0.0   \n",
       "0.csv_Day7_2h00m    0.0    0.0    0.0    0.0    0.0    0.0    0.0    0.0   \n",
       "\n",
       "                  q_0.9  \n",
       "id                       \n",
       "0.csv_Day7_0h00m    0.0  \n",
       "0.csv_Day7_0h30m    0.0  \n",
       "0.csv_Day7_1h00m    0.0  \n",
       "0.csv_Day7_1h30m    0.0  \n",
       "0.csv_Day7_2h00m    0.0  "
      ]
     },
     "execution_count": 89,
     "metadata": {},
     "output_type": "execute_result"
    }
   ],
   "source": [
    "submission = pd.read_csv(os.path.join(os.environ[\"LOCAL_DATA_PATH\"], \"sample_submission.csv\"), index_col = \"id\")\n",
    "submission.head()"
   ]
  },
  {
   "cell_type": "code",
   "execution_count": 90,
   "metadata": {},
   "outputs": [],
   "source": [
    "for column, pred in zip(submission.columns, preds):\n",
    "    foo = np.reshape(pred, (-1,))\n",
    "#     foo = (foo * args[\"TARGET_STD\"]) + args[\"TARGET_STD\"]\n",
    "#     foo = np.where(foo < 0, 0, foo) # clip by value\n",
    "    \n",
    "    submission[column] = foo"
   ]
  },
  {
   "cell_type": "code",
   "execution_count": 91,
   "metadata": {},
   "outputs": [
    {
     "data": {
      "text/html": [
       "<div>\n",
       "<style scoped>\n",
       "    .dataframe tbody tr th:only-of-type {\n",
       "        vertical-align: middle;\n",
       "    }\n",
       "\n",
       "    .dataframe tbody tr th {\n",
       "        vertical-align: top;\n",
       "    }\n",
       "\n",
       "    .dataframe thead th {\n",
       "        text-align: right;\n",
       "    }\n",
       "</style>\n",
       "<table border=\"1\" class=\"dataframe\">\n",
       "  <thead>\n",
       "    <tr style=\"text-align: right;\">\n",
       "      <th></th>\n",
       "      <th>q_0.1</th>\n",
       "      <th>q_0.2</th>\n",
       "      <th>q_0.3</th>\n",
       "      <th>q_0.4</th>\n",
       "      <th>q_0.5</th>\n",
       "      <th>q_0.6</th>\n",
       "      <th>q_0.7</th>\n",
       "      <th>q_0.8</th>\n",
       "      <th>q_0.9</th>\n",
       "    </tr>\n",
       "    <tr>\n",
       "      <th>id</th>\n",
       "      <th></th>\n",
       "      <th></th>\n",
       "      <th></th>\n",
       "      <th></th>\n",
       "      <th></th>\n",
       "      <th></th>\n",
       "      <th></th>\n",
       "      <th></th>\n",
       "      <th></th>\n",
       "    </tr>\n",
       "  </thead>\n",
       "  <tbody>\n",
       "    <tr>\n",
       "      <th>0.csv_Day7_0h00m</th>\n",
       "      <td>-0.021511</td>\n",
       "      <td>-0.000256</td>\n",
       "      <td>0.415983</td>\n",
       "      <td>-0.013518</td>\n",
       "      <td>-0.013992</td>\n",
       "      <td>0.119357</td>\n",
       "      <td>0.185494</td>\n",
       "      <td>1.380376</td>\n",
       "      <td>2.010500</td>\n",
       "    </tr>\n",
       "    <tr>\n",
       "      <th>0.csv_Day7_0h30m</th>\n",
       "      <td>-0.015425</td>\n",
       "      <td>0.001286</td>\n",
       "      <td>0.297895</td>\n",
       "      <td>-0.005883</td>\n",
       "      <td>0.002595</td>\n",
       "      <td>0.120345</td>\n",
       "      <td>0.184872</td>\n",
       "      <td>1.632279</td>\n",
       "      <td>2.317418</td>\n",
       "    </tr>\n",
       "    <tr>\n",
       "      <th>0.csv_Day7_1h00m</th>\n",
       "      <td>-0.010233</td>\n",
       "      <td>-0.000091</td>\n",
       "      <td>0.173693</td>\n",
       "      <td>-0.002300</td>\n",
       "      <td>0.003090</td>\n",
       "      <td>0.092664</td>\n",
       "      <td>0.154891</td>\n",
       "      <td>1.990723</td>\n",
       "      <td>2.563728</td>\n",
       "    </tr>\n",
       "    <tr>\n",
       "      <th>0.csv_Day7_1h30m</th>\n",
       "      <td>-0.007479</td>\n",
       "      <td>-0.003712</td>\n",
       "      <td>0.084966</td>\n",
       "      <td>-0.006668</td>\n",
       "      <td>-0.000983</td>\n",
       "      <td>0.088277</td>\n",
       "      <td>0.111617</td>\n",
       "      <td>2.517275</td>\n",
       "      <td>2.744506</td>\n",
       "    </tr>\n",
       "    <tr>\n",
       "      <th>0.csv_Day7_2h00m</th>\n",
       "      <td>-0.006309</td>\n",
       "      <td>-0.005801</td>\n",
       "      <td>0.043601</td>\n",
       "      <td>-0.009268</td>\n",
       "      <td>-0.001920</td>\n",
       "      <td>0.089372</td>\n",
       "      <td>0.078859</td>\n",
       "      <td>3.260755</td>\n",
       "      <td>2.873778</td>\n",
       "    </tr>\n",
       "  </tbody>\n",
       "</table>\n",
       "</div>"
      ],
      "text/plain": [
       "                     q_0.1     q_0.2     q_0.3     q_0.4     q_0.5     q_0.6  \\\n",
       "id                                                                             \n",
       "0.csv_Day7_0h00m -0.021511 -0.000256  0.415983 -0.013518 -0.013992  0.119357   \n",
       "0.csv_Day7_0h30m -0.015425  0.001286  0.297895 -0.005883  0.002595  0.120345   \n",
       "0.csv_Day7_1h00m -0.010233 -0.000091  0.173693 -0.002300  0.003090  0.092664   \n",
       "0.csv_Day7_1h30m -0.007479 -0.003712  0.084966 -0.006668 -0.000983  0.088277   \n",
       "0.csv_Day7_2h00m -0.006309 -0.005801  0.043601 -0.009268 -0.001920  0.089372   \n",
       "\n",
       "                     q_0.7     q_0.8     q_0.9  \n",
       "id                                              \n",
       "0.csv_Day7_0h00m  0.185494  1.380376  2.010500  \n",
       "0.csv_Day7_0h30m  0.184872  1.632279  2.317418  \n",
       "0.csv_Day7_1h00m  0.154891  1.990723  2.563728  \n",
       "0.csv_Day7_1h30m  0.111617  2.517275  2.744506  \n",
       "0.csv_Day7_2h00m  0.078859  3.260755  2.873778  "
      ]
     },
     "execution_count": 91,
     "metadata": {},
     "output_type": "execute_result"
    }
   ],
   "source": [
    "submission.head()"
   ]
  },
  {
   "cell_type": "code",
   "execution_count": 92,
   "metadata": {},
   "outputs": [],
   "source": [
    "submission.to_csv(\n",
    "    os.path.join(os.environ[\"SUBMISSION_PATH\"], f\"{os.environ['NOTEBOOKNAME']}_submission.csv\"))"
   ]
  },
  {
   "cell_type": "code",
   "execution_count": null,
   "metadata": {},
   "outputs": [],
   "source": []
  }
 ],
 "metadata": {
  "kernelspec": {
   "display_name": "Python 3",
   "language": "python",
   "name": "python3"
  },
  "language_info": {
   "codemirror_mode": {
    "name": "ipython",
    "version": 3
   },
   "file_extension": ".py",
   "mimetype": "text/x-python",
   "name": "python",
   "nbconvert_exporter": "python",
   "pygments_lexer": "ipython3",
   "version": "3.6.9"
  }
 },
 "nbformat": 4,
 "nbformat_minor": 4
}
