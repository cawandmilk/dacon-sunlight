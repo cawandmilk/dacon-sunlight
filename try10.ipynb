{
 "cells": [
  {
   "cell_type": "markdown",
   "metadata": {},
   "source": [
    "# **Default Setting**\n",
    "\n",
    "* Python: 3.6.9\n",
    "* ML Framework: tf-nightly-gpu 2.5.0-dev20201208\n",
    "* CPU: AMD Ryzen 5 5600X 6-Core Processor\n",
    "* GPU: GeForce RTX 3070 (8G) (CUDA 11.1)\n",
    "* RAM: 32G\n",
    "* Platform: linux 20.04 LTS"
   ]
  },
  {
   "cell_type": "code",
   "execution_count": 1,
   "metadata": {},
   "outputs": [
    {
     "name": "stdout",
     "output_type": "stream",
     "text": [
      "env: NOTEBOOKNAME=try10\n",
      "env: LOCAL_DATA_PATH=data\n",
      "env: SUBMISSION_PATH=submission\n"
     ]
    }
   ],
   "source": [
    "%env NOTEBOOKNAME try10\n",
    "%env LOCAL_DATA_PATH data\n",
    "%env SUBMISSION_PATH submission"
   ]
  },
  {
   "cell_type": "code",
   "execution_count": 2,
   "metadata": {},
   "outputs": [
    {
     "name": "stderr",
     "output_type": "stream",
     "text": [
      "/home/myunggyo/anaconda3/envs/py36/lib/python3.6/site-packages/tensorflow_addons/utils/ensure_tf_install.py:44: UserWarning: You are currently using a nightly version of TensorFlow (2.5.0-dev20201208). \n",
      "TensorFlow Addons offers no support for the nightly versions of TensorFlow. Some things might work, some other might not. \n",
      "If you encounter a bug, do not file an issue on GitHub.\n",
      "  UserWarning,\n"
     ]
    },
    {
     "name": "stdout",
     "output_type": "stream",
     "text": [
      "tf.__version__: 2.5.0-dev20201208\n",
      "tfa.__version__: 0.11.2\n"
     ]
    }
   ],
   "source": [
    "import tensorflow as tf\n",
    "import tensorflow_addons as tfa\n",
    "\n",
    "import datetime\n",
    "import glob\n",
    "import os\n",
    "import platform\n",
    "import pydot\n",
    "\n",
    "import numpy as np\n",
    "import pandas as pd\n",
    "\n",
    "from collections import OrderedDict\n",
    "from math import pi\n",
    "from matplotlib import pyplot as plt\n",
    "from sklearn.model_selection import train_test_split\n",
    "\n",
    "print(f\"tf.__version__: {tf.__version__}\")\n",
    "print(f\"tfa.__version__: {tfa.__version__}\")"
   ]
  },
  {
   "cell_type": "code",
   "execution_count": 3,
   "metadata": {},
   "outputs": [
    {
     "data": {
      "text/plain": [
       "[PhysicalDevice(name='/physical_device:CPU:0', device_type='CPU'),\n",
       " PhysicalDevice(name='/physical_device:GPU:0', device_type='GPU')]"
      ]
     },
     "execution_count": 3,
     "metadata": {},
     "output_type": "execute_result"
    }
   ],
   "source": [
    "tf.config.list_physical_devices()"
   ]
  },
  {
   "cell_type": "code",
   "execution_count": 4,
   "metadata": {},
   "outputs": [],
   "source": [
    "# !python -V"
   ]
  },
  {
   "cell_type": "code",
   "execution_count": 5,
   "metadata": {},
   "outputs": [],
   "source": [
    "# !cat /proc/cpuinfo"
   ]
  },
  {
   "cell_type": "code",
   "execution_count": 4,
   "metadata": {},
   "outputs": [
    {
     "name": "stdout",
     "output_type": "stream",
     "text": [
      "Tue Dec 15 18:15:15 2020       \n",
      "+-----------------------------------------------------------------------------+\n",
      "| NVIDIA-SMI 455.32.00    Driver Version: 455.32.00    CUDA Version: 11.1     |\n",
      "|-------------------------------+----------------------+----------------------+\n",
      "| GPU  Name        Persistence-M| Bus-Id        Disp.A | Volatile Uncorr. ECC |\n",
      "| Fan  Temp  Perf  Pwr:Usage/Cap|         Memory-Usage | GPU-Util  Compute M. |\n",
      "|                               |                      |               MIG M. |\n",
      "|===============================+======================+======================|\n",
      "|   0  Graphics Device     On   | 00000000:0A:00.0  On |                  N/A |\n",
      "|  0%   30C    P8    16W / 220W |    376MiB /  7979MiB |      0%      Default |\n",
      "|                               |                      |                  N/A |\n",
      "+-------------------------------+----------------------+----------------------+\n",
      "                                                                               \n",
      "+-----------------------------------------------------------------------------+\n",
      "| Processes:                                                                  |\n",
      "|  GPU   GI   CI        PID   Type   Process name                  GPU Memory |\n",
      "|        ID   ID                                                   Usage      |\n",
      "|=============================================================================|\n",
      "|    0   N/A  N/A       915      G   /usr/lib/xorg/Xorg                 35MiB |\n",
      "|    0   N/A  N/A      1537      G   /usr/lib/xorg/Xorg                 87MiB |\n",
      "|    0   N/A  N/A      1664      G   /usr/bin/gnome-shell               93MiB |\n",
      "|    0   N/A  N/A      2592      G   ...AAAAAAAA== --shared-files      144MiB |\n",
      "+-----------------------------------------------------------------------------+\n"
     ]
    }
   ],
   "source": [
    "!nvidia-smi"
   ]
  },
  {
   "cell_type": "code",
   "execution_count": 7,
   "metadata": {},
   "outputs": [],
   "source": [
    "# !df -h"
   ]
  },
  {
   "cell_type": "code",
   "execution_count": 5,
   "metadata": {},
   "outputs": [
    {
     "name": "stdout",
     "output_type": "stream",
     "text": [
      "              total        used        free      shared  buff/cache   available\n",
      "Mem:           31Gi       2.2Gi        26Gi       325Mi       2.2Gi        28Gi\n",
      "Swap:         2.0Gi          0B       2.0Gi\n"
     ]
    }
   ],
   "source": [
    "!free -h"
   ]
  },
  {
   "cell_type": "code",
   "execution_count": 6,
   "metadata": {},
   "outputs": [],
   "source": [
    "# platform.platform()"
   ]
  },
  {
   "cell_type": "code",
   "execution_count": 7,
   "metadata": {},
   "outputs": [],
   "source": [
    "# Load the TensorBoard notebook extension.\n",
    "%load_ext tensorboard"
   ]
  },
  {
   "cell_type": "markdown",
   "metadata": {},
   "source": [
    "# **Define Arguments**"
   ]
  },
  {
   "cell_type": "code",
   "execution_count": 61,
   "metadata": {},
   "outputs": [
    {
     "data": {
      "text/plain": [
       "OrderedDict([('SEED', 42),\n",
       "             ('TEST_SIZE', 0.2),\n",
       "             ('EPOCH', 10),\n",
       "             ('INIT_LR', 0.001),\n",
       "             ('NUM_TEST_CSV', 81),\n",
       "             ('WINDOW_INP', 336),\n",
       "             ('WINDOW_TAR', 96),\n",
       "             ('WINDOW_SHIFT', 48),\n",
       "             ('WINDOW_STRIDE', 1),\n",
       "             ('WINDOW_DR', True),\n",
       "             ('AUTO', -1),\n",
       "             ('GLOBAL_BATCH_SIZE', 128),\n",
       "             ('NUM_UNITS', 64),\n",
       "             ('NUM_FEATURES', 7),\n",
       "             ('NUM_QUANTILE', 9)])"
      ]
     },
     "execution_count": 61,
     "metadata": {},
     "output_type": "execute_result"
    }
   ],
   "source": [
    "args = OrderedDict({\n",
    "    # Basic\n",
    "    \"SEED\": 42,\n",
    "    \"TEST_SIZE\": 0.2,\n",
    "    \"EPOCH\": 10,\n",
    "    \"INIT_LR\": 1e-3,\n",
    "    \n",
    "    # Dataframe\n",
    "    \"NUM_TEST_CSV\": 81,\n",
    "    \n",
    "    # Dataset Pipeline\n",
    "    \"WINDOW_INP\": 7 * 24 * 2, # 336, 7 days\n",
    "    \"WINDOW_TAR\": 2 * 24 * 2, # 96, 2 days\n",
    "    \"WINDOW_SHIFT\": 1 * 24 * 2, # 1 day\n",
    "    \"WINDOW_STRIDE\": 1,\n",
    "    \"WINDOW_DR\": True, # Drop remainders\n",
    "    \"AUTO\": tf.data.experimental.AUTOTUNE,\n",
    "    \n",
    "    \"GLOBAL_BATCH_SIZE\": 128,\n",
    "    \n",
    "    # Model\n",
    "    \"NUM_UNITS\": 64, # lstm units\n",
    "    \"NUM_FEATURES\": 7, # Day_sin, Day_cos, DHI, DNI, WS, RH, T\n",
    "    \"NUM_QUANTILE\": 9, # tau = 0.1 to 0.9\n",
    "    \n",
    "})\n",
    "\n",
    "args"
   ]
  },
  {
   "cell_type": "markdown",
   "metadata": {},
   "source": [
    "# **Load Datasets**"
   ]
  },
  {
   "cell_type": "markdown",
   "metadata": {},
   "source": [
    "## **Train / Validation**"
   ]
  },
  {
   "cell_type": "code",
   "execution_count": 96,
   "metadata": {},
   "outputs": [],
   "source": [
    "df = pd.read_csv(os.path.join(os.environ[\"LOCAL_DATA_PATH\"], \"train\", \"train.csv\"))"
   ]
  },
  {
   "cell_type": "code",
   "execution_count": 97,
   "metadata": {},
   "outputs": [],
   "source": [
    "# df.head()"
   ]
  },
  {
   "cell_type": "code",
   "execution_count": 98,
   "metadata": {},
   "outputs": [],
   "source": [
    "# df.describe()"
   ]
  },
  {
   "cell_type": "code",
   "execution_count": 99,
   "metadata": {},
   "outputs": [
    {
     "data": {
      "text/plain": [
       "((42048, 9), (10512, 9))"
      ]
     },
     "execution_count": 99,
     "metadata": {},
     "output_type": "execute_result"
    }
   ],
   "source": [
    "tr_df, vl_df = train_test_split(\n",
    "    df, \n",
    "    test_size = args[\"TEST_SIZE\"], \n",
    "    random_state = args[\"SEED\"])\n",
    "\n",
    "tr_df.shape, vl_df.shape"
   ]
  },
  {
   "cell_type": "code",
   "execution_count": 100,
   "metadata": {},
   "outputs": [],
   "source": [
    "def preprocessing(df, is_training = True, day = 24 * 2):\n",
    "    # Drop timestampes.\n",
    "    try:\n",
    "        df = df.drop([\"Day\"], axis = 1) # cannot use day features\n",
    "    except:\n",
    "        pass\n",
    "    \n",
    "    \n",
    "    # Timestamp to sin/cos.\n",
    "    for column in [\"Hour\", \"Minute\"]:\n",
    "        df[f\"_{column}\"] = df[column].apply(lambda x: f\"{x:0>2d}\")\n",
    "    \n",
    "    df[\"Time\"] = df[[\"_Hour\", \"_Minute\"]].apply(lambda x: \":\".join(x), axis = 1)\n",
    "    \n",
    "    timestamp = pd.to_datetime(df.pop(\"Time\"), format = \"%H:%M\").map(datetime.datetime.timestamp)\n",
    "    \n",
    "    day_sin = tf.math.sin(tf.constant(timestamp.values, dtype = tf.float32) * (2. * pi / day))\n",
    "    day_cos = tf.math.cos(tf.constant(timestamp.values, dtype = tf.float32) * (2. * pi / day))\n",
    "    \n",
    "    df.insert(loc = 0, column = \"Day_sin\", value = day_sin)\n",
    "    df.insert(loc = 1, column = \"Day_cos\", value = day_cos)\n",
    "    \n",
    "    df = df.drop([\"Hour\", \"Minute\", \"_Hour\", \"_Minute\"], axis = 1)\n",
    "    \n",
    "    \n",
    "    # Standarize.\n",
    "    for column in df.columns:\n",
    "        if is_training:\n",
    "            args[f\"{column}_MEAN\"] = df[column].mean()\n",
    "            args[f\"{column}_STD\"] = df[column].std()\n",
    "        \n",
    "        df[column] = (df[column] - args[f\"{column}_MEAN\"]) / args[f\"{column}_STD\"]\n",
    "        \n",
    "    return df"
   ]
  },
  {
   "cell_type": "code",
   "execution_count": 101,
   "metadata": {},
   "outputs": [],
   "source": [
    "tr_df = preprocessing(tr_df)\n",
    "vl_df = preprocessing(vl_df, is_training = False)"
   ]
  },
  {
   "cell_type": "code",
   "execution_count": 102,
   "metadata": {},
   "outputs": [
    {
     "data": {
      "text/html": [
       "<div>\n",
       "<style scoped>\n",
       "    .dataframe tbody tr th:only-of-type {\n",
       "        vertical-align: middle;\n",
       "    }\n",
       "\n",
       "    .dataframe tbody tr th {\n",
       "        vertical-align: top;\n",
       "    }\n",
       "\n",
       "    .dataframe thead th {\n",
       "        text-align: right;\n",
       "    }\n",
       "</style>\n",
       "<table border=\"1\" class=\"dataframe\">\n",
       "  <thead>\n",
       "    <tr style=\"text-align: right;\">\n",
       "      <th></th>\n",
       "      <th>Day_sin</th>\n",
       "      <th>Day_cos</th>\n",
       "      <th>DHI</th>\n",
       "      <th>DNI</th>\n",
       "      <th>WS</th>\n",
       "      <th>RH</th>\n",
       "      <th>T</th>\n",
       "      <th>TARGET</th>\n",
       "    </tr>\n",
       "  </thead>\n",
       "  <tbody>\n",
       "    <tr>\n",
       "      <th>36155</th>\n",
       "      <td>1.065658</td>\n",
       "      <td>-0.948410</td>\n",
       "      <td>-0.619163</td>\n",
       "      <td>-0.670927</td>\n",
       "      <td>-0.950662</td>\n",
       "      <td>0.712244</td>\n",
       "      <td>-1.400211</td>\n",
       "      <td>-0.690053</td>\n",
       "    </tr>\n",
       "    <tr>\n",
       "      <th>42664</th>\n",
       "      <td>1.289056</td>\n",
       "      <td>0.674420</td>\n",
       "      <td>-0.619163</td>\n",
       "      <td>-0.670927</td>\n",
       "      <td>-0.459068</td>\n",
       "      <td>0.013638</td>\n",
       "      <td>0.761006</td>\n",
       "      <td>-0.690053</td>\n",
       "    </tr>\n",
       "    <tr>\n",
       "      <th>35439</th>\n",
       "      <td>0.611017</td>\n",
       "      <td>1.284300</td>\n",
       "      <td>-0.619163</td>\n",
       "      <td>-0.670927</td>\n",
       "      <td>3.614135</td>\n",
       "      <td>1.019866</td>\n",
       "      <td>-0.516077</td>\n",
       "      <td>-0.690053</td>\n",
       "    </tr>\n",
       "    <tr>\n",
       "      <th>1647</th>\n",
       "      <td>0.611017</td>\n",
       "      <td>1.284300</td>\n",
       "      <td>-0.561089</td>\n",
       "      <td>-0.670927</td>\n",
       "      <td>1.647761</td>\n",
       "      <td>1.412661</td>\n",
       "      <td>-1.203737</td>\n",
       "      <td>-0.668124</td>\n",
       "    </tr>\n",
       "    <tr>\n",
       "      <th>6206</th>\n",
       "      <td>0.747367</td>\n",
       "      <td>-1.192170</td>\n",
       "      <td>0.958516</td>\n",
       "      <td>-0.459386</td>\n",
       "      <td>-0.037703</td>\n",
       "      <td>0.746222</td>\n",
       "      <td>-0.909025</td>\n",
       "      <td>0.011654</td>\n",
       "    </tr>\n",
       "    <tr>\n",
       "      <th>...</th>\n",
       "      <td>...</td>\n",
       "      <td>...</td>\n",
       "      <td>...</td>\n",
       "      <td>...</td>\n",
       "      <td>...</td>\n",
       "      <td>...</td>\n",
       "      <td>...</td>\n",
       "      <td>...</td>\n",
       "    </tr>\n",
       "    <tr>\n",
       "      <th>11284</th>\n",
       "      <td>-0.308149</td>\n",
       "      <td>-1.343083</td>\n",
       "      <td>-0.619163</td>\n",
       "      <td>-0.670927</td>\n",
       "      <td>-0.459068</td>\n",
       "      <td>-0.332493</td>\n",
       "      <td>0.269820</td>\n",
       "      <td>-0.690053</td>\n",
       "    </tr>\n",
       "    <tr>\n",
       "      <th>44732</th>\n",
       "      <td>-0.332989</td>\n",
       "      <td>1.361497</td>\n",
       "      <td>-0.619163</td>\n",
       "      <td>-0.670927</td>\n",
       "      <td>-0.880434</td>\n",
       "      <td>1.790506</td>\n",
       "      <td>0.761006</td>\n",
       "      <td>-0.690053</td>\n",
       "    </tr>\n",
       "    <tr>\n",
       "      <th>38158</th>\n",
       "      <td>1.458077</td>\n",
       "      <td>-0.086894</td>\n",
       "      <td>-0.619163</td>\n",
       "      <td>-0.670927</td>\n",
       "      <td>1.156167</td>\n",
       "      <td>-0.581672</td>\n",
       "      <td>-1.596686</td>\n",
       "      <td>-0.690053</td>\n",
       "    </tr>\n",
       "    <tr>\n",
       "      <th>860</th>\n",
       "      <td>-0.332989</td>\n",
       "      <td>1.361497</td>\n",
       "      <td>-0.619163</td>\n",
       "      <td>-0.670927</td>\n",
       "      <td>0.594346</td>\n",
       "      <td>0.693215</td>\n",
       "      <td>-0.909025</td>\n",
       "      <td>-0.690053</td>\n",
       "    </tr>\n",
       "    <tr>\n",
       "      <th>15795</th>\n",
       "      <td>-0.914538</td>\n",
       "      <td>1.066183</td>\n",
       "      <td>-0.619163</td>\n",
       "      <td>-0.670927</td>\n",
       "      <td>0.313436</td>\n",
       "      <td>1.604755</td>\n",
       "      <td>-1.203737</td>\n",
       "      <td>-0.690053</td>\n",
       "    </tr>\n",
       "  </tbody>\n",
       "</table>\n",
       "<p>42048 rows × 8 columns</p>\n",
       "</div>"
      ],
      "text/plain": [
       "        Day_sin   Day_cos       DHI       DNI        WS        RH         T  \\\n",
       "36155  1.065658 -0.948410 -0.619163 -0.670927 -0.950662  0.712244 -1.400211   \n",
       "42664  1.289056  0.674420 -0.619163 -0.670927 -0.459068  0.013638  0.761006   \n",
       "35439  0.611017  1.284300 -0.619163 -0.670927  3.614135  1.019866 -0.516077   \n",
       "1647   0.611017  1.284300 -0.561089 -0.670927  1.647761  1.412661 -1.203737   \n",
       "6206   0.747367 -1.192170  0.958516 -0.459386 -0.037703  0.746222 -0.909025   \n",
       "...         ...       ...       ...       ...       ...       ...       ...   \n",
       "11284 -0.308149 -1.343083 -0.619163 -0.670927 -0.459068 -0.332493  0.269820   \n",
       "44732 -0.332989  1.361497 -0.619163 -0.670927 -0.880434  1.790506  0.761006   \n",
       "38158  1.458077 -0.086894 -0.619163 -0.670927  1.156167 -0.581672 -1.596686   \n",
       "860   -0.332989  1.361497 -0.619163 -0.670927  0.594346  0.693215 -0.909025   \n",
       "15795 -0.914538  1.066183 -0.619163 -0.670927  0.313436  1.604755 -1.203737   \n",
       "\n",
       "         TARGET  \n",
       "36155 -0.690053  \n",
       "42664 -0.690053  \n",
       "35439 -0.690053  \n",
       "1647  -0.668124  \n",
       "6206   0.011654  \n",
       "...         ...  \n",
       "11284 -0.690053  \n",
       "44732 -0.690053  \n",
       "38158 -0.690053  \n",
       "860   -0.690053  \n",
       "15795 -0.690053  \n",
       "\n",
       "[42048 rows x 8 columns]"
      ]
     },
     "execution_count": 102,
     "metadata": {},
     "output_type": "execute_result"
    }
   ],
   "source": [
    "tr_df"
   ]
  },
  {
   "cell_type": "code",
   "execution_count": 103,
   "metadata": {},
   "outputs": [
    {
     "data": {
      "text/html": [
       "<div>\n",
       "<style scoped>\n",
       "    .dataframe tbody tr th:only-of-type {\n",
       "        vertical-align: middle;\n",
       "    }\n",
       "\n",
       "    .dataframe tbody tr th {\n",
       "        vertical-align: top;\n",
       "    }\n",
       "\n",
       "    .dataframe thead th {\n",
       "        text-align: right;\n",
       "    }\n",
       "</style>\n",
       "<table border=\"1\" class=\"dataframe\">\n",
       "  <thead>\n",
       "    <tr style=\"text-align: right;\">\n",
       "      <th></th>\n",
       "      <th>Day_sin</th>\n",
       "      <th>Day_cos</th>\n",
       "      <th>DHI</th>\n",
       "      <th>DNI</th>\n",
       "      <th>WS</th>\n",
       "      <th>RH</th>\n",
       "      <th>T</th>\n",
       "      <th>TARGET</th>\n",
       "    </tr>\n",
       "  </thead>\n",
       "  <tbody>\n",
       "    <tr>\n",
       "      <th>count</th>\n",
       "      <td>4.204800e+04</td>\n",
       "      <td>4.204800e+04</td>\n",
       "      <td>4.204800e+04</td>\n",
       "      <td>4.204800e+04</td>\n",
       "      <td>4.204800e+04</td>\n",
       "      <td>4.204800e+04</td>\n",
       "      <td>4.204800e+04</td>\n",
       "      <td>4.204800e+04</td>\n",
       "    </tr>\n",
       "    <tr>\n",
       "      <th>mean</th>\n",
       "      <td>5.987681e-09</td>\n",
       "      <td>-9.435134e-09</td>\n",
       "      <td>-1.064597e-17</td>\n",
       "      <td>-1.199784e-17</td>\n",
       "      <td>1.203164e-16</td>\n",
       "      <td>2.484061e-16</td>\n",
       "      <td>-5.660955e-17</td>\n",
       "      <td>-1.422843e-16</td>\n",
       "    </tr>\n",
       "    <tr>\n",
       "      <th>std</th>\n",
       "      <td>9.999999e-01</td>\n",
       "      <td>1.000000e+00</td>\n",
       "      <td>1.000000e+00</td>\n",
       "      <td>1.000000e+00</td>\n",
       "      <td>1.000000e+00</td>\n",
       "      <td>1.000000e+00</td>\n",
       "      <td>1.000000e+00</td>\n",
       "      <td>1.000000e+00</td>\n",
       "    </tr>\n",
       "    <tr>\n",
       "      <th>min</th>\n",
       "      <td>-1.411554e+00</td>\n",
       "      <td>-1.379975e+00</td>\n",
       "      <td>-6.191629e-01</td>\n",
       "      <td>-6.709268e-01</td>\n",
       "      <td>-1.723166e+00</td>\n",
       "      <td>-2.229873e+00</td>\n",
       "      <td>-2.775532e+00</td>\n",
       "      <td>-6.900532e-01</td>\n",
       "    </tr>\n",
       "    <tr>\n",
       "      <th>25%</th>\n",
       "      <td>-8.950300e-01</td>\n",
       "      <td>-9.579576e-01</td>\n",
       "      <td>-6.191629e-01</td>\n",
       "      <td>-6.709268e-01</td>\n",
       "      <td>-7.399790e-01</td>\n",
       "      <td>-7.769368e-01</td>\n",
       "      <td>-8.107883e-01</td>\n",
       "      <td>-6.900532e-01</td>\n",
       "    </tr>\n",
       "    <tr>\n",
       "      <th>50%</th>\n",
       "      <td>-1.591435e-01</td>\n",
       "      <td>3.684847e-02</td>\n",
       "      <td>-6.191629e-01</td>\n",
       "      <td>-6.709268e-01</td>\n",
       "      <td>-1.781579e-01</td>\n",
       "      <td>3.674375e-02</td>\n",
       "      <td>-2.489105e-02</td>\n",
       "      <td>-6.900532e-01</td>\n",
       "    </tr>\n",
       "    <tr>\n",
       "      <th>75%</th>\n",
       "      <td>1.065658e+00</td>\n",
       "      <td>9.906173e-01</td>\n",
       "      <td>2.229109e-01</td>\n",
       "      <td>6.726452e-01</td>\n",
       "      <td>5.241185e-01</td>\n",
       "      <td>7.271943e-01</td>\n",
       "      <td>7.610062e-01</td>\n",
       "      <td>5.560395e-01</td>\n",
       "    </tr>\n",
       "    <tr>\n",
       "      <th>max</th>\n",
       "      <td>1.461490e+00</td>\n",
       "      <td>1.404771e+00</td>\n",
       "      <td>4.491354e+00</td>\n",
       "      <td>2.356398e+00</td>\n",
       "      <td>6.704151e+00</td>\n",
       "      <td>1.956776e+00</td>\n",
       "      <td>2.529275e+00</td>\n",
       "      <td>3.194405e+00</td>\n",
       "    </tr>\n",
       "  </tbody>\n",
       "</table>\n",
       "</div>"
      ],
      "text/plain": [
       "            Day_sin       Day_cos           DHI           DNI            WS  \\\n",
       "count  4.204800e+04  4.204800e+04  4.204800e+04  4.204800e+04  4.204800e+04   \n",
       "mean   5.987681e-09 -9.435134e-09 -1.064597e-17 -1.199784e-17  1.203164e-16   \n",
       "std    9.999999e-01  1.000000e+00  1.000000e+00  1.000000e+00  1.000000e+00   \n",
       "min   -1.411554e+00 -1.379975e+00 -6.191629e-01 -6.709268e-01 -1.723166e+00   \n",
       "25%   -8.950300e-01 -9.579576e-01 -6.191629e-01 -6.709268e-01 -7.399790e-01   \n",
       "50%   -1.591435e-01  3.684847e-02 -6.191629e-01 -6.709268e-01 -1.781579e-01   \n",
       "75%    1.065658e+00  9.906173e-01  2.229109e-01  6.726452e-01  5.241185e-01   \n",
       "max    1.461490e+00  1.404771e+00  4.491354e+00  2.356398e+00  6.704151e+00   \n",
       "\n",
       "                 RH             T        TARGET  \n",
       "count  4.204800e+04  4.204800e+04  4.204800e+04  \n",
       "mean   2.484061e-16 -5.660955e-17 -1.422843e-16  \n",
       "std    1.000000e+00  1.000000e+00  1.000000e+00  \n",
       "min   -2.229873e+00 -2.775532e+00 -6.900532e-01  \n",
       "25%   -7.769368e-01 -8.107883e-01 -6.900532e-01  \n",
       "50%    3.674375e-02 -2.489105e-02 -6.900532e-01  \n",
       "75%    7.271943e-01  7.610062e-01  5.560395e-01  \n",
       "max    1.956776e+00  2.529275e+00  3.194405e+00  "
      ]
     },
     "execution_count": 103,
     "metadata": {},
     "output_type": "execute_result"
    }
   ],
   "source": [
    "tr_df.describe()"
   ]
  },
  {
   "cell_type": "code",
   "execution_count": 104,
   "metadata": {},
   "outputs": [
    {
     "data": {
      "text/html": [
       "<div>\n",
       "<style scoped>\n",
       "    .dataframe tbody tr th:only-of-type {\n",
       "        vertical-align: middle;\n",
       "    }\n",
       "\n",
       "    .dataframe tbody tr th {\n",
       "        vertical-align: top;\n",
       "    }\n",
       "\n",
       "    .dataframe thead th {\n",
       "        text-align: right;\n",
       "    }\n",
       "</style>\n",
       "<table border=\"1\" class=\"dataframe\">\n",
       "  <thead>\n",
       "    <tr style=\"text-align: right;\">\n",
       "      <th></th>\n",
       "      <th>Day_sin</th>\n",
       "      <th>Day_cos</th>\n",
       "      <th>DHI</th>\n",
       "      <th>DNI</th>\n",
       "      <th>WS</th>\n",
       "      <th>RH</th>\n",
       "      <th>T</th>\n",
       "      <th>TARGET</th>\n",
       "    </tr>\n",
       "  </thead>\n",
       "  <tbody>\n",
       "    <tr>\n",
       "      <th>count</th>\n",
       "      <td>10512.000000</td>\n",
       "      <td>10512.000000</td>\n",
       "      <td>10512.000000</td>\n",
       "      <td>10512.000000</td>\n",
       "      <td>10512.000000</td>\n",
       "      <td>10512.000000</td>\n",
       "      <td>10512.000000</td>\n",
       "      <td>10512.000000</td>\n",
       "    </tr>\n",
       "    <tr>\n",
       "      <th>mean</th>\n",
       "      <td>-0.018077</td>\n",
       "      <td>-0.000770</td>\n",
       "      <td>0.018122</td>\n",
       "      <td>0.001328</td>\n",
       "      <td>0.008241</td>\n",
       "      <td>-0.003595</td>\n",
       "      <td>0.013041</td>\n",
       "      <td>0.013841</td>\n",
       "    </tr>\n",
       "    <tr>\n",
       "      <th>std</th>\n",
       "      <td>0.994606</td>\n",
       "      <td>1.004529</td>\n",
       "      <td>1.027720</td>\n",
       "      <td>0.998199</td>\n",
       "      <td>1.010278</td>\n",
       "      <td>0.995579</td>\n",
       "      <td>1.000124</td>\n",
       "      <td>1.015730</td>\n",
       "    </tr>\n",
       "    <tr>\n",
       "      <th>min</th>\n",
       "      <td>-1.411554</td>\n",
       "      <td>-1.379975</td>\n",
       "      <td>-0.619163</td>\n",
       "      <td>-0.670927</td>\n",
       "      <td>-1.652938</td>\n",
       "      <td>-2.211298</td>\n",
       "      <td>-2.579057</td>\n",
       "      <td>-0.690053</td>\n",
       "    </tr>\n",
       "    <tr>\n",
       "      <th>25%</th>\n",
       "      <td>-0.914538</td>\n",
       "      <td>-1.057862</td>\n",
       "      <td>-0.619163</td>\n",
       "      <td>-0.670927</td>\n",
       "      <td>-0.739979</td>\n",
       "      <td>-0.771953</td>\n",
       "      <td>-0.810788</td>\n",
       "      <td>-0.690053</td>\n",
       "    </tr>\n",
       "    <tr>\n",
       "      <th>50%</th>\n",
       "      <td>-0.184493</td>\n",
       "      <td>-0.000889</td>\n",
       "      <td>-0.619163</td>\n",
       "      <td>-0.670927</td>\n",
       "      <td>-0.178158</td>\n",
       "      <td>0.033572</td>\n",
       "      <td>-0.024891</td>\n",
       "      <td>-0.690053</td>\n",
       "    </tr>\n",
       "    <tr>\n",
       "      <th>75%</th>\n",
       "      <td>1.047850</td>\n",
       "      <td>1.066183</td>\n",
       "      <td>0.242269</td>\n",
       "      <td>0.655493</td>\n",
       "      <td>0.524119</td>\n",
       "      <td>0.701823</td>\n",
       "      <td>0.761006</td>\n",
       "      <td>0.570552</td>\n",
       "    </tr>\n",
       "    <tr>\n",
       "      <th>max</th>\n",
       "      <td>1.461490</td>\n",
       "      <td>1.404771</td>\n",
       "      <td>4.442959</td>\n",
       "      <td>2.350681</td>\n",
       "      <td>6.563695</td>\n",
       "      <td>1.956776</td>\n",
       "      <td>2.529275</td>\n",
       "      <td>3.200901</td>\n",
       "    </tr>\n",
       "  </tbody>\n",
       "</table>\n",
       "</div>"
      ],
      "text/plain": [
       "            Day_sin       Day_cos           DHI           DNI            WS  \\\n",
       "count  10512.000000  10512.000000  10512.000000  10512.000000  10512.000000   \n",
       "mean      -0.018077     -0.000770      0.018122      0.001328      0.008241   \n",
       "std        0.994606      1.004529      1.027720      0.998199      1.010278   \n",
       "min       -1.411554     -1.379975     -0.619163     -0.670927     -1.652938   \n",
       "25%       -0.914538     -1.057862     -0.619163     -0.670927     -0.739979   \n",
       "50%       -0.184493     -0.000889     -0.619163     -0.670927     -0.178158   \n",
       "75%        1.047850      1.066183      0.242269      0.655493      0.524119   \n",
       "max        1.461490      1.404771      4.442959      2.350681      6.563695   \n",
       "\n",
       "                 RH             T        TARGET  \n",
       "count  10512.000000  10512.000000  10512.000000  \n",
       "mean      -0.003595      0.013041      0.013841  \n",
       "std        0.995579      1.000124      1.015730  \n",
       "min       -2.211298     -2.579057     -0.690053  \n",
       "25%       -0.771953     -0.810788     -0.690053  \n",
       "50%        0.033572     -0.024891     -0.690053  \n",
       "75%        0.701823      0.761006      0.570552  \n",
       "max        1.956776      2.529275      3.200901  "
      ]
     },
     "execution_count": 104,
     "metadata": {},
     "output_type": "execute_result"
    }
   ],
   "source": [
    "vl_df.describe()"
   ]
  },
  {
   "cell_type": "markdown",
   "metadata": {},
   "source": [
    "## **Test**"
   ]
  },
  {
   "cell_type": "code",
   "execution_count": 18,
   "metadata": {},
   "outputs": [],
   "source": [
    "ts_filenames = [os.path.join(os.environ[\"LOCAL_DATA_PATH\"], \"test\", f\"{i}.csv\") for i in range(args[\"NUM_TEST_CSV\"])]\n",
    "ts_dfs = [preprocessing(pd.read_csv(ts_filename), is_training = False) for ts_filename in ts_filenames]\n",
    "ts_df = pd.concat(ts_dfs)"
   ]
  },
  {
   "cell_type": "code",
   "execution_count": 19,
   "metadata": {},
   "outputs": [
    {
     "data": {
      "text/html": [
       "<div>\n",
       "<style scoped>\n",
       "    .dataframe tbody tr th:only-of-type {\n",
       "        vertical-align: middle;\n",
       "    }\n",
       "\n",
       "    .dataframe tbody tr th {\n",
       "        vertical-align: top;\n",
       "    }\n",
       "\n",
       "    .dataframe thead th {\n",
       "        text-align: right;\n",
       "    }\n",
       "</style>\n",
       "<table border=\"1\" class=\"dataframe\">\n",
       "  <thead>\n",
       "    <tr style=\"text-align: right;\">\n",
       "      <th></th>\n",
       "      <th>Day_sin</th>\n",
       "      <th>Day_cos</th>\n",
       "      <th>DHI</th>\n",
       "      <th>DNI</th>\n",
       "      <th>WS</th>\n",
       "      <th>RH</th>\n",
       "      <th>T</th>\n",
       "      <th>TARGET</th>\n",
       "    </tr>\n",
       "  </thead>\n",
       "  <tbody>\n",
       "    <tr>\n",
       "      <th>0</th>\n",
       "      <td>-1.411554</td>\n",
       "      <td>-0.000889</td>\n",
       "      <td>-0.619163</td>\n",
       "      <td>-0.670927</td>\n",
       "      <td>0.172980</td>\n",
       "      <td>-1.014336</td>\n",
       "      <td>-0.909025</td>\n",
       "      <td>-0.690053</td>\n",
       "    </tr>\n",
       "    <tr>\n",
       "      <th>1</th>\n",
       "      <td>0.095690</td>\n",
       "      <td>-1.379386</td>\n",
       "      <td>-0.619163</td>\n",
       "      <td>-0.670927</td>\n",
       "      <td>0.172980</td>\n",
       "      <td>-1.025662</td>\n",
       "      <td>-0.899202</td>\n",
       "      <td>-0.690053</td>\n",
       "    </tr>\n",
       "    <tr>\n",
       "      <th>2</th>\n",
       "      <td>1.456030</td>\n",
       "      <td>0.136017</td>\n",
       "      <td>-0.619163</td>\n",
       "      <td>-0.670927</td>\n",
       "      <td>0.172980</td>\n",
       "      <td>-1.022944</td>\n",
       "      <td>-0.889378</td>\n",
       "      <td>-0.690053</td>\n",
       "    </tr>\n",
       "    <tr>\n",
       "      <th>3</th>\n",
       "      <td>-0.914538</td>\n",
       "      <td>1.066183</td>\n",
       "      <td>-0.619163</td>\n",
       "      <td>-0.670927</td>\n",
       "      <td>0.172980</td>\n",
       "      <td>-1.033817</td>\n",
       "      <td>-0.879554</td>\n",
       "      <td>-0.690053</td>\n",
       "    </tr>\n",
       "    <tr>\n",
       "      <th>4</th>\n",
       "      <td>-0.308149</td>\n",
       "      <td>-1.343083</td>\n",
       "      <td>-0.619163</td>\n",
       "      <td>-0.670927</td>\n",
       "      <td>0.243208</td>\n",
       "      <td>-1.034723</td>\n",
       "      <td>-0.869731</td>\n",
       "      <td>-0.690053</td>\n",
       "    </tr>\n",
       "  </tbody>\n",
       "</table>\n",
       "</div>"
      ],
      "text/plain": [
       "    Day_sin   Day_cos       DHI       DNI        WS        RH         T  \\\n",
       "0 -1.411554 -0.000889 -0.619163 -0.670927  0.172980 -1.014336 -0.909025   \n",
       "1  0.095690 -1.379386 -0.619163 -0.670927  0.172980 -1.025662 -0.899202   \n",
       "2  1.456030  0.136017 -0.619163 -0.670927  0.172980 -1.022944 -0.889378   \n",
       "3 -0.914538  1.066183 -0.619163 -0.670927  0.172980 -1.033817 -0.879554   \n",
       "4 -0.308149 -1.343083 -0.619163 -0.670927  0.243208 -1.034723 -0.869731   \n",
       "\n",
       "     TARGET  \n",
       "0 -0.690053  \n",
       "1 -0.690053  \n",
       "2 -0.690053  \n",
       "3 -0.690053  \n",
       "4 -0.690053  "
      ]
     },
     "execution_count": 19,
     "metadata": {},
     "output_type": "execute_result"
    }
   ],
   "source": [
    "ts_df.head()"
   ]
  },
  {
   "cell_type": "code",
   "execution_count": 20,
   "metadata": {},
   "outputs": [
    {
     "data": {
      "text/html": [
       "<div>\n",
       "<style scoped>\n",
       "    .dataframe tbody tr th:only-of-type {\n",
       "        vertical-align: middle;\n",
       "    }\n",
       "\n",
       "    .dataframe tbody tr th {\n",
       "        vertical-align: top;\n",
       "    }\n",
       "\n",
       "    .dataframe thead th {\n",
       "        text-align: right;\n",
       "    }\n",
       "</style>\n",
       "<table border=\"1\" class=\"dataframe\">\n",
       "  <thead>\n",
       "    <tr style=\"text-align: right;\">\n",
       "      <th></th>\n",
       "      <th>Day_sin</th>\n",
       "      <th>Day_cos</th>\n",
       "      <th>DHI</th>\n",
       "      <th>DNI</th>\n",
       "      <th>WS</th>\n",
       "      <th>RH</th>\n",
       "      <th>T</th>\n",
       "      <th>TARGET</th>\n",
       "    </tr>\n",
       "  </thead>\n",
       "  <tbody>\n",
       "    <tr>\n",
       "      <th>count</th>\n",
       "      <td>27216.000000</td>\n",
       "      <td>27216.000000</td>\n",
       "      <td>27216.000000</td>\n",
       "      <td>27216.000000</td>\n",
       "      <td>27216.000000</td>\n",
       "      <td>27216.000000</td>\n",
       "      <td>27216.000000</td>\n",
       "      <td>27216.000000</td>\n",
       "    </tr>\n",
       "    <tr>\n",
       "      <th>mean</th>\n",
       "      <td>-0.003615</td>\n",
       "      <td>-0.000154</td>\n",
       "      <td>-0.047397</td>\n",
       "      <td>0.046952</td>\n",
       "      <td>-0.127593</td>\n",
       "      <td>-0.471834</td>\n",
       "      <td>0.048424</td>\n",
       "      <td>0.020077</td>\n",
       "    </tr>\n",
       "    <tr>\n",
       "      <th>std</th>\n",
       "      <td>0.998949</td>\n",
       "      <td>1.000907</td>\n",
       "      <td>0.886646</td>\n",
       "      <td>1.023778</td>\n",
       "      <td>0.893017</td>\n",
       "      <td>0.868807</td>\n",
       "      <td>1.108719</td>\n",
       "      <td>1.017022</td>\n",
       "    </tr>\n",
       "    <tr>\n",
       "      <th>min</th>\n",
       "      <td>-1.411554</td>\n",
       "      <td>-1.379975</td>\n",
       "      <td>-0.619163</td>\n",
       "      <td>-0.670927</td>\n",
       "      <td>-1.652938</td>\n",
       "      <td>-2.351291</td>\n",
       "      <td>-2.451349</td>\n",
       "      <td>-0.690053</td>\n",
       "    </tr>\n",
       "    <tr>\n",
       "      <th>25%</th>\n",
       "      <td>-0.899907</td>\n",
       "      <td>-0.982934</td>\n",
       "      <td>-0.619163</td>\n",
       "      <td>-0.670927</td>\n",
       "      <td>-0.810207</td>\n",
       "      <td>-1.165768</td>\n",
       "      <td>-0.869731</td>\n",
       "      <td>-0.690053</td>\n",
       "    </tr>\n",
       "    <tr>\n",
       "      <th>50%</th>\n",
       "      <td>-0.171818</td>\n",
       "      <td>0.017980</td>\n",
       "      <td>-0.561089</td>\n",
       "      <td>-0.670927</td>\n",
       "      <td>-0.318613</td>\n",
       "      <td>-0.452099</td>\n",
       "      <td>-0.054362</td>\n",
       "      <td>-0.668126</td>\n",
       "    </tr>\n",
       "    <tr>\n",
       "      <th>75%</th>\n",
       "      <td>1.052302</td>\n",
       "      <td>1.009509</td>\n",
       "      <td>0.184195</td>\n",
       "      <td>0.775557</td>\n",
       "      <td>0.313436</td>\n",
       "      <td>0.184439</td>\n",
       "      <td>0.888715</td>\n",
       "      <td>0.577827</td>\n",
       "    </tr>\n",
       "    <tr>\n",
       "      <th>max</th>\n",
       "      <td>1.461490</td>\n",
       "      <td>1.404771</td>\n",
       "      <td>4.288095</td>\n",
       "      <td>2.413571</td>\n",
       "      <td>6.001874</td>\n",
       "      <td>1.620159</td>\n",
       "      <td>2.696278</td>\n",
       "      <td>3.182867</td>\n",
       "    </tr>\n",
       "  </tbody>\n",
       "</table>\n",
       "</div>"
      ],
      "text/plain": [
       "            Day_sin       Day_cos           DHI           DNI            WS  \\\n",
       "count  27216.000000  27216.000000  27216.000000  27216.000000  27216.000000   \n",
       "mean      -0.003615     -0.000154     -0.047397      0.046952     -0.127593   \n",
       "std        0.998949      1.000907      0.886646      1.023778      0.893017   \n",
       "min       -1.411554     -1.379975     -0.619163     -0.670927     -1.652938   \n",
       "25%       -0.899907     -0.982934     -0.619163     -0.670927     -0.810207   \n",
       "50%       -0.171818      0.017980     -0.561089     -0.670927     -0.318613   \n",
       "75%        1.052302      1.009509      0.184195      0.775557      0.313436   \n",
       "max        1.461490      1.404771      4.288095      2.413571      6.001874   \n",
       "\n",
       "                 RH             T        TARGET  \n",
       "count  27216.000000  27216.000000  27216.000000  \n",
       "mean      -0.471834      0.048424      0.020077  \n",
       "std        0.868807      1.108719      1.017022  \n",
       "min       -2.351291     -2.451349     -0.690053  \n",
       "25%       -1.165768     -0.869731     -0.690053  \n",
       "50%       -0.452099     -0.054362     -0.668126  \n",
       "75%        0.184439      0.888715      0.577827  \n",
       "max        1.620159      2.696278      3.182867  "
      ]
     },
     "execution_count": 20,
     "metadata": {},
     "output_type": "execute_result"
    }
   ],
   "source": [
    "ts_df.describe()"
   ]
  },
  {
   "cell_type": "markdown",
   "metadata": {},
   "source": [
    "# **Phase \\#1: Target Predict Model**"
   ]
  },
  {
   "cell_type": "markdown",
   "metadata": {},
   "source": [
    "## **Make Dataset Pipelines**"
   ]
  },
  {
   "cell_type": "code",
   "execution_count": 21,
   "metadata": {},
   "outputs": [],
   "source": [
    "@tf.function\n",
    "def _split_window(features):\n",
    "    return tf.split(features, [-1, 1], axis = 0)"
   ]
  },
  {
   "cell_type": "code",
   "execution_count": 22,
   "metadata": {},
   "outputs": [
    {
     "name": "stdout",
     "output_type": "stream",
     "text": [
      "tr_dataset: (TensorSpec(shape=(None, 7), dtype=tf.float32, name=None), TensorSpec(shape=(None, 1), dtype=tf.float32, name=None))\n",
      "vl_dataset: (TensorSpec(shape=(None, 7), dtype=tf.float32, name=None), TensorSpec(shape=(None, 1), dtype=tf.float32, name=None))\n",
      "ts_dataset: (TensorSpec(shape=(None, 7), dtype=tf.float32, name=None), TensorSpec(shape=(None, 1), dtype=tf.float32, name=None))\n"
     ]
    }
   ],
   "source": [
    "tr_tensor = tf.constant(tr_df, dtype = tf.float32)\n",
    "vl_tensor = tf.constant(vl_df, dtype = tf.float32)\n",
    "ts_tensor = tf.constant(ts_df, dtype = tf.float32)\n",
    "\n",
    "tr_dataset = tf.data.Dataset.from_tensor_slices(tr_tensor\n",
    "                    ).map(_split_window, num_parallel_calls = args[\"AUTO\"]\n",
    "                    ).batch(args[\"GLOBAL_BATCH_SIZE\"]\n",
    "                    ).cache(\n",
    "                    ).prefetch(args[\"AUTO\"])\n",
    "\n",
    "vl_dataset = tf.data.Dataset.from_tensor_slices(vl_tensor\n",
    "                    ).map(_split_window, num_parallel_calls = args[\"AUTO\"]\n",
    "                    ).batch(args[\"GLOBAL_BATCH_SIZE\"]\n",
    "                    ).cache(\n",
    "                    ).prefetch(args[\"AUTO\"])\n",
    "\n",
    "ts_dataset = tf.data.Dataset.from_tensor_slices(ts_tensor\n",
    "                    ).map(_split_window, num_parallel_calls = args[\"AUTO\"]\n",
    "                    ).batch(args[\"GLOBAL_BATCH_SIZE\"]\n",
    "#                     ).cache(\n",
    "                    ).prefetch(args[\"AUTO\"])\n",
    "\n",
    "# Print the shapes\n",
    "print(f\"tr_dataset: {tr_dataset.element_spec}\")\n",
    "print(f\"vl_dataset: {vl_dataset.element_spec}\")\n",
    "print(f\"ts_dataset: {ts_dataset.element_spec}\")"
   ]
  },
  {
   "cell_type": "markdown",
   "metadata": {},
   "source": [
    "### **Take Samples**"
   ]
  },
  {
   "cell_type": "code",
   "execution_count": 23,
   "metadata": {},
   "outputs": [
    {
     "name": "stdout",
     "output_type": "stream",
     "text": [
      "(128, 7) (128, 1)\n"
     ]
    }
   ],
   "source": [
    "for element in tr_dataset.take(1):\n",
    "    foo, bar = element\n",
    "    print(foo.shape, bar.shape)"
   ]
  },
  {
   "cell_type": "code",
   "execution_count": 24,
   "metadata": {},
   "outputs": [
    {
     "name": "stdout",
     "output_type": "stream",
     "text": [
      "(128, 7) (128, 1)\n"
     ]
    }
   ],
   "source": [
    "for element in vl_dataset.take(1):\n",
    "    foo, bar = element\n",
    "    print(foo.shape, bar.shape)"
   ]
  },
  {
   "cell_type": "code",
   "execution_count": 25,
   "metadata": {},
   "outputs": [
    {
     "name": "stdout",
     "output_type": "stream",
     "text": [
      "(128, 7) (128, 1)\n"
     ]
    }
   ],
   "source": [
    "for element in ts_dataset.take(1):\n",
    "    foo, bar = element\n",
    "    print(foo.shape, bar.shape)"
   ]
  },
  {
   "cell_type": "markdown",
   "metadata": {},
   "source": [
    "## **Create Network**\n",
    "\n",
    "```\n",
    "\"\"\"Pytorch Style\"\"\"\n",
    "class TARGET_MODEL(tf.keras.Model):\n",
    "    def __init__(self, units, name):\n",
    "        super(TARGET_MODEL, self).__init__(name = name)\n",
    "        self.units = units\n",
    "        \n",
    "        self.dense1 = tf.keras.layers.Dense(units = self.units, activation = \"relu\")\n",
    "        self.dense2 = tf.keras.layers.Dense(units = self.units, activation = \"relu\")\n",
    "        self.dense3 = tf.keras.layers.Dense(units = 1)\n",
    "        \n",
    "    def call(self, inputs):\n",
    "        x = self.dense1(inputs)\n",
    "        x = self.dense2(x)\n",
    "        x = self.dense3(x)\n",
    "        \n",
    "        return x            \n",
    "```"
   ]
  },
  {
   "cell_type": "code",
   "execution_count": 26,
   "metadata": {},
   "outputs": [],
   "source": [
    "def TARGET_MODEL(model_name, units = 64):\n",
    "    model_input = tf.keras.layers.Input(shape = [7, ], dtype = tf.float32)\n",
    "    \n",
    "    x = tf.keras.layers.Dense(units = units, activation = \"relu\")(model_input)\n",
    "    x = tf.keras.layers.Dense(units = units, activation = \"relu\")(x)    \n",
    "    model_output = tf.keras.layers.Dense(1)(x)\n",
    "    \n",
    "    return tf.keras.Model(\n",
    "        inputs = model_input,\n",
    "        outputs = model_output,\n",
    "        name = model_name)"
   ]
  },
  {
   "cell_type": "code",
   "execution_count": 27,
   "metadata": {},
   "outputs": [
    {
     "name": "stdout",
     "output_type": "stream",
     "text": [
      "Model: \"tmp\"\n",
      "_________________________________________________________________\n",
      "Layer (type)                 Output Shape              Param #   \n",
      "=================================================================\n",
      "input_1 (InputLayer)         [(None, 7)]               0         \n",
      "_________________________________________________________________\n",
      "dense (Dense)                (None, 64)                512       \n",
      "_________________________________________________________________\n",
      "dense_1 (Dense)              (None, 64)                4160      \n",
      "_________________________________________________________________\n",
      "dense_2 (Dense)              (None, 1)                 65        \n",
      "=================================================================\n",
      "Total params: 4,737\n",
      "Trainable params: 4,737\n",
      "Non-trainable params: 0\n",
      "_________________________________________________________________\n"
     ]
    }
   ],
   "source": [
    "tmp = TARGET_MODEL(\"tmp\")\n",
    "tmp.summary()"
   ]
  },
  {
   "cell_type": "code",
   "execution_count": 166,
   "metadata": {},
   "outputs": [
    {
     "name": "stdout",
     "output_type": "stream",
     "text": [
      "('Failed to import pydot. You must `pip install pydot` and install graphviz (https://graphviz.gitlab.io/download/), ', 'for `pydotprint` to work.')\n"
     ]
    }
   ],
   "source": [
    "# tf.keras.utils.plot_model(tmp)"
   ]
  },
  {
   "cell_type": "code",
   "execution_count": 28,
   "metadata": {},
   "outputs": [],
   "source": [
    "del tmp"
   ]
  },
  {
   "cell_type": "markdown",
   "metadata": {},
   "source": [
    "## **Compile and Fit**"
   ]
  },
  {
   "cell_type": "code",
   "execution_count": 29,
   "metadata": {},
   "outputs": [],
   "source": [
    "target_model = TARGET_MODEL(\n",
    "    model_name = \"target_model\",\n",
    "    units = 64)\n",
    "\n",
    "target_model.compile(\n",
    "    loss = tf.keras.losses.MAE,\n",
    "    optimizer = tf.keras.optimizers.Adam())"
   ]
  },
  {
   "cell_type": "code",
   "execution_count": 30,
   "metadata": {},
   "outputs": [],
   "source": [
    "# TensorBoard callback.\n",
    "log_dir = os.path.join(\n",
    "    \"logs\", \"fit\", os.environ[\"NOTEBOOKNAME\"], \n",
    "    datetime.datetime.now().strftime(f\"{target_model.name}-%Y%m%d-%H%M%S\"))\n",
    "tb_callback = tf.keras.callbacks.TensorBoard(log_dir = log_dir, histogram_freq = 1)\n",
    "\n",
    "history = target_model.fit(\n",
    "    tr_dataset,\n",
    "    validation_data = vl_dataset,\n",
    "    epochs = 500,\n",
    "    verbose = 0,\n",
    "    callbacks = [tb_callback])"
   ]
  },
  {
   "cell_type": "code",
   "execution_count": 33,
   "metadata": {},
   "outputs": [],
   "source": [
    "def draw_history(history, ylim: list):\n",
    "    \n",
    "    plt.figure(figsize = (7, 5), facecolor = \"white\", dpi = 80)\n",
    "    \n",
    "    plt.plot(history.epoch, history.history[\"loss\"], color = \"tomato\", label = \"loss\", alpha = .8)\n",
    "    plt.plot(history.epoch, history.history[\"val_loss\"], color = \"navy\", label = \"val_loss\", alpha = .8)\n",
    "    \n",
    "    plt.ylim(ylim)\n",
    "    plt.xlabel(\"epoch\")\n",
    "    plt.ylabel(\"loss (MAE)\")\n",
    "    \n",
    "    plt.grid(True)\n",
    "    plt.tight_layout()\n",
    "    plt.show()"
   ]
  },
  {
   "cell_type": "code",
   "execution_count": 34,
   "metadata": {},
   "outputs": [
    {
     "data": {
      "image/png": "[encoded data removed]",
      "text/plain": [
       "<Figure size 560x400 with 1 Axes>"
      ]
     },
     "metadata": {},
     "output_type": "display_data"
    }
   ],
   "source": [
    "draw_history(history, ylim = [0.01, 0.03])"
   ]
  },
  {
   "cell_type": "code",
   "execution_count": 36,
   "metadata": {},
   "outputs": [],
   "source": [
    "# %tensorboard --logdir logs/fit --host jupyter-server"
   ]
  },
  {
   "cell_type": "markdown",
   "metadata": {},
   "source": [
    "## **Predict**"
   ]
  },
  {
   "cell_type": "code",
   "execution_count": 37,
   "metadata": {},
   "outputs": [
    {
     "name": "stdout",
     "output_type": "stream",
     "text": [
      "213/213 [==============================] - 0s 773us/step - loss: 0.0267\n"
     ]
    },
    {
     "data": {
      "text/plain": [
       "0.026667241007089615"
      ]
     },
     "execution_count": 37,
     "metadata": {},
     "output_type": "execute_result"
    }
   ],
   "source": [
    "target_model.evaluate(ts_dataset, verbose = 1)"
   ]
  },
  {
   "cell_type": "markdown",
   "metadata": {},
   "source": [
    "# **Phase \\#2: AT Model**"
   ]
  },
  {
   "cell_type": "markdown",
   "metadata": {},
   "source": [
    "## **Make Dataset Pipelines**"
   ]
  },
  {
   "cell_type": "code",
   "execution_count": 38,
   "metadata": {},
   "outputs": [],
   "source": [
    "@tf.function\n",
    "def _flat_fn_tr(x):\n",
    "    return x.batch(args[\"WINDOW_INP\"] + args[\"WINDOW_TAR\"])\n",
    "\n",
    "\n",
    "@tf.function\n",
    "def _flat_fn_ts(x):\n",
    "    return x.batch(args[\"WINDOW_INP\"])\n",
    "\n",
    "\n",
    "@tf.function\n",
    "def _split_window_tr(features):\n",
    "    inp, tar = tf.split(features, [args[\"WINDOW_INP\"], args[\"WINDOW_TAR\"]], axis = 0)\n",
    "    return inp[..., :-1], tar[..., -1:] # inp: (batch, 336, 7), tar: (batch, 96, 1)\n",
    "\n",
    "\n",
    "@tf.function\n",
    "def _split_window_ts(features):\n",
    "    return features[..., :-1] # (batch, 336, 7)"
   ]
  },
  {
   "cell_type": "code",
   "execution_count": 39,
   "metadata": {},
   "outputs": [
    {
     "name": "stdout",
     "output_type": "stream",
     "text": [
      "tr_dataset: (TensorSpec(shape=(None, 336, 7), dtype=tf.float32, name=None), TensorSpec(shape=(None, 96, 1), dtype=tf.float32, name=None))\n",
      "vl_dataset: (TensorSpec(shape=(None, 336, 7), dtype=tf.float32, name=None), TensorSpec(shape=(None, 96, 1), dtype=tf.float32, name=None))\n",
      "ts_dataset: TensorSpec(shape=(None, None, 7), dtype=tf.float32, name=None)\n"
     ]
    }
   ],
   "source": [
    "tr_tensor = tf.constant(tr_df, dtype = tf.float32)\n",
    "vl_tensor = tf.constant(vl_df, dtype = tf.float32)\n",
    "ts_tensor = tf.constant(ts_df, dtype = tf.float32)\n",
    "\n",
    "tr_dataset = tf.data.Dataset.from_tensor_slices(tr_tensor\n",
    "                    ).window(args[\"WINDOW_INP\"] + args[\"WINDOW_TAR\"], args[\"WINDOW_SHIFT\"], args[\"WINDOW_STRIDE\"], args[\"WINDOW_DR\"]).flat_map(_flat_fn_tr\n",
    "                    ).map(_split_window_tr, num_parallel_calls = args[\"AUTO\"]\n",
    "                    ).batch(args[\"GLOBAL_BATCH_SIZE\"]\n",
    "                    ).cache(\n",
    "                    ).prefetch(args[\"AUTO\"])\n",
    "\n",
    "vl_dataset = tf.data.Dataset.from_tensor_slices(vl_tensor\n",
    "                    ).window(args[\"WINDOW_INP\"] + args[\"WINDOW_TAR\"], args[\"WINDOW_SHIFT\"], args[\"WINDOW_STRIDE\"], args[\"WINDOW_DR\"]).flat_map(_flat_fn_tr\n",
    "                    ).map(_split_window_tr, num_parallel_calls = args[\"AUTO\"]\n",
    "                    ).batch(args[\"GLOBAL_BATCH_SIZE\"]\n",
    "                    ).cache(\n",
    "                    ).prefetch(args[\"AUTO\"])\n",
    "\n",
    "ts_dataset = tf.data.Dataset.from_tensor_slices(ts_tensor\n",
    "                    ).window(args[\"WINDOW_INP\"], args[\"WINDOW_INP\"], args[\"WINDOW_STRIDE\"], args[\"WINDOW_DR\"]).flat_map(_flat_fn_ts\n",
    "                    ).map(_split_window_ts, num_parallel_calls = args[\"AUTO\"]\n",
    "                    ).batch(args[\"NUM_TEST_CSV\"] # Not args[\"GLOBAL_BATCH_SIZE\"]\n",
    "#                     ).cache(\n",
    "                    ).prefetch(args[\"AUTO\"])\n",
    "\n",
    "# Print the shapes\n",
    "print(f\"tr_dataset: {tr_dataset.element_spec}\")\n",
    "print(f\"vl_dataset: {vl_dataset.element_spec}\")\n",
    "print(f\"ts_dataset: {ts_dataset.element_spec}\")"
   ]
  },
  {
   "cell_type": "markdown",
   "metadata": {},
   "source": [
    "### **Take Samples**"
   ]
  },
  {
   "cell_type": "code",
   "execution_count": 40,
   "metadata": {},
   "outputs": [
    {
     "name": "stdout",
     "output_type": "stream",
     "text": [
      "(128, 336, 7) (128, 96, 1)\n"
     ]
    }
   ],
   "source": [
    "for element in tr_dataset.take(1):\n",
    "    foo, bar = element\n",
    "    print(foo.shape, bar.shape)"
   ]
  },
  {
   "cell_type": "code",
   "execution_count": 41,
   "metadata": {},
   "outputs": [
    {
     "name": "stdout",
     "output_type": "stream",
     "text": [
      "(128, 336, 7) (128, 96, 1)\n"
     ]
    }
   ],
   "source": [
    "for element in vl_dataset.take(1):\n",
    "    foo, bar = element\n",
    "    print(foo.shape, bar.shape)"
   ]
  },
  {
   "cell_type": "code",
   "execution_count": 42,
   "metadata": {},
   "outputs": [
    {
     "name": "stdout",
     "output_type": "stream",
     "text": [
      "(81, 336, 7)\n"
     ]
    }
   ],
   "source": [
    "for element in ts_dataset.take(1):\n",
    "    foo = element\n",
    "    print(foo.shape)"
   ]
  },
  {
   "cell_type": "markdown",
   "metadata": {},
   "source": [
    "## **Create Network**"
   ]
  },
  {
   "cell_type": "code",
   "execution_count": 84,
   "metadata": {},
   "outputs": [],
   "source": [
    "class AR_LSTM(tf.keras.Model):\n",
    "    def __init__(self, target_model, units, out_steps, name):\n",
    "        super(AR_LSTM, self).__init__(name = name)\n",
    "        self.target_model = target_model # [batch, 7] -> [batch, 1]\n",
    "        self.units = units\n",
    "        self.out_steps = out_steps\n",
    "        self.num_features = args[\"NUM_FEATURES\"]\n",
    "        \n",
    "#         self.lstm = tf.keras.layers.LSTM(self.num_features, return_state = True)\n",
    "        \n",
    "#         self.lstm1 = tf.keras.layers.LSTM(self.units, return_sequences = True)\n",
    "#         self.lstm2 = tf.keras.layers.LSTM(self.num_features, return_sequences = False, return_state = True)\n",
    "        \n",
    "        self.lstm_cell = tf.keras.layers.LSTMCell(self.units)\n",
    "        self.lstm_rnn = tf.keras.layers.RNN(self.lstm_cell, return_state = True)\n",
    "        self.dense = tf.keras.layers.Dense(self.num_features)\n",
    "        \n",
    "    \n",
    "    def warmup(self, inputs):\n",
    "        # [batch, time, features] => [batch, units]\n",
    "        x, *state = self.lstm_rnn(inputs)\n",
    "        # [batch, units] => [batch, num_features]\n",
    "        prediction = self.dense(x)\n",
    "        return prediction, state\n",
    "        \n",
    "        \n",
    "    def call(self, inputs, training = None):\n",
    "        predictions = []\n",
    "        \n",
    "        prediction, state = self.warmup(inputs)\n",
    "        predictions.append(self.target_model(prediction))\n",
    "        \n",
    "        for n in range(1, self.out_steps):\n",
    "            x = prediction\n",
    "            # [batch, num_features] => [batch, units]\n",
    "            x, state = self.lstm_cell(x, states = state, training = training)\n",
    "            # [batch, units] => [batch, num_features]\n",
    "            prediction = self.dense(x)\n",
    "            predictions.append(self.target_model(prediction))\n",
    "            \n",
    "        predictions = tf.stack(predictions, axis = 1)\n",
    "        return predictions"
   ]
  },
  {
   "cell_type": "markdown",
   "metadata": {},
   "source": [
    "## **Compile and Fit**"
   ]
  },
  {
   "cell_type": "code",
   "execution_count": 85,
   "metadata": {},
   "outputs": [],
   "source": [
    "target_model.trainable = False # fix the weights\n",
    "models = []\n",
    "\n",
    "for tau in np.arange(0.1, 1, 0.1):   \n",
    "    model = AR_LSTM(\n",
    "        target_model = target_model,\n",
    "        units = args[\"NUM_UNITS\"],\n",
    "        out_steps = args[\"WINDOW_TAR\"],\n",
    "        name = f\"P{tau:.1f}\")\n",
    "\n",
    "    model.compile(\n",
    "        loss = tfa.losses.PinballLoss(tau = tau),\n",
    "        optimizer = tf.keras.optimizers.Adam(args[\"INIT_LR\"]))\n",
    "    \n",
    "    models.append(model)"
   ]
  },
  {
   "cell_type": "code",
   "execution_count": 86,
   "metadata": {},
   "outputs": [
    {
     "name": "stdout",
     "output_type": "stream",
     "text": [
      "\n",
      "Model P0.1...\n",
      "\n",
      "Epoch 1/10\n",
      "7/7 - 15s - loss: 0.1976 - val_loss: 0.1120\n",
      "Epoch 2/10\n",
      "7/7 - 1s - loss: 0.1098 - val_loss: 0.1014\n",
      "Epoch 3/10\n",
      "7/7 - 1s - loss: 0.0873 - val_loss: 0.0821\n",
      "Epoch 4/10\n",
      "7/7 - 1s - loss: 0.0781 - val_loss: 0.0776\n",
      "Epoch 5/10\n",
      "7/7 - 1s - loss: 0.0743 - val_loss: 0.0740\n",
      "Epoch 6/10\n",
      "7/7 - 1s - loss: 0.0727 - val_loss: 0.0745\n",
      "Epoch 7/10\n",
      "7/7 - 1s - loss: 0.0719 - val_loss: 0.0718\n",
      "Epoch 8/10\n",
      "7/7 - 1s - loss: 0.0712 - val_loss: 0.0725\n",
      "Epoch 9/10\n",
      "7/7 - 1s - loss: 0.0708 - val_loss: 0.0723\n",
      "Epoch 10/10\n",
      "7/7 - 1s - loss: 0.0708 - val_loss: 0.0725\n",
      "\n",
      "Model P0.2...\n",
      "\n",
      "Epoch 1/10\n",
      "7/7 - 15s - loss: 0.2485 - val_loss: 0.2364\n",
      "Epoch 2/10\n",
      "7/7 - 2s - loss: 0.2028 - val_loss: 0.1763\n",
      "Epoch 3/10\n",
      "7/7 - 1s - loss: 0.1591 - val_loss: 0.1523\n",
      "Epoch 4/10\n",
      "7/7 - 1s - loss: 0.1478 - val_loss: 0.1456\n",
      "Epoch 5/10\n",
      "7/7 - 1s - loss: 0.1442 - val_loss: 0.1489\n",
      "Epoch 6/10\n",
      "7/7 - 1s - loss: 0.1445 - val_loss: 0.1423\n",
      "Epoch 7/10\n",
      "7/7 - 1s - loss: 0.1431 - val_loss: 0.1454\n",
      "Epoch 8/10\n",
      "7/7 - 1s - loss: 0.1424 - val_loss: 0.1441\n",
      "Epoch 9/10\n",
      "7/7 - 1s - loss: 0.1425 - val_loss: 0.1438\n",
      "Epoch 10/10\n",
      "7/7 - 1s - loss: 0.1398 - val_loss: 0.1424\n",
      "\n",
      "Model P0.3...\n",
      "\n",
      "Epoch 1/10\n",
      "7/7 - 14s - loss: 0.2850 - val_loss: 0.2751\n",
      "Epoch 2/10\n",
      "7/7 - 1s - loss: 0.2460 - val_loss: 0.2292\n",
      "Epoch 3/10\n",
      "7/7 - 1s - loss: 0.2217 - val_loss: 0.2179\n",
      "Epoch 4/10\n",
      "7/7 - 1s - loss: 0.2131 - val_loss: 0.2150\n",
      "Epoch 5/10\n",
      "7/7 - 1s - loss: 0.2121 - val_loss: 0.2150\n",
      "Epoch 6/10\n",
      "7/7 - 1s - loss: 0.2117 - val_loss: 0.2135\n",
      "Epoch 7/10\n",
      "7/7 - 1s - loss: 0.2112 - val_loss: 0.2129\n",
      "Epoch 8/10\n",
      "7/7 - 1s - loss: 0.2104 - val_loss: 0.2141\n",
      "Epoch 9/10\n",
      "7/7 - 1s - loss: 0.2095 - val_loss: 0.2122\n",
      "Epoch 10/10\n",
      "7/7 - 1s - loss: 0.2089 - val_loss: 0.2126\n",
      "\n",
      "Model P0.4...\n",
      "\n",
      "Epoch 1/10\n",
      "7/7 - 14s - loss: 0.3219 - val_loss: 0.3117\n",
      "Epoch 2/10\n",
      "7/7 - 1s - loss: 0.2919 - val_loss: 0.2891\n",
      "Epoch 3/10\n",
      "7/7 - 1s - loss: 0.2829 - val_loss: 0.2870\n",
      "Epoch 4/10\n",
      "7/7 - 1s - loss: 0.2811 - val_loss: 0.2868\n",
      "Epoch 5/10\n",
      "7/7 - 1s - loss: 0.2802 - val_loss: 0.2841\n",
      "Epoch 6/10\n",
      "7/7 - 1s - loss: 0.2789 - val_loss: 0.2827\n",
      "Epoch 7/10\n",
      "7/7 - 1s - loss: 0.2782 - val_loss: 0.2826\n",
      "Epoch 8/10\n",
      "7/7 - 1s - loss: 0.2792 - val_loss: 0.2865\n",
      "Epoch 9/10\n",
      "7/7 - 1s - loss: 0.2807 - val_loss: 0.2822\n",
      "Epoch 10/10\n",
      "7/7 - 1s - loss: 0.2799 - val_loss: 0.2818\n",
      "\n",
      "Model P0.5...\n",
      "\n",
      "Epoch 1/10\n",
      "7/7 - 14s - loss: 0.3610 - val_loss: 0.3601\n",
      "Epoch 2/10\n",
      "7/7 - 1s - loss: 0.3644 - val_loss: 0.3579\n",
      "Epoch 3/10\n",
      "7/7 - 1s - loss: 0.3547 - val_loss: 0.3620\n",
      "Epoch 4/10\n",
      "7/7 - 1s - loss: 0.3569 - val_loss: 0.3624\n",
      "Epoch 5/10\n",
      "7/7 - 1s - loss: 0.3568 - val_loss: 0.3616\n",
      "Epoch 6/10\n",
      "7/7 - 1s - loss: 0.3558 - val_loss: 0.3605\n",
      "Epoch 7/10\n",
      "7/7 - 1s - loss: 0.3545 - val_loss: 0.3590\n",
      "Epoch 8/10\n",
      "7/7 - 1s - loss: 0.3526 - val_loss: 0.3565\n",
      "Epoch 9/10\n",
      "7/7 - 1s - loss: 0.3489 - val_loss: 0.3511\n",
      "Epoch 10/10\n",
      "7/7 - 1s - loss: 0.3474 - val_loss: 0.3527\n",
      "\n",
      "Model P0.6...\n",
      "\n",
      "Epoch 1/10\n",
      "7/7 - 14s - loss: 0.3997 - val_loss: 0.4060\n",
      "Epoch 2/10\n",
      "7/7 - 1s - loss: 0.3997 - val_loss: 0.4059\n",
      "Epoch 3/10\n",
      "7/7 - 1s - loss: 0.3996 - val_loss: 0.4059\n",
      "Epoch 4/10\n",
      "7/7 - 1s - loss: 0.3996 - val_loss: 0.4059\n",
      "Epoch 5/10\n",
      "7/7 - 1s - loss: 0.3996 - val_loss: 0.4060\n",
      "Epoch 6/10\n",
      "7/7 - 1s - loss: 0.3996 - val_loss: 0.4060\n",
      "Epoch 7/10\n",
      "7/7 - 1s - loss: 0.3995 - val_loss: 0.4061\n",
      "Epoch 8/10\n",
      "7/7 - 1s - loss: 0.3995 - val_loss: 0.4061\n",
      "Epoch 9/10\n",
      "7/7 - 1s - loss: 0.3994 - val_loss: 0.4061\n",
      "Epoch 10/10\n",
      "7/7 - 1s - loss: 0.3994 - val_loss: 0.4062\n",
      "\n",
      "Model P0.7...\n",
      "\n",
      "Epoch 1/10\n",
      "7/7 - 14s - loss: 0.4329 - val_loss: 0.4353\n",
      "Epoch 2/10\n",
      "7/7 - 1s - loss: 0.4185 - val_loss: 0.4199\n",
      "Epoch 3/10\n",
      "7/7 - 1s - loss: 0.4104 - val_loss: 0.4160\n",
      "Epoch 4/10\n",
      "7/7 - 1s - loss: 0.4090 - val_loss: 0.4132\n",
      "Epoch 5/10\n",
      "7/7 - 1s - loss: 0.4082 - val_loss: 0.4132\n",
      "Epoch 6/10\n",
      "7/7 - 1s - loss: 0.4078 - val_loss: 0.4135\n",
      "Epoch 7/10\n",
      "7/7 - 1s - loss: 0.4078 - val_loss: 0.4131\n",
      "Epoch 8/10\n",
      "7/7 - 1s - loss: 0.4078 - val_loss: 0.4131\n",
      "Epoch 9/10\n",
      "7/7 - 1s - loss: 0.4077 - val_loss: 0.4133\n",
      "Epoch 10/10\n",
      "7/7 - 1s - loss: 0.4077 - val_loss: 0.4131\n",
      "\n",
      "Model P0.8...\n",
      "\n",
      "Epoch 1/10\n",
      "7/7 - 14s - loss: 0.4654 - val_loss: 0.4602\n",
      "Epoch 2/10\n",
      "7/7 - 1s - loss: 0.4089 - val_loss: 0.3858\n",
      "Epoch 3/10\n",
      "7/7 - 1s - loss: 0.3673 - val_loss: 0.3673\n",
      "Epoch 4/10\n",
      "7/7 - 1s - loss: 0.3580 - val_loss: 0.3580\n",
      "Epoch 5/10\n",
      "7/7 - 1s - loss: 0.3545 - val_loss: 0.3578\n",
      "Epoch 6/10\n",
      "7/7 - 1s - loss: 0.3532 - val_loss: 0.3589\n",
      "Epoch 7/10\n",
      "7/7 - 1s - loss: 0.3531 - val_loss: 0.3576\n",
      "Epoch 8/10\n",
      "7/7 - 1s - loss: 0.3530 - val_loss: 0.3576\n",
      "Epoch 9/10\n",
      "7/7 - 1s - loss: 0.3528 - val_loss: 0.3579\n",
      "Epoch 10/10\n",
      "7/7 - 1s - loss: 0.3528 - val_loss: 0.3576\n",
      "\n",
      "Model P0.9...\n",
      "\n",
      "Epoch 1/10\n",
      "7/7 - 14s - loss: 0.4996 - val_loss: 0.4914\n",
      "Epoch 2/10\n",
      "7/7 - 1s - loss: 0.4081 - val_loss: 0.2671\n",
      "Epoch 3/10\n",
      "7/7 - 1s - loss: 0.2502 - val_loss: 0.2311\n",
      "Epoch 4/10\n",
      "7/7 - 1s - loss: 0.2296 - val_loss: 0.2333\n",
      "Epoch 5/10\n",
      "7/7 - 1s - loss: 0.2278 - val_loss: 0.2298\n",
      "Epoch 6/10\n",
      "7/7 - 1s - loss: 0.2277 - val_loss: 0.2298\n",
      "Epoch 7/10\n",
      "7/7 - 1s - loss: 0.2272 - val_loss: 0.2297\n",
      "Epoch 8/10\n",
      "7/7 - 1s - loss: 0.2270 - val_loss: 0.2293\n",
      "Epoch 9/10\n",
      "7/7 - 1s - loss: 0.2270 - val_loss: 0.2297\n",
      "Epoch 10/10\n",
      "7/7 - 1s - loss: 0.2269 - val_loss: 0.2294\n"
     ]
    }
   ],
   "source": [
    "for model in models:\n",
    "    # TensorBoard callback.\n",
    "    log_dir = os.path.join(\n",
    "        \"logs\", \"fit\", os.environ[\"NOTEBOOKNAME\"], \n",
    "        datetime.datetime.now().strftime(f\"{model.name}-%Y%m%d-%H%M%S\"))\n",
    "    tb_callback = tf.keras.callbacks.TensorBoard(log_dir = log_dir, histogram_freq = 1)\n",
    "\n",
    "    print(f\"\\nModel {model.name}...\\n\")\n",
    "    \n",
    "    _ = model.fit(\n",
    "        tr_dataset,\n",
    "        validation_data = vl_dataset,\n",
    "        epochs = args[\"EPOCH\"],\n",
    "        verbose = 2,\n",
    "        callbacks = [tb_callback])"
   ]
  },
  {
   "cell_type": "code",
   "execution_count": 87,
   "metadata": {},
   "outputs": [
    {
     "data": {
      "text/plain": [
       "Reusing TensorBoard on port 6006 (pid 7385), started 1:12:09 ago. (Use '!kill 7385' to kill it.)"
      ]
     },
     "metadata": {},
     "output_type": "display_data"
    },
    {
     "data": {
      "text/html": [
       "\n",
       "      <iframe id=\"tensorboard-frame-35c954ac4db27f97\" width=\"100%\" height=\"800\" frameborder=\"0\">\n",
       "      </iframe>\n",
       "      <script>\n",
       "        (function() {\n",
       "          const frame = document.getElementById(\"tensorboard-frame-35c954ac4db27f97\");\n",
       "          const url = new URL(\"/\", window.location);\n",
       "          const port = 6006;\n",
       "          if (port) {\n",
       "            url.port = port;\n",
       "          }\n",
       "          frame.src = url;\n",
       "        })();\n",
       "      </script>\n",
       "    "
      ],
      "text/plain": [
       "<IPython.core.display.HTML object>"
      ]
     },
     "metadata": {},
     "output_type": "display_data"
    }
   ],
   "source": [
    "%tensorboard --logdir logs/fit --host jupyter-server"
   ]
  },
  {
   "cell_type": "markdown",
   "metadata": {},
   "source": [
    "## **Predict**"
   ]
  },
  {
   "cell_type": "code",
   "execution_count": 89,
   "metadata": {},
   "outputs": [
    {
     "name": "stdout",
     "output_type": "stream",
     "text": [
      "WARNING:tensorflow:5 out of the last 6 calls to <function Model.make_predict_function.<locals>.predict_function at 0x7f1f36ab2620> triggered tf.function retracing. Tracing is expensive and the excessive number of tracings could be due to (1) creating @tf.function repeatedly in a loop, (2) passing tensors with different shapes, (3) passing Python objects instead of tensors. For (1), please define your @tf.function outside of the loop. For (2), @tf.function has experimental_relax_shapes=True option that relaxes argument shapes that can avoid unnecessary retracing. For (3), please refer to https://www.tensorflow.org/guide/function#controlling_retracing and https://www.tensorflow.org/api_docs/python/tf/function for  more details.\n",
      "WARNING:tensorflow:6 out of the last 7 calls to <function Model.make_predict_function.<locals>.predict_function at 0x7f1f3534c730> triggered tf.function retracing. Tracing is expensive and the excessive number of tracings could be due to (1) creating @tf.function repeatedly in a loop, (2) passing tensors with different shapes, (3) passing Python objects instead of tensors. For (1), please define your @tf.function outside of the loop. For (2), @tf.function has experimental_relax_shapes=True option that relaxes argument shapes that can avoid unnecessary retracing. For (3), please refer to https://www.tensorflow.org/guide/function#controlling_retracing and https://www.tensorflow.org/api_docs/python/tf/function for  more details.\n",
      "WARNING:tensorflow:7 out of the last 8 calls to <function Model.make_predict_function.<locals>.predict_function at 0x7f1f34c6af28> triggered tf.function retracing. Tracing is expensive and the excessive number of tracings could be due to (1) creating @tf.function repeatedly in a loop, (2) passing tensors with different shapes, (3) passing Python objects instead of tensors. For (1), please define your @tf.function outside of the loop. For (2), @tf.function has experimental_relax_shapes=True option that relaxes argument shapes that can avoid unnecessary retracing. For (3), please refer to https://www.tensorflow.org/guide/function#controlling_retracing and https://www.tensorflow.org/api_docs/python/tf/function for  more details.\n",
      "WARNING:tensorflow:8 out of the last 9 calls to <function Model.make_predict_function.<locals>.predict_function at 0x7f1f1bd3cbf8> triggered tf.function retracing. Tracing is expensive and the excessive number of tracings could be due to (1) creating @tf.function repeatedly in a loop, (2) passing tensors with different shapes, (3) passing Python objects instead of tensors. For (1), please define your @tf.function outside of the loop. For (2), @tf.function has experimental_relax_shapes=True option that relaxes argument shapes that can avoid unnecessary retracing. For (3), please refer to https://www.tensorflow.org/guide/function#controlling_retracing and https://www.tensorflow.org/api_docs/python/tf/function for  more details.\n",
      "WARNING:tensorflow:9 out of the last 10 calls to <function Model.make_predict_function.<locals>.predict_function at 0x7f1f1b4e5f28> triggered tf.function retracing. Tracing is expensive and the excessive number of tracings could be due to (1) creating @tf.function repeatedly in a loop, (2) passing tensors with different shapes, (3) passing Python objects instead of tensors. For (1), please define your @tf.function outside of the loop. For (2), @tf.function has experimental_relax_shapes=True option that relaxes argument shapes that can avoid unnecessary retracing. For (3), please refer to https://www.tensorflow.org/guide/function#controlling_retracing and https://www.tensorflow.org/api_docs/python/tf/function for  more details.\n"
     ]
    },
    {
     "data": {
      "text/plain": [
       "(81, 96)"
      ]
     },
     "execution_count": 89,
     "metadata": {},
     "output_type": "execute_result"
    }
   ],
   "source": [
    "preds = [np.array(model.predict(ts_dataset))[..., 0] for model in models]\n",
    "preds[0].shape"
   ]
  },
  {
   "cell_type": "code",
   "execution_count": 90,
   "metadata": {},
   "outputs": [
    {
     "data": {
      "text/html": [
       "<div>\n",
       "<style scoped>\n",
       "    .dataframe tbody tr th:only-of-type {\n",
       "        vertical-align: middle;\n",
       "    }\n",
       "\n",
       "    .dataframe tbody tr th {\n",
       "        vertical-align: top;\n",
       "    }\n",
       "\n",
       "    .dataframe thead th {\n",
       "        text-align: right;\n",
       "    }\n",
       "</style>\n",
       "<table border=\"1\" class=\"dataframe\">\n",
       "  <thead>\n",
       "    <tr style=\"text-align: right;\">\n",
       "      <th></th>\n",
       "      <th>q_0.1</th>\n",
       "      <th>q_0.2</th>\n",
       "      <th>q_0.3</th>\n",
       "      <th>q_0.4</th>\n",
       "      <th>q_0.5</th>\n",
       "      <th>q_0.6</th>\n",
       "      <th>q_0.7</th>\n",
       "      <th>q_0.8</th>\n",
       "      <th>q_0.9</th>\n",
       "    </tr>\n",
       "    <tr>\n",
       "      <th>id</th>\n",
       "      <th></th>\n",
       "      <th></th>\n",
       "      <th></th>\n",
       "      <th></th>\n",
       "      <th></th>\n",
       "      <th></th>\n",
       "      <th></th>\n",
       "      <th></th>\n",
       "      <th></th>\n",
       "    </tr>\n",
       "  </thead>\n",
       "  <tbody>\n",
       "    <tr>\n",
       "      <th>0.csv_Day7_0h00m</th>\n",
       "      <td>0.0</td>\n",
       "      <td>0.0</td>\n",
       "      <td>0.0</td>\n",
       "      <td>0.0</td>\n",
       "      <td>0.0</td>\n",
       "      <td>0.0</td>\n",
       "      <td>0.0</td>\n",
       "      <td>0.0</td>\n",
       "      <td>0.0</td>\n",
       "    </tr>\n",
       "    <tr>\n",
       "      <th>0.csv_Day7_0h30m</th>\n",
       "      <td>0.0</td>\n",
       "      <td>0.0</td>\n",
       "      <td>0.0</td>\n",
       "      <td>0.0</td>\n",
       "      <td>0.0</td>\n",
       "      <td>0.0</td>\n",
       "      <td>0.0</td>\n",
       "      <td>0.0</td>\n",
       "      <td>0.0</td>\n",
       "    </tr>\n",
       "    <tr>\n",
       "      <th>0.csv_Day7_1h00m</th>\n",
       "      <td>0.0</td>\n",
       "      <td>0.0</td>\n",
       "      <td>0.0</td>\n",
       "      <td>0.0</td>\n",
       "      <td>0.0</td>\n",
       "      <td>0.0</td>\n",
       "      <td>0.0</td>\n",
       "      <td>0.0</td>\n",
       "      <td>0.0</td>\n",
       "    </tr>\n",
       "    <tr>\n",
       "      <th>0.csv_Day7_1h30m</th>\n",
       "      <td>0.0</td>\n",
       "      <td>0.0</td>\n",
       "      <td>0.0</td>\n",
       "      <td>0.0</td>\n",
       "      <td>0.0</td>\n",
       "      <td>0.0</td>\n",
       "      <td>0.0</td>\n",
       "      <td>0.0</td>\n",
       "      <td>0.0</td>\n",
       "    </tr>\n",
       "    <tr>\n",
       "      <th>0.csv_Day7_2h00m</th>\n",
       "      <td>0.0</td>\n",
       "      <td>0.0</td>\n",
       "      <td>0.0</td>\n",
       "      <td>0.0</td>\n",
       "      <td>0.0</td>\n",
       "      <td>0.0</td>\n",
       "      <td>0.0</td>\n",
       "      <td>0.0</td>\n",
       "      <td>0.0</td>\n",
       "    </tr>\n",
       "  </tbody>\n",
       "</table>\n",
       "</div>"
      ],
      "text/plain": [
       "                  q_0.1  q_0.2  q_0.3  q_0.4  q_0.5  q_0.6  q_0.7  q_0.8  \\\n",
       "id                                                                         \n",
       "0.csv_Day7_0h00m    0.0    0.0    0.0    0.0    0.0    0.0    0.0    0.0   \n",
       "0.csv_Day7_0h30m    0.0    0.0    0.0    0.0    0.0    0.0    0.0    0.0   \n",
       "0.csv_Day7_1h00m    0.0    0.0    0.0    0.0    0.0    0.0    0.0    0.0   \n",
       "0.csv_Day7_1h30m    0.0    0.0    0.0    0.0    0.0    0.0    0.0    0.0   \n",
       "0.csv_Day7_2h00m    0.0    0.0    0.0    0.0    0.0    0.0    0.0    0.0   \n",
       "\n",
       "                  q_0.9  \n",
       "id                       \n",
       "0.csv_Day7_0h00m    0.0  \n",
       "0.csv_Day7_0h30m    0.0  \n",
       "0.csv_Day7_1h00m    0.0  \n",
       "0.csv_Day7_1h30m    0.0  \n",
       "0.csv_Day7_2h00m    0.0  "
      ]
     },
     "execution_count": 90,
     "metadata": {},
     "output_type": "execute_result"
    }
   ],
   "source": [
    "submission = pd.read_csv(os.path.join(os.environ[\"LOCAL_DATA_PATH\"], \"sample_submission.csv\"), index_col = \"id\")\n",
    "submission.head()"
   ]
  },
  {
   "cell_type": "code",
   "execution_count": 110,
   "metadata": {},
   "outputs": [],
   "source": [
    "for column, pred in zip(submission.columns, preds):\n",
    "    foo = np.reshape(pred, (-1,))\n",
    "    foo = (foo * args[\"TARGET_STD\"]) + args[\"TARGET_STD\"]\n",
    "#     foo = np.where(foo < 0, 0, foo) # clip by value\n",
    "    \n",
    "    submission[column] = foo"
   ]
  },
  {
   "cell_type": "code",
   "execution_count": 111,
   "metadata": {},
   "outputs": [
    {
     "data": {
      "text/html": [
       "<div>\n",
       "<style scoped>\n",
       "    .dataframe tbody tr th:only-of-type {\n",
       "        vertical-align: middle;\n",
       "    }\n",
       "\n",
       "    .dataframe tbody tr th {\n",
       "        vertical-align: top;\n",
       "    }\n",
       "\n",
       "    .dataframe thead th {\n",
       "        text-align: right;\n",
       "    }\n",
       "</style>\n",
       "<table border=\"1\" class=\"dataframe\">\n",
       "  <thead>\n",
       "    <tr style=\"text-align: right;\">\n",
       "      <th></th>\n",
       "      <th>q_0.1</th>\n",
       "      <th>q_0.2</th>\n",
       "      <th>q_0.3</th>\n",
       "      <th>q_0.4</th>\n",
       "      <th>q_0.5</th>\n",
       "      <th>q_0.6</th>\n",
       "      <th>q_0.7</th>\n",
       "      <th>q_0.8</th>\n",
       "      <th>q_0.9</th>\n",
       "    </tr>\n",
       "    <tr>\n",
       "      <th>id</th>\n",
       "      <th></th>\n",
       "      <th></th>\n",
       "      <th></th>\n",
       "      <th></th>\n",
       "      <th></th>\n",
       "      <th></th>\n",
       "      <th></th>\n",
       "      <th></th>\n",
       "      <th></th>\n",
       "    </tr>\n",
       "  </thead>\n",
       "  <tbody>\n",
       "    <tr>\n",
       "      <th>0.csv_Day7_0h00m</th>\n",
       "      <td>11.330930</td>\n",
       "      <td>8.789949</td>\n",
       "      <td>12.106797</td>\n",
       "      <td>8.433870</td>\n",
       "      <td>15.178031</td>\n",
       "      <td>21.560562</td>\n",
       "      <td>20.705690</td>\n",
       "      <td>65.827957</td>\n",
       "      <td>71.649048</td>\n",
       "    </tr>\n",
       "    <tr>\n",
       "      <th>0.csv_Day7_0h30m</th>\n",
       "      <td>10.612611</td>\n",
       "      <td>9.429886</td>\n",
       "      <td>10.970112</td>\n",
       "      <td>7.928766</td>\n",
       "      <td>14.490046</td>\n",
       "      <td>21.027855</td>\n",
       "      <td>22.297714</td>\n",
       "      <td>66.879959</td>\n",
       "      <td>74.571609</td>\n",
       "    </tr>\n",
       "    <tr>\n",
       "      <th>0.csv_Day7_1h00m</th>\n",
       "      <td>9.664053</td>\n",
       "      <td>9.300856</td>\n",
       "      <td>9.747580</td>\n",
       "      <td>7.563658</td>\n",
       "      <td>14.186021</td>\n",
       "      <td>19.640682</td>\n",
       "      <td>23.819099</td>\n",
       "      <td>65.307465</td>\n",
       "      <td>72.750687</td>\n",
       "    </tr>\n",
       "    <tr>\n",
       "      <th>0.csv_Day7_1h30m</th>\n",
       "      <td>8.872568</td>\n",
       "      <td>9.012264</td>\n",
       "      <td>8.915426</td>\n",
       "      <td>7.355059</td>\n",
       "      <td>13.844507</td>\n",
       "      <td>17.942604</td>\n",
       "      <td>24.752573</td>\n",
       "      <td>63.269016</td>\n",
       "      <td>71.262589</td>\n",
       "    </tr>\n",
       "    <tr>\n",
       "      <th>0.csv_Day7_2h00m</th>\n",
       "      <td>8.248011</td>\n",
       "      <td>8.722410</td>\n",
       "      <td>8.382359</td>\n",
       "      <td>7.250301</td>\n",
       "      <td>13.504272</td>\n",
       "      <td>16.236866</td>\n",
       "      <td>25.461878</td>\n",
       "      <td>61.158997</td>\n",
       "      <td>70.442886</td>\n",
       "    </tr>\n",
       "  </tbody>\n",
       "</table>\n",
       "</div>"
      ],
      "text/plain": [
       "                      q_0.1     q_0.2      q_0.3     q_0.4      q_0.5  \\\n",
       "id                                                                      \n",
       "0.csv_Day7_0h00m  11.330930  8.789949  12.106797  8.433870  15.178031   \n",
       "0.csv_Day7_0h30m  10.612611  9.429886  10.970112  7.928766  14.490046   \n",
       "0.csv_Day7_1h00m   9.664053  9.300856   9.747580  7.563658  14.186021   \n",
       "0.csv_Day7_1h30m   8.872568  9.012264   8.915426  7.355059  13.844507   \n",
       "0.csv_Day7_2h00m   8.248011  8.722410   8.382359  7.250301  13.504272   \n",
       "\n",
       "                      q_0.6      q_0.7      q_0.8      q_0.9  \n",
       "id                                                            \n",
       "0.csv_Day7_0h00m  21.560562  20.705690  65.827957  71.649048  \n",
       "0.csv_Day7_0h30m  21.027855  22.297714  66.879959  74.571609  \n",
       "0.csv_Day7_1h00m  19.640682  23.819099  65.307465  72.750687  \n",
       "0.csv_Day7_1h30m  17.942604  24.752573  63.269016  71.262589  \n",
       "0.csv_Day7_2h00m  16.236866  25.461878  61.158997  70.442886  "
      ]
     },
     "execution_count": 111,
     "metadata": {},
     "output_type": "execute_result"
    }
   ],
   "source": [
    "submission.head()"
   ]
  },
  {
   "cell_type": "code",
   "execution_count": 112,
   "metadata": {},
   "outputs": [],
   "source": [
    "submission.to_csv(\n",
    "    os.path.join(os.environ[\"SUBMISSION_PATH\"], f\"{os.environ['NOTEBOOKNAME']}_submission.csv\"))"
   ]
  },
  {
   "cell_type": "code",
   "execution_count": null,
   "metadata": {},
   "outputs": [],
   "source": []
  }
 ],
 "metadata": {
  "kernelspec": {
   "display_name": "Python 3",
   "language": "python",
   "name": "python3"
  },
  "language_info": {
   "codemirror_mode": {
    "name": "ipython",
    "version": 3
   },
   "file_extension": ".py",
   "mimetype": "text/x-python",
   "name": "python",
   "nbconvert_exporter": "python",
   "pygments_lexer": "ipython3",
   "version": "3.6.9"
  }
 },
 "nbformat": 4,
 "nbformat_minor": 4
}
