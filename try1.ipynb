{
 "cells": [
  {
   "cell_type": "markdown",
   "metadata": {},
   "source": [
    "# **Default Setting**\n",
    "\n",
    "* python: 3.6.9\n",
    "* tensorflow: 2.5.0-dev20201208\n",
    "* cpu: AMD Ryzen 5 5600X 6-Core Processor\n",
    "* gpu: GeForce RTX 3070 (8G)\n",
    "* memory: 32G\n",
    "* platform: linux 20.04 lts"
   ]
  },
  {
   "cell_type": "code",
   "execution_count": 61,
   "metadata": {},
   "outputs": [
    {
     "name": "stdout",
     "output_type": "stream",
     "text": [
      "env: NOTEBOOKNAME=try1\n",
      "env: LOCAL_DATA_PATH=data\n",
      "env: SUBMISSION_PATH=submission\n"
     ]
    }
   ],
   "source": [
    "%env NOTEBOOKNAME try1\n",
    "%env LOCAL_DATA_PATH data\n",
    "%env SUBMISSION_PATH submission"
   ]
  },
  {
   "cell_type": "code",
   "execution_count": 2,
   "metadata": {},
   "outputs": [
    {
     "name": "stderr",
     "output_type": "stream",
     "text": [
      "/home/myunggyo/anaconda3/envs/py36/lib/python3.6/site-packages/tensorflow_addons/utils/ensure_tf_install.py:44: UserWarning: You are currently using a nightly version of TensorFlow (2.5.0-dev20201208). \n",
      "TensorFlow Addons offers no support for the nightly versions of TensorFlow. Some things might work, some other might not. \n",
      "If you encounter a bug, do not file an issue on GitHub.\n",
      "  UserWarning,\n"
     ]
    },
    {
     "name": "stdout",
     "output_type": "stream",
     "text": [
      "tf.__version__: 2.5.0-dev20201208\n",
      "tfa.__version__: 0.11.2\n"
     ]
    }
   ],
   "source": [
    "import tensorflow as tf\n",
    "import tensorflow_addons as tfa\n",
    "\n",
    "import glob\n",
    "import os\n",
    "import platform\n",
    "\n",
    "import numpy as np\n",
    "import pandas as pd\n",
    "\n",
    "from collections import OrderedDict\n",
    "from sklearn.model_selection import train_test_split\n",
    "\n",
    "print(f\"tf.__version__: {tf.__version__}\")\n",
    "print(f\"tfa.__version__: {tfa.__version__}\")"
   ]
  },
  {
   "cell_type": "code",
   "execution_count": 3,
   "metadata": {},
   "outputs": [
    {
     "data": {
      "text/plain": [
       "[PhysicalDevice(name='/physical_device:CPU:0', device_type='CPU'),\n",
       " PhysicalDevice(name='/physical_device:GPU:0', device_type='GPU')]"
      ]
     },
     "execution_count": 3,
     "metadata": {},
     "output_type": "execute_result"
    }
   ],
   "source": [
    "tf.config.list_physical_devices()"
   ]
  },
  {
   "cell_type": "code",
   "execution_count": 4,
   "metadata": {},
   "outputs": [
    {
     "name": "stdout",
     "output_type": "stream",
     "text": [
      "Python 3.6.9 :: Anaconda, Inc.\n"
     ]
    }
   ],
   "source": [
    "!python -V"
   ]
  },
  {
   "cell_type": "code",
   "execution_count": 5,
   "metadata": {},
   "outputs": [],
   "source": [
    "# !cat /proc/cpuinfo"
   ]
  },
  {
   "cell_type": "code",
   "execution_count": 6,
   "metadata": {},
   "outputs": [
    {
     "name": "stdout",
     "output_type": "stream",
     "text": [
      "Thu Dec 10 13:09:17 2020       \n",
      "+-----------------------------------------------------------------------------+\n",
      "| NVIDIA-SMI 455.32.00    Driver Version: 455.32.00    CUDA Version: 11.1     |\n",
      "|-------------------------------+----------------------+----------------------+\n",
      "| GPU  Name        Persistence-M| Bus-Id        Disp.A | Volatile Uncorr. ECC |\n",
      "| Fan  Temp  Perf  Pwr:Usage/Cap|         Memory-Usage | GPU-Util  Compute M. |\n",
      "|                               |                      |               MIG M. |\n",
      "|===============================+======================+======================|\n",
      "|   0  Graphics Device     On   | 00000000:0A:00.0  On |                  N/A |\n",
      "|  0%   28C    P8    23W / 220W |    310MiB /  7979MiB |      5%      Default |\n",
      "|                               |                      |                  N/A |\n",
      "+-------------------------------+----------------------+----------------------+\n",
      "                                                                               \n",
      "+-----------------------------------------------------------------------------+\n",
      "| Processes:                                                                  |\n",
      "|  GPU   GI   CI        PID   Type   Process name                  GPU Memory |\n",
      "|        ID   ID                                                   Usage      |\n",
      "|=============================================================================|\n",
      "|    0   N/A  N/A       911      G   /usr/lib/xorg/Xorg                 35MiB |\n",
      "|    0   N/A  N/A      1418      G   /usr/lib/xorg/Xorg                 83MiB |\n",
      "|    0   N/A  N/A      1544      G   /usr/bin/gnome-shell               89MiB |\n",
      "|    0   N/A  N/A      3796      G   ...AAAAAAAA== --shared-files       87MiB |\n",
      "+-----------------------------------------------------------------------------+\n"
     ]
    }
   ],
   "source": [
    "!nvidia-smi"
   ]
  },
  {
   "cell_type": "code",
   "execution_count": 7,
   "metadata": {},
   "outputs": [],
   "source": [
    "# !df -h"
   ]
  },
  {
   "cell_type": "code",
   "execution_count": 8,
   "metadata": {},
   "outputs": [
    {
     "name": "stdout",
     "output_type": "stream",
     "text": [
      "              total        used        free      shared  buff/cache   available\n",
      "Mem:           31Gi       2.0Gi        27Gi        70Mi       1.8Gi        28Gi\n",
      "Swap:         2.0Gi          0B       2.0Gi\n"
     ]
    }
   ],
   "source": [
    "!free -h"
   ]
  },
  {
   "cell_type": "code",
   "execution_count": 9,
   "metadata": {},
   "outputs": [
    {
     "data": {
      "text/plain": [
       "'Linux-5.4.0-56-generic-x86_64-with-debian-bullseye-sid'"
      ]
     },
     "execution_count": 9,
     "metadata": {},
     "output_type": "execute_result"
    }
   ],
   "source": [
    "platform.platform()"
   ]
  },
  {
   "cell_type": "markdown",
   "metadata": {},
   "source": [
    "# **Define Arguments**"
   ]
  },
  {
   "cell_type": "code",
   "execution_count": 10,
   "metadata": {},
   "outputs": [
    {
     "data": {
      "text/plain": [
       "OrderedDict([('SEED', 42),\n",
       "             ('TEST_SIZE', 0.2),\n",
       "             ('NUM_TEST_CSV', 81),\n",
       "             ('WINDOW_INP', 336),\n",
       "             ('WINDOW_TAR', 96),\n",
       "             ('WINDOW_SHIFT', 48),\n",
       "             ('WINDOW_STRIDE', 1),\n",
       "             ('WINDOW_DR', True),\n",
       "             ('AUTO', -1),\n",
       "             ('GLOBAL_BATCH_SIZE', 128)])"
      ]
     },
     "execution_count": 10,
     "metadata": {},
     "output_type": "execute_result"
    }
   ],
   "source": [
    "args = OrderedDict({\n",
    "    # Basic\n",
    "    \"SEED\": 42,\n",
    "    \"TEST_SIZE\": 0.2,\n",
    "    \n",
    "    # Dataframe\n",
    "    \"NUM_TEST_CSV\": 81,\n",
    "    \n",
    "    # Dataset Pipeline\n",
    "    \"WINDOW_INP\": 7 * 24 * 2, # 336, 7 days\n",
    "    \"WINDOW_TAR\": 2 * 24 * 2, # 96, 2 days\n",
    "    \"WINDOW_SHIFT\": 1 * 24 * 2, # 1 day\n",
    "    \"WINDOW_STRIDE\": 1,\n",
    "    \"WINDOW_DR\": True, # Drop remainders\n",
    "    \"AUTO\": tf.data.experimental.AUTOTUNE,\n",
    "    \n",
    "    \"GLOBAL_BATCH_SIZE\": 128,\n",
    "    \n",
    "})\n",
    "\n",
    "args"
   ]
  },
  {
   "cell_type": "markdown",
   "metadata": {},
   "source": [
    "# **Load Datasets**"
   ]
  },
  {
   "cell_type": "markdown",
   "metadata": {},
   "source": [
    "## **Train / Validation**"
   ]
  },
  {
   "cell_type": "code",
   "execution_count": 11,
   "metadata": {},
   "outputs": [
    {
     "data": {
      "text/html": [
       "<div>\n",
       "<style scoped>\n",
       "    .dataframe tbody tr th:only-of-type {\n",
       "        vertical-align: middle;\n",
       "    }\n",
       "\n",
       "    .dataframe tbody tr th {\n",
       "        vertical-align: top;\n",
       "    }\n",
       "\n",
       "    .dataframe thead th {\n",
       "        text-align: right;\n",
       "    }\n",
       "</style>\n",
       "<table border=\"1\" class=\"dataframe\">\n",
       "  <thead>\n",
       "    <tr style=\"text-align: right;\">\n",
       "      <th></th>\n",
       "      <th>Day</th>\n",
       "      <th>Hour</th>\n",
       "      <th>Minute</th>\n",
       "      <th>DHI</th>\n",
       "      <th>DNI</th>\n",
       "      <th>WS</th>\n",
       "      <th>RH</th>\n",
       "      <th>T</th>\n",
       "      <th>TARGET</th>\n",
       "    </tr>\n",
       "  </thead>\n",
       "  <tbody>\n",
       "    <tr>\n",
       "      <th>0</th>\n",
       "      <td>0</td>\n",
       "      <td>0</td>\n",
       "      <td>0</td>\n",
       "      <td>0</td>\n",
       "      <td>0</td>\n",
       "      <td>1.5</td>\n",
       "      <td>69.08</td>\n",
       "      <td>-12</td>\n",
       "      <td>0.0</td>\n",
       "    </tr>\n",
       "    <tr>\n",
       "      <th>1</th>\n",
       "      <td>0</td>\n",
       "      <td>0</td>\n",
       "      <td>30</td>\n",
       "      <td>0</td>\n",
       "      <td>0</td>\n",
       "      <td>1.5</td>\n",
       "      <td>69.06</td>\n",
       "      <td>-12</td>\n",
       "      <td>0.0</td>\n",
       "    </tr>\n",
       "    <tr>\n",
       "      <th>2</th>\n",
       "      <td>0</td>\n",
       "      <td>1</td>\n",
       "      <td>0</td>\n",
       "      <td>0</td>\n",
       "      <td>0</td>\n",
       "      <td>1.6</td>\n",
       "      <td>71.78</td>\n",
       "      <td>-12</td>\n",
       "      <td>0.0</td>\n",
       "    </tr>\n",
       "    <tr>\n",
       "      <th>3</th>\n",
       "      <td>0</td>\n",
       "      <td>1</td>\n",
       "      <td>30</td>\n",
       "      <td>0</td>\n",
       "      <td>0</td>\n",
       "      <td>1.6</td>\n",
       "      <td>71.75</td>\n",
       "      <td>-12</td>\n",
       "      <td>0.0</td>\n",
       "    </tr>\n",
       "    <tr>\n",
       "      <th>4</th>\n",
       "      <td>0</td>\n",
       "      <td>2</td>\n",
       "      <td>0</td>\n",
       "      <td>0</td>\n",
       "      <td>0</td>\n",
       "      <td>1.6</td>\n",
       "      <td>75.20</td>\n",
       "      <td>-12</td>\n",
       "      <td>0.0</td>\n",
       "    </tr>\n",
       "  </tbody>\n",
       "</table>\n",
       "</div>"
      ],
      "text/plain": [
       "   Day  Hour  Minute  DHI  DNI   WS     RH   T  TARGET\n",
       "0    0     0       0    0    0  1.5  69.08 -12     0.0\n",
       "1    0     0      30    0    0  1.5  69.06 -12     0.0\n",
       "2    0     1       0    0    0  1.6  71.78 -12     0.0\n",
       "3    0     1      30    0    0  1.6  71.75 -12     0.0\n",
       "4    0     2       0    0    0  1.6  75.20 -12     0.0"
      ]
     },
     "execution_count": 11,
     "metadata": {},
     "output_type": "execute_result"
    }
   ],
   "source": [
    "df = pd.read_csv(os.path.join(os.environ[\"LOCAL_DATA_PATH\"], \"train\", \"train.csv\"))\n",
    "df.head()"
   ]
  },
  {
   "cell_type": "code",
   "execution_count": 12,
   "metadata": {},
   "outputs": [
    {
     "data": {
      "text/html": [
       "<div>\n",
       "<style scoped>\n",
       "    .dataframe tbody tr th:only-of-type {\n",
       "        vertical-align: middle;\n",
       "    }\n",
       "\n",
       "    .dataframe tbody tr th {\n",
       "        vertical-align: top;\n",
       "    }\n",
       "\n",
       "    .dataframe thead th {\n",
       "        text-align: right;\n",
       "    }\n",
       "</style>\n",
       "<table border=\"1\" class=\"dataframe\">\n",
       "  <thead>\n",
       "    <tr style=\"text-align: right;\">\n",
       "      <th></th>\n",
       "      <th>Day</th>\n",
       "      <th>Hour</th>\n",
       "      <th>Minute</th>\n",
       "      <th>DHI</th>\n",
       "      <th>DNI</th>\n",
       "      <th>WS</th>\n",
       "      <th>RH</th>\n",
       "      <th>T</th>\n",
       "      <th>TARGET</th>\n",
       "    </tr>\n",
       "  </thead>\n",
       "  <tbody>\n",
       "    <tr>\n",
       "      <th>count</th>\n",
       "      <td>52560.000000</td>\n",
       "      <td>52560.000000</td>\n",
       "      <td>52560.000000</td>\n",
       "      <td>52560.000000</td>\n",
       "      <td>52560.000000</td>\n",
       "      <td>52560.000000</td>\n",
       "      <td>52560.000000</td>\n",
       "      <td>52560.000000</td>\n",
       "      <td>52560.000000</td>\n",
       "    </tr>\n",
       "    <tr>\n",
       "      <th>mean</th>\n",
       "      <td>547.000000</td>\n",
       "      <td>11.500000</td>\n",
       "      <td>15.000000</td>\n",
       "      <td>64.344121</td>\n",
       "      <td>234.792371</td>\n",
       "      <td>2.456033</td>\n",
       "      <td>56.793102</td>\n",
       "      <td>9.279928</td>\n",
       "      <td>17.790630</td>\n",
       "    </tr>\n",
       "    <tr>\n",
       "      <th>std</th>\n",
       "      <td>316.102148</td>\n",
       "      <td>6.922252</td>\n",
       "      <td>15.000143</td>\n",
       "      <td>103.897125</td>\n",
       "      <td>349.684583</td>\n",
       "      <td>1.426874</td>\n",
       "      <td>22.052875</td>\n",
       "      <td>10.179741</td>\n",
       "      <td>25.759955</td>\n",
       "    </tr>\n",
       "    <tr>\n",
       "      <th>min</th>\n",
       "      <td>0.000000</td>\n",
       "      <td>0.000000</td>\n",
       "      <td>0.000000</td>\n",
       "      <td>0.000000</td>\n",
       "      <td>0.000000</td>\n",
       "      <td>0.000000</td>\n",
       "      <td>7.590000</td>\n",
       "      <td>-19.000000</td>\n",
       "      <td>0.000000</td>\n",
       "    </tr>\n",
       "    <tr>\n",
       "      <th>25%</th>\n",
       "      <td>273.000000</td>\n",
       "      <td>5.750000</td>\n",
       "      <td>0.000000</td>\n",
       "      <td>0.000000</td>\n",
       "      <td>0.000000</td>\n",
       "      <td>1.400000</td>\n",
       "      <td>39.697500</td>\n",
       "      <td>1.000000</td>\n",
       "      <td>0.000000</td>\n",
       "    </tr>\n",
       "    <tr>\n",
       "      <th>50%</th>\n",
       "      <td>547.000000</td>\n",
       "      <td>11.500000</td>\n",
       "      <td>15.000000</td>\n",
       "      <td>0.000000</td>\n",
       "      <td>0.000000</td>\n",
       "      <td>2.200000</td>\n",
       "      <td>57.600000</td>\n",
       "      <td>9.000000</td>\n",
       "      <td>0.000000</td>\n",
       "    </tr>\n",
       "    <tr>\n",
       "      <th>75%</th>\n",
       "      <td>821.000000</td>\n",
       "      <td>17.250000</td>\n",
       "      <td>30.000000</td>\n",
       "      <td>87.000000</td>\n",
       "      <td>469.000000</td>\n",
       "      <td>3.200000</td>\n",
       "      <td>72.770000</td>\n",
       "      <td>17.000000</td>\n",
       "      <td>32.089890</td>\n",
       "    </tr>\n",
       "    <tr>\n",
       "      <th>max</th>\n",
       "      <td>1094.000000</td>\n",
       "      <td>23.000000</td>\n",
       "      <td>30.000000</td>\n",
       "      <td>528.000000</td>\n",
       "      <td>1059.000000</td>\n",
       "      <td>12.000000</td>\n",
       "      <td>100.000000</td>\n",
       "      <td>35.000000</td>\n",
       "      <td>99.913939</td>\n",
       "    </tr>\n",
       "  </tbody>\n",
       "</table>\n",
       "</div>"
      ],
      "text/plain": [
       "                Day          Hour        Minute           DHI           DNI  \\\n",
       "count  52560.000000  52560.000000  52560.000000  52560.000000  52560.000000   \n",
       "mean     547.000000     11.500000     15.000000     64.344121    234.792371   \n",
       "std      316.102148      6.922252     15.000143    103.897125    349.684583   \n",
       "min        0.000000      0.000000      0.000000      0.000000      0.000000   \n",
       "25%      273.000000      5.750000      0.000000      0.000000      0.000000   \n",
       "50%      547.000000     11.500000     15.000000      0.000000      0.000000   \n",
       "75%      821.000000     17.250000     30.000000     87.000000    469.000000   \n",
       "max     1094.000000     23.000000     30.000000    528.000000   1059.000000   \n",
       "\n",
       "                 WS            RH             T        TARGET  \n",
       "count  52560.000000  52560.000000  52560.000000  52560.000000  \n",
       "mean       2.456033     56.793102      9.279928     17.790630  \n",
       "std        1.426874     22.052875     10.179741     25.759955  \n",
       "min        0.000000      7.590000    -19.000000      0.000000  \n",
       "25%        1.400000     39.697500      1.000000      0.000000  \n",
       "50%        2.200000     57.600000      9.000000      0.000000  \n",
       "75%        3.200000     72.770000     17.000000     32.089890  \n",
       "max       12.000000    100.000000     35.000000     99.913939  "
      ]
     },
     "execution_count": 12,
     "metadata": {},
     "output_type": "execute_result"
    }
   ],
   "source": [
    "df.describe()"
   ]
  },
  {
   "cell_type": "code",
   "execution_count": 13,
   "metadata": {},
   "outputs": [
    {
     "data": {
      "text/plain": [
       "((42048, 9), (10512, 9))"
      ]
     },
     "execution_count": 13,
     "metadata": {},
     "output_type": "execute_result"
    }
   ],
   "source": [
    "tr_df, vl_df = train_test_split(\n",
    "    df, \n",
    "    test_size = args[\"TEST_SIZE\"], \n",
    "    random_state = args[\"SEED\"])\n",
    "\n",
    "tr_df.shape, vl_df.shape"
   ]
  },
  {
   "cell_type": "code",
   "execution_count": 14,
   "metadata": {},
   "outputs": [],
   "source": [
    "def preprocessing(df, is_training = True):\n",
    "    # Drop timestampes.\n",
    "    try:\n",
    "        df = df.drop([\"Day\", \"Hour\", \"Minute\"], axis = 1)\n",
    "    except:\n",
    "        pass\n",
    "    \n",
    "    # Normalize.\n",
    "    for column in df.columns:\n",
    "        if is_training:\n",
    "            args[f\"{column}_MAX\"] = df[column].max()\n",
    "            args[f\"{column}_MIN\"] = df[column].min()\n",
    "        \n",
    "        df[column] = (df[column] - args[f\"{column}_MIN\"]) / (args[f\"{column}_MAX\"] - args[f\"{column}_MIN\"])\n",
    "        \n",
    "    return df"
   ]
  },
  {
   "cell_type": "code",
   "execution_count": 15,
   "metadata": {},
   "outputs": [],
   "source": [
    "tr_df = preprocessing(tr_df)\n",
    "vl_df = preprocessing(vl_df, is_training = False)"
   ]
  },
  {
   "cell_type": "code",
   "execution_count": 16,
   "metadata": {},
   "outputs": [
    {
     "data": {
      "text/html": [
       "<div>\n",
       "<style scoped>\n",
       "    .dataframe tbody tr th:only-of-type {\n",
       "        vertical-align: middle;\n",
       "    }\n",
       "\n",
       "    .dataframe tbody tr th {\n",
       "        vertical-align: top;\n",
       "    }\n",
       "\n",
       "    .dataframe thead th {\n",
       "        text-align: right;\n",
       "    }\n",
       "</style>\n",
       "<table border=\"1\" class=\"dataframe\">\n",
       "  <thead>\n",
       "    <tr style=\"text-align: right;\">\n",
       "      <th></th>\n",
       "      <th>DHI</th>\n",
       "      <th>DNI</th>\n",
       "      <th>WS</th>\n",
       "      <th>RH</th>\n",
       "      <th>T</th>\n",
       "      <th>TARGET</th>\n",
       "    </tr>\n",
       "  </thead>\n",
       "  <tbody>\n",
       "    <tr>\n",
       "      <th>count</th>\n",
       "      <td>42048.000000</td>\n",
       "      <td>42048.000000</td>\n",
       "      <td>42048.000000</td>\n",
       "      <td>42048.000000</td>\n",
       "      <td>42048.000000</td>\n",
       "      <td>42048.000000</td>\n",
       "    </tr>\n",
       "    <tr>\n",
       "      <th>mean</th>\n",
       "      <td>0.121155</td>\n",
       "      <td>0.221624</td>\n",
       "      <td>0.204474</td>\n",
       "      <td>0.532615</td>\n",
       "      <td>0.523211</td>\n",
       "      <td>0.177645</td>\n",
       "    </tr>\n",
       "    <tr>\n",
       "      <th>std</th>\n",
       "      <td>0.195675</td>\n",
       "      <td>0.330325</td>\n",
       "      <td>0.118662</td>\n",
       "      <td>0.238854</td>\n",
       "      <td>0.188508</td>\n",
       "      <td>0.257436</td>\n",
       "    </tr>\n",
       "    <tr>\n",
       "      <th>min</th>\n",
       "      <td>0.000000</td>\n",
       "      <td>0.000000</td>\n",
       "      <td>0.000000</td>\n",
       "      <td>0.000000</td>\n",
       "      <td>0.000000</td>\n",
       "      <td>0.000000</td>\n",
       "    </tr>\n",
       "    <tr>\n",
       "      <th>25%</th>\n",
       "      <td>0.000000</td>\n",
       "      <td>0.000000</td>\n",
       "      <td>0.116667</td>\n",
       "      <td>0.347040</td>\n",
       "      <td>0.370370</td>\n",
       "      <td>0.000000</td>\n",
       "    </tr>\n",
       "    <tr>\n",
       "      <th>50%</th>\n",
       "      <td>0.000000</td>\n",
       "      <td>0.000000</td>\n",
       "      <td>0.183333</td>\n",
       "      <td>0.541392</td>\n",
       "      <td>0.518519</td>\n",
       "      <td>0.000000</td>\n",
       "    </tr>\n",
       "    <tr>\n",
       "      <th>75%</th>\n",
       "      <td>0.164773</td>\n",
       "      <td>0.443815</td>\n",
       "      <td>0.266667</td>\n",
       "      <td>0.706309</td>\n",
       "      <td>0.666667</td>\n",
       "      <td>0.320789</td>\n",
       "    </tr>\n",
       "    <tr>\n",
       "      <th>max</th>\n",
       "      <td>1.000000</td>\n",
       "      <td>1.000000</td>\n",
       "      <td>1.000000</td>\n",
       "      <td>1.000000</td>\n",
       "      <td>1.000000</td>\n",
       "      <td>1.000000</td>\n",
       "    </tr>\n",
       "  </tbody>\n",
       "</table>\n",
       "</div>"
      ],
      "text/plain": [
       "                DHI           DNI            WS            RH             T  \\\n",
       "count  42048.000000  42048.000000  42048.000000  42048.000000  42048.000000   \n",
       "mean       0.121155      0.221624      0.204474      0.532615      0.523211   \n",
       "std        0.195675      0.330325      0.118662      0.238854      0.188508   \n",
       "min        0.000000      0.000000      0.000000      0.000000      0.000000   \n",
       "25%        0.000000      0.000000      0.116667      0.347040      0.370370   \n",
       "50%        0.000000      0.000000      0.183333      0.541392      0.518519   \n",
       "75%        0.164773      0.443815      0.266667      0.706309      0.666667   \n",
       "max        1.000000      1.000000      1.000000      1.000000      1.000000   \n",
       "\n",
       "             TARGET  \n",
       "count  42048.000000  \n",
       "mean       0.177645  \n",
       "std        0.257436  \n",
       "min        0.000000  \n",
       "25%        0.000000  \n",
       "50%        0.000000  \n",
       "75%        0.320789  \n",
       "max        1.000000  "
      ]
     },
     "execution_count": 16,
     "metadata": {},
     "output_type": "execute_result"
    }
   ],
   "source": [
    "tr_df.describe()"
   ]
  },
  {
   "cell_type": "code",
   "execution_count": 17,
   "metadata": {},
   "outputs": [
    {
     "data": {
      "text/html": [
       "<div>\n",
       "<style scoped>\n",
       "    .dataframe tbody tr th:only-of-type {\n",
       "        vertical-align: middle;\n",
       "    }\n",
       "\n",
       "    .dataframe tbody tr th {\n",
       "        vertical-align: top;\n",
       "    }\n",
       "\n",
       "    .dataframe thead th {\n",
       "        text-align: right;\n",
       "    }\n",
       "</style>\n",
       "<table border=\"1\" class=\"dataframe\">\n",
       "  <thead>\n",
       "    <tr style=\"text-align: right;\">\n",
       "      <th></th>\n",
       "      <th>DHI</th>\n",
       "      <th>DNI</th>\n",
       "      <th>WS</th>\n",
       "      <th>RH</th>\n",
       "      <th>T</th>\n",
       "      <th>TARGET</th>\n",
       "    </tr>\n",
       "  </thead>\n",
       "  <tbody>\n",
       "    <tr>\n",
       "      <th>count</th>\n",
       "      <td>10512.000000</td>\n",
       "      <td>10512.000000</td>\n",
       "      <td>10512.000000</td>\n",
       "      <td>10512.000000</td>\n",
       "      <td>10512.000000</td>\n",
       "      <td>10512.000000</td>\n",
       "    </tr>\n",
       "    <tr>\n",
       "      <th>mean</th>\n",
       "      <td>0.124701</td>\n",
       "      <td>0.222062</td>\n",
       "      <td>0.205452</td>\n",
       "      <td>0.531757</td>\n",
       "      <td>0.525669</td>\n",
       "      <td>0.181208</td>\n",
       "    </tr>\n",
       "    <tr>\n",
       "      <th>std</th>\n",
       "      <td>0.201099</td>\n",
       "      <td>0.329730</td>\n",
       "      <td>0.119881</td>\n",
       "      <td>0.237798</td>\n",
       "      <td>0.188532</td>\n",
       "      <td>0.261486</td>\n",
       "    </tr>\n",
       "    <tr>\n",
       "      <th>min</th>\n",
       "      <td>0.000000</td>\n",
       "      <td>0.000000</td>\n",
       "      <td>0.008333</td>\n",
       "      <td>0.004437</td>\n",
       "      <td>0.037037</td>\n",
       "      <td>0.000000</td>\n",
       "    </tr>\n",
       "    <tr>\n",
       "      <th>25%</th>\n",
       "      <td>0.000000</td>\n",
       "      <td>0.000000</td>\n",
       "      <td>0.116667</td>\n",
       "      <td>0.348231</td>\n",
       "      <td>0.370370</td>\n",
       "      <td>0.000000</td>\n",
       "    </tr>\n",
       "    <tr>\n",
       "      <th>50%</th>\n",
       "      <td>0.000000</td>\n",
       "      <td>0.000000</td>\n",
       "      <td>0.183333</td>\n",
       "      <td>0.540634</td>\n",
       "      <td>0.518519</td>\n",
       "      <td>0.000000</td>\n",
       "    </tr>\n",
       "    <tr>\n",
       "      <th>75%</th>\n",
       "      <td>0.168561</td>\n",
       "      <td>0.438149</td>\n",
       "      <td>0.266667</td>\n",
       "      <td>0.700249</td>\n",
       "      <td>0.666667</td>\n",
       "      <td>0.324526</td>\n",
       "    </tr>\n",
       "    <tr>\n",
       "      <th>max</th>\n",
       "      <td>0.990530</td>\n",
       "      <td>0.998111</td>\n",
       "      <td>0.983333</td>\n",
       "      <td>1.000000</td>\n",
       "      <td>1.000000</td>\n",
       "      <td>1.001672</td>\n",
       "    </tr>\n",
       "  </tbody>\n",
       "</table>\n",
       "</div>"
      ],
      "text/plain": [
       "                DHI           DNI            WS            RH             T  \\\n",
       "count  10512.000000  10512.000000  10512.000000  10512.000000  10512.000000   \n",
       "mean       0.124701      0.222062      0.205452      0.531757      0.525669   \n",
       "std        0.201099      0.329730      0.119881      0.237798      0.188532   \n",
       "min        0.000000      0.000000      0.008333      0.004437      0.037037   \n",
       "25%        0.000000      0.000000      0.116667      0.348231      0.370370   \n",
       "50%        0.000000      0.000000      0.183333      0.540634      0.518519   \n",
       "75%        0.168561      0.438149      0.266667      0.700249      0.666667   \n",
       "max        0.990530      0.998111      0.983333      1.000000      1.000000   \n",
       "\n",
       "             TARGET  \n",
       "count  10512.000000  \n",
       "mean       0.181208  \n",
       "std        0.261486  \n",
       "min        0.000000  \n",
       "25%        0.000000  \n",
       "50%        0.000000  \n",
       "75%        0.324526  \n",
       "max        1.001672  "
      ]
     },
     "execution_count": 17,
     "metadata": {},
     "output_type": "execute_result"
    }
   ],
   "source": [
    "vl_df.describe()"
   ]
  },
  {
   "cell_type": "markdown",
   "metadata": {},
   "source": [
    "## **Test**"
   ]
  },
  {
   "cell_type": "code",
   "execution_count": 18,
   "metadata": {},
   "outputs": [],
   "source": [
    "ts_filenames = [os.path.join(os.environ[\"LOCAL_DATA_PATH\"], \"test\", f\"{i}.csv\") for i in range(args[\"NUM_TEST_CSV\"])]\n",
    "ts_dfs = [preprocessing(pd.read_csv(ts_filename), is_training = False) for ts_filename in ts_filenames]\n",
    "ts_df = pd.concat(ts_dfs)"
   ]
  },
  {
   "cell_type": "code",
   "execution_count": 19,
   "metadata": {},
   "outputs": [
    {
     "data": {
      "text/html": [
       "<div>\n",
       "<style scoped>\n",
       "    .dataframe tbody tr th:only-of-type {\n",
       "        vertical-align: middle;\n",
       "    }\n",
       "\n",
       "    .dataframe tbody tr th {\n",
       "        vertical-align: top;\n",
       "    }\n",
       "\n",
       "    .dataframe thead th {\n",
       "        text-align: right;\n",
       "    }\n",
       "</style>\n",
       "<table border=\"1\" class=\"dataframe\">\n",
       "  <thead>\n",
       "    <tr style=\"text-align: right;\">\n",
       "      <th></th>\n",
       "      <th>DHI</th>\n",
       "      <th>DNI</th>\n",
       "      <th>WS</th>\n",
       "      <th>RH</th>\n",
       "      <th>T</th>\n",
       "      <th>TARGET</th>\n",
       "    </tr>\n",
       "  </thead>\n",
       "  <tbody>\n",
       "    <tr>\n",
       "      <th>0</th>\n",
       "      <td>0.0</td>\n",
       "      <td>0.0</td>\n",
       "      <td>0.225000</td>\n",
       "      <td>0.290337</td>\n",
       "      <td>0.351852</td>\n",
       "      <td>0.0</td>\n",
       "    </tr>\n",
       "    <tr>\n",
       "      <th>1</th>\n",
       "      <td>0.0</td>\n",
       "      <td>0.0</td>\n",
       "      <td>0.225000</td>\n",
       "      <td>0.287631</td>\n",
       "      <td>0.353704</td>\n",
       "      <td>0.0</td>\n",
       "    </tr>\n",
       "    <tr>\n",
       "      <th>2</th>\n",
       "      <td>0.0</td>\n",
       "      <td>0.0</td>\n",
       "      <td>0.225000</td>\n",
       "      <td>0.288280</td>\n",
       "      <td>0.355556</td>\n",
       "      <td>0.0</td>\n",
       "    </tr>\n",
       "    <tr>\n",
       "      <th>3</th>\n",
       "      <td>0.0</td>\n",
       "      <td>0.0</td>\n",
       "      <td>0.225000</td>\n",
       "      <td>0.285683</td>\n",
       "      <td>0.357407</td>\n",
       "      <td>0.0</td>\n",
       "    </tr>\n",
       "    <tr>\n",
       "      <th>4</th>\n",
       "      <td>0.0</td>\n",
       "      <td>0.0</td>\n",
       "      <td>0.233333</td>\n",
       "      <td>0.285467</td>\n",
       "      <td>0.359259</td>\n",
       "      <td>0.0</td>\n",
       "    </tr>\n",
       "  </tbody>\n",
       "</table>\n",
       "</div>"
      ],
      "text/plain": [
       "   DHI  DNI        WS        RH         T  TARGET\n",
       "0  0.0  0.0  0.225000  0.290337  0.351852     0.0\n",
       "1  0.0  0.0  0.225000  0.287631  0.353704     0.0\n",
       "2  0.0  0.0  0.225000  0.288280  0.355556     0.0\n",
       "3  0.0  0.0  0.225000  0.285683  0.357407     0.0\n",
       "4  0.0  0.0  0.233333  0.285467  0.359259     0.0"
      ]
     },
     "execution_count": 19,
     "metadata": {},
     "output_type": "execute_result"
    }
   ],
   "source": [
    "ts_df.head()"
   ]
  },
  {
   "cell_type": "code",
   "execution_count": 20,
   "metadata": {},
   "outputs": [
    {
     "data": {
      "text/html": [
       "<div>\n",
       "<style scoped>\n",
       "    .dataframe tbody tr th:only-of-type {\n",
       "        vertical-align: middle;\n",
       "    }\n",
       "\n",
       "    .dataframe tbody tr th {\n",
       "        vertical-align: top;\n",
       "    }\n",
       "\n",
       "    .dataframe thead th {\n",
       "        text-align: right;\n",
       "    }\n",
       "</style>\n",
       "<table border=\"1\" class=\"dataframe\">\n",
       "  <thead>\n",
       "    <tr style=\"text-align: right;\">\n",
       "      <th></th>\n",
       "      <th>DHI</th>\n",
       "      <th>DNI</th>\n",
       "      <th>WS</th>\n",
       "      <th>RH</th>\n",
       "      <th>T</th>\n",
       "      <th>TARGET</th>\n",
       "    </tr>\n",
       "  </thead>\n",
       "  <tbody>\n",
       "    <tr>\n",
       "      <th>count</th>\n",
       "      <td>27216.000000</td>\n",
       "      <td>27216.000000</td>\n",
       "      <td>27216.000000</td>\n",
       "      <td>27216.000000</td>\n",
       "      <td>27216.000000</td>\n",
       "      <td>27216.000000</td>\n",
       "    </tr>\n",
       "    <tr>\n",
       "      <th>mean</th>\n",
       "      <td>0.111880</td>\n",
       "      <td>0.237133</td>\n",
       "      <td>0.189333</td>\n",
       "      <td>0.419916</td>\n",
       "      <td>0.532339</td>\n",
       "      <td>0.182813</td>\n",
       "    </tr>\n",
       "    <tr>\n",
       "      <th>std</th>\n",
       "      <td>0.173494</td>\n",
       "      <td>0.338179</td>\n",
       "      <td>0.105967</td>\n",
       "      <td>0.207518</td>\n",
       "      <td>0.209003</td>\n",
       "      <td>0.261818</td>\n",
       "    </tr>\n",
       "    <tr>\n",
       "      <th>min</th>\n",
       "      <td>0.000000</td>\n",
       "      <td>0.000000</td>\n",
       "      <td>0.008333</td>\n",
       "      <td>-0.029001</td>\n",
       "      <td>0.061111</td>\n",
       "      <td>0.000000</td>\n",
       "    </tr>\n",
       "    <tr>\n",
       "      <th>25%</th>\n",
       "      <td>0.000000</td>\n",
       "      <td>0.000000</td>\n",
       "      <td>0.108333</td>\n",
       "      <td>0.254166</td>\n",
       "      <td>0.359259</td>\n",
       "      <td>0.000000</td>\n",
       "    </tr>\n",
       "    <tr>\n",
       "      <th>50%</th>\n",
       "      <td>0.011364</td>\n",
       "      <td>0.000000</td>\n",
       "      <td>0.166667</td>\n",
       "      <td>0.424629</td>\n",
       "      <td>0.512963</td>\n",
       "      <td>0.005645</td>\n",
       "    </tr>\n",
       "    <tr>\n",
       "      <th>75%</th>\n",
       "      <td>0.157197</td>\n",
       "      <td>0.477809</td>\n",
       "      <td>0.241667</td>\n",
       "      <td>0.576669</td>\n",
       "      <td>0.690741</td>\n",
       "      <td>0.326398</td>\n",
       "    </tr>\n",
       "    <tr>\n",
       "      <th>max</th>\n",
       "      <td>0.960227</td>\n",
       "      <td>1.018886</td>\n",
       "      <td>0.916667</td>\n",
       "      <td>0.919597</td>\n",
       "      <td>1.031481</td>\n",
       "      <td>0.997030</td>\n",
       "    </tr>\n",
       "  </tbody>\n",
       "</table>\n",
       "</div>"
      ],
      "text/plain": [
       "                DHI           DNI            WS            RH             T  \\\n",
       "count  27216.000000  27216.000000  27216.000000  27216.000000  27216.000000   \n",
       "mean       0.111880      0.237133      0.189333      0.419916      0.532339   \n",
       "std        0.173494      0.338179      0.105967      0.207518      0.209003   \n",
       "min        0.000000      0.000000      0.008333     -0.029001      0.061111   \n",
       "25%        0.000000      0.000000      0.108333      0.254166      0.359259   \n",
       "50%        0.011364      0.000000      0.166667      0.424629      0.512963   \n",
       "75%        0.157197      0.477809      0.241667      0.576669      0.690741   \n",
       "max        0.960227      1.018886      0.916667      0.919597      1.031481   \n",
       "\n",
       "             TARGET  \n",
       "count  27216.000000  \n",
       "mean       0.182813  \n",
       "std        0.261818  \n",
       "min        0.000000  \n",
       "25%        0.000000  \n",
       "50%        0.005645  \n",
       "75%        0.326398  \n",
       "max        0.997030  "
      ]
     },
     "execution_count": 20,
     "metadata": {},
     "output_type": "execute_result"
    }
   ],
   "source": [
    "ts_df.describe()"
   ]
  },
  {
   "cell_type": "markdown",
   "metadata": {},
   "source": [
    "# **Make Dataset Pipelines**"
   ]
  },
  {
   "cell_type": "code",
   "execution_count": 21,
   "metadata": {},
   "outputs": [],
   "source": [
    "@tf.function\n",
    "def _flat_fn_tr(x):\n",
    "    return x.batch(args[\"WINDOW_INP\"] + args[\"WINDOW_TAR\"])\n",
    "\n",
    "\n",
    "@tf.function\n",
    "def _flat_fn_ts(x):\n",
    "    return x.batch(args[\"WINDOW_INP\"])\n",
    "\n",
    "\n",
    "@tf.function\n",
    "def _split_window(features):\n",
    "    return tf.split(features, [args[\"WINDOW_INP\"], args[\"WINDOW_TAR\"]], axis = 0)"
   ]
  },
  {
   "cell_type": "code",
   "execution_count": 22,
   "metadata": {},
   "outputs": [
    {
     "name": "stdout",
     "output_type": "stream",
     "text": [
      "tr_dataset: (TensorSpec(shape=(None, 336, 6), dtype=tf.float32, name=None), TensorSpec(shape=(None, 96, 6), dtype=tf.float32, name=None))\n",
      "vl_dataset: (TensorSpec(shape=(None, 336, 6), dtype=tf.float32, name=None), TensorSpec(shape=(None, 96, 6), dtype=tf.float32, name=None))\n",
      "ts_dataset: TensorSpec(shape=(None, None, 6), dtype=tf.float32, name=None)\n"
     ]
    }
   ],
   "source": [
    "tr_tensor = tf.constant(tr_df, dtype = tf.float32)\n",
    "vl_tensor = tf.constant(vl_df, dtype = tf.float32)\n",
    "ts_tensor = tf.constant(ts_df, dtype = tf.float32)\n",
    "\n",
    "tr_dataset = tf.data.Dataset.from_tensor_slices(tr_tensor\n",
    "                    ).window(args[\"WINDOW_INP\"] + args[\"WINDOW_TAR\"], args[\"WINDOW_SHIFT\"], args[\"WINDOW_STRIDE\"], args[\"WINDOW_DR\"]).flat_map(_flat_fn_tr\n",
    "                    ).map(_split_window, num_parallel_calls = args[\"AUTO\"]\n",
    "                    ).batch(args[\"GLOBAL_BATCH_SIZE\"]\n",
    "                    ).cache(\n",
    "                    ).prefetch(args[\"AUTO\"])\n",
    "\n",
    "vl_dataset = tf.data.Dataset.from_tensor_slices(vl_tensor\n",
    "                    ).window(args[\"WINDOW_INP\"] + args[\"WINDOW_TAR\"], args[\"WINDOW_SHIFT\"], args[\"WINDOW_STRIDE\"], args[\"WINDOW_DR\"]).flat_map(_flat_fn_tr\n",
    "                    ).map(_split_window, num_parallel_calls = args[\"AUTO\"]\n",
    "                    ).batch(args[\"GLOBAL_BATCH_SIZE\"]\n",
    "                    ).cache(\n",
    "                    ).prefetch(args[\"AUTO\"])\n",
    "\n",
    "ts_dataset = tf.data.Dataset.from_tensor_slices(ts_tensor\n",
    "                    ).window(args[\"WINDOW_INP\"], args[\"WINDOW_INP\"], args[\"WINDOW_STRIDE\"], args[\"WINDOW_DR\"]).flat_map(_flat_fn_ts\n",
    "#                     ).map(_split_window, num_parallel_calls = args[\"AUTO\"]\n",
    "                    ).batch(args[\"NUM_TEST_CSV\"] # Not args[\"GLOBAL_BATCH_SIZE\"]\n",
    "#                     ).cache(\n",
    "                    ).prefetch(args[\"AUTO\"])\n",
    "\n",
    "# Print the shapes\n",
    "print(f\"tr_dataset: {tr_dataset.element_spec}\")\n",
    "print(f\"vl_dataset: {vl_dataset.element_spec}\")\n",
    "print(f\"ts_dataset: {ts_dataset.element_spec}\")"
   ]
  },
  {
   "cell_type": "markdown",
   "metadata": {},
   "source": [
    "## **Take Samples**"
   ]
  },
  {
   "cell_type": "code",
   "execution_count": 189,
   "metadata": {},
   "outputs": [
    {
     "name": "stdout",
     "output_type": "stream",
     "text": [
      "(128, 336, 6) (128, 96, 6)\n"
     ]
    }
   ],
   "source": [
    "for element in tr_dataset.take(1):\n",
    "    foo, bar = element\n",
    "    print(foo.shape, bar.shape)"
   ]
  },
  {
   "cell_type": "code",
   "execution_count": 190,
   "metadata": {},
   "outputs": [
    {
     "name": "stdout",
     "output_type": "stream",
     "text": [
      "(128, 336, 6) (128, 96, 6)\n"
     ]
    }
   ],
   "source": [
    "for element in vl_dataset.take(1):\n",
    "    foo, bar = element\n",
    "    print(foo.shape, bar.shape)"
   ]
  },
  {
   "cell_type": "code",
   "execution_count": 191,
   "metadata": {},
   "outputs": [
    {
     "name": "stdout",
     "output_type": "stream",
     "text": [
      "(81, 336, 6)\n"
     ]
    }
   ],
   "source": [
    "for element in ts_dataset.take(1):\n",
    "    foo = element\n",
    "    print(foo.shape)"
   ]
  },
  {
   "cell_type": "markdown",
   "metadata": {},
   "source": [
    "# **Create Network**"
   ]
  },
  {
   "cell_type": "code",
   "execution_count": 41,
   "metadata": {},
   "outputs": [],
   "source": [
    "OUT_STEPS = int(args[\"WINDOW_TAR\"] / 48)\n",
    "\n",
    "class MultiStepLastBaseline(tf.keras.Model):\n",
    "    def call(self, inputs):\n",
    "        return [tf.tile(inputs[:, -48:, :], [1, OUT_STEPS, 1])] * 9"
   ]
  },
  {
   "cell_type": "markdown",
   "metadata": {},
   "source": [
    "# **Compile and Fit**\n",
    "\n",
    "   * Repeat the last 24 hours."
   ]
  },
  {
   "cell_type": "code",
   "execution_count": 42,
   "metadata": {},
   "outputs": [],
   "source": [
    "last_baseline = MultiStepLastBaseline()\n",
    "last_baseline.compile(\n",
    "    loss = [tfa.losses.PinballLoss(tau = i) for i in np.arange(0.1, 1, 0.1)])"
   ]
  },
  {
   "cell_type": "code",
   "execution_count": 43,
   "metadata": {},
   "outputs": [
    {
     "name": "stdout",
     "output_type": "stream",
     "text": [
      "7/7 [==============================] - 0s 2ms/step - loss: 1.0232 - output_1_loss: 0.1137 - output_2_loss: 0.1137 - output_3_loss: 0.1137 - output_4_loss: 0.1137 - output_5_loss: 0.1137 - output_6_loss: 0.1137 - output_7_loss: 0.1137 - output_8_loss: 0.1137 - output_9_loss: 0.1137\n"
     ]
    },
    {
     "data": {
      "text/plain": [
       "[1.022362232208252,\n",
       " 0.11359583586454391,\n",
       " 0.11359582841396332,\n",
       " 0.11359582841396332,\n",
       " 0.11359581351280212,\n",
       " 0.11359579861164093,\n",
       " 0.11359578371047974,\n",
       " 0.11359577625989914,\n",
       " 0.11359576135873795,\n",
       " 0.11359576135873795]"
      ]
     },
     "execution_count": 43,
     "metadata": {},
     "output_type": "execute_result"
    }
   ],
   "source": [
    "last_baseline.evaluate(tr_dataset)"
   ]
  },
  {
   "cell_type": "code",
   "execution_count": 44,
   "metadata": {},
   "outputs": [
    {
     "name": "stdout",
     "output_type": "stream",
     "text": [
      "2/2 [==============================] - 0s 6ms/step - loss: 1.0355 - output_1_loss: 0.1150 - output_2_loss: 0.1150 - output_3_loss: 0.1150 - output_4_loss: 0.1150 - output_5_loss: 0.1151 - output_6_loss: 0.1151 - output_7_loss: 0.1151 - output_8_loss: 0.1151 - output_9_loss: 0.1151\n"
     ]
    },
    {
     "data": {
      "text/plain": [
       "[1.0354653596878052,\n",
       " 0.11503617465496063,\n",
       " 0.11504006385803223,\n",
       " 0.11504393815994263,\n",
       " 0.11504781991243362,\n",
       " 0.11505170166492462,\n",
       " 0.11505559086799622,\n",
       " 0.11505946516990662,\n",
       " 0.11506334692239761,\n",
       " 0.11506723612546921]"
      ]
     },
     "execution_count": 44,
     "metadata": {},
     "output_type": "execute_result"
    }
   ],
   "source": [
    "last_baseline.evaluate(vl_dataset)"
   ]
  },
  {
   "cell_type": "markdown",
   "metadata": {},
   "source": [
    "# **Predict**"
   ]
  },
  {
   "cell_type": "code",
   "execution_count": 55,
   "metadata": {},
   "outputs": [
    {
     "data": {
      "text/plain": [
       "(7776, 9)"
      ]
     },
     "execution_count": 55,
     "metadata": {},
     "output_type": "execute_result"
    }
   ],
   "source": [
    "pred = np.array(last_baseline.predict(ts_dataset))[..., -1] # (9, 81, 96)\n",
    "pred = np.transpose(pred, axes = (1, 2, 0)) # (81, 96, 9)\n",
    "pred = np.reshape(pred, (-1, pred.shape[-1]))\n",
    "pred.shape"
   ]
  },
  {
   "cell_type": "code",
   "execution_count": 46,
   "metadata": {},
   "outputs": [
    {
     "data": {
      "text/html": [
       "<div>\n",
       "<style scoped>\n",
       "    .dataframe tbody tr th:only-of-type {\n",
       "        vertical-align: middle;\n",
       "    }\n",
       "\n",
       "    .dataframe tbody tr th {\n",
       "        vertical-align: top;\n",
       "    }\n",
       "\n",
       "    .dataframe thead th {\n",
       "        text-align: right;\n",
       "    }\n",
       "</style>\n",
       "<table border=\"1\" class=\"dataframe\">\n",
       "  <thead>\n",
       "    <tr style=\"text-align: right;\">\n",
       "      <th></th>\n",
       "      <th>q_0.1</th>\n",
       "      <th>q_0.2</th>\n",
       "      <th>q_0.3</th>\n",
       "      <th>q_0.4</th>\n",
       "      <th>q_0.5</th>\n",
       "      <th>q_0.6</th>\n",
       "      <th>q_0.7</th>\n",
       "      <th>q_0.8</th>\n",
       "      <th>q_0.9</th>\n",
       "    </tr>\n",
       "    <tr>\n",
       "      <th>id</th>\n",
       "      <th></th>\n",
       "      <th></th>\n",
       "      <th></th>\n",
       "      <th></th>\n",
       "      <th></th>\n",
       "      <th></th>\n",
       "      <th></th>\n",
       "      <th></th>\n",
       "      <th></th>\n",
       "    </tr>\n",
       "  </thead>\n",
       "  <tbody>\n",
       "    <tr>\n",
       "      <th>0.csv_Day7_0h00m</th>\n",
       "      <td>0.0</td>\n",
       "      <td>0.0</td>\n",
       "      <td>0.0</td>\n",
       "      <td>0.0</td>\n",
       "      <td>0.0</td>\n",
       "      <td>0.0</td>\n",
       "      <td>0.0</td>\n",
       "      <td>0.0</td>\n",
       "      <td>0.0</td>\n",
       "    </tr>\n",
       "    <tr>\n",
       "      <th>0.csv_Day7_0h30m</th>\n",
       "      <td>0.0</td>\n",
       "      <td>0.0</td>\n",
       "      <td>0.0</td>\n",
       "      <td>0.0</td>\n",
       "      <td>0.0</td>\n",
       "      <td>0.0</td>\n",
       "      <td>0.0</td>\n",
       "      <td>0.0</td>\n",
       "      <td>0.0</td>\n",
       "    </tr>\n",
       "    <tr>\n",
       "      <th>0.csv_Day7_1h00m</th>\n",
       "      <td>0.0</td>\n",
       "      <td>0.0</td>\n",
       "      <td>0.0</td>\n",
       "      <td>0.0</td>\n",
       "      <td>0.0</td>\n",
       "      <td>0.0</td>\n",
       "      <td>0.0</td>\n",
       "      <td>0.0</td>\n",
       "      <td>0.0</td>\n",
       "    </tr>\n",
       "    <tr>\n",
       "      <th>0.csv_Day7_1h30m</th>\n",
       "      <td>0.0</td>\n",
       "      <td>0.0</td>\n",
       "      <td>0.0</td>\n",
       "      <td>0.0</td>\n",
       "      <td>0.0</td>\n",
       "      <td>0.0</td>\n",
       "      <td>0.0</td>\n",
       "      <td>0.0</td>\n",
       "      <td>0.0</td>\n",
       "    </tr>\n",
       "    <tr>\n",
       "      <th>0.csv_Day7_2h00m</th>\n",
       "      <td>0.0</td>\n",
       "      <td>0.0</td>\n",
       "      <td>0.0</td>\n",
       "      <td>0.0</td>\n",
       "      <td>0.0</td>\n",
       "      <td>0.0</td>\n",
       "      <td>0.0</td>\n",
       "      <td>0.0</td>\n",
       "      <td>0.0</td>\n",
       "    </tr>\n",
       "  </tbody>\n",
       "</table>\n",
       "</div>"
      ],
      "text/plain": [
       "                  q_0.1  q_0.2  q_0.3  q_0.4  q_0.5  q_0.6  q_0.7  q_0.8  \\\n",
       "id                                                                         \n",
       "0.csv_Day7_0h00m    0.0    0.0    0.0    0.0    0.0    0.0    0.0    0.0   \n",
       "0.csv_Day7_0h30m    0.0    0.0    0.0    0.0    0.0    0.0    0.0    0.0   \n",
       "0.csv_Day7_1h00m    0.0    0.0    0.0    0.0    0.0    0.0    0.0    0.0   \n",
       "0.csv_Day7_1h30m    0.0    0.0    0.0    0.0    0.0    0.0    0.0    0.0   \n",
       "0.csv_Day7_2h00m    0.0    0.0    0.0    0.0    0.0    0.0    0.0    0.0   \n",
       "\n",
       "                  q_0.9  \n",
       "id                       \n",
       "0.csv_Day7_0h00m    0.0  \n",
       "0.csv_Day7_0h30m    0.0  \n",
       "0.csv_Day7_1h00m    0.0  \n",
       "0.csv_Day7_1h30m    0.0  \n",
       "0.csv_Day7_2h00m    0.0  "
      ]
     },
     "execution_count": 46,
     "metadata": {},
     "output_type": "execute_result"
    }
   ],
   "source": [
    "sample_submission = pd.read_csv(os.path.join(os.environ[\"LOCAL_DATA_PATH\"], \"sample_submission.csv\"), index_col = \"id\")\n",
    "sample_submission.head()"
   ]
  },
  {
   "cell_type": "code",
   "execution_count": 56,
   "metadata": {},
   "outputs": [],
   "source": [
    "sample_submission[:] = pred"
   ]
  },
  {
   "cell_type": "code",
   "execution_count": 62,
   "metadata": {},
   "outputs": [],
   "source": [
    "sample_submission.to_csv(os.path.join(os.environ[\"SUBMISSION_PATH\"], f\"{os.environ['NOTEBOOKNAME']}_submission.csv\"))"
   ]
  }
 ],
 "metadata": {
  "kernelspec": {
   "display_name": "Python 3",
   "language": "python",
   "name": "python3"
  },
  "language_info": {
   "codemirror_mode": {
    "name": "ipython",
    "version": 3
   },
   "file_extension": ".py",
   "mimetype": "text/x-python",
   "name": "python",
   "nbconvert_exporter": "python",
   "pygments_lexer": "ipython3",
   "version": "3.6.9"
  }
 },
 "nbformat": 4,
 "nbformat_minor": 4
}
