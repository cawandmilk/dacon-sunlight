{
 "cells": [
  {
   "cell_type": "markdown",
   "metadata": {},
   "source": [
    "# **Default Setting**\n",
    "\n",
    "* Python: 3.6.9\n",
    "* ML Framework: tf-nightly-gpu 2.5.0-dev20201208\n",
    "* CPU: AMD Ryzen 5 5600X 6-Core Processor\n",
    "* GPU: GeForce RTX 3070 (8G) (CUDA 11.1)\n",
    "* RAM: 32G\n",
    "* Platform: linux 20.04 LTS"
   ]
  },
  {
   "cell_type": "code",
   "execution_count": 1,
   "metadata": {},
   "outputs": [
    {
     "name": "stdout",
     "output_type": "stream",
     "text": [
      "env: NOTEBOOKNAME=try2\n",
      "env: LOCAL_DATA_PATH=data\n",
      "env: SUBMISSION_PATH=submission\n"
     ]
    }
   ],
   "source": [
    "%env NOTEBOOKNAME try2\n",
    "%env LOCAL_DATA_PATH data\n",
    "%env SUBMISSION_PATH submission"
   ]
  },
  {
   "cell_type": "code",
   "execution_count": 58,
   "metadata": {},
   "outputs": [
    {
     "name": "stdout",
     "output_type": "stream",
     "text": [
      "tf.__version__: 2.5.0-dev20201208\n",
      "tfa.__version__: 0.11.2\n"
     ]
    }
   ],
   "source": [
    "import tensorflow as tf\n",
    "import tensorflow_addons as tfa\n",
    "\n",
    "import datetime\n",
    "import glob\n",
    "import os\n",
    "import platform\n",
    "\n",
    "import numpy as np\n",
    "import pandas as pd\n",
    "\n",
    "from collections import OrderedDict\n",
    "from sklearn.model_selection import train_test_split\n",
    "\n",
    "print(f\"tf.__version__: {tf.__version__}\")\n",
    "print(f\"tfa.__version__: {tfa.__version__}\")"
   ]
  },
  {
   "cell_type": "code",
   "execution_count": 3,
   "metadata": {},
   "outputs": [
    {
     "data": {
      "text/plain": [
       "[PhysicalDevice(name='/physical_device:CPU:0', device_type='CPU'),\n",
       " PhysicalDevice(name='/physical_device:GPU:0', device_type='GPU')]"
      ]
     },
     "execution_count": 3,
     "metadata": {},
     "output_type": "execute_result"
    }
   ],
   "source": [
    "tf.config.list_physical_devices()"
   ]
  },
  {
   "cell_type": "code",
   "execution_count": 4,
   "metadata": {},
   "outputs": [
    {
     "name": "stdout",
     "output_type": "stream",
     "text": [
      "Python 3.6.9 :: Anaconda, Inc.\n"
     ]
    }
   ],
   "source": [
    "!python -V"
   ]
  },
  {
   "cell_type": "code",
   "execution_count": 5,
   "metadata": {},
   "outputs": [],
   "source": [
    "# !cat /proc/cpuinfo"
   ]
  },
  {
   "cell_type": "code",
   "execution_count": 6,
   "metadata": {},
   "outputs": [
    {
     "name": "stdout",
     "output_type": "stream",
     "text": [
      "Thu Dec 10 21:19:14 2020       \n",
      "+-----------------------------------------------------------------------------+\n",
      "| NVIDIA-SMI 455.32.00    Driver Version: 455.32.00    CUDA Version: 11.1     |\n",
      "|-------------------------------+----------------------+----------------------+\n",
      "| GPU  Name        Persistence-M| Bus-Id        Disp.A | Volatile Uncorr. ECC |\n",
      "| Fan  Temp  Perf  Pwr:Usage/Cap|         Memory-Usage | GPU-Util  Compute M. |\n",
      "|                               |                      |               MIG M. |\n",
      "|===============================+======================+======================|\n",
      "|   0  Graphics Device     On   | 00000000:0A:00.0  On |                  N/A |\n",
      "|  0%   34C    P8    16W / 220W |    261MiB /  7979MiB |      8%      Default |\n",
      "|                               |                      |                  N/A |\n",
      "+-------------------------------+----------------------+----------------------+\n",
      "                                                                               \n",
      "+-----------------------------------------------------------------------------+\n",
      "| Processes:                                                                  |\n",
      "|  GPU   GI   CI        PID   Type   Process name                  GPU Memory |\n",
      "|        ID   ID                                                   Usage      |\n",
      "|=============================================================================|\n",
      "|    0   N/A  N/A       889      G   /usr/lib/xorg/Xorg                 35MiB |\n",
      "|    0   N/A  N/A      7713      G   /usr/lib/xorg/Xorg                112MiB |\n",
      "|    0   N/A  N/A      7838      G   /usr/bin/gnome-shell               24MiB |\n",
      "|    0   N/A  N/A      8849      G   ...AAAAAAAA== --shared-files       70MiB |\n",
      "+-----------------------------------------------------------------------------+\n"
     ]
    }
   ],
   "source": [
    "!nvidia-smi"
   ]
  },
  {
   "cell_type": "code",
   "execution_count": 7,
   "metadata": {},
   "outputs": [],
   "source": [
    "# !df -h"
   ]
  },
  {
   "cell_type": "code",
   "execution_count": 8,
   "metadata": {},
   "outputs": [
    {
     "name": "stdout",
     "output_type": "stream",
     "text": [
      "              total        used        free      shared  buff/cache   available\n",
      "Mem:           31Gi       2.3Gi        26Gi       477Mi       2.6Gi        28Gi\n",
      "Swap:         2.0Gi          0B       2.0Gi\n"
     ]
    }
   ],
   "source": [
    "!free -h"
   ]
  },
  {
   "cell_type": "code",
   "execution_count": 9,
   "metadata": {},
   "outputs": [
    {
     "data": {
      "text/plain": [
       "'Linux-5.4.0-56-generic-x86_64-with-debian-bullseye-sid'"
      ]
     },
     "execution_count": 9,
     "metadata": {},
     "output_type": "execute_result"
    }
   ],
   "source": [
    "platform.platform()"
   ]
  },
  {
   "cell_type": "code",
   "execution_count": 59,
   "metadata": {},
   "outputs": [],
   "source": [
    "# Load the TensorBoard notebook extension.\n",
    "%load_ext tensorboard"
   ]
  },
  {
   "cell_type": "markdown",
   "metadata": {},
   "source": [
    "# **Define Arguments**"
   ]
  },
  {
   "cell_type": "code",
   "execution_count": 84,
   "metadata": {},
   "outputs": [
    {
     "data": {
      "text/plain": [
       "OrderedDict([('SEED', 42),\n",
       "             ('TEST_SIZE', 0.2),\n",
       "             ('EPOCH', 30),\n",
       "             ('INIT_LR', 0.001),\n",
       "             ('NUM_TEST_CSV', 81),\n",
       "             ('WINDOW_INP', 336),\n",
       "             ('WINDOW_TAR', 96),\n",
       "             ('WINDOW_SHIFT', 48),\n",
       "             ('WINDOW_STRIDE', 1),\n",
       "             ('WINDOW_DR', True),\n",
       "             ('AUTO', -1),\n",
       "             ('GLOBAL_BATCH_SIZE', 128),\n",
       "             ('NUM_UNITS', 32),\n",
       "             ('NUM_FEATURES', 6),\n",
       "             ('NUM_TAU', 9)])"
      ]
     },
     "execution_count": 84,
     "metadata": {},
     "output_type": "execute_result"
    }
   ],
   "source": [
    "args = OrderedDict({\n",
    "    # Basic\n",
    "    \"SEED\": 42,\n",
    "    \"TEST_SIZE\": 0.2,\n",
    "    \"EPOCH\": 30,\n",
    "    \"INIT_LR\": 1e-3,\n",
    "    \n",
    "    # Dataframe\n",
    "    \"NUM_TEST_CSV\": 81,\n",
    "    \n",
    "    # Dataset Pipeline\n",
    "    \"WINDOW_INP\": 7 * 24 * 2, # 336, 7 days\n",
    "    \"WINDOW_TAR\": 2 * 24 * 2, # 96, 2 days\n",
    "    \"WINDOW_SHIFT\": 1 * 24 * 2, # 1 day\n",
    "    \"WINDOW_STRIDE\": 1,\n",
    "    \"WINDOW_DR\": True, # Drop remainders\n",
    "    \"AUTO\": tf.data.experimental.AUTOTUNE,\n",
    "    \n",
    "    \"GLOBAL_BATCH_SIZE\": 128,\n",
    "    \n",
    "    # Model\n",
    "    \"NUM_UNITS\": 32, # lstm units\n",
    "    \"NUM_FEATURES\": 6, # dense featues\n",
    "    \"NUM_TAU\": 9,\n",
    "    \n",
    "})\n",
    "\n",
    "args"
   ]
  },
  {
   "cell_type": "markdown",
   "metadata": {},
   "source": [
    "# **Load Datasets**"
   ]
  },
  {
   "cell_type": "markdown",
   "metadata": {},
   "source": [
    "## **Train / Validation**"
   ]
  },
  {
   "cell_type": "code",
   "execution_count": 11,
   "metadata": {},
   "outputs": [
    {
     "data": {
      "text/html": [
       "<div>\n",
       "<style scoped>\n",
       "    .dataframe tbody tr th:only-of-type {\n",
       "        vertical-align: middle;\n",
       "    }\n",
       "\n",
       "    .dataframe tbody tr th {\n",
       "        vertical-align: top;\n",
       "    }\n",
       "\n",
       "    .dataframe thead th {\n",
       "        text-align: right;\n",
       "    }\n",
       "</style>\n",
       "<table border=\"1\" class=\"dataframe\">\n",
       "  <thead>\n",
       "    <tr style=\"text-align: right;\">\n",
       "      <th></th>\n",
       "      <th>Day</th>\n",
       "      <th>Hour</th>\n",
       "      <th>Minute</th>\n",
       "      <th>DHI</th>\n",
       "      <th>DNI</th>\n",
       "      <th>WS</th>\n",
       "      <th>RH</th>\n",
       "      <th>T</th>\n",
       "      <th>TARGET</th>\n",
       "    </tr>\n",
       "  </thead>\n",
       "  <tbody>\n",
       "    <tr>\n",
       "      <th>0</th>\n",
       "      <td>0</td>\n",
       "      <td>0</td>\n",
       "      <td>0</td>\n",
       "      <td>0</td>\n",
       "      <td>0</td>\n",
       "      <td>1.5</td>\n",
       "      <td>69.08</td>\n",
       "      <td>-12</td>\n",
       "      <td>0.0</td>\n",
       "    </tr>\n",
       "    <tr>\n",
       "      <th>1</th>\n",
       "      <td>0</td>\n",
       "      <td>0</td>\n",
       "      <td>30</td>\n",
       "      <td>0</td>\n",
       "      <td>0</td>\n",
       "      <td>1.5</td>\n",
       "      <td>69.06</td>\n",
       "      <td>-12</td>\n",
       "      <td>0.0</td>\n",
       "    </tr>\n",
       "    <tr>\n",
       "      <th>2</th>\n",
       "      <td>0</td>\n",
       "      <td>1</td>\n",
       "      <td>0</td>\n",
       "      <td>0</td>\n",
       "      <td>0</td>\n",
       "      <td>1.6</td>\n",
       "      <td>71.78</td>\n",
       "      <td>-12</td>\n",
       "      <td>0.0</td>\n",
       "    </tr>\n",
       "    <tr>\n",
       "      <th>3</th>\n",
       "      <td>0</td>\n",
       "      <td>1</td>\n",
       "      <td>30</td>\n",
       "      <td>0</td>\n",
       "      <td>0</td>\n",
       "      <td>1.6</td>\n",
       "      <td>71.75</td>\n",
       "      <td>-12</td>\n",
       "      <td>0.0</td>\n",
       "    </tr>\n",
       "    <tr>\n",
       "      <th>4</th>\n",
       "      <td>0</td>\n",
       "      <td>2</td>\n",
       "      <td>0</td>\n",
       "      <td>0</td>\n",
       "      <td>0</td>\n",
       "      <td>1.6</td>\n",
       "      <td>75.20</td>\n",
       "      <td>-12</td>\n",
       "      <td>0.0</td>\n",
       "    </tr>\n",
       "  </tbody>\n",
       "</table>\n",
       "</div>"
      ],
      "text/plain": [
       "   Day  Hour  Minute  DHI  DNI   WS     RH   T  TARGET\n",
       "0    0     0       0    0    0  1.5  69.08 -12     0.0\n",
       "1    0     0      30    0    0  1.5  69.06 -12     0.0\n",
       "2    0     1       0    0    0  1.6  71.78 -12     0.0\n",
       "3    0     1      30    0    0  1.6  71.75 -12     0.0\n",
       "4    0     2       0    0    0  1.6  75.20 -12     0.0"
      ]
     },
     "execution_count": 11,
     "metadata": {},
     "output_type": "execute_result"
    }
   ],
   "source": [
    "df = pd.read_csv(os.path.join(os.environ[\"LOCAL_DATA_PATH\"], \"train\", \"train.csv\"))\n",
    "df.head()"
   ]
  },
  {
   "cell_type": "code",
   "execution_count": 12,
   "metadata": {},
   "outputs": [
    {
     "data": {
      "text/html": [
       "<div>\n",
       "<style scoped>\n",
       "    .dataframe tbody tr th:only-of-type {\n",
       "        vertical-align: middle;\n",
       "    }\n",
       "\n",
       "    .dataframe tbody tr th {\n",
       "        vertical-align: top;\n",
       "    }\n",
       "\n",
       "    .dataframe thead th {\n",
       "        text-align: right;\n",
       "    }\n",
       "</style>\n",
       "<table border=\"1\" class=\"dataframe\">\n",
       "  <thead>\n",
       "    <tr style=\"text-align: right;\">\n",
       "      <th></th>\n",
       "      <th>Day</th>\n",
       "      <th>Hour</th>\n",
       "      <th>Minute</th>\n",
       "      <th>DHI</th>\n",
       "      <th>DNI</th>\n",
       "      <th>WS</th>\n",
       "      <th>RH</th>\n",
       "      <th>T</th>\n",
       "      <th>TARGET</th>\n",
       "    </tr>\n",
       "  </thead>\n",
       "  <tbody>\n",
       "    <tr>\n",
       "      <th>count</th>\n",
       "      <td>52560.000000</td>\n",
       "      <td>52560.000000</td>\n",
       "      <td>52560.000000</td>\n",
       "      <td>52560.000000</td>\n",
       "      <td>52560.000000</td>\n",
       "      <td>52560.000000</td>\n",
       "      <td>52560.000000</td>\n",
       "      <td>52560.000000</td>\n",
       "      <td>52560.000000</td>\n",
       "    </tr>\n",
       "    <tr>\n",
       "      <th>mean</th>\n",
       "      <td>547.000000</td>\n",
       "      <td>11.500000</td>\n",
       "      <td>15.000000</td>\n",
       "      <td>64.344121</td>\n",
       "      <td>234.792371</td>\n",
       "      <td>2.456033</td>\n",
       "      <td>56.793102</td>\n",
       "      <td>9.279928</td>\n",
       "      <td>17.790630</td>\n",
       "    </tr>\n",
       "    <tr>\n",
       "      <th>std</th>\n",
       "      <td>316.102148</td>\n",
       "      <td>6.922252</td>\n",
       "      <td>15.000143</td>\n",
       "      <td>103.897125</td>\n",
       "      <td>349.684583</td>\n",
       "      <td>1.426874</td>\n",
       "      <td>22.052875</td>\n",
       "      <td>10.179741</td>\n",
       "      <td>25.759955</td>\n",
       "    </tr>\n",
       "    <tr>\n",
       "      <th>min</th>\n",
       "      <td>0.000000</td>\n",
       "      <td>0.000000</td>\n",
       "      <td>0.000000</td>\n",
       "      <td>0.000000</td>\n",
       "      <td>0.000000</td>\n",
       "      <td>0.000000</td>\n",
       "      <td>7.590000</td>\n",
       "      <td>-19.000000</td>\n",
       "      <td>0.000000</td>\n",
       "    </tr>\n",
       "    <tr>\n",
       "      <th>25%</th>\n",
       "      <td>273.000000</td>\n",
       "      <td>5.750000</td>\n",
       "      <td>0.000000</td>\n",
       "      <td>0.000000</td>\n",
       "      <td>0.000000</td>\n",
       "      <td>1.400000</td>\n",
       "      <td>39.697500</td>\n",
       "      <td>1.000000</td>\n",
       "      <td>0.000000</td>\n",
       "    </tr>\n",
       "    <tr>\n",
       "      <th>50%</th>\n",
       "      <td>547.000000</td>\n",
       "      <td>11.500000</td>\n",
       "      <td>15.000000</td>\n",
       "      <td>0.000000</td>\n",
       "      <td>0.000000</td>\n",
       "      <td>2.200000</td>\n",
       "      <td>57.600000</td>\n",
       "      <td>9.000000</td>\n",
       "      <td>0.000000</td>\n",
       "    </tr>\n",
       "    <tr>\n",
       "      <th>75%</th>\n",
       "      <td>821.000000</td>\n",
       "      <td>17.250000</td>\n",
       "      <td>30.000000</td>\n",
       "      <td>87.000000</td>\n",
       "      <td>469.000000</td>\n",
       "      <td>3.200000</td>\n",
       "      <td>72.770000</td>\n",
       "      <td>17.000000</td>\n",
       "      <td>32.089890</td>\n",
       "    </tr>\n",
       "    <tr>\n",
       "      <th>max</th>\n",
       "      <td>1094.000000</td>\n",
       "      <td>23.000000</td>\n",
       "      <td>30.000000</td>\n",
       "      <td>528.000000</td>\n",
       "      <td>1059.000000</td>\n",
       "      <td>12.000000</td>\n",
       "      <td>100.000000</td>\n",
       "      <td>35.000000</td>\n",
       "      <td>99.913939</td>\n",
       "    </tr>\n",
       "  </tbody>\n",
       "</table>\n",
       "</div>"
      ],
      "text/plain": [
       "                Day          Hour        Minute           DHI           DNI  \\\n",
       "count  52560.000000  52560.000000  52560.000000  52560.000000  52560.000000   \n",
       "mean     547.000000     11.500000     15.000000     64.344121    234.792371   \n",
       "std      316.102148      6.922252     15.000143    103.897125    349.684583   \n",
       "min        0.000000      0.000000      0.000000      0.000000      0.000000   \n",
       "25%      273.000000      5.750000      0.000000      0.000000      0.000000   \n",
       "50%      547.000000     11.500000     15.000000      0.000000      0.000000   \n",
       "75%      821.000000     17.250000     30.000000     87.000000    469.000000   \n",
       "max     1094.000000     23.000000     30.000000    528.000000   1059.000000   \n",
       "\n",
       "                 WS            RH             T        TARGET  \n",
       "count  52560.000000  52560.000000  52560.000000  52560.000000  \n",
       "mean       2.456033     56.793102      9.279928     17.790630  \n",
       "std        1.426874     22.052875     10.179741     25.759955  \n",
       "min        0.000000      7.590000    -19.000000      0.000000  \n",
       "25%        1.400000     39.697500      1.000000      0.000000  \n",
       "50%        2.200000     57.600000      9.000000      0.000000  \n",
       "75%        3.200000     72.770000     17.000000     32.089890  \n",
       "max       12.000000    100.000000     35.000000     99.913939  "
      ]
     },
     "execution_count": 12,
     "metadata": {},
     "output_type": "execute_result"
    }
   ],
   "source": [
    "df.describe()"
   ]
  },
  {
   "cell_type": "code",
   "execution_count": 13,
   "metadata": {},
   "outputs": [
    {
     "data": {
      "text/plain": [
       "((42048, 9), (10512, 9))"
      ]
     },
     "execution_count": 13,
     "metadata": {},
     "output_type": "execute_result"
    }
   ],
   "source": [
    "tr_df, vl_df = train_test_split(\n",
    "    df, \n",
    "    test_size = args[\"TEST_SIZE\"], \n",
    "    random_state = args[\"SEED\"])\n",
    "\n",
    "tr_df.shape, vl_df.shape"
   ]
  },
  {
   "cell_type": "code",
   "execution_count": 14,
   "metadata": {},
   "outputs": [],
   "source": [
    "def preprocessing(df, is_training = True):\n",
    "    # Drop timestampes.\n",
    "    try:\n",
    "        df = df.drop([\"Day\", \"Hour\", \"Minute\"], axis = 1)\n",
    "    except:\n",
    "        pass\n",
    "    \n",
    "    # Normalize.\n",
    "    for column in df.columns:\n",
    "        if is_training:\n",
    "            args[f\"{column}_MAX\"] = df[column].max()\n",
    "            args[f\"{column}_MIN\"] = df[column].min()\n",
    "        \n",
    "        df[column] = (df[column] - args[f\"{column}_MIN\"]) / (args[f\"{column}_MAX\"] - args[f\"{column}_MIN\"])\n",
    "        \n",
    "    return df"
   ]
  },
  {
   "cell_type": "code",
   "execution_count": 15,
   "metadata": {},
   "outputs": [],
   "source": [
    "tr_df = preprocessing(tr_df)\n",
    "vl_df = preprocessing(vl_df, is_training = False)"
   ]
  },
  {
   "cell_type": "code",
   "execution_count": 16,
   "metadata": {},
   "outputs": [
    {
     "data": {
      "text/html": [
       "<div>\n",
       "<style scoped>\n",
       "    .dataframe tbody tr th:only-of-type {\n",
       "        vertical-align: middle;\n",
       "    }\n",
       "\n",
       "    .dataframe tbody tr th {\n",
       "        vertical-align: top;\n",
       "    }\n",
       "\n",
       "    .dataframe thead th {\n",
       "        text-align: right;\n",
       "    }\n",
       "</style>\n",
       "<table border=\"1\" class=\"dataframe\">\n",
       "  <thead>\n",
       "    <tr style=\"text-align: right;\">\n",
       "      <th></th>\n",
       "      <th>DHI</th>\n",
       "      <th>DNI</th>\n",
       "      <th>WS</th>\n",
       "      <th>RH</th>\n",
       "      <th>T</th>\n",
       "      <th>TARGET</th>\n",
       "    </tr>\n",
       "  </thead>\n",
       "  <tbody>\n",
       "    <tr>\n",
       "      <th>count</th>\n",
       "      <td>42048.000000</td>\n",
       "      <td>42048.000000</td>\n",
       "      <td>42048.000000</td>\n",
       "      <td>42048.000000</td>\n",
       "      <td>42048.000000</td>\n",
       "      <td>42048.000000</td>\n",
       "    </tr>\n",
       "    <tr>\n",
       "      <th>mean</th>\n",
       "      <td>0.121155</td>\n",
       "      <td>0.221624</td>\n",
       "      <td>0.204474</td>\n",
       "      <td>0.532615</td>\n",
       "      <td>0.523211</td>\n",
       "      <td>0.177645</td>\n",
       "    </tr>\n",
       "    <tr>\n",
       "      <th>std</th>\n",
       "      <td>0.195675</td>\n",
       "      <td>0.330325</td>\n",
       "      <td>0.118662</td>\n",
       "      <td>0.238854</td>\n",
       "      <td>0.188508</td>\n",
       "      <td>0.257436</td>\n",
       "    </tr>\n",
       "    <tr>\n",
       "      <th>min</th>\n",
       "      <td>0.000000</td>\n",
       "      <td>0.000000</td>\n",
       "      <td>0.000000</td>\n",
       "      <td>0.000000</td>\n",
       "      <td>0.000000</td>\n",
       "      <td>0.000000</td>\n",
       "    </tr>\n",
       "    <tr>\n",
       "      <th>25%</th>\n",
       "      <td>0.000000</td>\n",
       "      <td>0.000000</td>\n",
       "      <td>0.116667</td>\n",
       "      <td>0.347040</td>\n",
       "      <td>0.370370</td>\n",
       "      <td>0.000000</td>\n",
       "    </tr>\n",
       "    <tr>\n",
       "      <th>50%</th>\n",
       "      <td>0.000000</td>\n",
       "      <td>0.000000</td>\n",
       "      <td>0.183333</td>\n",
       "      <td>0.541392</td>\n",
       "      <td>0.518519</td>\n",
       "      <td>0.000000</td>\n",
       "    </tr>\n",
       "    <tr>\n",
       "      <th>75%</th>\n",
       "      <td>0.164773</td>\n",
       "      <td>0.443815</td>\n",
       "      <td>0.266667</td>\n",
       "      <td>0.706309</td>\n",
       "      <td>0.666667</td>\n",
       "      <td>0.320789</td>\n",
       "    </tr>\n",
       "    <tr>\n",
       "      <th>max</th>\n",
       "      <td>1.000000</td>\n",
       "      <td>1.000000</td>\n",
       "      <td>1.000000</td>\n",
       "      <td>1.000000</td>\n",
       "      <td>1.000000</td>\n",
       "      <td>1.000000</td>\n",
       "    </tr>\n",
       "  </tbody>\n",
       "</table>\n",
       "</div>"
      ],
      "text/plain": [
       "                DHI           DNI            WS            RH             T  \\\n",
       "count  42048.000000  42048.000000  42048.000000  42048.000000  42048.000000   \n",
       "mean       0.121155      0.221624      0.204474      0.532615      0.523211   \n",
       "std        0.195675      0.330325      0.118662      0.238854      0.188508   \n",
       "min        0.000000      0.000000      0.000000      0.000000      0.000000   \n",
       "25%        0.000000      0.000000      0.116667      0.347040      0.370370   \n",
       "50%        0.000000      0.000000      0.183333      0.541392      0.518519   \n",
       "75%        0.164773      0.443815      0.266667      0.706309      0.666667   \n",
       "max        1.000000      1.000000      1.000000      1.000000      1.000000   \n",
       "\n",
       "             TARGET  \n",
       "count  42048.000000  \n",
       "mean       0.177645  \n",
       "std        0.257436  \n",
       "min        0.000000  \n",
       "25%        0.000000  \n",
       "50%        0.000000  \n",
       "75%        0.320789  \n",
       "max        1.000000  "
      ]
     },
     "execution_count": 16,
     "metadata": {},
     "output_type": "execute_result"
    }
   ],
   "source": [
    "tr_df.describe()"
   ]
  },
  {
   "cell_type": "code",
   "execution_count": 17,
   "metadata": {},
   "outputs": [
    {
     "data": {
      "text/html": [
       "<div>\n",
       "<style scoped>\n",
       "    .dataframe tbody tr th:only-of-type {\n",
       "        vertical-align: middle;\n",
       "    }\n",
       "\n",
       "    .dataframe tbody tr th {\n",
       "        vertical-align: top;\n",
       "    }\n",
       "\n",
       "    .dataframe thead th {\n",
       "        text-align: right;\n",
       "    }\n",
       "</style>\n",
       "<table border=\"1\" class=\"dataframe\">\n",
       "  <thead>\n",
       "    <tr style=\"text-align: right;\">\n",
       "      <th></th>\n",
       "      <th>DHI</th>\n",
       "      <th>DNI</th>\n",
       "      <th>WS</th>\n",
       "      <th>RH</th>\n",
       "      <th>T</th>\n",
       "      <th>TARGET</th>\n",
       "    </tr>\n",
       "  </thead>\n",
       "  <tbody>\n",
       "    <tr>\n",
       "      <th>count</th>\n",
       "      <td>10512.000000</td>\n",
       "      <td>10512.000000</td>\n",
       "      <td>10512.000000</td>\n",
       "      <td>10512.000000</td>\n",
       "      <td>10512.000000</td>\n",
       "      <td>10512.000000</td>\n",
       "    </tr>\n",
       "    <tr>\n",
       "      <th>mean</th>\n",
       "      <td>0.124701</td>\n",
       "      <td>0.222062</td>\n",
       "      <td>0.205452</td>\n",
       "      <td>0.531757</td>\n",
       "      <td>0.525669</td>\n",
       "      <td>0.181208</td>\n",
       "    </tr>\n",
       "    <tr>\n",
       "      <th>std</th>\n",
       "      <td>0.201099</td>\n",
       "      <td>0.329730</td>\n",
       "      <td>0.119881</td>\n",
       "      <td>0.237798</td>\n",
       "      <td>0.188532</td>\n",
       "      <td>0.261486</td>\n",
       "    </tr>\n",
       "    <tr>\n",
       "      <th>min</th>\n",
       "      <td>0.000000</td>\n",
       "      <td>0.000000</td>\n",
       "      <td>0.008333</td>\n",
       "      <td>0.004437</td>\n",
       "      <td>0.037037</td>\n",
       "      <td>0.000000</td>\n",
       "    </tr>\n",
       "    <tr>\n",
       "      <th>25%</th>\n",
       "      <td>0.000000</td>\n",
       "      <td>0.000000</td>\n",
       "      <td>0.116667</td>\n",
       "      <td>0.348231</td>\n",
       "      <td>0.370370</td>\n",
       "      <td>0.000000</td>\n",
       "    </tr>\n",
       "    <tr>\n",
       "      <th>50%</th>\n",
       "      <td>0.000000</td>\n",
       "      <td>0.000000</td>\n",
       "      <td>0.183333</td>\n",
       "      <td>0.540634</td>\n",
       "      <td>0.518519</td>\n",
       "      <td>0.000000</td>\n",
       "    </tr>\n",
       "    <tr>\n",
       "      <th>75%</th>\n",
       "      <td>0.168561</td>\n",
       "      <td>0.438149</td>\n",
       "      <td>0.266667</td>\n",
       "      <td>0.700249</td>\n",
       "      <td>0.666667</td>\n",
       "      <td>0.324526</td>\n",
       "    </tr>\n",
       "    <tr>\n",
       "      <th>max</th>\n",
       "      <td>0.990530</td>\n",
       "      <td>0.998111</td>\n",
       "      <td>0.983333</td>\n",
       "      <td>1.000000</td>\n",
       "      <td>1.000000</td>\n",
       "      <td>1.001672</td>\n",
       "    </tr>\n",
       "  </tbody>\n",
       "</table>\n",
       "</div>"
      ],
      "text/plain": [
       "                DHI           DNI            WS            RH             T  \\\n",
       "count  10512.000000  10512.000000  10512.000000  10512.000000  10512.000000   \n",
       "mean       0.124701      0.222062      0.205452      0.531757      0.525669   \n",
       "std        0.201099      0.329730      0.119881      0.237798      0.188532   \n",
       "min        0.000000      0.000000      0.008333      0.004437      0.037037   \n",
       "25%        0.000000      0.000000      0.116667      0.348231      0.370370   \n",
       "50%        0.000000      0.000000      0.183333      0.540634      0.518519   \n",
       "75%        0.168561      0.438149      0.266667      0.700249      0.666667   \n",
       "max        0.990530      0.998111      0.983333      1.000000      1.000000   \n",
       "\n",
       "             TARGET  \n",
       "count  10512.000000  \n",
       "mean       0.181208  \n",
       "std        0.261486  \n",
       "min        0.000000  \n",
       "25%        0.000000  \n",
       "50%        0.000000  \n",
       "75%        0.324526  \n",
       "max        1.001672  "
      ]
     },
     "execution_count": 17,
     "metadata": {},
     "output_type": "execute_result"
    }
   ],
   "source": [
    "vl_df.describe()"
   ]
  },
  {
   "cell_type": "markdown",
   "metadata": {},
   "source": [
    "## **Test**"
   ]
  },
  {
   "cell_type": "code",
   "execution_count": 18,
   "metadata": {},
   "outputs": [],
   "source": [
    "ts_filenames = [os.path.join(os.environ[\"LOCAL_DATA_PATH\"], \"test\", f\"{i}.csv\") for i in range(args[\"NUM_TEST_CSV\"])]\n",
    "ts_dfs = [preprocessing(pd.read_csv(ts_filename), is_training = False) for ts_filename in ts_filenames]\n",
    "ts_df = pd.concat(ts_dfs)"
   ]
  },
  {
   "cell_type": "code",
   "execution_count": 19,
   "metadata": {},
   "outputs": [
    {
     "data": {
      "text/html": [
       "<div>\n",
       "<style scoped>\n",
       "    .dataframe tbody tr th:only-of-type {\n",
       "        vertical-align: middle;\n",
       "    }\n",
       "\n",
       "    .dataframe tbody tr th {\n",
       "        vertical-align: top;\n",
       "    }\n",
       "\n",
       "    .dataframe thead th {\n",
       "        text-align: right;\n",
       "    }\n",
       "</style>\n",
       "<table border=\"1\" class=\"dataframe\">\n",
       "  <thead>\n",
       "    <tr style=\"text-align: right;\">\n",
       "      <th></th>\n",
       "      <th>DHI</th>\n",
       "      <th>DNI</th>\n",
       "      <th>WS</th>\n",
       "      <th>RH</th>\n",
       "      <th>T</th>\n",
       "      <th>TARGET</th>\n",
       "    </tr>\n",
       "  </thead>\n",
       "  <tbody>\n",
       "    <tr>\n",
       "      <th>0</th>\n",
       "      <td>0.0</td>\n",
       "      <td>0.0</td>\n",
       "      <td>0.225000</td>\n",
       "      <td>0.290337</td>\n",
       "      <td>0.351852</td>\n",
       "      <td>0.0</td>\n",
       "    </tr>\n",
       "    <tr>\n",
       "      <th>1</th>\n",
       "      <td>0.0</td>\n",
       "      <td>0.0</td>\n",
       "      <td>0.225000</td>\n",
       "      <td>0.287631</td>\n",
       "      <td>0.353704</td>\n",
       "      <td>0.0</td>\n",
       "    </tr>\n",
       "    <tr>\n",
       "      <th>2</th>\n",
       "      <td>0.0</td>\n",
       "      <td>0.0</td>\n",
       "      <td>0.225000</td>\n",
       "      <td>0.288280</td>\n",
       "      <td>0.355556</td>\n",
       "      <td>0.0</td>\n",
       "    </tr>\n",
       "    <tr>\n",
       "      <th>3</th>\n",
       "      <td>0.0</td>\n",
       "      <td>0.0</td>\n",
       "      <td>0.225000</td>\n",
       "      <td>0.285683</td>\n",
       "      <td>0.357407</td>\n",
       "      <td>0.0</td>\n",
       "    </tr>\n",
       "    <tr>\n",
       "      <th>4</th>\n",
       "      <td>0.0</td>\n",
       "      <td>0.0</td>\n",
       "      <td>0.233333</td>\n",
       "      <td>0.285467</td>\n",
       "      <td>0.359259</td>\n",
       "      <td>0.0</td>\n",
       "    </tr>\n",
       "  </tbody>\n",
       "</table>\n",
       "</div>"
      ],
      "text/plain": [
       "   DHI  DNI        WS        RH         T  TARGET\n",
       "0  0.0  0.0  0.225000  0.290337  0.351852     0.0\n",
       "1  0.0  0.0  0.225000  0.287631  0.353704     0.0\n",
       "2  0.0  0.0  0.225000  0.288280  0.355556     0.0\n",
       "3  0.0  0.0  0.225000  0.285683  0.357407     0.0\n",
       "4  0.0  0.0  0.233333  0.285467  0.359259     0.0"
      ]
     },
     "execution_count": 19,
     "metadata": {},
     "output_type": "execute_result"
    }
   ],
   "source": [
    "ts_df.head()"
   ]
  },
  {
   "cell_type": "code",
   "execution_count": 20,
   "metadata": {},
   "outputs": [
    {
     "data": {
      "text/html": [
       "<div>\n",
       "<style scoped>\n",
       "    .dataframe tbody tr th:only-of-type {\n",
       "        vertical-align: middle;\n",
       "    }\n",
       "\n",
       "    .dataframe tbody tr th {\n",
       "        vertical-align: top;\n",
       "    }\n",
       "\n",
       "    .dataframe thead th {\n",
       "        text-align: right;\n",
       "    }\n",
       "</style>\n",
       "<table border=\"1\" class=\"dataframe\">\n",
       "  <thead>\n",
       "    <tr style=\"text-align: right;\">\n",
       "      <th></th>\n",
       "      <th>DHI</th>\n",
       "      <th>DNI</th>\n",
       "      <th>WS</th>\n",
       "      <th>RH</th>\n",
       "      <th>T</th>\n",
       "      <th>TARGET</th>\n",
       "    </tr>\n",
       "  </thead>\n",
       "  <tbody>\n",
       "    <tr>\n",
       "      <th>count</th>\n",
       "      <td>27216.000000</td>\n",
       "      <td>27216.000000</td>\n",
       "      <td>27216.000000</td>\n",
       "      <td>27216.000000</td>\n",
       "      <td>27216.000000</td>\n",
       "      <td>27216.000000</td>\n",
       "    </tr>\n",
       "    <tr>\n",
       "      <th>mean</th>\n",
       "      <td>0.111880</td>\n",
       "      <td>0.237133</td>\n",
       "      <td>0.189333</td>\n",
       "      <td>0.419916</td>\n",
       "      <td>0.532339</td>\n",
       "      <td>0.182813</td>\n",
       "    </tr>\n",
       "    <tr>\n",
       "      <th>std</th>\n",
       "      <td>0.173494</td>\n",
       "      <td>0.338179</td>\n",
       "      <td>0.105967</td>\n",
       "      <td>0.207518</td>\n",
       "      <td>0.209003</td>\n",
       "      <td>0.261818</td>\n",
       "    </tr>\n",
       "    <tr>\n",
       "      <th>min</th>\n",
       "      <td>0.000000</td>\n",
       "      <td>0.000000</td>\n",
       "      <td>0.008333</td>\n",
       "      <td>-0.029001</td>\n",
       "      <td>0.061111</td>\n",
       "      <td>0.000000</td>\n",
       "    </tr>\n",
       "    <tr>\n",
       "      <th>25%</th>\n",
       "      <td>0.000000</td>\n",
       "      <td>0.000000</td>\n",
       "      <td>0.108333</td>\n",
       "      <td>0.254166</td>\n",
       "      <td>0.359259</td>\n",
       "      <td>0.000000</td>\n",
       "    </tr>\n",
       "    <tr>\n",
       "      <th>50%</th>\n",
       "      <td>0.011364</td>\n",
       "      <td>0.000000</td>\n",
       "      <td>0.166667</td>\n",
       "      <td>0.424629</td>\n",
       "      <td>0.512963</td>\n",
       "      <td>0.005645</td>\n",
       "    </tr>\n",
       "    <tr>\n",
       "      <th>75%</th>\n",
       "      <td>0.157197</td>\n",
       "      <td>0.477809</td>\n",
       "      <td>0.241667</td>\n",
       "      <td>0.576669</td>\n",
       "      <td>0.690741</td>\n",
       "      <td>0.326398</td>\n",
       "    </tr>\n",
       "    <tr>\n",
       "      <th>max</th>\n",
       "      <td>0.960227</td>\n",
       "      <td>1.018886</td>\n",
       "      <td>0.916667</td>\n",
       "      <td>0.919597</td>\n",
       "      <td>1.031481</td>\n",
       "      <td>0.997030</td>\n",
       "    </tr>\n",
       "  </tbody>\n",
       "</table>\n",
       "</div>"
      ],
      "text/plain": [
       "                DHI           DNI            WS            RH             T  \\\n",
       "count  27216.000000  27216.000000  27216.000000  27216.000000  27216.000000   \n",
       "mean       0.111880      0.237133      0.189333      0.419916      0.532339   \n",
       "std        0.173494      0.338179      0.105967      0.207518      0.209003   \n",
       "min        0.000000      0.000000      0.008333     -0.029001      0.061111   \n",
       "25%        0.000000      0.000000      0.108333      0.254166      0.359259   \n",
       "50%        0.011364      0.000000      0.166667      0.424629      0.512963   \n",
       "75%        0.157197      0.477809      0.241667      0.576669      0.690741   \n",
       "max        0.960227      1.018886      0.916667      0.919597      1.031481   \n",
       "\n",
       "             TARGET  \n",
       "count  27216.000000  \n",
       "mean       0.182813  \n",
       "std        0.261818  \n",
       "min        0.000000  \n",
       "25%        0.000000  \n",
       "50%        0.005645  \n",
       "75%        0.326398  \n",
       "max        0.997030  "
      ]
     },
     "execution_count": 20,
     "metadata": {},
     "output_type": "execute_result"
    }
   ],
   "source": [
    "ts_df.describe()"
   ]
  },
  {
   "cell_type": "markdown",
   "metadata": {},
   "source": [
    "# **Make Dataset Pipelines**"
   ]
  },
  {
   "cell_type": "code",
   "execution_count": 21,
   "metadata": {},
   "outputs": [],
   "source": [
    "@tf.function\n",
    "def _flat_fn_tr(x):\n",
    "    return x.batch(args[\"WINDOW_INP\"] + args[\"WINDOW_TAR\"])\n",
    "\n",
    "\n",
    "@tf.function\n",
    "def _flat_fn_ts(x):\n",
    "    return x.batch(args[\"WINDOW_INP\"])\n",
    "\n",
    "\n",
    "@tf.function\n",
    "def _split_window(features):\n",
    "    return tf.split(features, [args[\"WINDOW_INP\"], args[\"WINDOW_TAR\"]], axis = 0)"
   ]
  },
  {
   "cell_type": "code",
   "execution_count": 22,
   "metadata": {},
   "outputs": [
    {
     "name": "stdout",
     "output_type": "stream",
     "text": [
      "tr_dataset: (TensorSpec(shape=(None, 336, 6), dtype=tf.float32, name=None), TensorSpec(shape=(None, 96, 6), dtype=tf.float32, name=None))\n",
      "vl_dataset: (TensorSpec(shape=(None, 336, 6), dtype=tf.float32, name=None), TensorSpec(shape=(None, 96, 6), dtype=tf.float32, name=None))\n",
      "ts_dataset: TensorSpec(shape=(None, None, 6), dtype=tf.float32, name=None)\n"
     ]
    }
   ],
   "source": [
    "tr_tensor = tf.constant(tr_df, dtype = tf.float32)\n",
    "vl_tensor = tf.constant(vl_df, dtype = tf.float32)\n",
    "ts_tensor = tf.constant(ts_df, dtype = tf.float32)\n",
    "\n",
    "tr_dataset = tf.data.Dataset.from_tensor_slices(tr_tensor\n",
    "                    ).window(args[\"WINDOW_INP\"] + args[\"WINDOW_TAR\"], args[\"WINDOW_SHIFT\"], args[\"WINDOW_STRIDE\"], args[\"WINDOW_DR\"]).flat_map(_flat_fn_tr\n",
    "                    ).map(_split_window, num_parallel_calls = args[\"AUTO\"]\n",
    "                    ).batch(args[\"GLOBAL_BATCH_SIZE\"]\n",
    "                    ).cache(\n",
    "                    ).prefetch(args[\"AUTO\"])\n",
    "\n",
    "vl_dataset = tf.data.Dataset.from_tensor_slices(vl_tensor\n",
    "                    ).window(args[\"WINDOW_INP\"] + args[\"WINDOW_TAR\"], args[\"WINDOW_SHIFT\"], args[\"WINDOW_STRIDE\"], args[\"WINDOW_DR\"]).flat_map(_flat_fn_tr\n",
    "                    ).map(_split_window, num_parallel_calls = args[\"AUTO\"]\n",
    "                    ).batch(args[\"GLOBAL_BATCH_SIZE\"]\n",
    "                    ).cache(\n",
    "                    ).prefetch(args[\"AUTO\"])\n",
    "\n",
    "ts_dataset = tf.data.Dataset.from_tensor_slices(ts_tensor\n",
    "                    ).window(args[\"WINDOW_INP\"], args[\"WINDOW_INP\"], args[\"WINDOW_STRIDE\"], args[\"WINDOW_DR\"]).flat_map(_flat_fn_ts\n",
    "#                     ).map(_split_window, num_parallel_calls = args[\"AUTO\"]\n",
    "                    ).batch(args[\"NUM_TEST_CSV\"] # Not args[\"GLOBAL_BATCH_SIZE\"]\n",
    "#                     ).cache(\n",
    "                    ).prefetch(args[\"AUTO\"])\n",
    "\n",
    "# Print the shapes\n",
    "print(f\"tr_dataset: {tr_dataset.element_spec}\")\n",
    "print(f\"vl_dataset: {vl_dataset.element_spec}\")\n",
    "print(f\"ts_dataset: {ts_dataset.element_spec}\")"
   ]
  },
  {
   "cell_type": "markdown",
   "metadata": {},
   "source": [
    "## **Take Samples**"
   ]
  },
  {
   "cell_type": "code",
   "execution_count": 42,
   "metadata": {},
   "outputs": [
    {
     "name": "stdout",
     "output_type": "stream",
     "text": [
      "(128, 336, 6) (128, 96, 6)\n"
     ]
    }
   ],
   "source": [
    "for element in tr_dataset.take(1):\n",
    "    foo, bar = element\n",
    "    print(foo.shape, bar.shape)"
   ]
  },
  {
   "cell_type": "code",
   "execution_count": 43,
   "metadata": {},
   "outputs": [
    {
     "name": "stdout",
     "output_type": "stream",
     "text": [
      "(128, 336, 6) (128, 96, 6)\n"
     ]
    }
   ],
   "source": [
    "for element in vl_dataset.take(1):\n",
    "    foo, bar = element\n",
    "    print(foo.shape, bar.shape)"
   ]
  },
  {
   "cell_type": "code",
   "execution_count": 44,
   "metadata": {},
   "outputs": [
    {
     "name": "stdout",
     "output_type": "stream",
     "text": [
      "(81, 336, 6)\n"
     ]
    }
   ],
   "source": [
    "for element in ts_dataset.take(1):\n",
    "    foo = element\n",
    "    print(foo.shape)"
   ]
  },
  {
   "cell_type": "markdown",
   "metadata": {},
   "source": [
    "# **Create Network**"
   ]
  },
  {
   "cell_type": "code",
   "execution_count": 98,
   "metadata": {},
   "outputs": [],
   "source": [
    "class AR_LSTM(tf.keras.Model):\n",
    "    def __init__(self, units, out_steps):\n",
    "        super(AR_LSTM, self).__init__()\n",
    "        self.units = units\n",
    "        self.out_steps = out_steps\n",
    "        self.num_features = args[\"NUM_FEATURES\"]\n",
    "        \n",
    "        self.lstm_cell = tf.keras.layers.LSTMCell(self.units)\n",
    "        self.lstm_rnn = tf.keras.layers.RNN(self.lstm_cell, return_state = True)\n",
    "        self.dense = tf.keras.layers.Dense(self.num_features)\n",
    "        \n",
    "    \n",
    "    def warmup(self, inputs):\n",
    "        x, *state = self.lstm_rnn(inputs)\n",
    "        prediction = self.dense(x)\n",
    "        return prediction, state\n",
    "        \n",
    "        \n",
    "    def call(self, inputs, training = None):\n",
    "        predictions = []\n",
    "        \n",
    "        prediction, state = self.warmup(inputs)\n",
    "        predictions.append(prediction)\n",
    "        \n",
    "        for n in range(1, self.out_steps):\n",
    "            x = prediction\n",
    "            x, state = self.lstm_cell(x, states = state, training = training)\n",
    "            prediction = self.dense(x)\n",
    "            predictions.append(prediction)\n",
    "            \n",
    "        predictions = tf.stack(predictions, axis = 1)\n",
    "        return [predictions] * args[\"NUM_TAU\"]"
   ]
  },
  {
   "cell_type": "markdown",
   "metadata": {},
   "source": [
    "# **Compile and Fit**\n",
    "\n",
    "   * Repeat the last 24 hours."
   ]
  },
  {
   "cell_type": "code",
   "execution_count": 99,
   "metadata": {},
   "outputs": [],
   "source": [
    "# loss = [tfa.losses.PinballLoss(tau = i, name = f\"p{i:.1f}\") for i in np.arange(0.1, 1, 0.1)]\n",
    "# loss[0].name"
   ]
  },
  {
   "cell_type": "code",
   "execution_count": 100,
   "metadata": {},
   "outputs": [],
   "source": [
    "model = AR_LSTM(\n",
    "    units = args[\"NUM_UNITS\"], \n",
    "    out_steps = args[\"WINDOW_TAR\"])\n",
    "\n",
    "model.compile(\n",
    "    loss = [tfa.losses.PinballLoss(tau = i) for i in np.arange(0.1, 1, 0.1)],\n",
    "    loss_weights = [1.] * args[\"NUM_TAU\"], # sum of each losses\n",
    "    optimizer = tf.keras.optimizers.Adam(args[\"INIT_LR\"]))"
   ]
  },
  {
   "cell_type": "code",
   "execution_count": 101,
   "metadata": {},
   "outputs": [
    {
     "name": "stdout",
     "output_type": "stream",
     "text": [
      "Epoch 1/30\n",
      "7/7 - 12s - loss: 1.3212 - output_1_loss: 0.0318 - output_2_loss: 0.0605 - output_3_loss: 0.0893 - output_4_loss: 0.1180 - output_5_loss: 0.1468 - output_6_loss: 0.1756 - output_7_loss: 0.2043 - output_8_loss: 0.2331 - output_9_loss: 0.2618 - val_loss: 1.2737 - val_output_1_loss: 0.0325 - val_output_2_loss: 0.0598 - val_output_3_loss: 0.0870 - val_output_4_loss: 0.1143 - val_output_5_loss: 0.1415 - val_output_6_loss: 0.1688 - val_output_7_loss: 0.1960 - val_output_8_loss: 0.2233 - val_output_9_loss: 0.2505\n",
      "Epoch 2/30\n",
      "7/7 - 1s - loss: 1.2168 - output_1_loss: 0.0338 - output_2_loss: 0.0591 - output_3_loss: 0.0845 - output_4_loss: 0.1098 - output_5_loss: 0.1352 - output_6_loss: 0.1606 - output_7_loss: 0.1859 - output_8_loss: 0.2113 - output_9_loss: 0.2366 - val_loss: 1.1367 - val_output_1_loss: 0.0381 - val_output_2_loss: 0.0602 - val_output_3_loss: 0.0822 - val_output_4_loss: 0.1043 - val_output_5_loss: 0.1263 - val_output_6_loss: 0.1483 - val_output_7_loss: 0.1704 - val_output_8_loss: 0.1924 - val_output_9_loss: 0.2145\n",
      "Epoch 3/30\n",
      "7/7 - 1s - loss: 1.0444 - output_1_loss: 0.0466 - output_2_loss: 0.0640 - output_3_loss: 0.0813 - output_4_loss: 0.0987 - output_5_loss: 0.1160 - output_6_loss: 0.1334 - output_7_loss: 0.1508 - output_8_loss: 0.1681 - output_9_loss: 0.1855 - val_loss: 0.9047 - val_output_1_loss: 0.0612 - val_output_2_loss: 0.0711 - val_output_3_loss: 0.0809 - val_output_4_loss: 0.0907 - val_output_5_loss: 0.1005 - val_output_6_loss: 0.1103 - val_output_7_loss: 0.1202 - val_output_8_loss: 0.1300 - val_output_9_loss: 0.1398\n",
      "Epoch 4/30\n",
      "7/7 - 1s - loss: 0.8030 - output_1_loss: 0.0566 - output_2_loss: 0.0647 - output_3_loss: 0.0729 - output_4_loss: 0.0811 - output_5_loss: 0.0892 - output_6_loss: 0.0974 - output_7_loss: 0.1056 - output_8_loss: 0.1137 - output_9_loss: 0.1219 - val_loss: 0.7674 - val_output_1_loss: 0.0639 - val_output_2_loss: 0.0692 - val_output_3_loss: 0.0746 - val_output_4_loss: 0.0799 - val_output_5_loss: 0.0853 - val_output_6_loss: 0.0906 - val_output_7_loss: 0.0960 - val_output_8_loss: 0.1013 - val_output_9_loss: 0.1066\n",
      "Epoch 5/30\n",
      "7/7 - 1s - loss: 0.7549 - output_1_loss: 0.0593 - output_2_loss: 0.0655 - output_3_loss: 0.0716 - output_4_loss: 0.0777 - output_5_loss: 0.0839 - output_6_loss: 0.0900 - output_7_loss: 0.0961 - output_8_loss: 0.1023 - output_9_loss: 0.1084 - val_loss: 0.7379 - val_output_1_loss: 0.0527 - val_output_2_loss: 0.0600 - val_output_3_loss: 0.0673 - val_output_4_loss: 0.0747 - val_output_5_loss: 0.0820 - val_output_6_loss: 0.0893 - val_output_7_loss: 0.0966 - val_output_8_loss: 0.1039 - val_output_9_loss: 0.1113\n",
      "Epoch 6/30\n",
      "7/7 - 1s - loss: 0.7349 - output_1_loss: 0.0492 - output_2_loss: 0.0573 - output_3_loss: 0.0654 - output_4_loss: 0.0735 - output_5_loss: 0.0817 - output_6_loss: 0.0898 - output_7_loss: 0.0979 - output_8_loss: 0.1060 - output_9_loss: 0.1141 - val_loss: 0.7432 - val_output_1_loss: 0.0479 - val_output_2_loss: 0.0566 - val_output_3_loss: 0.0652 - val_output_4_loss: 0.0739 - val_output_5_loss: 0.0826 - val_output_6_loss: 0.0913 - val_output_7_loss: 0.0999 - val_output_8_loss: 0.1086 - val_output_9_loss: 0.1173\n",
      "Epoch 7/30\n",
      "7/7 - 1s - loss: 0.7373 - output_1_loss: 0.0485 - output_2_loss: 0.0569 - output_3_loss: 0.0652 - output_4_loss: 0.0736 - output_5_loss: 0.0819 - output_6_loss: 0.0903 - output_7_loss: 0.0986 - output_8_loss: 0.1070 - output_9_loss: 0.1154 - val_loss: 0.7365 - val_output_1_loss: 0.0472 - val_output_2_loss: 0.0558 - val_output_3_loss: 0.0645 - val_output_4_loss: 0.0732 - val_output_5_loss: 0.0818 - val_output_6_loss: 0.0905 - val_output_7_loss: 0.0992 - val_output_8_loss: 0.1078 - val_output_9_loss: 0.1165\n",
      "Epoch 8/30\n",
      "7/7 - 1s - loss: 0.7305 - output_1_loss: 0.0496 - output_2_loss: 0.0575 - output_3_loss: 0.0654 - output_4_loss: 0.0733 - output_5_loss: 0.0812 - output_6_loss: 0.0891 - output_7_loss: 0.0970 - output_8_loss: 0.1049 - output_9_loss: 0.1128 - val_loss: 0.7329 - val_output_1_loss: 0.0464 - val_output_2_loss: 0.0552 - val_output_3_loss: 0.0639 - val_output_4_loss: 0.0727 - val_output_5_loss: 0.0814 - val_output_6_loss: 0.0902 - val_output_7_loss: 0.0989 - val_output_8_loss: 0.1077 - val_output_9_loss: 0.1164\n",
      "Epoch 9/30\n",
      "7/7 - 1s - loss: 0.7287 - output_1_loss: 0.0466 - output_2_loss: 0.0552 - output_3_loss: 0.0638 - output_4_loss: 0.0724 - output_5_loss: 0.0810 - output_6_loss: 0.0895 - output_7_loss: 0.0981 - output_8_loss: 0.1067 - output_9_loss: 0.1153 - val_loss: 0.7330 - val_output_1_loss: 0.0499 - val_output_2_loss: 0.0578 - val_output_3_loss: 0.0657 - val_output_4_loss: 0.0736 - val_output_5_loss: 0.0814 - val_output_6_loss: 0.0893 - val_output_7_loss: 0.0972 - val_output_8_loss: 0.1051 - val_output_9_loss: 0.1130\n",
      "Epoch 10/30\n",
      "7/7 - 1s - loss: 0.7277 - output_1_loss: 0.0477 - output_2_loss: 0.0560 - output_3_loss: 0.0643 - output_4_loss: 0.0726 - output_5_loss: 0.0809 - output_6_loss: 0.0891 - output_7_loss: 0.0974 - output_8_loss: 0.1057 - output_9_loss: 0.1140 - val_loss: 0.7318 - val_output_1_loss: 0.0468 - val_output_2_loss: 0.0554 - val_output_3_loss: 0.0640 - val_output_4_loss: 0.0727 - val_output_5_loss: 0.0813 - val_output_6_loss: 0.0900 - val_output_7_loss: 0.0986 - val_output_8_loss: 0.1072 - val_output_9_loss: 0.1159\n",
      "Epoch 11/30\n",
      "7/7 - 1s - loss: 0.7275 - output_1_loss: 0.0459 - output_2_loss: 0.0546 - output_3_loss: 0.0634 - output_4_loss: 0.0721 - output_5_loss: 0.0808 - output_6_loss: 0.0896 - output_7_loss: 0.0983 - output_8_loss: 0.1071 - output_9_loss: 0.1158 - val_loss: 0.7308 - val_output_1_loss: 0.0454 - val_output_2_loss: 0.0544 - val_output_3_loss: 0.0633 - val_output_4_loss: 0.0723 - val_output_5_loss: 0.0812 - val_output_6_loss: 0.0901 - val_output_7_loss: 0.0991 - val_output_8_loss: 0.1080 - val_output_9_loss: 0.1170\n",
      "Epoch 12/30\n",
      "7/7 - 1s - loss: 0.7270 - output_1_loss: 0.0470 - output_2_loss: 0.0554 - output_3_loss: 0.0639 - output_4_loss: 0.0723 - output_5_loss: 0.0808 - output_6_loss: 0.0892 - output_7_loss: 0.0977 - output_8_loss: 0.1061 - output_9_loss: 0.1146 - val_loss: 0.7314 - val_output_1_loss: 0.0465 - val_output_2_loss: 0.0552 - val_output_3_loss: 0.0639 - val_output_4_loss: 0.0726 - val_output_5_loss: 0.0813 - val_output_6_loss: 0.0899 - val_output_7_loss: 0.0986 - val_output_8_loss: 0.1073 - val_output_9_loss: 0.1160\n",
      "Epoch 13/30\n",
      "7/7 - 1s - loss: 0.7275 - output_1_loss: 0.0473 - output_2_loss: 0.0557 - output_3_loss: 0.0641 - output_4_loss: 0.0725 - output_5_loss: 0.0808 - output_6_loss: 0.0892 - output_7_loss: 0.0976 - output_8_loss: 0.1059 - output_9_loss: 0.1143 - val_loss: 0.7311 - val_output_1_loss: 0.0457 - val_output_2_loss: 0.0546 - val_output_3_loss: 0.0635 - val_output_4_loss: 0.0724 - val_output_5_loss: 0.0812 - val_output_6_loss: 0.0901 - val_output_7_loss: 0.0990 - val_output_8_loss: 0.1079 - val_output_9_loss: 0.1168\n",
      "Epoch 14/30\n",
      "7/7 - 1s - loss: 0.7270 - output_1_loss: 0.0456 - output_2_loss: 0.0544 - output_3_loss: 0.0632 - output_4_loss: 0.0720 - output_5_loss: 0.0808 - output_6_loss: 0.0896 - output_7_loss: 0.0984 - output_8_loss: 0.1072 - output_9_loss: 0.1160 - val_loss: 0.7317 - val_output_1_loss: 0.0470 - val_output_2_loss: 0.0555 - val_output_3_loss: 0.0641 - val_output_4_loss: 0.0727 - val_output_5_loss: 0.0813 - val_output_6_loss: 0.0899 - val_output_7_loss: 0.0985 - val_output_8_loss: 0.1070 - val_output_9_loss: 0.1156\n",
      "Epoch 15/30\n",
      "7/7 - 1s - loss: 0.7272 - output_1_loss: 0.0466 - output_2_loss: 0.0552 - output_3_loss: 0.0637 - output_4_loss: 0.0723 - output_5_loss: 0.0808 - output_6_loss: 0.0893 - output_7_loss: 0.0979 - output_8_loss: 0.1064 - output_9_loss: 0.1150 - val_loss: 0.7313 - val_output_1_loss: 0.0466 - val_output_2_loss: 0.0553 - val_output_3_loss: 0.0640 - val_output_4_loss: 0.0726 - val_output_5_loss: 0.0813 - val_output_6_loss: 0.0899 - val_output_7_loss: 0.0986 - val_output_8_loss: 0.1072 - val_output_9_loss: 0.1159\n",
      "Epoch 16/30\n",
      "7/7 - 1s - loss: 0.7268 - output_1_loss: 0.0455 - output_2_loss: 0.0543 - output_3_loss: 0.0631 - output_4_loss: 0.0719 - output_5_loss: 0.0808 - output_6_loss: 0.0896 - output_7_loss: 0.0984 - output_8_loss: 0.1072 - output_9_loss: 0.1160 - val_loss: 0.7312 - val_output_1_loss: 0.0453 - val_output_2_loss: 0.0543 - val_output_3_loss: 0.0633 - val_output_4_loss: 0.0723 - val_output_5_loss: 0.0812 - val_output_6_loss: 0.0902 - val_output_7_loss: 0.0992 - val_output_8_loss: 0.1082 - val_output_9_loss: 0.1172\n",
      "Epoch 17/30\n",
      "7/7 - 1s - loss: 0.7268 - output_1_loss: 0.0459 - output_2_loss: 0.0546 - output_3_loss: 0.0633 - output_4_loss: 0.0720 - output_5_loss: 0.0808 - output_6_loss: 0.0895 - output_7_loss: 0.0982 - output_8_loss: 0.1069 - output_9_loss: 0.1156 - val_loss: 0.7312 - val_output_1_loss: 0.0477 - val_output_2_loss: 0.0561 - val_output_3_loss: 0.0645 - val_output_4_loss: 0.0729 - val_output_5_loss: 0.0812 - val_output_6_loss: 0.0896 - val_output_7_loss: 0.0980 - val_output_8_loss: 0.1064 - val_output_9_loss: 0.1148\n",
      "Epoch 18/30\n",
      "7/7 - 1s - loss: 0.7269 - output_1_loss: 0.0471 - output_2_loss: 0.0555 - output_3_loss: 0.0639 - output_4_loss: 0.0723 - output_5_loss: 0.0808 - output_6_loss: 0.0892 - output_7_loss: 0.0976 - output_8_loss: 0.1061 - output_9_loss: 0.1145 - val_loss: 0.7311 - val_output_1_loss: 0.0451 - val_output_2_loss: 0.0541 - val_output_3_loss: 0.0632 - val_output_4_loss: 0.0722 - val_output_5_loss: 0.0812 - val_output_6_loss: 0.0903 - val_output_7_loss: 0.0993 - val_output_8_loss: 0.1084 - val_output_9_loss: 0.1174\n",
      "Epoch 19/30\n",
      "7/7 - 1s - loss: 0.7268 - output_1_loss: 0.0450 - output_2_loss: 0.0539 - output_3_loss: 0.0629 - output_4_loss: 0.0718 - output_5_loss: 0.0808 - output_6_loss: 0.0897 - output_7_loss: 0.0986 - output_8_loss: 0.1076 - output_9_loss: 0.1165 - val_loss: 0.7317 - val_output_1_loss: 0.0469 - val_output_2_loss: 0.0555 - val_output_3_loss: 0.0641 - val_output_4_loss: 0.0727 - val_output_5_loss: 0.0813 - val_output_6_loss: 0.0899 - val_output_7_loss: 0.0985 - val_output_8_loss: 0.1071 - val_output_9_loss: 0.1157\n",
      "Epoch 20/30\n",
      "7/7 - 1s - loss: 0.7270 - output_1_loss: 0.0466 - output_2_loss: 0.0551 - output_3_loss: 0.0637 - output_4_loss: 0.0722 - output_5_loss: 0.0808 - output_6_loss: 0.0893 - output_7_loss: 0.0979 - output_8_loss: 0.1064 - output_9_loss: 0.1150 - val_loss: 0.7310 - val_output_1_loss: 0.0470 - val_output_2_loss: 0.0555 - val_output_3_loss: 0.0641 - val_output_4_loss: 0.0727 - val_output_5_loss: 0.0812 - val_output_6_loss: 0.0898 - val_output_7_loss: 0.0983 - val_output_8_loss: 0.1069 - val_output_9_loss: 0.1155\n",
      "Epoch 21/30\n",
      "7/7 - 1s - loss: 0.7266 - output_1_loss: 0.0458 - output_2_loss: 0.0546 - output_3_loss: 0.0633 - output_4_loss: 0.0720 - output_5_loss: 0.0807 - output_6_loss: 0.0895 - output_7_loss: 0.0982 - output_8_loss: 0.1069 - output_9_loss: 0.1156 - val_loss: 0.7310 - val_output_1_loss: 0.0449 - val_output_2_loss: 0.0540 - val_output_3_loss: 0.0631 - val_output_4_loss: 0.0721 - val_output_5_loss: 0.0812 - val_output_6_loss: 0.0903 - val_output_7_loss: 0.0994 - val_output_8_loss: 0.1085 - val_output_9_loss: 0.1176\n",
      "Epoch 22/30\n",
      "7/7 - 1s - loss: 0.7268 - output_1_loss: 0.0451 - output_2_loss: 0.0540 - output_3_loss: 0.0629 - output_4_loss: 0.0718 - output_5_loss: 0.0808 - output_6_loss: 0.0897 - output_7_loss: 0.0986 - output_8_loss: 0.1075 - output_9_loss: 0.1164 - val_loss: 0.7315 - val_output_1_loss: 0.0485 - val_output_2_loss: 0.0567 - val_output_3_loss: 0.0649 - val_output_4_loss: 0.0731 - val_output_5_loss: 0.0813 - val_output_6_loss: 0.0895 - val_output_7_loss: 0.0977 - val_output_8_loss: 0.1059 - val_output_9_loss: 0.1141\n",
      "Epoch 23/30\n",
      "7/7 - 1s - loss: 0.7272 - output_1_loss: 0.0468 - output_2_loss: 0.0553 - output_3_loss: 0.0638 - output_4_loss: 0.0723 - output_5_loss: 0.0808 - output_6_loss: 0.0893 - output_7_loss: 0.0978 - output_8_loss: 0.1063 - output_9_loss: 0.1148 - val_loss: 0.7310 - val_output_1_loss: 0.0458 - val_output_2_loss: 0.0547 - val_output_3_loss: 0.0635 - val_output_4_loss: 0.0724 - val_output_5_loss: 0.0812 - val_output_6_loss: 0.0901 - val_output_7_loss: 0.0989 - val_output_8_loss: 0.1078 - val_output_9_loss: 0.1167\n",
      "Epoch 24/30\n",
      "7/7 - 1s - loss: 0.7268 - output_1_loss: 0.0460 - output_2_loss: 0.0547 - output_3_loss: 0.0634 - output_4_loss: 0.0721 - output_5_loss: 0.0808 - output_6_loss: 0.0895 - output_7_loss: 0.0981 - output_8_loss: 0.1068 - output_9_loss: 0.1155 - val_loss: 0.7304 - val_output_1_loss: 0.0440 - val_output_2_loss: 0.0533 - val_output_3_loss: 0.0626 - val_output_4_loss: 0.0719 - val_output_5_loss: 0.0812 - val_output_6_loss: 0.0905 - val_output_7_loss: 0.0998 - val_output_8_loss: 0.1090 - val_output_9_loss: 0.1183\n",
      "Epoch 25/30\n",
      "7/7 - 1s - loss: 0.7266 - output_1_loss: 0.0456 - output_2_loss: 0.0544 - output_3_loss: 0.0632 - output_4_loss: 0.0719 - output_5_loss: 0.0807 - output_6_loss: 0.0895 - output_7_loss: 0.0983 - output_8_loss: 0.1071 - output_9_loss: 0.1159 - val_loss: 0.7319 - val_output_1_loss: 0.0463 - val_output_2_loss: 0.0551 - val_output_3_loss: 0.0638 - val_output_4_loss: 0.0726 - val_output_5_loss: 0.0813 - val_output_6_loss: 0.0901 - val_output_7_loss: 0.0988 - val_output_8_loss: 0.1076 - val_output_9_loss: 0.1163\n",
      "Epoch 26/30\n",
      "7/7 - 1s - loss: 0.7266 - output_1_loss: 0.0464 - output_2_loss: 0.0550 - output_3_loss: 0.0636 - output_4_loss: 0.0721 - output_5_loss: 0.0807 - output_6_loss: 0.0893 - output_7_loss: 0.0979 - output_8_loss: 0.1065 - output_9_loss: 0.1151 - val_loss: 0.7318 - val_output_1_loss: 0.0434 - val_output_2_loss: 0.0528 - val_output_3_loss: 0.0623 - val_output_4_loss: 0.0718 - val_output_5_loss: 0.0813 - val_output_6_loss: 0.0908 - val_output_7_loss: 0.1003 - val_output_8_loss: 0.1098 - val_output_9_loss: 0.1193\n",
      "Epoch 27/30\n",
      "7/7 - 1s - loss: 0.7268 - output_1_loss: 0.0451 - output_2_loss: 0.0540 - output_3_loss: 0.0629 - output_4_loss: 0.0718 - output_5_loss: 0.0808 - output_6_loss: 0.0897 - output_7_loss: 0.0986 - output_8_loss: 0.1075 - output_9_loss: 0.1164 - val_loss: 0.7310 - val_output_1_loss: 0.0455 - val_output_2_loss: 0.0544 - val_output_3_loss: 0.0634 - val_output_4_loss: 0.0723 - val_output_5_loss: 0.0812 - val_output_6_loss: 0.0902 - val_output_7_loss: 0.0991 - val_output_8_loss: 0.1080 - val_output_9_loss: 0.1169\n",
      "Epoch 28/30\n",
      "7/7 - 1s - loss: 0.7270 - output_1_loss: 0.0467 - output_2_loss: 0.0553 - output_3_loss: 0.0638 - output_4_loss: 0.0723 - output_5_loss: 0.0808 - output_6_loss: 0.0893 - output_7_loss: 0.0978 - output_8_loss: 0.1063 - output_9_loss: 0.1148 - val_loss: 0.7305 - val_output_1_loss: 0.0460 - val_output_2_loss: 0.0548 - val_output_3_loss: 0.0636 - val_output_4_loss: 0.0724 - val_output_5_loss: 0.0812 - val_output_6_loss: 0.0900 - val_output_7_loss: 0.0988 - val_output_8_loss: 0.1076 - val_output_9_loss: 0.1164\n",
      "Epoch 29/30\n",
      "7/7 - 1s - loss: 0.7264 - output_1_loss: 0.0454 - output_2_loss: 0.0542 - output_3_loss: 0.0631 - output_4_loss: 0.0719 - output_5_loss: 0.0807 - output_6_loss: 0.0895 - output_7_loss: 0.0984 - output_8_loss: 0.1072 - output_9_loss: 0.1160 - val_loss: 0.7310 - val_output_1_loss: 0.0466 - val_output_2_loss: 0.0553 - val_output_3_loss: 0.0639 - val_output_4_loss: 0.0726 - val_output_5_loss: 0.0812 - val_output_6_loss: 0.0899 - val_output_7_loss: 0.0985 - val_output_8_loss: 0.1072 - val_output_9_loss: 0.1158\n",
      "Epoch 30/30\n",
      "7/7 - 1s - loss: 0.7272 - output_1_loss: 0.0473 - output_2_loss: 0.0557 - output_3_loss: 0.0640 - output_4_loss: 0.0724 - output_5_loss: 0.0808 - output_6_loss: 0.0892 - output_7_loss: 0.0976 - output_8_loss: 0.1059 - output_9_loss: 0.1143 - val_loss: 0.7324 - val_output_1_loss: 0.0480 - val_output_2_loss: 0.0563 - val_output_3_loss: 0.0647 - val_output_4_loss: 0.0730 - val_output_5_loss: 0.0814 - val_output_6_loss: 0.0897 - val_output_7_loss: 0.0981 - val_output_8_loss: 0.1064 - val_output_9_loss: 0.1148\n"
     ]
    }
   ],
   "source": [
    "# TensorBoard callback.\n",
    "log_dir = \"logs/fit/\" + datetime.datetime.now().strftime(f\"{os.environ['NOTEBOOKNAME']}-%Y%m%d-%H%M%S\")\n",
    "tb_callback = tf.keras.callbacks.TensorBoard(log_dir = log_dir, histogram_freq = 1)\n",
    "    \n",
    "_ = model.fit(\n",
    "    tr_dataset,\n",
    "    validation_data = vl_dataset,\n",
    "    epochs = args[\"EPOCH\"],\n",
    "    verbose = 2,\n",
    "    callbacks = [tb_callback])"
   ]
  },
  {
   "cell_type": "code",
   "execution_count": 102,
   "metadata": {},
   "outputs": [
    {
     "data": {
      "text/html": [
       "\n",
       "      <iframe id=\"tensorboard-frame-4220fe842671e610\" width=\"100%\" height=\"800\" frameborder=\"0\">\n",
       "      </iframe>\n",
       "      <script>\n",
       "        (function() {\n",
       "          const frame = document.getElementById(\"tensorboard-frame-4220fe842671e610\");\n",
       "          const url = new URL(\"/\", window.location);\n",
       "          const port = 6006;\n",
       "          if (port) {\n",
       "            url.port = port;\n",
       "          }\n",
       "          frame.src = url;\n",
       "        })();\n",
       "      </script>\n",
       "    "
      ],
      "text/plain": [
       "<IPython.core.display.HTML object>"
      ]
     },
     "metadata": {},
     "output_type": "display_data"
    }
   ],
   "source": [
    "%tensorboard --logdir logs/fit --host jupyter-server"
   ]
  },
  {
   "cell_type": "markdown",
   "metadata": {},
   "source": [
    "# **Predict**"
   ]
  },
  {
   "cell_type": "code",
   "execution_count": null,
   "metadata": {},
   "outputs": [],
   "source": []
  },
  {
   "cell_type": "code",
   "execution_count": null,
   "metadata": {},
   "outputs": [],
   "source": []
  },
  {
   "cell_type": "code",
   "execution_count": null,
   "metadata": {},
   "outputs": [],
   "source": []
  },
  {
   "cell_type": "code",
   "execution_count": 76,
   "metadata": {},
   "outputs": [
    {
     "data": {
      "text/plain": [
       "(81, 96)"
      ]
     },
     "execution_count": 76,
     "metadata": {},
     "output_type": "execute_result"
    }
   ],
   "source": [
    "pred = np.array(model.predict(ts_dataset))[..., -1] # (9, 81, 96)\n",
    "# pred = np.transpose(pred, axes = (1, 2, 0)) # (81, 96, 9)\n",
    "# pred = np.reshape(pred, (-1, pred.shape[-1]))\n",
    "pred.shape"
   ]
  },
  {
   "cell_type": "code",
   "execution_count": 46,
   "metadata": {},
   "outputs": [
    {
     "data": {
      "text/html": [
       "<div>\n",
       "<style scoped>\n",
       "    .dataframe tbody tr th:only-of-type {\n",
       "        vertical-align: middle;\n",
       "    }\n",
       "\n",
       "    .dataframe tbody tr th {\n",
       "        vertical-align: top;\n",
       "    }\n",
       "\n",
       "    .dataframe thead th {\n",
       "        text-align: right;\n",
       "    }\n",
       "</style>\n",
       "<table border=\"1\" class=\"dataframe\">\n",
       "  <thead>\n",
       "    <tr style=\"text-align: right;\">\n",
       "      <th></th>\n",
       "      <th>q_0.1</th>\n",
       "      <th>q_0.2</th>\n",
       "      <th>q_0.3</th>\n",
       "      <th>q_0.4</th>\n",
       "      <th>q_0.5</th>\n",
       "      <th>q_0.6</th>\n",
       "      <th>q_0.7</th>\n",
       "      <th>q_0.8</th>\n",
       "      <th>q_0.9</th>\n",
       "    </tr>\n",
       "    <tr>\n",
       "      <th>id</th>\n",
       "      <th></th>\n",
       "      <th></th>\n",
       "      <th></th>\n",
       "      <th></th>\n",
       "      <th></th>\n",
       "      <th></th>\n",
       "      <th></th>\n",
       "      <th></th>\n",
       "      <th></th>\n",
       "    </tr>\n",
       "  </thead>\n",
       "  <tbody>\n",
       "    <tr>\n",
       "      <th>0.csv_Day7_0h00m</th>\n",
       "      <td>0.0</td>\n",
       "      <td>0.0</td>\n",
       "      <td>0.0</td>\n",
       "      <td>0.0</td>\n",
       "      <td>0.0</td>\n",
       "      <td>0.0</td>\n",
       "      <td>0.0</td>\n",
       "      <td>0.0</td>\n",
       "      <td>0.0</td>\n",
       "    </tr>\n",
       "    <tr>\n",
       "      <th>0.csv_Day7_0h30m</th>\n",
       "      <td>0.0</td>\n",
       "      <td>0.0</td>\n",
       "      <td>0.0</td>\n",
       "      <td>0.0</td>\n",
       "      <td>0.0</td>\n",
       "      <td>0.0</td>\n",
       "      <td>0.0</td>\n",
       "      <td>0.0</td>\n",
       "      <td>0.0</td>\n",
       "    </tr>\n",
       "    <tr>\n",
       "      <th>0.csv_Day7_1h00m</th>\n",
       "      <td>0.0</td>\n",
       "      <td>0.0</td>\n",
       "      <td>0.0</td>\n",
       "      <td>0.0</td>\n",
       "      <td>0.0</td>\n",
       "      <td>0.0</td>\n",
       "      <td>0.0</td>\n",
       "      <td>0.0</td>\n",
       "      <td>0.0</td>\n",
       "    </tr>\n",
       "    <tr>\n",
       "      <th>0.csv_Day7_1h30m</th>\n",
       "      <td>0.0</td>\n",
       "      <td>0.0</td>\n",
       "      <td>0.0</td>\n",
       "      <td>0.0</td>\n",
       "      <td>0.0</td>\n",
       "      <td>0.0</td>\n",
       "      <td>0.0</td>\n",
       "      <td>0.0</td>\n",
       "      <td>0.0</td>\n",
       "    </tr>\n",
       "    <tr>\n",
       "      <th>0.csv_Day7_2h00m</th>\n",
       "      <td>0.0</td>\n",
       "      <td>0.0</td>\n",
       "      <td>0.0</td>\n",
       "      <td>0.0</td>\n",
       "      <td>0.0</td>\n",
       "      <td>0.0</td>\n",
       "      <td>0.0</td>\n",
       "      <td>0.0</td>\n",
       "      <td>0.0</td>\n",
       "    </tr>\n",
       "  </tbody>\n",
       "</table>\n",
       "</div>"
      ],
      "text/plain": [
       "                  q_0.1  q_0.2  q_0.3  q_0.4  q_0.5  q_0.6  q_0.7  q_0.8  \\\n",
       "id                                                                         \n",
       "0.csv_Day7_0h00m    0.0    0.0    0.0    0.0    0.0    0.0    0.0    0.0   \n",
       "0.csv_Day7_0h30m    0.0    0.0    0.0    0.0    0.0    0.0    0.0    0.0   \n",
       "0.csv_Day7_1h00m    0.0    0.0    0.0    0.0    0.0    0.0    0.0    0.0   \n",
       "0.csv_Day7_1h30m    0.0    0.0    0.0    0.0    0.0    0.0    0.0    0.0   \n",
       "0.csv_Day7_2h00m    0.0    0.0    0.0    0.0    0.0    0.0    0.0    0.0   \n",
       "\n",
       "                  q_0.9  \n",
       "id                       \n",
       "0.csv_Day7_0h00m    0.0  \n",
       "0.csv_Day7_0h30m    0.0  \n",
       "0.csv_Day7_1h00m    0.0  \n",
       "0.csv_Day7_1h30m    0.0  \n",
       "0.csv_Day7_2h00m    0.0  "
      ]
     },
     "execution_count": 46,
     "metadata": {},
     "output_type": "execute_result"
    }
   ],
   "source": [
    "sample_submission = pd.read_csv(os.path.join(os.environ[\"LOCAL_DATA_PATH\"], \"sample_submission.csv\"), index_col = \"id\")\n",
    "sample_submission.head()"
   ]
  },
  {
   "cell_type": "code",
   "execution_count": 56,
   "metadata": {},
   "outputs": [],
   "source": [
    "sample_submission[:] = pred"
   ]
  },
  {
   "cell_type": "code",
   "execution_count": 62,
   "metadata": {},
   "outputs": [],
   "source": [
    "sample_submission.to_csv(os.path.join(os.environ[\"SUBMISSION_PATH\"], f\"{os.environ['NOTEBOOKNAME']}_submission.csv\"))"
   ]
  }
 ],
 "metadata": {
  "kernelspec": {
   "display_name": "Python 3",
   "language": "python",
   "name": "python3"
  },
  "language_info": {
   "codemirror_mode": {
    "name": "ipython",
    "version": 3
   },
   "file_extension": ".py",
   "mimetype": "text/x-python",
   "name": "python",
   "nbconvert_exporter": "python",
   "pygments_lexer": "ipython3",
   "version": "3.6.9"
  }
 },
 "nbformat": 4,
 "nbformat_minor": 4
}
