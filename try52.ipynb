{
 "cells": [
  {
   "cell_type": "markdown",
   "metadata": {},
   "source": [
    "# **Default Setting**\n",
    "\n",
    "* Python: 3.6.9\n",
    "* ML Framework: tensorflow-gpu 2.4.0 / tensorflow-addons 0.12.0\n",
    "* CPU: AMD Ryzen 5 5600X 6-Core Processor\n",
    "* GPU: GeForce RTX 3070 (8G) (CUDA 11.1)\n",
    "* RAM: 32G\n",
    "* Platform: Linux Ubuntu 20.04 LTS (desktop)\n",
    "\n",
    "Install below APIs using anaconda as belows.\n",
    "\n",
    "```\n",
    "conda create -n py36 python=3.6.9\n",
    "conda acitvate py36\n",
    "conda install jupyterlab\n",
    "pip3 install tensorflow-gpu=2.4.0\n",
    "pip3 install tensorflow-addons\n",
    "conda install pandas, matplotlib\n",
    "```\n",
    "\n",
    "And now, you can run jupyter lab (or jupyter notebook).\n",
    "\n",
    "```\n",
    "jupyter lab\n",
    "```"
   ]
  },
  {
   "cell_type": "code",
   "execution_count": 1,
   "metadata": {},
   "outputs": [
    {
     "name": "stdout",
     "output_type": "stream",
     "text": [
      "env: NOTEBOOKNAME=try52\n",
      "env: LOCAL_DATA_PATH=data\n",
      "env: CHECKPOINT_PATH=ckpt\n",
      "env: SUBMISSION_PATH=submission\n"
     ]
    }
   ],
   "source": [
    "%env NOTEBOOKNAME try52\n",
    "%env LOCAL_DATA_PATH data\n",
    "%env CHECKPOINT_PATH ckpt\n",
    "%env SUBMISSION_PATH submission"
   ]
  },
  {
   "cell_type": "code",
   "execution_count": 2,
   "metadata": {},
   "outputs": [
    {
     "name": "stdout",
     "output_type": "stream",
     "text": [
      "tf.__version__: 2.4.0\n",
      "tfa.__version__: 0.12.0\n"
     ]
    }
   ],
   "source": [
    "import tensorflow as tf\n",
    "import tensorflow_addons as tfa\n",
    "\n",
    "import datetime\n",
    "import glob\n",
    "import os\n",
    "import platform\n",
    "\n",
    "import numpy as np\n",
    "import pandas as pd\n",
    "\n",
    "from collections import OrderedDict\n",
    "from matplotlib import pyplot as plt\n",
    "\n",
    "print(f\"tf.__version__: {tf.__version__}\")\n",
    "print(f\"tfa.__version__: {tfa.__version__}\")"
   ]
  },
  {
   "cell_type": "code",
   "execution_count": 3,
   "metadata": {},
   "outputs": [
    {
     "name": "stdout",
     "output_type": "stream",
     "text": [
      "1 Physical GPUs, 1 Logical GPUs\n"
     ]
    }
   ],
   "source": [
    "# If you wanna avoid below error, you need to run below codes when you start kernel.\n",
    "\n",
    "# UnknownError: Failed to get convolution algorithm. This is probably because cuDNN failed to initialize, \n",
    "# so try looking to see if a warning log message was printed above. [Op:Conv2D]\n",
    "\n",
    "# Ref: https://blog.naver.com/vft1500/221793591386\n",
    "\n",
    "gpus = tf.config.list_physical_devices('GPU')\n",
    "if gpus:\n",
    "    try:\n",
    "    # Currently, memory growth needs to be the same across GPUs\n",
    "        for gpu in gpus:\n",
    "            tf.config.experimental.set_memory_growth(gpu, True)\n",
    "        logical_gpus = tf.config.experimental.list_logical_devices('GPU')\n",
    "        print(len(gpus), \"Physical GPUs,\", len(logical_gpus), \"Logical GPUs\")\n",
    "    except RuntimeError as e:\n",
    "        # Memory growth must be set before GPUs have been initialized\n",
    "        print(e)"
   ]
  },
  {
   "cell_type": "code",
   "execution_count": 4,
   "metadata": {},
   "outputs": [],
   "source": [
    "# !python -V"
   ]
  },
  {
   "cell_type": "code",
   "execution_count": 5,
   "metadata": {},
   "outputs": [],
   "source": [
    "# !cat /proc/cpuinfo"
   ]
  },
  {
   "cell_type": "code",
   "execution_count": 6,
   "metadata": {},
   "outputs": [
    {
     "name": "stdout",
     "output_type": "stream",
     "text": [
      "Sun Dec 27 15:00:27 2020       \n",
      "+-----------------------------------------------------------------------------+\n",
      "| NVIDIA-SMI 455.32.00    Driver Version: 455.32.00    CUDA Version: 11.1     |\n",
      "|-------------------------------+----------------------+----------------------+\n",
      "| GPU  Name        Persistence-M| Bus-Id        Disp.A | Volatile Uncorr. ECC |\n",
      "| Fan  Temp  Perf  Pwr:Usage/Cap|         Memory-Usage | GPU-Util  Compute M. |\n",
      "|                               |                      |               MIG M. |\n",
      "|===============================+======================+======================|\n",
      "|   0  Graphics Device     On   | 00000000:0A:00.0  On |                  N/A |\n",
      "|  0%   45C    P2    32W / 220W |    731MiB /  7979MiB |      7%      Default |\n",
      "|                               |                      |                  N/A |\n",
      "+-------------------------------+----------------------+----------------------+\n",
      "                                                                               \n",
      "+-----------------------------------------------------------------------------+\n",
      "| Processes:                                                                  |\n",
      "|  GPU   GI   CI        PID   Type   Process name                  GPU Memory |\n",
      "|        ID   ID                                                   Usage      |\n",
      "|=============================================================================|\n",
      "|    0   N/A  N/A       926      G   /usr/lib/xorg/Xorg                 35MiB |\n",
      "|    0   N/A  N/A      1437      G   /usr/lib/xorg/Xorg                121MiB |\n",
      "|    0   N/A  N/A      1562      G   /usr/bin/gnome-shell              111MiB |\n",
      "|    0   N/A  N/A      1992      G   ...AAAAAAAA== --shared-files      144MiB |\n",
      "|    0   N/A  N/A     15749      C   ...nda3/envs/py36/bin/python      303MiB |\n",
      "+-----------------------------------------------------------------------------+\n"
     ]
    }
   ],
   "source": [
    "!nvidia-smi"
   ]
  },
  {
   "cell_type": "code",
   "execution_count": 7,
   "metadata": {},
   "outputs": [],
   "source": [
    "# !df -h"
   ]
  },
  {
   "cell_type": "code",
   "execution_count": 8,
   "metadata": {},
   "outputs": [
    {
     "name": "stdout",
     "output_type": "stream",
     "text": [
      "              total        used        free      shared  buff/cache   available\n",
      "Mem:           31Gi       3.6Gi        23Gi       424Mi       4.6Gi        26Gi\n",
      "Swap:         2.0Gi          0B       2.0Gi\n"
     ]
    }
   ],
   "source": [
    "!free -h"
   ]
  },
  {
   "cell_type": "code",
   "execution_count": 9,
   "metadata": {},
   "outputs": [],
   "source": [
    "# platform.platform()"
   ]
  },
  {
   "cell_type": "code",
   "execution_count": 10,
   "metadata": {},
   "outputs": [],
   "source": [
    "# Load the TensorBoard notebook extension.\n",
    "# %load_ext tensorboard"
   ]
  },
  {
   "cell_type": "markdown",
   "metadata": {},
   "source": [
    "# **Define Arguments**"
   ]
  },
  {
   "cell_type": "code",
   "execution_count": 11,
   "metadata": {},
   "outputs": [
    {
     "data": {
      "text/plain": [
       "OrderedDict([('SEED', 42),\n",
       "             ('TEST_SIZE', 0.2),\n",
       "             ('EPOCH', 10),\n",
       "             ('INIT_LR', 0.001),\n",
       "             ('NUM_TEST_CSV', 81),\n",
       "             ('DAY', 48),\n",
       "             ('W_INP', 336),\n",
       "             ('W_TAR', 96),\n",
       "             ('W_INP_DAY', 7),\n",
       "             ('W_TAR_DAY', 2),\n",
       "             ('W_SHIFT', 1),\n",
       "             ('W_STRIDE', 1),\n",
       "             ('W_DR', True),\n",
       "             ('AUTO', -1),\n",
       "             ('GLOBAL_BATCH_SIZE', 128),\n",
       "             ('NUM_UNITS', 128),\n",
       "             ('NUM_FEATURES', 7),\n",
       "             ('NUM_QUANTILE', 9)])"
      ]
     },
     "execution_count": 11,
     "metadata": {},
     "output_type": "execute_result"
    }
   ],
   "source": [
    "args = OrderedDict({\n",
    "    # Basic\n",
    "    \"SEED\": 42,\n",
    "    \"TEST_SIZE\": 0.2,\n",
    "    \"EPOCH\": 10,\n",
    "    \"INIT_LR\": 1e-3,\n",
    "    \n",
    "    # Dataframe\n",
    "    \"NUM_TEST_CSV\": 81,\n",
    "    \"DAY\": 48,\n",
    "    \n",
    "    # Dataset Pipeline\n",
    "    \"W_INP\": 7 * 24 * 2, # 7 days\n",
    "    \"W_TAR\": 2 * 24 * 2, # 2 days\n",
    "    \"W_INP_DAY\": 7,\n",
    "    \"W_TAR_DAY\": 2,\n",
    "    \"W_SHIFT\": 1,  # 1 day\n",
    "    \"W_STRIDE\": 1, # 1 day\n",
    "    \"W_DR\": True,  # Drop remainders\n",
    "    \"AUTO\": tf.data.experimental.AUTOTUNE,\n",
    "    \n",
    "    \"GLOBAL_BATCH_SIZE\": 128,\n",
    "    \n",
    "    # Model\n",
    "    \"NUM_UNITS\": 128, # lstm & dense units\n",
    "    \"NUM_FEATURES\": 7, # Day_sin, Day_cos, DHI, DNI, WS, RH, T\n",
    "    \"NUM_QUANTILE\": 9, # tau = 0.1 to 0.9\n",
    "})\n",
    "\n",
    "args"
   ]
  },
  {
   "cell_type": "markdown",
   "metadata": {},
   "source": [
    "# **Load Datasets**"
   ]
  },
  {
   "cell_type": "markdown",
   "metadata": {},
   "source": [
    "## **Define Preprocessing Funciton**"
   ]
  },
  {
   "cell_type": "code",
   "execution_count": 12,
   "metadata": {},
   "outputs": [],
   "source": [
    "def preprocessing(df, is_training = True, day = args[\"DAY\"]): # 24 / 0.5 [h]\n",
    "    # Drop timestampes.\n",
    "    try:\n",
    "        # We cannot use day features, thus there is no day-position in test dataset.\n",
    "        df = df.drop([\"Day\"], axis = 1) \n",
    "    except:\n",
    "        pass\n",
    "    \n",
    "    \n",
    "    # Timestamp to sin/cos.\n",
    "    df[\"Time\"] = 2 * df[\"Hour\"].map(int) + (df[\"Minute\"].map(int) // 30)\n",
    "    \n",
    "    day_sin = np.sin(df[\"Time\"] * (2 * np.pi / day))\n",
    "    day_cos = np.cos(df[\"Time\"] * (2 * np.pi / day))\n",
    "        \n",
    "    df.insert(loc = 0, column = \"DAY_SIN\", value = day_sin)\n",
    "    df.insert(loc = 1, column = \"DAY_COS\", value = day_cos)\n",
    "    \n",
    "    df = df.drop([\"Hour\", \"Minute\", \"Time\"], axis = 1)\n",
    "    \n",
    "    \n",
    "    # Standarize.\n",
    "    for column in df.columns:\n",
    "        df[column] = df[column].map(np.float32)\n",
    "        if is_training:\n",
    "            args[f\"{column}_MEAN\"] = df[column].mean()\n",
    "            args[f\"{column}_STD\"] = df[column].std()\n",
    "        \n",
    "        df[column] = (df[column] - args[f\"{column}_MEAN\"]) / args[f\"{column}_STD\"]\n",
    "        \n",
    "    return df"
   ]
  },
  {
   "cell_type": "markdown",
   "metadata": {},
   "source": [
    "## **Train & Validation Dataframes**"
   ]
  },
  {
   "cell_type": "code",
   "execution_count": 13,
   "metadata": {},
   "outputs": [
    {
     "data": {
      "text/html": [
       "<div>\n",
       "<style scoped>\n",
       "    .dataframe tbody tr th:only-of-type {\n",
       "        vertical-align: middle;\n",
       "    }\n",
       "\n",
       "    .dataframe tbody tr th {\n",
       "        vertical-align: top;\n",
       "    }\n",
       "\n",
       "    .dataframe thead th {\n",
       "        text-align: right;\n",
       "    }\n",
       "</style>\n",
       "<table border=\"1\" class=\"dataframe\">\n",
       "  <thead>\n",
       "    <tr style=\"text-align: right;\">\n",
       "      <th></th>\n",
       "      <th>Day</th>\n",
       "      <th>Hour</th>\n",
       "      <th>Minute</th>\n",
       "      <th>DHI</th>\n",
       "      <th>DNI</th>\n",
       "      <th>WS</th>\n",
       "      <th>RH</th>\n",
       "      <th>T</th>\n",
       "      <th>TARGET</th>\n",
       "    </tr>\n",
       "  </thead>\n",
       "  <tbody>\n",
       "    <tr>\n",
       "      <th>0</th>\n",
       "      <td>0</td>\n",
       "      <td>0</td>\n",
       "      <td>0</td>\n",
       "      <td>0</td>\n",
       "      <td>0</td>\n",
       "      <td>1.5</td>\n",
       "      <td>69.08</td>\n",
       "      <td>-12</td>\n",
       "      <td>0.0</td>\n",
       "    </tr>\n",
       "    <tr>\n",
       "      <th>1</th>\n",
       "      <td>0</td>\n",
       "      <td>0</td>\n",
       "      <td>30</td>\n",
       "      <td>0</td>\n",
       "      <td>0</td>\n",
       "      <td>1.5</td>\n",
       "      <td>69.06</td>\n",
       "      <td>-12</td>\n",
       "      <td>0.0</td>\n",
       "    </tr>\n",
       "    <tr>\n",
       "      <th>2</th>\n",
       "      <td>0</td>\n",
       "      <td>1</td>\n",
       "      <td>0</td>\n",
       "      <td>0</td>\n",
       "      <td>0</td>\n",
       "      <td>1.6</td>\n",
       "      <td>71.78</td>\n",
       "      <td>-12</td>\n",
       "      <td>0.0</td>\n",
       "    </tr>\n",
       "    <tr>\n",
       "      <th>3</th>\n",
       "      <td>0</td>\n",
       "      <td>1</td>\n",
       "      <td>30</td>\n",
       "      <td>0</td>\n",
       "      <td>0</td>\n",
       "      <td>1.6</td>\n",
       "      <td>71.75</td>\n",
       "      <td>-12</td>\n",
       "      <td>0.0</td>\n",
       "    </tr>\n",
       "    <tr>\n",
       "      <th>4</th>\n",
       "      <td>0</td>\n",
       "      <td>2</td>\n",
       "      <td>0</td>\n",
       "      <td>0</td>\n",
       "      <td>0</td>\n",
       "      <td>1.6</td>\n",
       "      <td>75.20</td>\n",
       "      <td>-12</td>\n",
       "      <td>0.0</td>\n",
       "    </tr>\n",
       "  </tbody>\n",
       "</table>\n",
       "</div>"
      ],
      "text/plain": [
       "   Day  Hour  Minute  DHI  DNI   WS     RH   T  TARGET\n",
       "0    0     0       0    0    0  1.5  69.08 -12     0.0\n",
       "1    0     0      30    0    0  1.5  69.06 -12     0.0\n",
       "2    0     1       0    0    0  1.6  71.78 -12     0.0\n",
       "3    0     1      30    0    0  1.6  71.75 -12     0.0\n",
       "4    0     2       0    0    0  1.6  75.20 -12     0.0"
      ]
     },
     "execution_count": 13,
     "metadata": {},
     "output_type": "execute_result"
    }
   ],
   "source": [
    "df = pd.read_csv(os.path.join(os.environ[\"LOCAL_DATA_PATH\"], \"train\", \"train.csv\"))\n",
    "df.head()"
   ]
  },
  {
   "cell_type": "code",
   "execution_count": 14,
   "metadata": {},
   "outputs": [
    {
     "data": {
      "text/plain": [
       "((42048, 8), (10512, 8))"
      ]
     },
     "execution_count": 14,
     "metadata": {},
     "output_type": "execute_result"
    }
   ],
   "source": [
    "args[\"SPLIT_LEN\"] = int(df.shape[0] * (1. - args[\"TEST_SIZE\"]))\n",
    "args[\"SPLIT_LEN\"] = args[\"SPLIT_LEN\"] - np.mod(args[\"SPLIT_LEN\"], args[\"DAY\"])\n",
    "\n",
    "tr_df = df[:args[\"SPLIT_LEN\"]]\n",
    "vl_df = df[args[\"SPLIT_LEN\"]:]\n",
    "\n",
    "tr_df = preprocessing(tr_df)\n",
    "vl_df = preprocessing(vl_df, is_training = False)\n",
    "\n",
    "tr_df.shape, vl_df.shape"
   ]
  },
  {
   "cell_type": "code",
   "execution_count": 15,
   "metadata": {},
   "outputs": [
    {
     "data": {
      "image/png": "[encoded data removed]",
      "text/plain": [
       "<Figure size 432x288 with 1 Axes>"
      ]
     },
     "metadata": {
      "needs_background": "light"
     },
     "output_type": "display_data"
    }
   ],
   "source": [
    "plt.plot(np.array(tr_df[\"DAY_SIN\"])[:args[\"DAY\"]], label = \"day_sin\")\n",
    "plt.plot(np.array(tr_df[\"DAY_COS\"])[:args[\"DAY\"]], label = \"day_cos\")\n",
    "plt.legend()\n",
    "plt.xticks(np.arange(0, 48, 12), np.arange(0, 24, 6))\n",
    "plt.xlabel('Time [h]')\n",
    "plt.grid(True)\n",
    "plt.title('Time of day signal')\n",
    "plt.show()"
   ]
  },
  {
   "cell_type": "markdown",
   "metadata": {},
   "source": [
    "## **Test Dataframe**"
   ]
  },
  {
   "cell_type": "code",
   "execution_count": 16,
   "metadata": {},
   "outputs": [
    {
     "data": {
      "text/plain": [
       "(27216, 8)"
      ]
     },
     "execution_count": 16,
     "metadata": {},
     "output_type": "execute_result"
    }
   ],
   "source": [
    "ts_filenames = [os.path.join(os.environ[\"LOCAL_DATA_PATH\"], \"test\", f\"{i}.csv\") for i in range(args[\"NUM_TEST_CSV\"])]\n",
    "ts_dfs = [preprocessing(pd.read_csv(ts_filename), is_training = False) for ts_filename in ts_filenames]\n",
    "ts_df = pd.concat(ts_dfs)\n",
    "\n",
    "ts_df.shape"
   ]
  },
  {
   "cell_type": "markdown",
   "metadata": {},
   "source": [
    "# **Make Dataset Pipelines**\n",
    "\n",
    "The first batch is to bundle the tensors as input into units of a day. The operation below can guarantee that the number of sequences of tr_tensor and vl_tensor is a multiple of a day (i.e. 48), so `drop_remainder = True` is actually meaningless. However, it was added to specify the shape of the input data during the window division process (`.window(...)`)\n",
    "\n",
    "```\n",
    "args[\"SPLIT_LEN\"] = int(df.shape[0] * (1. - args[\"TEST_SIZE\"]))\n",
    "args[\"SPLIT_LEN\"] = args[\"SPLIT_LEN\"] - np.mod(args[\"SPLIT_LEN\"], args[\"DAY\"]) # this process\n",
    "\n",
    "tr_df = df[:args[\"SPLIT_LEN\"]]\n",
    "vl_df = df[args[\"SPLIT_LEN\"]:]\n",
    "```\n",
    "\n",
    "It is recommended to cache the dataset after the map transformation except if this transformation makes the data too big to fit in memory. A trade-off can be achieved if your mapped function can be split in two parts: a time consuming one and a memory consuming part. In this case, you can chain your transformations like below:\n",
    "\n",
    "```\n",
    "dataset.map(time_consuming_mapping).cache().map(memory_consuming_mapping)\n",
    "```\n",
    "\n",
    "If the cache is executed after partioning the window, the amount of data loaded in the memory increases by about 9 times (=`(WINDOW_INP + WINDOW_TAR) / WINDOW_STRIDE)`. Obviously, the mapping process comsumes a lot of time, but since we have to train a model like this 9 times, it would be desirable to load it into the cache mory before the window split.\n",
    "\n",
    "Also `cache` produce exactly the same elements during each iteration through the dataset. If you wish to randomize the iteration order, make sure to call `shuffle` after calling `cache`.\n",
    "\n",
    "Immediately after the window is splited, the mapping function `_split_window` is called after stacking with `GLOBAL_BATCH_SIZE`. This time, the vectorized mapping function is called once and applies to a batch of sample. While the function could takes more time to execute, the overhead appear only once, improving the overall time performance.\n",
    "        \n",
    "*References*\n",
    "   * *https://www.tensorflow.org/guide/data_performance*\n",
    "   * *https://www.tensorflow.org/api_docs/python/tf/data/Dataset*"
   ]
  },
  {
   "cell_type": "code",
   "execution_count": 17,
   "metadata": {},
   "outputs": [],
   "source": [
    "@tf.function\n",
    "def _flat_fn_tr(x):\n",
    "    return x.batch(args[\"W_INP\"] + args[\"W_TAR\"])\n",
    "\n",
    "\n",
    "@tf.function\n",
    "def _flat_fn_ts(x):\n",
    "    return x.batch(args[\"W_INP\"])\n",
    "\n",
    "\n",
    "@tf.function\n",
    "def _split_window_tr(features):\n",
    "    \"\"\"\n",
    "        input:  [batch, 432, 8] = [batch, W_INP + W_TAR, NUM_FEATURES + TARGET]\n",
    "        output: [batch, 7, 48, 7], [batch, 2, 48, 1]\n",
    "    \"\"\"\n",
    "    # [batch, 432, 8] => [batch, 9, 48, 8]\n",
    "    features = tf.reshape(features, [-1, args[\"W_INP_DAY\"] + args[\"W_TAR_DAY\"], args[\"DAY\"], features.shape[-1]])\n",
    "    \n",
    "    inp, tar = tf.split(features, [args[\"W_INP_DAY\"], args[\"W_TAR_DAY\"]], axis = 1)\n",
    "    \n",
    "    # Same as \"return inp[..., :-1], (tar[..., :-1], tar[..., -1:])\".\n",
    "    inp, _ = tf.split(inp, [args[\"NUM_FEATURES\"], -1], axis = -1)\n",
    "    _, tar = tf.split(tar, [args[\"NUM_FEATURES\"], -1], axis = -1)\n",
    "    \n",
    "    aux, real = tf.split(tar, [1, 1], axis = 1)\n",
    "    \n",
    "    return inp, (aux, real)\n",
    "    \n",
    "\n",
    "@tf.function\n",
    "def _split_window_ts(features):\n",
    "    \"\"\"\n",
    "        input:  [batch, 336, 8] = [batch, W_INP, NUM_FEATURES + TARGET]\n",
    "        output: [batch, 7, 48, 7]\n",
    "    \"\"\"\n",
    "    features = tf.reshape(features, [-1, args[\"W_INP_DAY\"], args[\"DAY\"], features.shape[-1]])\n",
    "    \n",
    "    inp, _ = tf.split(features, [args[\"NUM_FEATURES\"], -1], axis = -1)\n",
    "    \n",
    "    return inp"
   ]
  },
  {
   "cell_type": "code",
   "execution_count": 21,
   "metadata": {},
   "outputs": [
    {
     "name": "stdout",
     "output_type": "stream",
     "text": [
      "tr_dataset:\n",
      "\tinp: TensorSpec(shape=(None, 7, 48, 7), dtype=tf.float32, name=None)\n",
      "\ttar:\n",
      "\t\t aux: TensorSpec(shape=(None, 1, 48, 1), dtype=tf.float32, name=None)\n",
      "\t\treal: TensorSpec(shape=(None, 1, 48, 1), dtype=tf.float32, name=None)\n",
      "vl_dataset:\n",
      "\tinp: TensorSpec(shape=(None, 7, 48, 7), dtype=tf.float32, name=None)\n",
      "\ttar:\n",
      "\t\t aux: TensorSpec(shape=(None, 1, 48, 1), dtype=tf.float32, name=None)\n",
      "\t\treal: TensorSpec(shape=(None, 1, 48, 1), dtype=tf.float32, name=None)\n",
      "ts_dataset:\n",
      "\tinp: TensorSpec(shape=(None, 7, 48, 7), dtype=tf.float32, name=None)\n"
     ]
    }
   ],
   "source": [
    "# Dataframe to tensor.\n",
    "tr_tensor = tf.constant(tr_df, dtype = tf.float32)\n",
    "vl_tensor = tf.constant(vl_df, dtype = tf.float32)\n",
    "ts_tensor = tf.constant(ts_df, dtype = tf.float32)\n",
    "\n",
    "# Tensor to dataset.\n",
    "tr_dataset = tf.data.Dataset.from_tensor_slices(tr_tensor\n",
    "                    ).window(args[\"W_INP\"] + args[\"W_TAR\"], args[\"W_SHIFT\"], args[\"W_STRIDE\"], args[\"W_DR\"]).flat_map(_flat_fn_tr\n",
    "                    ).cache(\n",
    "                    ).shuffle(100_000, reshuffle_each_iteration = True\n",
    "                    ).batch(args[\"GLOBAL_BATCH_SIZE\"]\n",
    "                    ).map(_split_window_tr, num_parallel_calls = args[\"AUTO\"]\n",
    "                    ).prefetch(args[\"AUTO\"])\n",
    "\n",
    "vl_dataset = tf.data.Dataset.from_tensor_slices(vl_tensor\n",
    "                    ).window(args[\"W_INP\"] + args[\"W_TAR\"], args[\"W_SHIFT\"], args[\"W_STRIDE\"], args[\"W_DR\"]).flat_map(_flat_fn_tr\n",
    "                    ).cache(\n",
    "#                     ).shuffle(100_000, reshuffle_each_iteration = True\n",
    "                    ).batch(args[\"GLOBAL_BATCH_SIZE\"]\n",
    "                    ).map(_split_window_tr, num_parallel_calls = args[\"AUTO\"]\n",
    "                    ).prefetch(args[\"AUTO\"])\n",
    "\n",
    "ts_dataset = tf.data.Dataset.from_tensor_slices(ts_tensor\n",
    "                    ).window(args[\"W_INP\"], args[\"W_INP\"], args[\"W_STRIDE\"], args[\"W_DR\"]).flat_map(_flat_fn_ts\n",
    "#                     ).cache(\n",
    "#                     ).shuffle(100_000, reshuffle_each_iteration = True\n",
    "                    ).batch(args[\"NUM_TEST_CSV\"] # not GLOBA_BATCH_SIZE\n",
    "                    ).map(_split_window_ts, num_parallel_calls = args[\"AUTO\"]\n",
    "                    ).prefetch(args[\"AUTO\"])\n",
    "\n",
    "# Print the shapes.\n",
    "print(\"tr_dataset:\")\n",
    "print(f\"\\tinp: {tr_dataset.element_spec[0]}\")\n",
    "print(f\"\\ttar:\")\n",
    "print(f\"\\t\\t aux: {tr_dataset.element_spec[1][0]}\")\n",
    "print(f\"\\t\\treal: {tr_dataset.element_spec[1][1]}\")\n",
    "\n",
    "print(\"vl_dataset:\")\n",
    "print(f\"\\tinp: {vl_dataset.element_spec[0]}\")\n",
    "print(f\"\\ttar:\")\n",
    "print(f\"\\t\\t aux: {vl_dataset.element_spec[1][0]}\")\n",
    "print(f\"\\t\\treal: {vl_dataset.element_spec[1][1]}\")\n",
    "\n",
    "print(\"ts_dataset:\")\n",
    "print(f\"\\tinp: {ts_dataset.element_spec}\")"
   ]
  },
  {
   "cell_type": "markdown",
   "metadata": {},
   "source": [
    "## **Take Samples**"
   ]
  },
  {
   "cell_type": "code",
   "execution_count": 46,
   "metadata": {},
   "outputs": [
    {
     "name": "stdout",
     "output_type": "stream",
     "text": [
      "(128, 7, 48, 7) (128, 1, 48, 1) (128, 1, 48, 1)\n"
     ]
    }
   ],
   "source": [
    "for element in tr_dataset.take(1):\n",
    "    foo, (bar, qux) = element\n",
    "    print(foo.shape, bar.shape, qux.shape)"
   ]
  },
  {
   "cell_type": "code",
   "execution_count": 47,
   "metadata": {},
   "outputs": [
    {
     "name": "stdout",
     "output_type": "stream",
     "text": [
      "(128, 7, 48, 7) (128, 1, 48, 1) (128, 1, 48, 1)\n"
     ]
    }
   ],
   "source": [
    "for element in vl_dataset.take(1):\n",
    "    foo, (bar, qux) = element\n",
    "    print(foo.shape, bar.shape, qux.shape)"
   ]
  },
  {
   "cell_type": "code",
   "execution_count": 48,
   "metadata": {},
   "outputs": [
    {
     "name": "stdout",
     "output_type": "stream",
     "text": [
      "(81, 7, 48, 7)\n"
     ]
    }
   ],
   "source": [
    "for element in ts_dataset.take(1):\n",
    "    foo = element\n",
    "    print(foo.shape)"
   ]
  },
  {
   "cell_type": "markdown",
   "metadata": {},
   "source": [
    "# **Define Loss Function**"
   ]
  },
  {
   "cell_type": "markdown",
   "metadata": {},
   "source": [
    "Dacon defines the loss as shown below.\n",
    "\n",
    "$$ L_\\tau = maximum(\\zeta\\tau, \\zeta(\\tau-1)) $$\n",
    "\n",
    "However, [the pinball loss of tensorflow-addons](https://www.tensorflow.org/addons/api_docs/python/tfa/losses/pinball_loss) is implemented as follows.\n",
    "\n",
    "$$ L_\\tau = \\begin{cases} \\zeta\\tau & \\text{ if } \\zeta \\geq 0 \\\\ -\\zeta(1-\\tau)=\\zeta(\\tau-1) & \\text{ if } \\zeta < 0 \\end{cases}$$\n",
    "\n",
    "The description of the symbols used in is as follows.\n",
    "\n",
    "* $\\zeta$ : y_true - y_pred\n",
    "* $\\tau$ : Quantile values in \\[0.1, 0.2, ..., 0.9\\]\n",
    "* $L_\\tau$ : Pinball loss function with $\\tau$\n",
    "\n",
    "The two formulas seem intuitively different, but if you actually divide the interval, you can see that they are the same. However, in experience, it seems to force an underforecast when the evaluation expression of dacon is $\\tau=0.1, 0.2$. In fact, for $\\tau=0.1, 0.2$, the prediction (blue lines) in the target models mostly overlaps the label (yellow lines) or lies below the graph."
   ]
  },
  {
   "cell_type": "code",
   "execution_count": 22,
   "metadata": {},
   "outputs": [],
   "source": [
    "# Define customized pinball loss function, named tuned_pinball_loss thus there exists finely differences \n",
    "# between the function of tensorflow-addons and the requirements of DACON.\n",
    "\n",
    "# Ref: https://github.com/tensorflow/addons/blob/v0.11.2/tensorflow_addons/losses/quantiles.py\n",
    "\n",
    "@tf.function\n",
    "def custom_pinball_loss(\n",
    "    y_true: tf.Tensor, \n",
    "    y_pred: tf.Tensor, \n",
    "    tau: float = 0.5,\n",
    ") -> tf.Tensor:\n",
    "    \"\"\"Computes the pinball loss between \"y_true\" and \"y_pred\" like dacon-style.\"\"\"\n",
    "    y_pred = tf.convert_to_tensor(y_pred)\n",
    "    y_true = tf.cast(y_true, y_pred.dtype)\n",
    "    tau = tf.cast(tau, y_pred.dtype)\n",
    "    \n",
    "    delta_y = tf.math.abs(y_true - y_pred)\n",
    "    # It performs \"tau = tau if y_true >= y_pred else (1 - tau)\" for elemental-wise.\n",
    "    _tau = tf.where(tf.math.greater_equal(y_true, y_pred), tau, 1 - tau)\n",
    "    \n",
    "    pinball = delta_y * _tau\n",
    "    return tf.reduce_mean(pinball, axis = -1)\n",
    "\n",
    "\n",
    "class CustomPinballLoss(tfa.utils.keras_utils.LossFunctionWrapper):\n",
    "    def __init__(\n",
    "        self,\n",
    "        tau: tfa.utils.types.FloatTensorLike = 0.5,\n",
    "        reduction: str = tf.keras.losses.Reduction.AUTO,\n",
    "        name: str = \"custom_pinball_loss\",\n",
    "    ):\n",
    "        super().__init__(custom_pinball_loss, reduction = reduction, name = name, tau = tau)"
   ]
  },
  {
   "cell_type": "markdown",
   "metadata": {},
   "source": [
    "# **Create Network**"
   ]
  },
  {
   "cell_type": "markdown",
   "metadata": {},
   "source": [
    "## **Autoregressive-LSTM Model**\n",
    "\n",
    "```\n",
    "\"\"\"Pytorch Style with Class\"\"\"\n",
    "class AR_LSTM(tf.keras.Model):\n",
    "    def __init__(self, target_model, units, out_steps, name):\n",
    "        super(AR_LSTM, self).__init__(name = name)\n",
    "        self.target_model = target_model # [batch, 7] => [batch, 1]\n",
    "        self.units = units\n",
    "        self.out_steps = out_steps\n",
    "        self.num_features = args[\"NUM_FEATURES\"]\n",
    "        \n",
    "        self.lstm_rnn = tf.keras.layers.RNN([\n",
    "            tf.keras.layers.LSTMCell(self.units),\n",
    "            tf.keras.layers.LSTMCell(self.units),\n",
    "            tf.keras.layers.LSTMCell(self.units)], return_state = True)\n",
    "        self.dense = tf.keras.layers.Dense(self.num_features)\n",
    "        \n",
    "    \n",
    "    def warmup(self, inputs):\n",
    "        # [batch, time, features] => [batch, units]\n",
    "        x, *state = self.lstm_rnn(inputs)\n",
    "        # [batch, units] => [batch, num_features]\n",
    "        prediction = self.dense(x)\n",
    "        return prediction, state\n",
    "        \n",
    "        \n",
    "    def call(self, inputs, training = None):\n",
    "        aux_outputs, real_outputs = [], []\n",
    "        \n",
    "        prediction, state = self.warmup(inputs)\n",
    "        \n",
    "        aux_outputs.append(prediction)\n",
    "        real_outputs.append(self.target_model(prediction))\n",
    "        \n",
    "        for n in range(1, self.out_steps):\n",
    "            x = tf.expand_dims(prediction, axis = 1)\n",
    "            # [batch, num_features] => [batch, units]\n",
    "            x, *state = self.lstm_rnn(x, initial_state = state, training = training)\n",
    "            # [batch, units] => [batch, num_features]\n",
    "            prediction = self.dense(x)\n",
    "            \n",
    "            aux_outputs.append(prediction)\n",
    "            real_outputs.append(self.target_model(prediction))\n",
    "            \n",
    "        aux_outputs = tf.stack(aux_outputs, axis = 1)\n",
    "        real_outputs = tf.stack(real_outputs, axis = 1)\n",
    "        return (aux_outputs, real_outputs)\n",
    "```\n",
    "\n",
    "When implementing a model using a functional API, you can use the powerful visualization function provided by keras. You can check the number of parameters for each layer by using the model.summary() function, and you can visualize the entire flow diagram of the model by using tf.keras.utils.plot_model().\n",
    "\n",
    "By using these tasks, you can see the I/O size of each layer at a glance, so it will reduce the hassle of checking the shape by calling the function inside the class as follows.\n",
    "\n",
    "```\n",
    "# Make a tmperary model.\n",
    "tmp = AR_LSTM(...)\n",
    "\n",
    "# Make dummy dataset.\n",
    "dummy_x = tf.zeros([args[\"GLOBAL_BATCH_SIZE\"], args[\"WINDOW_INP\"], args[\"NUM_FEATURES\"]], dtype = tf.float32)\n",
    "print(f\"dummy_x.shape: {dummy_x.shape}\")\n",
    "\n",
    "# Check the shapes of wampup and call functions.\n",
    "dummy_w, _ = tmp.warmup(dummy_x)\n",
    "dummy_y, dummy_z = tmp(dummy_x)\n",
    "\n",
    "# Print the shapes.\n",
    "print(f\"The shapes of warmup output: {dummy_w.shape}\")\n",
    "print(f\"The shapes of auxiliary output: {dummy_y.shape}\")\n",
    "print(f\"The shapes of real output: {dummy_z.shape}\")\n",
    "```\n",
    "\n",
    "As a result, these tasks will have a positive impact on the future direction of the project by reminding you of the need to increase or decrease the size of the model."
   ]
  },
  {
   "cell_type": "code",
   "execution_count": 41,
   "metadata": {},
   "outputs": [],
   "source": [
    "def create_AR_LSTM(model_name, units = 32, out_steps = 2):\n",
    "    convlstm2d = tf.keras.layers.ConvLSTM2D(units, 3, padding = \"same\", return_state = True, dropout = 0.4)\n",
    "    reshape = tf.keras.layers.Lambda(lambda x: tf.expand_dims(x, axis = 1), name = \"expand_timestamp_dim\")\n",
    "    predict = tf.keras.layers.TimeDistributed(tf.keras.Sequential([\n",
    "        tf.keras.layers.Flatten(),\n",
    "        tf.keras.layers.Dense(units, activation = \"relu\"),\n",
    "        tf.keras.layers.Dense(1)]))\n",
    "    aux_outputs, real_outputs = [], []\n",
    "    \n",
    "    # Entry flow.\n",
    "    model_input = tf.keras.layers.Input(\n",
    "        shape = [args[\"W_INP_DAY\"], args[\"DAY\"], args[\"NUM_FEATURES\"]], dtype = tf.float32)\n",
    "    \n",
    "    x = tf.keras.layers.Lambda(lambda x: tf.expand_dims(x, axis = -1), name = \"expand_channel_dim\")(model_input)\n",
    "    x = tf.keras.layers.TimeDistributed(tf.keras.layers.Conv2D(units, 3, padding = \"same\", activation = \"relu\"))(x)\n",
    "    \n",
    "    # Warmup.\n",
    "    x, *state = convlstm2d(x)\n",
    "    aux_outputs.append(predict(x))\n",
    "    \n",
    "    # Middle flow.\n",
    "    for _ in range(1, out_steps):\n",
    "        x = reshape(x)\n",
    "        x, *state = convlstm2d(x, initial_state = state)\n",
    "        real_outputs.append(predict(x))\n",
    "        \n",
    "    aux = tf.keras.layers.Lambda(lambda x: tf.stack(x, axis = 1), name = \"aux\")(aux_outputs)\n",
    "    real = tf.keras.layers.Lambda(lambda x: tf.stack(x, axis = 1), name = \"real\")(real_outputs)\n",
    "    \n",
    "    return tf.keras.Model(\n",
    "        inputs = model_input,\n",
    "        outputs = [aux, real],\n",
    "        name = model_name)"
   ]
  },
  {
   "cell_type": "code",
   "execution_count": 42,
   "metadata": {},
   "outputs": [
    {
     "name": "stdout",
     "output_type": "stream",
     "text": [
      "Model: \"tmp\"\n",
      "__________________________________________________________________________________________________\n",
      "Layer (type)                    Output Shape         Param #     Connected to                     \n",
      "==================================================================================================\n",
      "input_6 (InputLayer)            [(None, 7, 48, 7)]   0                                            \n",
      "__________________________________________________________________________________________________\n",
      "expand_channel_dim (Lambda)     (None, 7, 48, 7, 1)  0           input_6[0][0]                    \n",
      "__________________________________________________________________________________________________\n",
      "time_distributed_12 (TimeDistri (None, 7, 48, 7, 32) 320         expand_channel_dim[0][0]         \n",
      "__________________________________________________________________________________________________\n",
      "conv_lst_m2d_5 (ConvLSTM2D)     [(None, 48, 7, 32),  73856       time_distributed_12[0][0]        \n",
      "                                                                 expand_timestamp_dim[0][0]       \n",
      "                                                                 conv_lst_m2d_5[0][1]             \n",
      "                                                                 conv_lst_m2d_5[0][2]             \n",
      "__________________________________________________________________________________________________\n",
      "expand_timestamp_dim (Lambda)   (None, 1, 48, 7, 32) 0           conv_lst_m2d_5[0][0]             \n",
      "__________________________________________________________________________________________________\n",
      "time_distributed_11 (TimeDistri (None, 48, 1)        7233        conv_lst_m2d_5[0][0]             \n",
      "                                                                 conv_lst_m2d_5[1][0]             \n",
      "__________________________________________________________________________________________________\n",
      "aux (Lambda)                    (None, 1, 48, 1)     0           time_distributed_11[0][0]        \n",
      "__________________________________________________________________________________________________\n",
      "real (Lambda)                   (None, 1, 48, 1)     0           time_distributed_11[1][0]        \n",
      "==================================================================================================\n",
      "Total params: 81,409\n",
      "Trainable params: 81,409\n",
      "Non-trainable params: 0\n",
      "__________________________________________________________________________________________________\n"
     ]
    }
   ],
   "source": [
    "tmp = create_AR_LSTM(\"tmp\")\n",
    "tmp.summary()"
   ]
  },
  {
   "cell_type": "code",
   "execution_count": 43,
   "metadata": {},
   "outputs": [
    {
     "data": {
      "image/png": "[encoded data removed]",
      "text/plain": [
       "<IPython.core.display.Image object>"
      ]
     },
     "execution_count": 43,
     "metadata": {},
     "output_type": "execute_result"
    }
   ],
   "source": [
    "tf.keras.utils.plot_model(tmp, show_layer_names = True, show_shapes = False, rankdir = \"TB\")"
   ]
  },
  {
   "cell_type": "code",
   "execution_count": 44,
   "metadata": {},
   "outputs": [
    {
     "data": {
      "image/png": "[encoded data removed]",
      "text/plain": [
       "<IPython.core.display.Image object>"
      ]
     },
     "execution_count": 44,
     "metadata": {},
     "output_type": "execute_result"
    }
   ],
   "source": [
    "tf.keras.utils.plot_model(tmp, show_shapes = True)"
   ]
  },
  {
   "cell_type": "code",
   "execution_count": 45,
   "metadata": {},
   "outputs": [],
   "source": [
    "del tmp"
   ]
  },
  {
   "cell_type": "markdown",
   "metadata": {},
   "source": [
    "# **Compile and Fit**"
   ]
  },
  {
   "cell_type": "code",
   "execution_count": 49,
   "metadata": {},
   "outputs": [],
   "source": [
    "def get_callbacks(model_name: str):\n",
    "    \"\"\"Get checkpoint and tensorboard callbacks.\"\"\"\n",
    "    # Checkpoint callback.\n",
    "    ckpt_path = os.path.join(\n",
    "        os.environ[\"CHECKPOINT_PATH\"], os.environ[\"NOTEBOOKNAME\"], \n",
    "        model_name, \"cp-{epoch:03d}-{val_loss:.4f}.ckpt\")\n",
    "    ckpt_dir = os.path.dirname(ckpt_path)\n",
    "    os.makedirs(ckpt_dir, exist_ok = True)\n",
    "    \n",
    "    cp_callback = tf.keras.callbacks.ModelCheckpoint(\n",
    "        ckpt_path, verbose = 0, monitor = \"val_loss\", save_weights_only = True, save_best_only = True)\n",
    "    \n",
    "    # TensorBoard callback.\n",
    "    log_dir = os.path.join(\n",
    "        \"logs\", \"fit\", os.environ[\"NOTEBOOKNAME\"], datetime.datetime.now().strftime(f\"{model_name}-%Y%m%d-%H%M%S\"))\n",
    "    tb_callback = tf.keras.callbacks.TensorBoard(log_dir = log_dir, histogram_freq = 1)\n",
    "    \n",
    "    return [cp_callback, tb_callback]\n",
    "    \n",
    "\n",
    "def compile_and_fit(model, tau, tr_dataset, vl_dataset, epochs, verbose = 0):\n",
    "    \"\"\"Compile and fit the model.\"\"\"\n",
    "    model.compile(\n",
    "        loss = CustomPinballLoss(tau = tau),\n",
    "        optimizer = tf.keras.optimizers.Adam(args[\"INIT_LR\"]))\n",
    "    \n",
    "    print(f\"Model {model.name}...\")\n",
    "\n",
    "    history = model.fit(\n",
    "        tr_dataset,\n",
    "        validation_data = vl_dataset,\n",
    "        epochs = epochs,\n",
    "        verbose = verbose,\n",
    "        callbacks = get_callbacks(model.name))\n",
    "\n",
    "    return history"
   ]
  },
  {
   "cell_type": "code",
   "execution_count": 50,
   "metadata": {},
   "outputs": [
    {
     "name": "stdout",
     "output_type": "stream",
     "text": [
      "Model P0.1...\n",
      "Epoch 1/10\n",
      "326/326 - 28s - loss: 0.1259 - aux_loss: 0.0625 - real_loss: 0.0634 - val_loss: 0.1136 - val_aux_loss: 0.0568 - val_real_loss: 0.0568\n",
      "Epoch 2/10\n",
      "326/326 - 22s - loss: 0.1107 - aux_loss: 0.0547 - real_loss: 0.0560 - val_loss: 0.1125 - val_aux_loss: 0.0563 - val_real_loss: 0.0562\n",
      "Epoch 3/10\n",
      "326/326 - 22s - loss: 0.1081 - aux_loss: 0.0533 - real_loss: 0.0548 - val_loss: 0.1131 - val_aux_loss: 0.0564 - val_real_loss: 0.0568\n",
      "Epoch 4/10\n",
      "326/326 - 22s - loss: 0.1043 - aux_loss: 0.0513 - real_loss: 0.0530 - val_loss: 0.1148 - val_aux_loss: 0.0571 - val_real_loss: 0.0577\n",
      "Epoch 5/10\n",
      "326/326 - 23s - loss: 0.0980 - aux_loss: 0.0482 - real_loss: 0.0498 - val_loss: 0.1190 - val_aux_loss: 0.0588 - val_real_loss: 0.0602\n",
      "Epoch 6/10\n",
      "326/326 - 23s - loss: 0.0893 - aux_loss: 0.0441 - real_loss: 0.0451 - val_loss: 0.1297 - val_aux_loss: 0.0639 - val_real_loss: 0.0658\n",
      "Epoch 7/10\n",
      "326/326 - 23s - loss: 0.0816 - aux_loss: 0.0405 - real_loss: 0.0411 - val_loss: 0.1567 - val_aux_loss: 0.0756 - val_real_loss: 0.0811\n",
      "Epoch 8/10\n",
      "326/326 - 23s - loss: 0.0742 - aux_loss: 0.0370 - real_loss: 0.0372 - val_loss: 0.1552 - val_aux_loss: 0.0749 - val_real_loss: 0.0804\n",
      "Epoch 9/10\n",
      "326/326 - 23s - loss: 0.0691 - aux_loss: 0.0345 - real_loss: 0.0346 - val_loss: 0.1537 - val_aux_loss: 0.0755 - val_real_loss: 0.0782\n",
      "Epoch 10/10\n",
      "326/326 - 23s - loss: 0.0639 - aux_loss: 0.0319 - real_loss: 0.0320 - val_loss: 0.1627 - val_aux_loss: 0.0806 - val_real_loss: 0.0822\n",
      "Model P0.2...\n",
      "Epoch 1/10\n",
      "326/326 - 27s - loss: 0.1921 - aux_loss: 0.0946 - real_loss: 0.0974 - val_loss: 0.1850 - val_aux_loss: 0.0917 - val_real_loss: 0.0933\n",
      "Epoch 2/10\n",
      "326/326 - 23s - loss: 0.1735 - aux_loss: 0.0848 - real_loss: 0.0887 - val_loss: 0.1822 - val_aux_loss: 0.0905 - val_real_loss: 0.0917\n",
      "Epoch 3/10\n",
      "326/326 - 23s - loss: 0.1635 - aux_loss: 0.0801 - real_loss: 0.0833 - val_loss: 0.1848 - val_aux_loss: 0.0915 - val_real_loss: 0.0933\n",
      "Epoch 4/10\n",
      "326/326 - 23s - loss: 0.1475 - aux_loss: 0.0728 - real_loss: 0.0748 - val_loss: 0.1971 - val_aux_loss: 0.0977 - val_real_loss: 0.0994\n",
      "Epoch 5/10\n",
      "326/326 - 23s - loss: 0.1317 - aux_loss: 0.0652 - real_loss: 0.0665 - val_loss: 0.1944 - val_aux_loss: 0.0964 - val_real_loss: 0.0980\n",
      "Epoch 6/10\n",
      "326/326 - 23s - loss: 0.1189 - aux_loss: 0.0589 - real_loss: 0.0599 - val_loss: 0.2054 - val_aux_loss: 0.1022 - val_real_loss: 0.1032\n",
      "Epoch 7/10\n",
      "326/326 - 23s - loss: 0.1085 - aux_loss: 0.0538 - real_loss: 0.0547 - val_loss: 0.2125 - val_aux_loss: 0.1041 - val_real_loss: 0.1085\n",
      "Epoch 8/10\n",
      "326/326 - 23s - loss: 0.1011 - aux_loss: 0.0501 - real_loss: 0.0509 - val_loss: 0.2183 - val_aux_loss: 0.1084 - val_real_loss: 0.1099\n",
      "Epoch 9/10\n",
      "326/326 - 23s - loss: 0.0953 - aux_loss: 0.0473 - real_loss: 0.0481 - val_loss: 0.2168 - val_aux_loss: 0.1070 - val_real_loss: 0.1098\n",
      "Epoch 10/10\n",
      "326/326 - 23s - loss: 0.0904 - aux_loss: 0.0449 - real_loss: 0.0455 - val_loss: 0.2250 - val_aux_loss: 0.1117 - val_real_loss: 0.1133\n",
      "Model P0.3...\n",
      "Epoch 1/10\n",
      "326/326 - 27s - loss: 0.2305 - aux_loss: 0.1130 - real_loss: 0.1175 - val_loss: 0.2148 - val_aux_loss: 0.1066 - val_real_loss: 0.1082\n",
      "Epoch 2/10\n",
      "326/326 - 22s - loss: 0.2087 - aux_loss: 0.1017 - real_loss: 0.1071 - val_loss: 0.2167 - val_aux_loss: 0.1076 - val_real_loss: 0.1090\n",
      "Epoch 3/10\n",
      "326/326 - 23s - loss: 0.2000 - aux_loss: 0.0976 - real_loss: 0.1024 - val_loss: 0.2252 - val_aux_loss: 0.1118 - val_real_loss: 0.1135\n",
      "Epoch 4/10\n",
      "326/326 - 23s - loss: 0.1848 - aux_loss: 0.0908 - real_loss: 0.0940 - val_loss: 0.2354 - val_aux_loss: 0.1154 - val_real_loss: 0.1200\n",
      "Epoch 5/10\n",
      "326/326 - 23s - loss: 0.1678 - aux_loss: 0.0833 - real_loss: 0.0846 - val_loss: 0.2347 - val_aux_loss: 0.1158 - val_real_loss: 0.1190\n",
      "Epoch 6/10\n",
      "326/326 - 22s - loss: 0.1532 - aux_loss: 0.0764 - real_loss: 0.0768 - val_loss: 0.2403 - val_aux_loss: 0.1189 - val_real_loss: 0.1214\n",
      "Epoch 7/10\n",
      "326/326 - 23s - loss: 0.1400 - aux_loss: 0.0701 - real_loss: 0.0700 - val_loss: 0.2412 - val_aux_loss: 0.1201 - val_real_loss: 0.1212\n",
      "Epoch 8/10\n",
      "326/326 - 23s - loss: 0.1302 - aux_loss: 0.0650 - real_loss: 0.0652 - val_loss: 0.2496 - val_aux_loss: 0.1242 - val_real_loss: 0.1254\n",
      "Epoch 9/10\n",
      "326/326 - 23s - loss: 0.1220 - aux_loss: 0.0608 - real_loss: 0.0612 - val_loss: 0.2482 - val_aux_loss: 0.1233 - val_real_loss: 0.1250\n",
      "Epoch 10/10\n",
      "326/326 - 22s - loss: 0.1157 - aux_loss: 0.0575 - real_loss: 0.0582 - val_loss: 0.2522 - val_aux_loss: 0.1249 - val_real_loss: 0.1273\n",
      "Model P0.4...\n",
      "Epoch 1/10\n",
      "326/326 - 27s - loss: 0.2454 - aux_loss: 0.1205 - real_loss: 0.1249 - val_loss: 0.2311 - val_aux_loss: 0.1138 - val_real_loss: 0.1173\n",
      "Epoch 2/10\n",
      "326/326 - 23s - loss: 0.2177 - aux_loss: 0.1064 - real_loss: 0.1114 - val_loss: 0.2342 - val_aux_loss: 0.1144 - val_real_loss: 0.1198\n",
      "Epoch 3/10\n",
      "326/326 - 23s - loss: 0.2058 - aux_loss: 0.1009 - real_loss: 0.1049 - val_loss: 0.2353 - val_aux_loss: 0.1158 - val_real_loss: 0.1195\n",
      "Epoch 4/10\n",
      "326/326 - 23s - loss: 0.1905 - aux_loss: 0.0939 - real_loss: 0.0967 - val_loss: 0.2473 - val_aux_loss: 0.1218 - val_real_loss: 0.1255\n",
      "Epoch 5/10\n",
      "326/326 - 24s - loss: 0.1742 - aux_loss: 0.0862 - real_loss: 0.0880 - val_loss: 0.2456 - val_aux_loss: 0.1209 - val_real_loss: 0.1247\n",
      "Epoch 6/10\n",
      "326/326 - 24s - loss: 0.1593 - aux_loss: 0.0791 - real_loss: 0.0802 - val_loss: 0.2573 - val_aux_loss: 0.1264 - val_real_loss: 0.1310\n",
      "Epoch 7/10\n",
      "326/326 - 23s - loss: 0.1474 - aux_loss: 0.0734 - real_loss: 0.0740 - val_loss: 0.2591 - val_aux_loss: 0.1270 - val_real_loss: 0.1321\n",
      "Epoch 8/10\n",
      "326/326 - 24s - loss: 0.1369 - aux_loss: 0.0683 - real_loss: 0.0686 - val_loss: 0.2596 - val_aux_loss: 0.1281 - val_real_loss: 0.1315\n",
      "Epoch 9/10\n",
      "326/326 - 23s - loss: 0.1283 - aux_loss: 0.0640 - real_loss: 0.0643 - val_loss: 0.2628 - val_aux_loss: 0.1306 - val_real_loss: 0.1322\n",
      "Epoch 10/10\n",
      "326/326 - 23s - loss: 0.1215 - aux_loss: 0.0606 - real_loss: 0.0609 - val_loss: 0.2652 - val_aux_loss: 0.1309 - val_real_loss: 0.1344\n",
      "Model P0.5...\n",
      "Epoch 1/10\n",
      "326/326 - 27s - loss: 0.2371 - aux_loss: 0.1169 - real_loss: 0.1201 - val_loss: 0.2330 - val_aux_loss: 0.1144 - val_real_loss: 0.1186\n",
      "Epoch 2/10\n",
      "326/326 - 23s - loss: 0.2083 - aux_loss: 0.1022 - real_loss: 0.1061 - val_loss: 0.2209 - val_aux_loss: 0.1082 - val_real_loss: 0.1127\n",
      "Epoch 3/10\n",
      "326/326 - 23s - loss: 0.1996 - aux_loss: 0.0982 - real_loss: 0.1014 - val_loss: 0.2224 - val_aux_loss: 0.1086 - val_real_loss: 0.1138\n",
      "Epoch 4/10\n",
      "326/326 - 23s - loss: 0.1899 - aux_loss: 0.0938 - real_loss: 0.0961 - val_loss: 0.2255 - val_aux_loss: 0.1105 - val_real_loss: 0.1151\n",
      "Epoch 5/10\n",
      "326/326 - 23s - loss: 0.1785 - aux_loss: 0.0885 - real_loss: 0.0900 - val_loss: 0.2331 - val_aux_loss: 0.1138 - val_real_loss: 0.1193\n",
      "Epoch 6/10\n",
      "326/326 - 22s - loss: 0.1666 - aux_loss: 0.0829 - real_loss: 0.0837 - val_loss: 0.2371 - val_aux_loss: 0.1171 - val_real_loss: 0.1200\n",
      "Epoch 7/10\n",
      "326/326 - 22s - loss: 0.1552 - aux_loss: 0.0775 - real_loss: 0.0777 - val_loss: 0.2387 - val_aux_loss: 0.1178 - val_real_loss: 0.1209\n",
      "Epoch 8/10\n",
      "326/326 - 22s - loss: 0.1456 - aux_loss: 0.0726 - real_loss: 0.0731 - val_loss: 0.2495 - val_aux_loss: 0.1231 - val_real_loss: 0.1265\n",
      "Epoch 9/10\n",
      "326/326 - 22s - loss: 0.1376 - aux_loss: 0.0684 - real_loss: 0.0692 - val_loss: 0.2479 - val_aux_loss: 0.1223 - val_real_loss: 0.1256\n",
      "Epoch 10/10\n",
      "326/326 - 22s - loss: 0.1308 - aux_loss: 0.0650 - real_loss: 0.0658 - val_loss: 0.2475 - val_aux_loss: 0.1229 - val_real_loss: 0.1247\n",
      "Model P0.6...\n",
      "Epoch 1/10\n",
      "326/326 - 25s - loss: 0.2169 - aux_loss: 0.1069 - real_loss: 0.1100 - val_loss: 0.1954 - val_aux_loss: 0.0965 - val_real_loss: 0.0989\n",
      "Epoch 2/10\n",
      "326/326 - 22s - loss: 0.1867 - aux_loss: 0.0920 - real_loss: 0.0947 - val_loss: 0.1929 - val_aux_loss: 0.0949 - val_real_loss: 0.0980\n",
      "Epoch 3/10\n",
      "326/326 - 24s - loss: 0.1802 - aux_loss: 0.0889 - real_loss: 0.0913 - val_loss: 0.1931 - val_aux_loss: 0.0952 - val_real_loss: 0.0979\n",
      "Epoch 4/10\n",
      "326/326 - 23s - loss: 0.1734 - aux_loss: 0.0856 - real_loss: 0.0878 - val_loss: 0.2038 - val_aux_loss: 0.1002 - val_real_loss: 0.1036\n",
      "Epoch 5/10\n",
      "326/326 - 22s - loss: 0.1667 - aux_loss: 0.0823 - real_loss: 0.0844 - val_loss: 0.2023 - val_aux_loss: 0.1001 - val_real_loss: 0.1022\n",
      "Epoch 6/10\n",
      "326/326 - 22s - loss: 0.1587 - aux_loss: 0.0784 - real_loss: 0.0803 - val_loss: 0.2081 - val_aux_loss: 0.1039 - val_real_loss: 0.1042\n",
      "Epoch 7/10\n",
      "326/326 - 22s - loss: 0.1493 - aux_loss: 0.0739 - real_loss: 0.0754 - val_loss: 0.2116 - val_aux_loss: 0.1057 - val_real_loss: 0.1059\n",
      "Epoch 8/10\n",
      "326/326 - 22s - loss: 0.1421 - aux_loss: 0.0704 - real_loss: 0.0716 - val_loss: 0.2127 - val_aux_loss: 0.1063 - val_real_loss: 0.1064\n",
      "Epoch 9/10\n",
      "326/326 - 22s - loss: 0.1349 - aux_loss: 0.0670 - real_loss: 0.0679 - val_loss: 0.2115 - val_aux_loss: 0.1057 - val_real_loss: 0.1058\n",
      "Epoch 10/10\n",
      "326/326 - 22s - loss: 0.1287 - aux_loss: 0.0639 - real_loss: 0.0647 - val_loss: 0.2111 - val_aux_loss: 0.1051 - val_real_loss: 0.1061\n",
      "Model P0.7...\n",
      "Epoch 1/10\n",
      "326/326 - 26s - loss: 0.1821 - aux_loss: 0.0900 - real_loss: 0.0921 - val_loss: 0.1694 - val_aux_loss: 0.0832 - val_real_loss: 0.0862\n",
      "Epoch 2/10\n",
      "326/326 - 22s - loss: 0.1545 - aux_loss: 0.0763 - real_loss: 0.0782 - val_loss: 0.1596 - val_aux_loss: 0.0788 - val_real_loss: 0.0808\n",
      "Epoch 3/10\n",
      "326/326 - 22s - loss: 0.1496 - aux_loss: 0.0738 - real_loss: 0.0758 - val_loss: 0.1569 - val_aux_loss: 0.0775 - val_real_loss: 0.0794\n",
      "Epoch 4/10\n",
      "326/326 - 22s - loss: 0.1453 - aux_loss: 0.0718 - real_loss: 0.0735 - val_loss: 0.1637 - val_aux_loss: 0.0807 - val_real_loss: 0.0830\n",
      "Epoch 5/10\n",
      "326/326 - 22s - loss: 0.1421 - aux_loss: 0.0703 - real_loss: 0.0718 - val_loss: 0.1606 - val_aux_loss: 0.0797 - val_real_loss: 0.0809\n",
      "Epoch 6/10\n",
      "326/326 - 22s - loss: 0.1381 - aux_loss: 0.0684 - real_loss: 0.0697 - val_loss: 0.1627 - val_aux_loss: 0.0811 - val_real_loss: 0.0817\n",
      "Epoch 7/10\n",
      "326/326 - 23s - loss: 0.1338 - aux_loss: 0.0663 - real_loss: 0.0675 - val_loss: 0.1648 - val_aux_loss: 0.0814 - val_real_loss: 0.0833\n",
      "Epoch 8/10\n",
      "326/326 - 22s - loss: 0.1300 - aux_loss: 0.0645 - real_loss: 0.0655 - val_loss: 0.1688 - val_aux_loss: 0.0840 - val_real_loss: 0.0848\n",
      "Epoch 9/10\n",
      "326/326 - 22s - loss: 0.1259 - aux_loss: 0.0625 - real_loss: 0.0634 - val_loss: 0.1685 - val_aux_loss: 0.0834 - val_real_loss: 0.0851\n",
      "Epoch 10/10\n",
      "326/326 - 22s - loss: 0.1216 - aux_loss: 0.0604 - real_loss: 0.0612 - val_loss: 0.1706 - val_aux_loss: 0.0841 - val_real_loss: 0.0865\n",
      "Model P0.8...\n",
      "Epoch 1/10\n",
      "326/326 - 26s - loss: 0.1418 - aux_loss: 0.0704 - real_loss: 0.0714 - val_loss: 0.1181 - val_aux_loss: 0.0585 - val_real_loss: 0.0596\n",
      "Epoch 2/10\n",
      "326/326 - 22s - loss: 0.1134 - aux_loss: 0.0561 - real_loss: 0.0573 - val_loss: 0.1143 - val_aux_loss: 0.0566 - val_real_loss: 0.0577\n",
      "Epoch 3/10\n",
      "326/326 - 22s - loss: 0.1088 - aux_loss: 0.0539 - real_loss: 0.0549 - val_loss: 0.1134 - val_aux_loss: 0.0562 - val_real_loss: 0.0572\n",
      "Epoch 4/10\n"
     ]
    },
    {
     "ename": "KeyboardInterrupt",
     "evalue": "",
     "output_type": "error",
     "traceback": [
      "\u001b[0;31m---------------------------------------------------------------------------\u001b[0m",
      "\u001b[0;31mKeyboardInterrupt\u001b[0m                         Traceback (most recent call last)",
      "\u001b[0;32m<timed exec>\u001b[0m in \u001b[0;36m<module>\u001b[0;34m\u001b[0m\n",
      "\u001b[0;32m<ipython-input-49-5756d52112c7>\u001b[0m in \u001b[0;36mcompile_and_fit\u001b[0;34m(model, tau, tr_dataset, vl_dataset, epochs, verbose)\u001b[0m\n\u001b[1;32m     32\u001b[0m         \u001b[0mepochs\u001b[0m \u001b[0;34m=\u001b[0m \u001b[0mepochs\u001b[0m\u001b[0;34m,\u001b[0m\u001b[0;34m\u001b[0m\u001b[0;34m\u001b[0m\u001b[0m\n\u001b[1;32m     33\u001b[0m         \u001b[0mverbose\u001b[0m \u001b[0;34m=\u001b[0m \u001b[0mverbose\u001b[0m\u001b[0;34m,\u001b[0m\u001b[0;34m\u001b[0m\u001b[0;34m\u001b[0m\u001b[0m\n\u001b[0;32m---> 34\u001b[0;31m         callbacks = get_callbacks(model.name))\n\u001b[0m\u001b[1;32m     35\u001b[0m \u001b[0;34m\u001b[0m\u001b[0m\n\u001b[1;32m     36\u001b[0m     \u001b[0;32mreturn\u001b[0m \u001b[0mhistory\u001b[0m\u001b[0;34m\u001b[0m\u001b[0;34m\u001b[0m\u001b[0m\n",
      "\u001b[0;32m~/anaconda3/envs/py36/lib/python3.6/site-packages/tensorflow/python/keras/engine/training.py\u001b[0m in \u001b[0;36mfit\u001b[0;34m(self, x, y, batch_size, epochs, verbose, callbacks, validation_split, validation_data, shuffle, class_weight, sample_weight, initial_epoch, steps_per_epoch, validation_steps, validation_batch_size, validation_freq, max_queue_size, workers, use_multiprocessing)\u001b[0m\n\u001b[1;32m   1098\u001b[0m                 _r=1):\n\u001b[1;32m   1099\u001b[0m               \u001b[0mcallbacks\u001b[0m\u001b[0;34m.\u001b[0m\u001b[0mon_train_batch_begin\u001b[0m\u001b[0;34m(\u001b[0m\u001b[0mstep\u001b[0m\u001b[0;34m)\u001b[0m\u001b[0;34m\u001b[0m\u001b[0;34m\u001b[0m\u001b[0m\n\u001b[0;32m-> 1100\u001b[0;31m               \u001b[0mtmp_logs\u001b[0m \u001b[0;34m=\u001b[0m \u001b[0mself\u001b[0m\u001b[0;34m.\u001b[0m\u001b[0mtrain_function\u001b[0m\u001b[0;34m(\u001b[0m\u001b[0miterator\u001b[0m\u001b[0;34m)\u001b[0m\u001b[0;34m\u001b[0m\u001b[0;34m\u001b[0m\u001b[0m\n\u001b[0m\u001b[1;32m   1101\u001b[0m               \u001b[0;32mif\u001b[0m \u001b[0mdata_handler\u001b[0m\u001b[0;34m.\u001b[0m\u001b[0mshould_sync\u001b[0m\u001b[0;34m:\u001b[0m\u001b[0;34m\u001b[0m\u001b[0;34m\u001b[0m\u001b[0m\n\u001b[1;32m   1102\u001b[0m                 \u001b[0mcontext\u001b[0m\u001b[0;34m.\u001b[0m\u001b[0masync_wait\u001b[0m\u001b[0;34m(\u001b[0m\u001b[0;34m)\u001b[0m\u001b[0;34m\u001b[0m\u001b[0;34m\u001b[0m\u001b[0m\n",
      "\u001b[0;32m~/anaconda3/envs/py36/lib/python3.6/site-packages/tensorflow/python/eager/def_function.py\u001b[0m in \u001b[0;36m__call__\u001b[0;34m(self, *args, **kwds)\u001b[0m\n\u001b[1;32m    826\u001b[0m     \u001b[0mtracing_count\u001b[0m \u001b[0;34m=\u001b[0m \u001b[0mself\u001b[0m\u001b[0;34m.\u001b[0m\u001b[0mexperimental_get_tracing_count\u001b[0m\u001b[0;34m(\u001b[0m\u001b[0;34m)\u001b[0m\u001b[0;34m\u001b[0m\u001b[0;34m\u001b[0m\u001b[0m\n\u001b[1;32m    827\u001b[0m     \u001b[0;32mwith\u001b[0m \u001b[0mtrace\u001b[0m\u001b[0;34m.\u001b[0m\u001b[0mTrace\u001b[0m\u001b[0;34m(\u001b[0m\u001b[0mself\u001b[0m\u001b[0;34m.\u001b[0m\u001b[0m_name\u001b[0m\u001b[0;34m)\u001b[0m \u001b[0;32mas\u001b[0m \u001b[0mtm\u001b[0m\u001b[0;34m:\u001b[0m\u001b[0;34m\u001b[0m\u001b[0;34m\u001b[0m\u001b[0m\n\u001b[0;32m--> 828\u001b[0;31m       \u001b[0mresult\u001b[0m \u001b[0;34m=\u001b[0m \u001b[0mself\u001b[0m\u001b[0;34m.\u001b[0m\u001b[0m_call\u001b[0m\u001b[0;34m(\u001b[0m\u001b[0;34m*\u001b[0m\u001b[0margs\u001b[0m\u001b[0;34m,\u001b[0m \u001b[0;34m**\u001b[0m\u001b[0mkwds\u001b[0m\u001b[0;34m)\u001b[0m\u001b[0;34m\u001b[0m\u001b[0;34m\u001b[0m\u001b[0m\n\u001b[0m\u001b[1;32m    829\u001b[0m       \u001b[0mcompiler\u001b[0m \u001b[0;34m=\u001b[0m \u001b[0;34m\"xla\"\u001b[0m \u001b[0;32mif\u001b[0m \u001b[0mself\u001b[0m\u001b[0;34m.\u001b[0m\u001b[0m_experimental_compile\u001b[0m \u001b[0;32melse\u001b[0m \u001b[0;34m\"nonXla\"\u001b[0m\u001b[0;34m\u001b[0m\u001b[0;34m\u001b[0m\u001b[0m\n\u001b[1;32m    830\u001b[0m       \u001b[0mnew_tracing_count\u001b[0m \u001b[0;34m=\u001b[0m \u001b[0mself\u001b[0m\u001b[0;34m.\u001b[0m\u001b[0mexperimental_get_tracing_count\u001b[0m\u001b[0;34m(\u001b[0m\u001b[0;34m)\u001b[0m\u001b[0;34m\u001b[0m\u001b[0;34m\u001b[0m\u001b[0m\n",
      "\u001b[0;32m~/anaconda3/envs/py36/lib/python3.6/site-packages/tensorflow/python/eager/def_function.py\u001b[0m in \u001b[0;36m_call\u001b[0;34m(self, *args, **kwds)\u001b[0m\n\u001b[1;32m    853\u001b[0m       \u001b[0;31m# In this case we have created variables on the first call, so we run the\u001b[0m\u001b[0;34m\u001b[0m\u001b[0;34m\u001b[0m\u001b[0;34m\u001b[0m\u001b[0m\n\u001b[1;32m    854\u001b[0m       \u001b[0;31m# defunned version which is guaranteed to never create variables.\u001b[0m\u001b[0;34m\u001b[0m\u001b[0;34m\u001b[0m\u001b[0;34m\u001b[0m\u001b[0m\n\u001b[0;32m--> 855\u001b[0;31m       \u001b[0;32mreturn\u001b[0m \u001b[0mself\u001b[0m\u001b[0;34m.\u001b[0m\u001b[0m_stateless_fn\u001b[0m\u001b[0;34m(\u001b[0m\u001b[0;34m*\u001b[0m\u001b[0margs\u001b[0m\u001b[0;34m,\u001b[0m \u001b[0;34m**\u001b[0m\u001b[0mkwds\u001b[0m\u001b[0;34m)\u001b[0m  \u001b[0;31m# pylint: disable=not-callable\u001b[0m\u001b[0;34m\u001b[0m\u001b[0;34m\u001b[0m\u001b[0m\n\u001b[0m\u001b[1;32m    856\u001b[0m     \u001b[0;32melif\u001b[0m \u001b[0mself\u001b[0m\u001b[0;34m.\u001b[0m\u001b[0m_stateful_fn\u001b[0m \u001b[0;32mis\u001b[0m \u001b[0;32mnot\u001b[0m \u001b[0;32mNone\u001b[0m\u001b[0;34m:\u001b[0m\u001b[0;34m\u001b[0m\u001b[0;34m\u001b[0m\u001b[0m\n\u001b[1;32m    857\u001b[0m       \u001b[0;31m# Release the lock early so that multiple threads can perform the call\u001b[0m\u001b[0;34m\u001b[0m\u001b[0;34m\u001b[0m\u001b[0;34m\u001b[0m\u001b[0m\n",
      "\u001b[0;32m~/anaconda3/envs/py36/lib/python3.6/site-packages/tensorflow/python/eager/function.py\u001b[0m in \u001b[0;36m__call__\u001b[0;34m(self, *args, **kwargs)\u001b[0m\n\u001b[1;32m   2941\u001b[0m        filtered_flat_args) = self._maybe_define_function(args, kwargs)\n\u001b[1;32m   2942\u001b[0m     return graph_function._call_flat(\n\u001b[0;32m-> 2943\u001b[0;31m         filtered_flat_args, captured_inputs=graph_function.captured_inputs)  # pylint: disable=protected-access\n\u001b[0m\u001b[1;32m   2944\u001b[0m \u001b[0;34m\u001b[0m\u001b[0m\n\u001b[1;32m   2945\u001b[0m   \u001b[0;34m@\u001b[0m\u001b[0mproperty\u001b[0m\u001b[0;34m\u001b[0m\u001b[0;34m\u001b[0m\u001b[0m\n",
      "\u001b[0;32m~/anaconda3/envs/py36/lib/python3.6/site-packages/tensorflow/python/eager/function.py\u001b[0m in \u001b[0;36m_call_flat\u001b[0;34m(self, args, captured_inputs, cancellation_manager)\u001b[0m\n\u001b[1;32m   1917\u001b[0m       \u001b[0;31m# No tape is watching; skip to running the function.\u001b[0m\u001b[0;34m\u001b[0m\u001b[0;34m\u001b[0m\u001b[0;34m\u001b[0m\u001b[0m\n\u001b[1;32m   1918\u001b[0m       return self._build_call_outputs(self._inference_function.call(\n\u001b[0;32m-> 1919\u001b[0;31m           ctx, args, cancellation_manager=cancellation_manager))\n\u001b[0m\u001b[1;32m   1920\u001b[0m     forward_backward = self._select_forward_and_backward_functions(\n\u001b[1;32m   1921\u001b[0m         \u001b[0margs\u001b[0m\u001b[0;34m,\u001b[0m\u001b[0;34m\u001b[0m\u001b[0;34m\u001b[0m\u001b[0m\n",
      "\u001b[0;32m~/anaconda3/envs/py36/lib/python3.6/site-packages/tensorflow/python/eager/function.py\u001b[0m in \u001b[0;36mcall\u001b[0;34m(self, ctx, args, cancellation_manager)\u001b[0m\n\u001b[1;32m    558\u001b[0m               \u001b[0minputs\u001b[0m\u001b[0;34m=\u001b[0m\u001b[0margs\u001b[0m\u001b[0;34m,\u001b[0m\u001b[0;34m\u001b[0m\u001b[0;34m\u001b[0m\u001b[0m\n\u001b[1;32m    559\u001b[0m               \u001b[0mattrs\u001b[0m\u001b[0;34m=\u001b[0m\u001b[0mattrs\u001b[0m\u001b[0;34m,\u001b[0m\u001b[0;34m\u001b[0m\u001b[0;34m\u001b[0m\u001b[0m\n\u001b[0;32m--> 560\u001b[0;31m               ctx=ctx)\n\u001b[0m\u001b[1;32m    561\u001b[0m         \u001b[0;32melse\u001b[0m\u001b[0;34m:\u001b[0m\u001b[0;34m\u001b[0m\u001b[0;34m\u001b[0m\u001b[0m\n\u001b[1;32m    562\u001b[0m           outputs = execute.execute_with_cancellation(\n",
      "\u001b[0;32m~/anaconda3/envs/py36/lib/python3.6/site-packages/tensorflow/python/eager/execute.py\u001b[0m in \u001b[0;36mquick_execute\u001b[0;34m(op_name, num_outputs, inputs, attrs, ctx, name)\u001b[0m\n\u001b[1;32m     58\u001b[0m     \u001b[0mctx\u001b[0m\u001b[0;34m.\u001b[0m\u001b[0mensure_initialized\u001b[0m\u001b[0;34m(\u001b[0m\u001b[0;34m)\u001b[0m\u001b[0;34m\u001b[0m\u001b[0;34m\u001b[0m\u001b[0m\n\u001b[1;32m     59\u001b[0m     tensors = pywrap_tfe.TFE_Py_Execute(ctx._handle, device_name, op_name,\n\u001b[0;32m---> 60\u001b[0;31m                                         inputs, attrs, num_outputs)\n\u001b[0m\u001b[1;32m     61\u001b[0m   \u001b[0;32mexcept\u001b[0m \u001b[0mcore\u001b[0m\u001b[0;34m.\u001b[0m\u001b[0m_NotOkStatusException\u001b[0m \u001b[0;32mas\u001b[0m \u001b[0me\u001b[0m\u001b[0;34m:\u001b[0m\u001b[0;34m\u001b[0m\u001b[0;34m\u001b[0m\u001b[0m\n\u001b[1;32m     62\u001b[0m     \u001b[0;32mif\u001b[0m \u001b[0mname\u001b[0m \u001b[0;32mis\u001b[0m \u001b[0;32mnot\u001b[0m \u001b[0;32mNone\u001b[0m\u001b[0;34m:\u001b[0m\u001b[0;34m\u001b[0m\u001b[0;34m\u001b[0m\u001b[0m\n",
      "\u001b[0;31mKeyboardInterrupt\u001b[0m: "
     ]
    }
   ],
   "source": [
    "%%time\n",
    "\n",
    "for tau in np.arange(0.1, 1, 0.1):\n",
    "    model = create_AR_LSTM(model_name = f\"P{tau:.1f}\")\n",
    "    _ = compile_and_fit(model, tau, tr_dataset, vl_dataset, args[\"EPOCH\"], verbose = 2)\n",
    "    \n",
    "    del model # for save memories"
   ]
  },
  {
   "cell_type": "markdown",
   "metadata": {},
   "source": [
    "## **Make Clean Checkpoints**"
   ]
  },
  {
   "cell_type": "code",
   "execution_count": null,
   "metadata": {},
   "outputs": [],
   "source": [
    "# %%time\n",
    "\n",
    "# ckpt_folders = sorted(glob.glob(os.path.join(os.environ[\"CHECKPOINT_PATH\"], os.environ[\"NOTEBOOKNAME\"], \"P*\")))\n",
    "# max_to_keep = 3\n",
    "\n",
    "# for f in ckpt_folders:\n",
    "#     # 7 files must be located in ckpt_folders. (latest 3 ckpt and checkpoint file)\n",
    "#     assert len(os.listdir(f)) >= (1 + max_to_keep * 2), f\"Checkpoints in {f} is less then 3 (max_to_keep).\"\n",
    "    \n",
    "#     rm_files = os.listdir(f)[1:-2*max_to_keep] # [1:-6]\n",
    "#     _ = [os.remove(rm_file) for rm_file in rm_files]"
   ]
  },
  {
   "cell_type": "markdown",
   "metadata": {},
   "source": [
    "# **Visualize**"
   ]
  },
  {
   "cell_type": "markdown",
   "metadata": {},
   "source": [
    "## **Plot Histories**"
   ]
  },
  {
   "cell_type": "code",
   "execution_count": null,
   "metadata": {},
   "outputs": [],
   "source": [
    "def draw_histories(histories):\n",
    "    \"\"\"Draw 9 histories in one plot.\"\"\"\n",
    "    assert len(histories.keys) == args[\"NUM_QUANTILE\"]\n",
    "    \n",
    "    plt.figure(figsize = (14, 9), facecolor = \"white\", dpi = 96)\n",
    "\n",
    "    for model_name, history in histories.items():\n",
    "        pos = int(model_name.split(\".\")[-1])\n",
    "        plt.subplot(3, 3, pos)\n",
    "                \n",
    "        plt.plot(history.epoch, history.history[\"output_2_loss\"], label = \"output_2_loss\")\n",
    "        plt.plot(history.epoch, history.history[\"val_output_2_loss\"], label = \"val_output_2_loss\")\n",
    "    \n",
    "        plt.legend()\n",
    "        plt.title(title, fontsize = \"x-large\")\n",
    "        plt.xlabel(\"Epoch\")\n",
    "        plt.ylabel(\"Pinball Loss\")\n",
    "    \n",
    "        plt.grid(True)\n",
    "        \n",
    "    plt.tight_layout()\n",
    "    plt.show()"
   ]
  },
  {
   "cell_type": "code",
   "execution_count": null,
   "metadata": {},
   "outputs": [],
   "source": [
    "draw_histories(histories)"
   ]
  },
  {
   "cell_type": "markdown",
   "metadata": {},
   "source": [
    "## **Target Model Prediction**"
   ]
  },
  {
   "cell_type": "code",
   "execution_count": 35,
   "metadata": {},
   "outputs": [],
   "source": [
    "def load_latest_models(ckpt_folders: list) -> list:\n",
    "    \"\"\"Load latest weights of target model from saved ckeckpoints.\"\"\"    \n",
    "    models = []\n",
    "    for f in ckpt_folders:\n",
    "        latest = tf.train.latest_checkpoint(f)\n",
    "        print(f\"Load latest checkpoints: {latest}...\")\n",
    "        \n",
    "        model_name = latest.split(os.path.sep)[2] # ckpt/[notebookname]/P0.1/...\n",
    "\n",
    "        # Define a new AR-LSTM model and load checkpoints.\n",
    "        model = create_AR_LSTM(model_name = model_name)\n",
    "\n",
    "        ckpt = tf.train.Checkpoint(model)\n",
    "        ckpt.restore(latest).expect_partial()\n",
    "\n",
    "        models.append(model)\n",
    "        \n",
    "    return models\n",
    "\n",
    "\n",
    "def draw_pred(inputs, y_preds, y_true, save_fig = True):\n",
    "    \"\"\"Draw the predictions and labels.\"\"\"\n",
    "#     inputs, y_true = np.squeeze(inputs), np.squeeze(y_true)\n",
    "#     y_preds = [np.squeeze(y_pred) for y_pred in y_preds]\n",
    "    \n",
    "    plt.figure(figsize = (14, 4 * args[\"NUM_QUANTILE\"]), facecolor = \"white\")\n",
    "    \n",
    "    for i, (y_pred, tau) in enumerate(zip(y_preds, np.arange(0.1, 1, 0.1))):\n",
    "        plt.subplot(9, 1, i + 1)\n",
    "        \n",
    "        plt.plot(np.arange(len(inputs)), inputs, lw = 1.5, label = \"Inputs\")\n",
    "        plt.plot(np.arange(len(inputs), len(inputs) + len(y_pred), 1), y_pred, marker = \"o\", alpha = .8, label = \"Predictions\")\n",
    "        plt.plot(np.arange(len(inputs), len(inputs) + len(y_true), 1), y_true, marker = \"X\", alpha = .8, label = \"Label\")\n",
    "    \n",
    "        plt.title(f\"Target Model T{tau:.1f}\")\n",
    "        plt.xlabel(\"Time [day]\")\n",
    "        plt.ylabel(\"Target\")\n",
    "        plt.ylim([-0.8, max(max(inputs), max(y_true)) * 1.1])\n",
    "        plt.legend()\n",
    "\n",
    "        plt.xticks(\n",
    "            np.arange(0, args[\"W_INP\"] + args[\"W_TAR\"] + 1, args[\"DAY\"]), \n",
    "            [f\"D+{i}\" for i in np.arange(args[\"W_INP_DAY\"] + args[\"W_TAR_DAY\"] + 1)])\n",
    "        plt.grid(True)\n",
    "        \n",
    "    plt.tight_layout()\n",
    "    \n",
    "#     if save_fig:\n",
    "#         plt.savefig(f\"pngs/{os.environ['NOTEBOOKNAME']}_{model_name}.png\", dpi = 96)\n",
    "        \n",
    "    plt.show()"
   ]
  },
  {
   "cell_type": "code",
   "execution_count": null,
   "metadata": {},
   "outputs": [
    {
     "name": "stdout",
     "output_type": "stream",
     "text": [
      "Load latest checkpoints: ckpt/try51/P0.1/cp-002-0.0577.ckpt...\n",
      "Load latest checkpoints: ckpt/try51/P0.2/cp-002-0.0915.ckpt...\n",
      "Load latest checkpoints: ckpt/try51/P0.3/cp-001-0.1114.ckpt...\n",
      "Load latest checkpoints: ckpt/try51/P0.4/cp-002-0.1147.ckpt...\n",
      "Load latest checkpoints: ckpt/try51/P0.5/cp-003-0.1090.ckpt...\n",
      "Load latest checkpoints: ckpt/try51/P0.6/cp-002-0.0973.ckpt...\n",
      "Load latest checkpoints: ckpt/try51/P0.7/cp-002-0.0791.ckpt...\n",
      "Load latest checkpoints: ckpt/try51/P0.8/cp-003-0.0564.ckpt...\n",
      "Load latest checkpoints: ckpt/try51/P0.9/cp-007-0.0310.ckpt...\n",
      "WARNING:tensorflow:5 out of the last 5 calls to <function Model.make_predict_function.<locals>.predict_function at 0x7f13fa53ef28> triggered tf.function retracing. Tracing is expensive and the excessive number of tracings could be due to (1) creating @tf.function repeatedly in a loop, (2) passing tensors with different shapes, (3) passing Python objects instead of tensors. For (1), please define your @tf.function outside of the loop. For (2), @tf.function has experimental_relax_shapes=True option that relaxes argument shapes that can avoid unnecessary retracing. For (3), please refer to https://www.tensorflow.org/guide/function#controlling_retracing and https://www.tensorflow.org/api_docs/python/tf/function for  more details.\n"
     ]
    }
   ],
   "source": [
    "# Restore latest models from saved checkpoints.\n",
    "ckpt_folders = sorted(glob.glob(os.path.join(os.environ[\"CHECKPOINT_PATH\"], os.environ[\"NOTEBOOKNAME\"], \"P*\")))\n",
    "models = load_latest_models(ckpt_folders)\n",
    "\n",
    "# Now, unbatch the dataset to predict only one sequences (i.e. 7 days).\n",
    "unbatched_vl_dataset = vl_dataset.unbatch().batch(1)\n",
    "\n",
    "for t in unbatched_vl_dataset.take(1):\n",
    "    x, y = t # inp, aux_tar, real_tar\n",
    "    \n",
    "    draw_pred(\n",
    "        inputs = vl_tensor[:args[\"W_INP\"], -1], # not x\n",
    "        y_preds = [tf.reshape(model.predict(x), (-1, )).numpy() for model in models],\n",
    "        y_true = tf.reshape(y, (-1, )))"
   ]
  },
  {
   "cell_type": "markdown",
   "metadata": {},
   "source": [
    "## **Make Submissions**"
   ]
  },
  {
   "cell_type": "code",
   "execution_count": 91,
   "metadata": {},
   "outputs": [
    {
     "name": "stdout",
     "output_type": "stream",
     "text": [
      "Load latest checkpoints: ckpt/try49/P0.1/cp-001-0.0564.ckpt...\n",
      "Load latest checkpoints: ckpt/try49/P0.2/cp-001-0.0928.ckpt...\n",
      "Load latest checkpoints: ckpt/try49/P0.3/cp-002-0.1095.ckpt...\n",
      "Load latest checkpoints: ckpt/try49/P0.4/cp-001-0.1119.ckpt...\n",
      "Load latest checkpoints: ckpt/try49/P0.5/cp-003-0.1100.ckpt...\n",
      "Load latest checkpoints: ckpt/try49/P0.6/cp-001-0.0976.ckpt...\n",
      "Load latest checkpoints: ckpt/try49/P0.7/cp-005-0.0807.ckpt...\n",
      "Load latest checkpoints: ckpt/try49/P0.8/cp-005-0.0580.ckpt...\n",
      "Load latest checkpoints: ckpt/try49/P0.9/cp-006-0.0314.ckpt...\n",
      "WARNING:tensorflow:11 out of the last 11 calls to <function Model.make_predict_function.<locals>.predict_function at 0x7fcb8825a158> triggered tf.function retracing. Tracing is expensive and the excessive number of tracings could be due to (1) creating @tf.function repeatedly in a loop, (2) passing tensors with different shapes, (3) passing Python objects instead of tensors. For (1), please define your @tf.function outside of the loop. For (2), @tf.function has experimental_relax_shapes=True option that relaxes argument shapes that can avoid unnecessary retracing. For (3), please refer to https://www.tensorflow.org/guide/function#controlling_retracing and https://www.tensorflow.org/api_docs/python/tf/function for  more details.\n",
      "WARNING:tensorflow:11 out of the last 11 calls to <function Model.make_predict_function.<locals>.predict_function at 0x7fcc30776268> triggered tf.function retracing. Tracing is expensive and the excessive number of tracings could be due to (1) creating @tf.function repeatedly in a loop, (2) passing tensors with different shapes, (3) passing Python objects instead of tensors. For (1), please define your @tf.function outside of the loop. For (2), @tf.function has experimental_relax_shapes=True option that relaxes argument shapes that can avoid unnecessary retracing. For (3), please refer to https://www.tensorflow.org/guide/function#controlling_retracing and https://www.tensorflow.org/api_docs/python/tf/function for  more details.\n",
      "WARNING:tensorflow:11 out of the last 11 calls to <function Model.make_predict_function.<locals>.predict_function at 0x7fcc564c0598> triggered tf.function retracing. Tracing is expensive and the excessive number of tracings could be due to (1) creating @tf.function repeatedly in a loop, (2) passing tensors with different shapes, (3) passing Python objects instead of tensors. For (1), please define your @tf.function outside of the loop. For (2), @tf.function has experimental_relax_shapes=True option that relaxes argument shapes that can avoid unnecessary retracing. For (3), please refer to https://www.tensorflow.org/guide/function#controlling_retracing and https://www.tensorflow.org/api_docs/python/tf/function for  more details.\n",
      "WARNING:tensorflow:11 out of the last 11 calls to <function Model.make_predict_function.<locals>.predict_function at 0x7fcb60722e18> triggered tf.function retracing. Tracing is expensive and the excessive number of tracings could be due to (1) creating @tf.function repeatedly in a loop, (2) passing tensors with different shapes, (3) passing Python objects instead of tensors. For (1), please define your @tf.function outside of the loop. For (2), @tf.function has experimental_relax_shapes=True option that relaxes argument shapes that can avoid unnecessary retracing. For (3), please refer to https://www.tensorflow.org/guide/function#controlling_retracing and https://www.tensorflow.org/api_docs/python/tf/function for  more details.\n",
      "WARNING:tensorflow:11 out of the last 11 calls to <function Model.make_predict_function.<locals>.predict_function at 0x7fcb803d17b8> triggered tf.function retracing. Tracing is expensive and the excessive number of tracings could be due to (1) creating @tf.function repeatedly in a loop, (2) passing tensors with different shapes, (3) passing Python objects instead of tensors. For (1), please define your @tf.function outside of the loop. For (2), @tf.function has experimental_relax_shapes=True option that relaxes argument shapes that can avoid unnecessary retracing. For (3), please refer to https://www.tensorflow.org/guide/function#controlling_retracing and https://www.tensorflow.org/api_docs/python/tf/function for  more details.\n",
      "WARNING:tensorflow:11 out of the last 11 calls to <function Model.make_predict_function.<locals>.predict_function at 0x7fcc3013d048> triggered tf.function retracing. Tracing is expensive and the excessive number of tracings could be due to (1) creating @tf.function repeatedly in a loop, (2) passing tensors with different shapes, (3) passing Python objects instead of tensors. For (1), please define your @tf.function outside of the loop. For (2), @tf.function has experimental_relax_shapes=True option that relaxes argument shapes that can avoid unnecessary retracing. For (3), please refer to https://www.tensorflow.org/guide/function#controlling_retracing and https://www.tensorflow.org/api_docs/python/tf/function for  more details.\n",
      "WARNING:tensorflow:11 out of the last 11 calls to <function Model.make_predict_function.<locals>.predict_function at 0x7fcb8844e1e0> triggered tf.function retracing. Tracing is expensive and the excessive number of tracings could be due to (1) creating @tf.function repeatedly in a loop, (2) passing tensors with different shapes, (3) passing Python objects instead of tensors. For (1), please define your @tf.function outside of the loop. For (2), @tf.function has experimental_relax_shapes=True option that relaxes argument shapes that can avoid unnecessary retracing. For (3), please refer to https://www.tensorflow.org/guide/function#controlling_retracing and https://www.tensorflow.org/api_docs/python/tf/function for  more details.\n",
      "WARNING:tensorflow:11 out of the last 11 calls to <function Model.make_predict_function.<locals>.predict_function at 0x7fcc306bbbf8> triggered tf.function retracing. Tracing is expensive and the excessive number of tracings could be due to (1) creating @tf.function repeatedly in a loop, (2) passing tensors with different shapes, (3) passing Python objects instead of tensors. For (1), please define your @tf.function outside of the loop. For (2), @tf.function has experimental_relax_shapes=True option that relaxes argument shapes that can avoid unnecessary retracing. For (3), please refer to https://www.tensorflow.org/guide/function#controlling_retracing and https://www.tensorflow.org/api_docs/python/tf/function for  more details.\n",
      "WARNING:tensorflow:11 out of the last 11 calls to <function Model.make_predict_function.<locals>.predict_function at 0x7fcc30436730> triggered tf.function retracing. Tracing is expensive and the excessive number of tracings could be due to (1) creating @tf.function repeatedly in a loop, (2) passing tensors with different shapes, (3) passing Python objects instead of tensors. For (1), please define your @tf.function outside of the loop. For (2), @tf.function has experimental_relax_shapes=True option that relaxes argument shapes that can avoid unnecessary retracing. For (3), please refer to https://www.tensorflow.org/guide/function#controlling_retracing and https://www.tensorflow.org/api_docs/python/tf/function for  more details.\n",
      "CPU times: user 3.78 s, sys: 30.5 ms, total: 3.81 s\n",
      "Wall time: 3.71 s\n"
     ]
    }
   ],
   "source": [
    "%%time\n",
    "# Restore latest models from saved checkpoints.\n",
    "ckpt_folders = sorted(glob.glob(os.path.join(os.environ[\"CHECKPOINT_PATH\"], os.environ[\"NOTEBOOKNAME\"], \"P*\")))\n",
    "models = load_latest_models(ckpt_folders)\n",
    "\n",
    "# Predict the test datasets.\n",
    "# We need to drop auxiliary outputs and squeeze dimensions (i.e. [batch, 96, 1] => [batch, 96]).\n",
    "preds = [np.array(tf.reshape(model.predict(ts_dataset), (-1, ))) for model in models]"
   ]
  },
  {
   "cell_type": "code",
   "execution_count": 92,
   "metadata": {},
   "outputs": [
    {
     "data": {
      "text/html": [
       "<div>\n",
       "<style scoped>\n",
       "    .dataframe tbody tr th:only-of-type {\n",
       "        vertical-align: middle;\n",
       "    }\n",
       "\n",
       "    .dataframe tbody tr th {\n",
       "        vertical-align: top;\n",
       "    }\n",
       "\n",
       "    .dataframe thead th {\n",
       "        text-align: right;\n",
       "    }\n",
       "</style>\n",
       "<table border=\"1\" class=\"dataframe\">\n",
       "  <thead>\n",
       "    <tr style=\"text-align: right;\">\n",
       "      <th></th>\n",
       "      <th>q_0.1</th>\n",
       "      <th>q_0.2</th>\n",
       "      <th>q_0.3</th>\n",
       "      <th>q_0.4</th>\n",
       "      <th>q_0.5</th>\n",
       "      <th>q_0.6</th>\n",
       "      <th>q_0.7</th>\n",
       "      <th>q_0.8</th>\n",
       "      <th>q_0.9</th>\n",
       "    </tr>\n",
       "    <tr>\n",
       "      <th>id</th>\n",
       "      <th></th>\n",
       "      <th></th>\n",
       "      <th></th>\n",
       "      <th></th>\n",
       "      <th></th>\n",
       "      <th></th>\n",
       "      <th></th>\n",
       "      <th></th>\n",
       "      <th></th>\n",
       "    </tr>\n",
       "  </thead>\n",
       "  <tbody>\n",
       "    <tr>\n",
       "      <th>0.csv_Day7_0h00m</th>\n",
       "      <td>0.0</td>\n",
       "      <td>0.0</td>\n",
       "      <td>0.0</td>\n",
       "      <td>0.0</td>\n",
       "      <td>0.0</td>\n",
       "      <td>0.0</td>\n",
       "      <td>0.0</td>\n",
       "      <td>0.0</td>\n",
       "      <td>0.0</td>\n",
       "    </tr>\n",
       "    <tr>\n",
       "      <th>0.csv_Day7_0h30m</th>\n",
       "      <td>0.0</td>\n",
       "      <td>0.0</td>\n",
       "      <td>0.0</td>\n",
       "      <td>0.0</td>\n",
       "      <td>0.0</td>\n",
       "      <td>0.0</td>\n",
       "      <td>0.0</td>\n",
       "      <td>0.0</td>\n",
       "      <td>0.0</td>\n",
       "    </tr>\n",
       "    <tr>\n",
       "      <th>0.csv_Day7_1h00m</th>\n",
       "      <td>0.0</td>\n",
       "      <td>0.0</td>\n",
       "      <td>0.0</td>\n",
       "      <td>0.0</td>\n",
       "      <td>0.0</td>\n",
       "      <td>0.0</td>\n",
       "      <td>0.0</td>\n",
       "      <td>0.0</td>\n",
       "      <td>0.0</td>\n",
       "    </tr>\n",
       "    <tr>\n",
       "      <th>0.csv_Day7_1h30m</th>\n",
       "      <td>0.0</td>\n",
       "      <td>0.0</td>\n",
       "      <td>0.0</td>\n",
       "      <td>0.0</td>\n",
       "      <td>0.0</td>\n",
       "      <td>0.0</td>\n",
       "      <td>0.0</td>\n",
       "      <td>0.0</td>\n",
       "      <td>0.0</td>\n",
       "    </tr>\n",
       "    <tr>\n",
       "      <th>0.csv_Day7_2h00m</th>\n",
       "      <td>0.0</td>\n",
       "      <td>0.0</td>\n",
       "      <td>0.0</td>\n",
       "      <td>0.0</td>\n",
       "      <td>0.0</td>\n",
       "      <td>0.0</td>\n",
       "      <td>0.0</td>\n",
       "      <td>0.0</td>\n",
       "      <td>0.0</td>\n",
       "    </tr>\n",
       "  </tbody>\n",
       "</table>\n",
       "</div>"
      ],
      "text/plain": [
       "                  q_0.1  q_0.2  q_0.3  q_0.4  q_0.5  q_0.6  q_0.7  q_0.8  \\\n",
       "id                                                                         \n",
       "0.csv_Day7_0h00m    0.0    0.0    0.0    0.0    0.0    0.0    0.0    0.0   \n",
       "0.csv_Day7_0h30m    0.0    0.0    0.0    0.0    0.0    0.0    0.0    0.0   \n",
       "0.csv_Day7_1h00m    0.0    0.0    0.0    0.0    0.0    0.0    0.0    0.0   \n",
       "0.csv_Day7_1h30m    0.0    0.0    0.0    0.0    0.0    0.0    0.0    0.0   \n",
       "0.csv_Day7_2h00m    0.0    0.0    0.0    0.0    0.0    0.0    0.0    0.0   \n",
       "\n",
       "                  q_0.9  \n",
       "id                       \n",
       "0.csv_Day7_0h00m    0.0  \n",
       "0.csv_Day7_0h30m    0.0  \n",
       "0.csv_Day7_1h00m    0.0  \n",
       "0.csv_Day7_1h30m    0.0  \n",
       "0.csv_Day7_2h00m    0.0  "
      ]
     },
     "execution_count": 92,
     "metadata": {},
     "output_type": "execute_result"
    }
   ],
   "source": [
    "submission = pd.read_csv(os.path.join(os.environ[\"LOCAL_DATA_PATH\"], \"sample_submission.csv\"), index_col = \"id\")\n",
    "submission.head()"
   ]
  },
  {
   "cell_type": "code",
   "execution_count": 99,
   "metadata": {},
   "outputs": [],
   "source": [
    "for column, pred in zip(submission.columns, preds):\n",
    "    foo = np.reshape(pred, (-1,))\n",
    "    foo = (foo * args[\"TARGET_STD\"]) + args[\"TARGET_MEAN\"]\n",
    "    foo = np.where(foo < 0, 0, foo) # clip by value\n",
    "    \n",
    "    submission[column] = foo"
   ]
  },
  {
   "cell_type": "code",
   "execution_count": 100,
   "metadata": {},
   "outputs": [
    {
     "data": {
      "text/html": [
       "<div>\n",
       "<style scoped>\n",
       "    .dataframe tbody tr th:only-of-type {\n",
       "        vertical-align: middle;\n",
       "    }\n",
       "\n",
       "    .dataframe tbody tr th {\n",
       "        vertical-align: top;\n",
       "    }\n",
       "\n",
       "    .dataframe thead th {\n",
       "        text-align: right;\n",
       "    }\n",
       "</style>\n",
       "<table border=\"1\" class=\"dataframe\">\n",
       "  <thead>\n",
       "    <tr style=\"text-align: right;\">\n",
       "      <th></th>\n",
       "      <th>q_0.1</th>\n",
       "      <th>q_0.2</th>\n",
       "      <th>q_0.3</th>\n",
       "      <th>q_0.4</th>\n",
       "      <th>q_0.5</th>\n",
       "      <th>q_0.6</th>\n",
       "      <th>q_0.7</th>\n",
       "      <th>q_0.8</th>\n",
       "      <th>q_0.9</th>\n",
       "    </tr>\n",
       "    <tr>\n",
       "      <th>id</th>\n",
       "      <th></th>\n",
       "      <th></th>\n",
       "      <th></th>\n",
       "      <th></th>\n",
       "      <th></th>\n",
       "      <th></th>\n",
       "      <th></th>\n",
       "      <th></th>\n",
       "      <th></th>\n",
       "    </tr>\n",
       "  </thead>\n",
       "  <tbody>\n",
       "    <tr>\n",
       "      <th>0.csv_Day7_0h00m</th>\n",
       "      <td>0.0</td>\n",
       "      <td>0.0</td>\n",
       "      <td>0.0</td>\n",
       "      <td>0.000000</td>\n",
       "      <td>0.000000</td>\n",
       "      <td>0.0</td>\n",
       "      <td>0.164379</td>\n",
       "      <td>0.000000</td>\n",
       "      <td>0.0</td>\n",
       "    </tr>\n",
       "    <tr>\n",
       "      <th>0.csv_Day7_0h30m</th>\n",
       "      <td>0.0</td>\n",
       "      <td>0.0</td>\n",
       "      <td>0.0</td>\n",
       "      <td>0.290348</td>\n",
       "      <td>0.000000</td>\n",
       "      <td>0.0</td>\n",
       "      <td>0.000000</td>\n",
       "      <td>0.089355</td>\n",
       "      <td>0.0</td>\n",
       "    </tr>\n",
       "    <tr>\n",
       "      <th>0.csv_Day7_1h00m</th>\n",
       "      <td>0.0</td>\n",
       "      <td>0.0</td>\n",
       "      <td>0.0</td>\n",
       "      <td>0.087717</td>\n",
       "      <td>0.131683</td>\n",
       "      <td>0.0</td>\n",
       "      <td>0.000000</td>\n",
       "      <td>0.278801</td>\n",
       "      <td>0.0</td>\n",
       "    </tr>\n",
       "    <tr>\n",
       "      <th>0.csv_Day7_1h30m</th>\n",
       "      <td>0.0</td>\n",
       "      <td>0.0</td>\n",
       "      <td>0.0</td>\n",
       "      <td>0.000000</td>\n",
       "      <td>0.073854</td>\n",
       "      <td>0.0</td>\n",
       "      <td>0.000000</td>\n",
       "      <td>0.278238</td>\n",
       "      <td>0.0</td>\n",
       "    </tr>\n",
       "    <tr>\n",
       "      <th>0.csv_Day7_2h00m</th>\n",
       "      <td>0.0</td>\n",
       "      <td>0.0</td>\n",
       "      <td>0.0</td>\n",
       "      <td>0.000000</td>\n",
       "      <td>0.010483</td>\n",
       "      <td>0.0</td>\n",
       "      <td>0.000000</td>\n",
       "      <td>0.277670</td>\n",
       "      <td>0.0</td>\n",
       "    </tr>\n",
       "  </tbody>\n",
       "</table>\n",
       "</div>"
      ],
      "text/plain": [
       "                  q_0.1  q_0.2  q_0.3     q_0.4     q_0.5  q_0.6     q_0.7  \\\n",
       "id                                                                           \n",
       "0.csv_Day7_0h00m    0.0    0.0    0.0  0.000000  0.000000    0.0  0.164379   \n",
       "0.csv_Day7_0h30m    0.0    0.0    0.0  0.290348  0.000000    0.0  0.000000   \n",
       "0.csv_Day7_1h00m    0.0    0.0    0.0  0.087717  0.131683    0.0  0.000000   \n",
       "0.csv_Day7_1h30m    0.0    0.0    0.0  0.000000  0.073854    0.0  0.000000   \n",
       "0.csv_Day7_2h00m    0.0    0.0    0.0  0.000000  0.010483    0.0  0.000000   \n",
       "\n",
       "                     q_0.8  q_0.9  \n",
       "id                                 \n",
       "0.csv_Day7_0h00m  0.000000    0.0  \n",
       "0.csv_Day7_0h30m  0.089355    0.0  \n",
       "0.csv_Day7_1h00m  0.278801    0.0  \n",
       "0.csv_Day7_1h30m  0.278238    0.0  \n",
       "0.csv_Day7_2h00m  0.277670    0.0  "
      ]
     },
     "execution_count": 100,
     "metadata": {},
     "output_type": "execute_result"
    }
   ],
   "source": [
    "submission.head()"
   ]
  },
  {
   "cell_type": "code",
   "execution_count": 101,
   "metadata": {},
   "outputs": [],
   "source": [
    "submission.to_csv(os.path.join(os.environ[\"SUBMISSION_PATH\"], f\"{os.environ['NOTEBOOKNAME']}_submission.csv\"))"
   ]
  },
  {
   "cell_type": "code",
   "execution_count": null,
   "metadata": {},
   "outputs": [],
   "source": []
  }
 ],
 "metadata": {
  "kernelspec": {
   "display_name": "Python 3",
   "language": "python",
   "name": "python3"
  },
  "language_info": {
   "codemirror_mode": {
    "name": "ipython",
    "version": 3
   },
   "file_extension": ".py",
   "mimetype": "text/x-python",
   "name": "python",
   "nbconvert_exporter": "python",
   "pygments_lexer": "ipython3",
   "version": "3.6.9"
  }
 },
 "nbformat": 4,
 "nbformat_minor": 4
}
